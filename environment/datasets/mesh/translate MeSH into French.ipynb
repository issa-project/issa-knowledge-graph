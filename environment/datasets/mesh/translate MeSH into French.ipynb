{
 "cells": [
  {
   "cell_type": "markdown",
   "id": "80e28f61",
   "metadata": {},
   "source": [
    "## Translating MeSH Lables into French\n",
    "Downloaded *fredesc2022.xml* with MeSH concepts in english and French\n",
    "from https://mesh.inserm.fr/FrenchMesh/\n",
    "\n",
    "*mesh-en.tsv* was created by pyclinrec"
   ]
  },
  {
   "cell_type": "code",
   "execution_count": 1,
   "id": "f9d3bfba",
   "metadata": {},
   "outputs": [],
   "source": [
    "import xml.etree.ElementTree as ET\n",
    "import pandas as pd"
   ]
  },
  {
   "cell_type": "code",
   "execution_count": 2,
   "id": "04217b10",
   "metadata": {},
   "outputs": [],
   "source": [
    "tree = ET.parse('fredesc2022.xml')\n",
    "root = tree.getroot()"
   ]
  },
  {
   "cell_type": "code",
   "execution_count": 5,
   "id": "9aff48c7",
   "metadata": {},
   "outputs": [],
   "source": [
    "mesh_dict = {}\n",
    "for dn in root.findall('*/DescriptorName'):\n",
    "    en = dn.find('StringUS').text\n",
    "    fr = dn.find('StringFR').text\n",
    "\n",
    "    mesh_dict[en] = fr\n"
   ]
  },
  {
   "cell_type": "code",
   "execution_count": 6,
   "id": "283d399a",
   "metadata": {},
   "outputs": [
    {
     "data": {
      "text/plain": [
       "30194"
      ]
     },
     "execution_count": 6,
     "metadata": {},
     "output_type": "execute_result"
    }
   ],
   "source": [
    "len(mesh_dict)"
   ]
  },
  {
   "cell_type": "code",
   "execution_count": 8,
   "id": "bda62cb2",
   "metadata": {},
   "outputs": [],
   "source": [
    "for dn in root.findall('.//QualifierName'):\n",
    "    en = dn.find('StringUS').text\n",
    "    fr = dn.find('StringFR').text\n",
    "    \n",
    "    mesh_dict[en] = fr"
   ]
  },
  {
   "cell_type": "code",
   "execution_count": 9,
   "id": "40f73945",
   "metadata": {},
   "outputs": [
    {
     "data": {
      "text/plain": [
       "30271"
      ]
     },
     "execution_count": 9,
     "metadata": {},
     "output_type": "execute_result"
    }
   ],
   "source": [
    "len(mesh_dict)"
   ]
  },
  {
   "cell_type": "code",
   "execution_count": 10,
   "id": "1c4493d2",
   "metadata": {},
   "outputs": [],
   "source": [
    "mesh_en = pd.read_csv('mesh-en.tsv', sep='\\t', header=None)"
   ]
  },
  {
   "cell_type": "code",
   "execution_count": 12,
   "id": "c7e0d369",
   "metadata": {},
   "outputs": [
    {
     "data": {
      "text/html": [
       "<div>\n",
       "<style scoped>\n",
       "    .dataframe tbody tr th:only-of-type {\n",
       "        vertical-align: middle;\n",
       "    }\n",
       "\n",
       "    .dataframe tbody tr th {\n",
       "        vertical-align: top;\n",
       "    }\n",
       "\n",
       "    .dataframe thead th {\n",
       "        text-align: right;\n",
       "    }\n",
       "</style>\n",
       "<table border=\"1\" class=\"dataframe\">\n",
       "  <thead>\n",
       "    <tr style=\"text-align: right;\">\n",
       "      <th></th>\n",
       "      <th>0</th>\n",
       "      <th>1</th>\n",
       "    </tr>\n",
       "  </thead>\n",
       "  <tbody>\n",
       "    <tr>\n",
       "      <th>0</th>\n",
       "      <td>http://id.nlm.nih.gov/mesh/2022/M0004773</td>\n",
       "      <td>Collagen Type I, alpha2 Subunit</td>\n",
       "    </tr>\n",
       "    <tr>\n",
       "      <th>1</th>\n",
       "      <td>http://id.nlm.nih.gov/mesh/2022/M000594749</td>\n",
       "      <td>2MeSADP</td>\n",
       "    </tr>\n",
       "    <tr>\n",
       "      <th>2</th>\n",
       "      <td>http://id.nlm.nih.gov/mesh/2022/M000603656</td>\n",
       "      <td>HA-966</td>\n",
       "    </tr>\n",
       "    <tr>\n",
       "      <th>3</th>\n",
       "      <td>http://id.nlm.nih.gov/mesh/2022/M000606222</td>\n",
       "      <td>p-nitrophenyl-alpha-mannoside</td>\n",
       "    </tr>\n",
       "    <tr>\n",
       "      <th>4</th>\n",
       "      <td>http://id.nlm.nih.gov/mesh/2022/M000607440</td>\n",
       "      <td>3-epi-betulinic acid</td>\n",
       "    </tr>\n",
       "  </tbody>\n",
       "</table>\n",
       "</div>"
      ],
      "text/plain": [
       "                                            0                                1\n",
       "0    http://id.nlm.nih.gov/mesh/2022/M0004773  Collagen Type I, alpha2 Subunit\n",
       "1  http://id.nlm.nih.gov/mesh/2022/M000594749                          2MeSADP\n",
       "2  http://id.nlm.nih.gov/mesh/2022/M000603656                           HA-966\n",
       "3  http://id.nlm.nih.gov/mesh/2022/M000606222    p-nitrophenyl-alpha-mannoside\n",
       "4  http://id.nlm.nih.gov/mesh/2022/M000607440             3-epi-betulinic acid"
      ]
     },
     "execution_count": 12,
     "metadata": {},
     "output_type": "execute_result"
    }
   ],
   "source": [
    "mesh_en.head()"
   ]
  },
  {
   "cell_type": "code",
   "execution_count": 13,
   "id": "49fac5f1",
   "metadata": {},
   "outputs": [],
   "source": [
    "# Translate\n",
    "mesh_en['fr'] = mesh_en.apply(lambda row: mesh_dict[row.iloc[1]] if row.iloc[1] in  mesh_dict.keys() else '', axis=1) "
   ]
  },
  {
   "cell_type": "code",
   "execution_count": 19,
   "id": "73f4f09a",
   "metadata": {},
   "outputs": [
    {
     "name": "stdout",
     "output_type": "stream",
     "text": [
      "(30270, 3)\n"
     ]
    },
    {
     "data": {
      "text/html": [
       "<div>\n",
       "<style scoped>\n",
       "    .dataframe tbody tr th:only-of-type {\n",
       "        vertical-align: middle;\n",
       "    }\n",
       "\n",
       "    .dataframe tbody tr th {\n",
       "        vertical-align: top;\n",
       "    }\n",
       "\n",
       "    .dataframe thead th {\n",
       "        text-align: right;\n",
       "    }\n",
       "</style>\n",
       "<table border=\"1\" class=\"dataframe\">\n",
       "  <thead>\n",
       "    <tr style=\"text-align: right;\">\n",
       "      <th></th>\n",
       "      <th>0</th>\n",
       "      <th>1</th>\n",
       "      <th>fr</th>\n",
       "    </tr>\n",
       "  </thead>\n",
       "  <tbody>\n",
       "    <tr>\n",
       "      <th>87161</th>\n",
       "      <td>http://id.nlm.nih.gov/mesh/2022/M0000111</td>\n",
       "      <td>Acetaldehyde</td>\n",
       "      <td>Acétaldéhyde</td>\n",
       "    </tr>\n",
       "    <tr>\n",
       "      <th>87162</th>\n",
       "      <td>http://id.nlm.nih.gov/mesh/2022/M0000112</td>\n",
       "      <td>Acetals</td>\n",
       "      <td>Acétals</td>\n",
       "    </tr>\n",
       "    <tr>\n",
       "      <th>87163</th>\n",
       "      <td>http://id.nlm.nih.gov/mesh/2022/M0000113</td>\n",
       "      <td>Acetamides</td>\n",
       "      <td>Acétamides</td>\n",
       "    </tr>\n",
       "    <tr>\n",
       "      <th>87165</th>\n",
       "      <td>http://id.nlm.nih.gov/mesh/2022/M0000115</td>\n",
       "      <td>Acetaminophen</td>\n",
       "      <td>Acétaminophène</td>\n",
       "    </tr>\n",
       "    <tr>\n",
       "      <th>87172</th>\n",
       "      <td>http://id.nlm.nih.gov/mesh/2022/M0000123</td>\n",
       "      <td>Acetanilides</td>\n",
       "      <td>Acétanilides</td>\n",
       "    </tr>\n",
       "    <tr>\n",
       "      <th>...</th>\n",
       "      <td>...</td>\n",
       "      <td>...</td>\n",
       "      <td>...</td>\n",
       "    </tr>\n",
       "    <tr>\n",
       "      <th>457202</th>\n",
       "      <td>http://id.nlm.nih.gov/mesh/2022/M0502278</td>\n",
       "      <td>Photorefractive Keratectomy</td>\n",
       "      <td>Photokératectomie réfractive</td>\n",
       "    </tr>\n",
       "    <tr>\n",
       "      <th>457229</th>\n",
       "      <td>http://id.nlm.nih.gov/mesh/2022/M0522557</td>\n",
       "      <td>Radioactive Hazard Release</td>\n",
       "      <td>Émission de source de risque radioactif</td>\n",
       "    </tr>\n",
       "    <tr>\n",
       "      <th>457235</th>\n",
       "      <td>http://id.nlm.nih.gov/mesh/2022/M0526865</td>\n",
       "      <td>Plant Structures</td>\n",
       "      <td>Structures de plante</td>\n",
       "    </tr>\n",
       "    <tr>\n",
       "      <th>457249</th>\n",
       "      <td>http://id.nlm.nih.gov/mesh/2022/M0546378</td>\n",
       "      <td>Instructional Film and Video</td>\n",
       "      <td>Films et vidéos pédagogiques</td>\n",
       "    </tr>\n",
       "    <tr>\n",
       "      <th>457291</th>\n",
       "      <td>http://id.nlm.nih.gov/mesh/2022/M000614856</td>\n",
       "      <td>diagnostic imaging</td>\n",
       "      <td>imagerie diagnostique</td>\n",
       "    </tr>\n",
       "  </tbody>\n",
       "</table>\n",
       "<p>30270 rows × 3 columns</p>\n",
       "</div>"
      ],
      "text/plain": [
       "                                                 0  \\\n",
       "87161     http://id.nlm.nih.gov/mesh/2022/M0000111   \n",
       "87162     http://id.nlm.nih.gov/mesh/2022/M0000112   \n",
       "87163     http://id.nlm.nih.gov/mesh/2022/M0000113   \n",
       "87165     http://id.nlm.nih.gov/mesh/2022/M0000115   \n",
       "87172     http://id.nlm.nih.gov/mesh/2022/M0000123   \n",
       "...                                            ...   \n",
       "457202    http://id.nlm.nih.gov/mesh/2022/M0502278   \n",
       "457229    http://id.nlm.nih.gov/mesh/2022/M0522557   \n",
       "457235    http://id.nlm.nih.gov/mesh/2022/M0526865   \n",
       "457249    http://id.nlm.nih.gov/mesh/2022/M0546378   \n",
       "457291  http://id.nlm.nih.gov/mesh/2022/M000614856   \n",
       "\n",
       "                                   1                                       fr  \n",
       "87161                   Acetaldehyde                             Acétaldéhyde  \n",
       "87162                        Acetals                                  Acétals  \n",
       "87163                     Acetamides                               Acétamides  \n",
       "87165                  Acetaminophen                           Acétaminophène  \n",
       "87172                   Acetanilides                             Acétanilides  \n",
       "...                              ...                                      ...  \n",
       "457202   Photorefractive Keratectomy             Photokératectomie réfractive  \n",
       "457229    Radioactive Hazard Release  Émission de source de risque radioactif  \n",
       "457235              Plant Structures                     Structures de plante  \n",
       "457249  Instructional Film and Video             Films et vidéos pédagogiques  \n",
       "457291            diagnostic imaging                    imagerie diagnostique  \n",
       "\n",
       "[30270 rows x 3 columns]"
      ]
     },
     "execution_count": 19,
     "metadata": {},
     "output_type": "execute_result"
    }
   ],
   "source": [
    "print(mesh_en[mesh_en['fr'] != ''].shape)\n",
    "mesh_en[mesh_en['fr'] != '']"
   ]
  },
  {
   "cell_type": "code",
   "execution_count": 29,
   "id": "7ba4f4ba",
   "metadata": {},
   "outputs": [],
   "source": [
    "mesh_en.columns = ['uri', 'en', 'fr']\n",
    "\n",
    "mesh_en[mesh_en['fr'] != ''].to_csv('mesh-fr.tsv', sep='\\t',\n",
    "              columns=['uri', 'fr'],\n",
    "              index=False, header=False,\n",
    "              encoding='utf-8',\n",
    "              line_terminator='\\n')"
   ]
  }
 ],
 "metadata": {
  "kernelspec": {
   "display_name": "Python 3 (ipykernel)",
   "language": "python",
   "name": "python3"
  },
  "language_info": {
   "codemirror_mode": {
    "name": "ipython",
    "version": 3
   },
   "file_extension": ".py",
   "mimetype": "text/x-python",
   "name": "python",
   "nbconvert_exporter": "python",
   "pygments_lexer": "ipython3",
   "version": "3.8.8"
  }
 },
 "nbformat": 4,
 "nbformat_minor": 5
}
