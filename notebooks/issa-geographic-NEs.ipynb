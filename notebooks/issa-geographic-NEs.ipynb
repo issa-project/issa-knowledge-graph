{
 "cells": [
  {
   "cell_type": "markdown",
   "metadata": {},
   "source": [
    "## Notebook with SPARQL Kernel\n",
    "\n",
    "To run this notebook, install the [SPARQL kernel](https://github.com/paulovn/sparql-kernel):\n",
    "```\n",
    "pip install sparqlkernel\n",
    "jupyter sparqlkernel install\n",
    "```\n",
    "\n",
    "To use Graphviz to draw graphs, you should also install Pydot and Graphviz:\n",
    "```\n",
    "conda install pydot graphviz\n",
    "```\n",
    "Set the path to the dot script in your PATH variable. For Miniconda users on Windows, the path would be like `C:\\Users\\user\\Miniconda3\\Library\\bin\\graphviz`"
   ]
  },
  {
   "cell_type": "code",
   "execution_count": 1,
   "metadata": {},
   "outputs": [
    {
     "data": {
      "text/html": [
       "<div class=\"krn-spql\"><div class=\"magic\">Endpoint set to: https://data-issa.cirad.fr/sparql</div><div class=\"magic\">Display: table</div><div class=\"magic\">Result maximum size: 20</div><div class=\"magic\">Prefix set: rdfs: = &lt;http://www.w3.org/2000/01/rdf-schema#&gt;</div><div class=\"magic\">Prefix set: owl: = &lt;http://www.w3.org/2002/07/owl#&gt;</div><div class=\"magic\">Prefix set: xsd: = &lt;http://www.w3.org/2001/XMLSchema#&gt;</div><div class=\"magic\">Prefix set: agrovoc: = &lt;http://aims.fao.org/aos/agrovoc/&gt;</div><div class=\"magic\">Prefix set: dce: = &lt;http://purl.org/dc/elements/1.1/&gt;</div><div class=\"magic\">Prefix set: dct: = &lt;http://purl.org/dc/terms/&gt;</div><div class=\"magic\">Prefix set: issa: = &lt;http://data-issa.cirad.fr/&gt;</div><div class=\"magic\">Prefix set: issapr: = &lt;http://data-issa.cirad.fr/property/&gt;</div><div class=\"magic\">Prefix set: oa: = &lt;http://www.w3.org/ns/oa#&gt;</div><div class=\"magic\">Prefix set: prov: = &lt;http://www.w3.org/ns/prov#&gt;</div><div class=\"magic\">Prefix set: schema: = &lt;http://schema.org/&gt;</div><div class=\"magic\">Prefix set: skos: = &lt;http://www.w3.org/2004/02/skos/core#&gt;</div><div class=\"magic\">Prefix set: skosxl: = &lt;http://www.w3.org/2008/05/skos-xl#&gt;</div><div class=\"magic\">Prefix set: gn: = &lt;http://www.geonames.org/ontology#&gt;</div><div class=\"magic\">Prefix set: geo: = &lt;http://www.w3.org/2003/01/geo/wgs84_pos#&gt;</div><div class=\"magic\">Prefix set: spatial: = &lt;http://jena.apache.org/spatial#&gt;</div><div class=\"magic\">Prefix set: units: = &lt;http://www.opengis.net/def/uom/OGC/1.0/&gt;</div></div>"
      ],
      "text/plain": [
       "Endpoint set to: https://data-issa.cirad.fr/sparql\n",
       "Display: table\n",
       "Result maximum size: 20\n",
       "Prefix set: rdfs: = <http://www.w3.org/2000/01/rdf-schema#>\n",
       "Prefix set: owl: = <http://www.w3.org/2002/07/owl#>\n",
       "Prefix set: xsd: = <http://www.w3.org/2001/XMLSchema#>\n",
       "Prefix set: agrovoc: = <http://aims.fao.org/aos/agrovoc/>\n",
       "Prefix set: dce: = <http://purl.org/dc/elements/1.1/>\n",
       "Prefix set: dct: = <http://purl.org/dc/terms/>\n",
       "Prefix set: issa: = <http://data-issa.cirad.fr/>\n",
       "Prefix set: issapr: = <http://data-issa.cirad.fr/property/>\n",
       "Prefix set: oa: = <http://www.w3.org/ns/oa#>\n",
       "Prefix set: prov: = <http://www.w3.org/ns/prov#>\n",
       "Prefix set: schema: = <http://schema.org/>\n",
       "Prefix set: skos: = <http://www.w3.org/2004/02/skos/core#>\n",
       "Prefix set: skosxl: = <http://www.w3.org/2008/05/skos-xl#>\n",
       "Prefix set: gn: = <http://www.geonames.org/ontology#>\n",
       "Prefix set: geo: = <http://www.w3.org/2003/01/geo/wgs84_pos#>\n",
       "Prefix set: spatial: = <http://jena.apache.org/spatial#>\n",
       "Prefix set: units: = <http://www.opengis.net/def/uom/OGC/1.0/>\n"
      ]
     },
     "metadata": {},
     "output_type": "display_data"
    }
   ],
   "source": [
    "%endpoint https://data-issa.cirad.fr/sparql\n",
    "%display table\n",
    "%show 20\n",
    "\n",
    "%prefix rdfs:   <http://www.w3.org/2000/01/rdf-schema#>\n",
    "%prefix owl:    <http://www.w3.org/2002/07/owl#>\n",
    "%prefix xsd:    <http://www.w3.org/2001/XMLSchema#>\n",
    "\n",
    "%prefix agrovoc: <http://aims.fao.org/aos/agrovoc/>\n",
    "%prefix dce:    <http://purl.org/dc/elements/1.1/>\n",
    "%prefix dct:    <http://purl.org/dc/terms/>\n",
    "%prefix issa:   <http://data-issa.cirad.fr/>\n",
    "%prefix issapr: <http://data-issa.cirad.fr/property/>\n",
    "%prefix oa:     <http://www.w3.org/ns/oa#>\n",
    "%prefix prov:   <http://www.w3.org/ns/prov#>\n",
    "%prefix schema: <http://schema.org/>\n",
    "%prefix skos:   <http://www.w3.org/2004/02/skos/core#> \n",
    "%prefix skosxl: <http://www.w3.org/2008/05/skos-xl#>\n",
    "\n",
    "%prefix gn:     <http://www.geonames.org/ontology#>\n",
    "%prefix geo:    <http://www.w3.org/2003/01/geo/wgs84_pos#>\n",
    "%prefix spatial: <http://jena.apache.org/spatial#>\n",
    "%prefix units:  <http://www.opengis.net/def/uom/OGC/1.0/>"
   ]
  },
  {
   "cell_type": "markdown",
   "metadata": {},
   "source": [
    "____\n",
    "\n",
    "# Geographic named entities"
   ]
  },
  {
   "cell_type": "markdown",
   "metadata": {},
   "source": [
    "### 1. Get the geographic NEs of a specific article\n",
    "\n",
    "Look for the geographic named entities of article http://data-issa.cirad.fr/article/455916, and retrieve their details from GeoNames (stored locally in named graph http://geonames.org/graph).\n",
    "\n",
    "The alternate names of the entity are concatenated in variable ?alternateNames."
   ]
  },
  {
   "cell_type": "code",
   "execution_count": 2,
   "metadata": {},
   "outputs": [
    {
     "data": {
      "text/html": [
       "<div class=\"krn-spql\"><table><tr class=hdr><th>geoEntity</th>\n",
       "<th>name</th>\n",
       "<th>latitude</th>\n",
       "<th>longitude</th>\n",
       "<th>altitude</th>\n",
       "<th>officialName</th>\n",
       "<th>alternateNames</th>\n",
       "<th>nameParentCountry</th></tr><tr class=odd><td class=val><a href=\"https://sws.geonames.org/124544/\" target=\"_other\">https://sws.geonames.org/124544/</a></td>\n",
       "<td class=val>Māzandarān</td>\n",
       "<td class=val>36.25</td>\n",
       "<td class=val>52.33333</td>\n",
       "<td class=val></td>\n",
       "<td class=val>Mazandaran</td>\n",
       "<td class=val>Māzandarān Province</td>\n",
       "<td class=val>Iran</td></tr><tr class=even><td class=val><a href=\"https://sws.geonames.org/132892/\" target=\"_other\">https://sws.geonames.org/132892/</a></td>\n",
       "<td class=val>Gorgan</td>\n",
       "<td class=val>36.8427</td>\n",
       "<td class=val>54.44391</td>\n",
       "<td class=val></td>\n",
       "<td class=val></td>\n",
       "<td class=val>Gorgan</td>\n",
       "<td class=val>Iran</td></tr><tr class=odd><td class=val><a href=\"https://sws.geonames.org/130758/\" target=\"_other\">https://sws.geonames.org/130758/</a></td>\n",
       "<td class=val>Iran</td>\n",
       "<td class=val>32</td>\n",
       "<td class=val>53</td>\n",
       "<td class=val></td>\n",
       "<td class=val>Iran</td>\n",
       "<td class=val>Empire of Iran, Iran, Islamic Republic Of, Islamic Republic of Iran</td>\n",
       "<td class=val></td></tr></table><div class=\"tinfo\">Total: 3, Shown: 3</div></div>"
      ]
     },
     "metadata": {},
     "output_type": "display_data"
    }
   ],
   "source": [
    "SELECT ?geoEntity ?name ?latitude ?longitude ?altitude ?officialName (group_concat(distinct ?alternateName ; separator=\", \") as ?alternateNames) ?nameParentCountry\n",
    "FROM <http://geonames.org/graph>\n",
    "FROM <http://data-issa.cirad.fr/graph/geographic-nes>\n",
    "WHERE {\n",
    "    []  a issa:GeographicAnnotation;\n",
    "        schema:about <http://data-issa.cirad.fr/article/455916>;\n",
    "        oa:hasBody ?geoEntity.\n",
    "    \n",
    "    ?geoEntity\n",
    "        gn:name   ?name;\n",
    "        geo:lat   ?latitude;\n",
    "        geo:long  ?longitude.\n",
    "        OPTIONAL {\n",
    "            ?geoEntity gn:officialName ?officialName\n",
    "            FILTER langMatches(lang(?officialName), \"en\")\n",
    "        }.\n",
    "        OPTIONAL {\n",
    "            ?geoEntity gn:alternateName ?alternateName.\n",
    "            FILTER langMatches(lang(?alternateName), \"en\")\n",
    "        }.\n",
    "        OPTIONAL { ?geoEntity geo:alt ?altitude }.\n",
    "        OPTIONAL { ?geoEntity gn:parentCountry  [ gn:name ?nameParentCountry ] }.\n",
    "} group by ?geoEntity ?name ?latitude ?longitude ?altitude ?officialName ?nameParentCountry"
   ]
  },
  {
   "cell_type": "markdown",
   "metadata": {},
   "source": [
    "### 2.1 Find the geographic NEs of articles with descriptor \"cacao\"\n",
    "\n",
    "Look for the articles that have the Agrovoc \"cacao\" concept (http://aims.fao.org/aos/agrovoc/c_7713) as a descriptor.\n",
    "\n",
    "Then get the geographic named entities of those articles and retrieve their details from GeoNames."
   ]
  },
  {
   "cell_type": "code",
   "execution_count": 3,
   "metadata": {},
   "outputs": [
    {
     "data": {
      "text/html": [
       "<div class=\"krn-spql\"><table><tr class=hdr><th>geoEntity</th>\n",
       "<th>name</th>\n",
       "<th>latitude</th>\n",
       "<th>longitude</th></tr><tr class=odd><td class=val><a href=\"https://sws.geonames.org/7729885/\" target=\"_other\">https://sws.geonames.org/7729885/</a></td>\n",
       "<td class=val>Western Africa</td>\n",
       "<td class=val>18.31281</td>\n",
       "<td class=val>-4.83398</td></tr><tr class=even><td class=val><a href=\"https://sws.geonames.org/2233387/\" target=\"_other\">https://sws.geonames.org/2233387/</a></td>\n",
       "<td class=val>Cameroon</td>\n",
       "<td class=val>6</td>\n",
       "<td class=val>12.5</td></tr><tr class=odd><td class=val><a href=\"https://sws.geonames.org/2300660/\" target=\"_other\">https://sws.geonames.org/2300660/</a></td>\n",
       "<td class=val>Ghana</td>\n",
       "<td class=val>8.1</td>\n",
       "<td class=val>-1.2</td></tr><tr class=even><td class=val><a href=\"https://sws.geonames.org/4372505/\" target=\"_other\">https://sws.geonames.org/4372505/</a></td>\n",
       "<td class=val>WMDT-TV (Salisbury)</td>\n",
       "<td class=val>38.50178</td>\n",
       "<td class=val>-75.73549</td></tr><tr class=odd><td class=val><a href=\"https://sws.geonames.org/2410763/\" target=\"_other\">https://sws.geonames.org/2410763/</a></td>\n",
       "<td class=val>São Tomé</td>\n",
       "<td class=val>0.33654</td>\n",
       "<td class=val>6.72732</td></tr><tr class=even><td class=val><a href=\"https://sws.geonames.org/1644615/\" target=\"_other\">https://sws.geonames.org/1644615/</a></td>\n",
       "<td class=val>Pulau Galang</td>\n",
       "<td class=val>0.75</td>\n",
       "<td class=val>104.23333</td></tr><tr class=odd><td class=val><a href=\"https://sws.geonames.org/1562822/\" target=\"_other\">https://sws.geonames.org/1562822/</a></td>\n",
       "<td class=val>Vietnam</td>\n",
       "<td class=val>16.16667</td>\n",
       "<td class=val>107.83333</td></tr><tr class=even><td class=val><a href=\"https://sws.geonames.org/1814991/\" target=\"_other\">https://sws.geonames.org/1814991/</a></td>\n",
       "<td class=val>China</td>\n",
       "<td class=val>35</td>\n",
       "<td class=val>105</td></tr><tr class=odd><td class=val><a href=\"https://sws.geonames.org/2542007/\" target=\"_other\">https://sws.geonames.org/2542007/</a></td>\n",
       "<td class=val>Morocco</td>\n",
       "<td class=val>32</td>\n",
       "<td class=val>-6</td></tr><tr class=even><td class=val><a href=\"https://sws.geonames.org/2596935/\" target=\"_other\">https://sws.geonames.org/2596935/</a></td>\n",
       "<td class=val>Soubré</td>\n",
       "<td class=val>5.78377</td>\n",
       "<td class=val>-6.59388</td></tr></table><div class=\"tinfo\">Total: 10, Shown: 10</div></div>"
      ]
     },
     "metadata": {},
     "output_type": "display_data"
    }
   ],
   "source": [
    "SELECT distinct ?geoEntity ?name ?latitude ?longitude\n",
    "FROM <http://data-issa.cirad.fr/graph/articles>\n",
    "FROM <http://geonames.org/graph>\n",
    "FROM <http://data-issa.cirad.fr/graph/geographic-nes>\n",
    "FROM <http://data-issa.cirad.fr/graph/thematic-descriptors>\n",
    "WHERE {\n",
    "    []  a issa:ThematicDescriptorAnnotation;\n",
    "        oa:hasTarget ?article;\n",
    "        oa:hasBody agrovoc:c_7713. # Concept \"cacao\"\n",
    "\n",
    "    []  a issa:GeographicAnnotation;\n",
    "        schema:about ?article;\n",
    "        oa:hasBody ?geoEntity.\n",
    "\n",
    "    ?geoEntity\n",
    "        gn:name         ?name;\n",
    "        geo:lat   ?latitude;\n",
    "        geo:long  ?longitude.\n",
    "} limit 10"
   ]
  },
  {
   "cell_type": "markdown",
   "metadata": {},
   "source": [
    "### 2.2 Find the geographic NEs of articles with descriptor \"cacao\", with the articles\n",
    "\n",
    "Similar to the previous query but also return the articles."
   ]
  },
  {
   "cell_type": "code",
   "execution_count": 141,
   "metadata": {},
   "outputs": [
    {
     "data": {
      "text/html": [
       "<div class=\"krn-spql\"><table><tr class=hdr><th>article</th>\n",
       "<th>articleVisu</th>\n",
       "<th>geoEntity</th>\n",
       "<th>name</th>\n",
       "<th>latitude</th>\n",
       "<th>longitude</th>\n",
       "<th>altitude</th></tr><tr class=odd><td class=val><a href=\"http://data-issa.cirad.fr/article/568597\" target=\"_other\">http://data-issa.cirad.fr/article/568597</a></td>\n",
       "<td class=val><a href=\"http://issa.i3s.unice.fr/visu/?uri=http://data-issa.cirad.fr/article/568597\" target=\"_other\">http://issa.i3s.unice.fr/visu/?uri=http://data-issa.cirad.fr/article/568597</a></td>\n",
       "<td class=val><a href=\"https://sws.geonames.org/3017382/\" target=\"_other\">https://sws.geonames.org/3017382/</a></td>\n",
       "<td class=val>France</td>\n",
       "<td class=val>46</td>\n",
       "<td class=val>2</td>\n",
       "<td class=val></td></tr><tr class=even><td class=val><a href=\"http://data-issa.cirad.fr/article/568597\" target=\"_other\">http://data-issa.cirad.fr/article/568597</a></td>\n",
       "<td class=val><a href=\"http://issa.i3s.unice.fr/visu/?uri=http://data-issa.cirad.fr/article/568597\" target=\"_other\">http://issa.i3s.unice.fr/visu/?uri=http://data-issa.cirad.fr/article/568597</a></td>\n",
       "<td class=val><a href=\"https://sws.geonames.org/3469034/\" target=\"_other\">https://sws.geonames.org/3469034/</a></td>\n",
       "<td class=val>Brazil</td>\n",
       "<td class=val>-10</td>\n",
       "<td class=val>-55</td>\n",
       "<td class=val></td></tr><tr class=odd><td class=val><a href=\"http://data-issa.cirad.fr/article/568597\" target=\"_other\">http://data-issa.cirad.fr/article/568597</a></td>\n",
       "<td class=val><a href=\"http://issa.i3s.unice.fr/visu/?uri=http://data-issa.cirad.fr/article/568597\" target=\"_other\">http://issa.i3s.unice.fr/visu/?uri=http://data-issa.cirad.fr/article/568597</a></td>\n",
       "<td class=val><a href=\"https://sws.geonames.org/2635167/\" target=\"_other\">https://sws.geonames.org/2635167/</a></td>\n",
       "<td class=val>United Kingdom</td>\n",
       "<td class=val>54.75844</td>\n",
       "<td class=val>-2.69531</td>\n",
       "<td class=val></td></tr><tr class=even><td class=val><a href=\"http://data-issa.cirad.fr/article/568597\" target=\"_other\">http://data-issa.cirad.fr/article/568597</a></td>\n",
       "<td class=val><a href=\"http://issa.i3s.unice.fr/visu/?uri=http://data-issa.cirad.fr/article/568597\" target=\"_other\">http://issa.i3s.unice.fr/visu/?uri=http://data-issa.cirad.fr/article/568597</a></td>\n",
       "<td class=val><a href=\"https://sws.geonames.org/3624060/\" target=\"_other\">https://sws.geonames.org/3624060/</a></td>\n",
       "<td class=val>Costa Rica</td>\n",
       "<td class=val>10</td>\n",
       "<td class=val>-84</td>\n",
       "<td class=val></td></tr><tr class=odd><td class=val><a href=\"http://data-issa.cirad.fr/article/568597\" target=\"_other\">http://data-issa.cirad.fr/article/568597</a></td>\n",
       "<td class=val><a href=\"http://issa.i3s.unice.fr/visu/?uri=http://data-issa.cirad.fr/article/568597\" target=\"_other\">http://issa.i3s.unice.fr/visu/?uri=http://data-issa.cirad.fr/article/568597</a></td>\n",
       "<td class=val><a href=\"https://sws.geonames.org/3658394/\" target=\"_other\">https://sws.geonames.org/3658394/</a></td>\n",
       "<td class=val>Ecuador</td>\n",
       "<td class=val>-1.25</td>\n",
       "<td class=val>-78.25</td>\n",
       "<td class=val></td></tr><tr class=even><td class=val><a href=\"http://data-issa.cirad.fr/article/568597\" target=\"_other\">http://data-issa.cirad.fr/article/568597</a></td>\n",
       "<td class=val><a href=\"http://issa.i3s.unice.fr/visu/?uri=http://data-issa.cirad.fr/article/568597\" target=\"_other\">http://issa.i3s.unice.fr/visu/?uri=http://data-issa.cirad.fr/article/568597</a></td>\n",
       "<td class=val><a href=\"https://sws.geonames.org/2646057/\" target=\"_other\">https://sws.geonames.org/2646057/</a></td>\n",
       "<td class=val>Ipswich</td>\n",
       "<td class=val>52.05917</td>\n",
       "<td class=val>1.15545</td>\n",
       "<td class=val></td></tr><tr class=odd><td class=val><a href=\"http://data-issa.cirad.fr/article/568597\" target=\"_other\">http://data-issa.cirad.fr/article/568597</a></td>\n",
       "<td class=val><a href=\"http://issa.i3s.unice.fr/visu/?uri=http://data-issa.cirad.fr/article/568597\" target=\"_other\">http://issa.i3s.unice.fr/visu/?uri=http://data-issa.cirad.fr/article/568597</a></td>\n",
       "<td class=val><a href=\"https://sws.geonames.org/2134431/\" target=\"_other\">https://sws.geonames.org/2134431/</a></td>\n",
       "<td class=val>Vanuatu</td>\n",
       "<td class=val>-16</td>\n",
       "<td class=val>167</td>\n",
       "<td class=val></td></tr><tr class=even><td class=val><a href=\"http://data-issa.cirad.fr/article/568597\" target=\"_other\">http://data-issa.cirad.fr/article/568597</a></td>\n",
       "<td class=val><a href=\"http://issa.i3s.unice.fr/visu/?uri=http://data-issa.cirad.fr/article/568597\" target=\"_other\">http://issa.i3s.unice.fr/visu/?uri=http://data-issa.cirad.fr/article/568597</a></td>\n",
       "<td class=val><a href=\"https://sws.geonames.org/4350359/\" target=\"_other\">https://sws.geonames.org/4350359/</a></td>\n",
       "<td class=val>Capitol Heights</td>\n",
       "<td class=val>38.88511</td>\n",
       "<td class=val>-76.91581</td>\n",
       "<td class=val></td></tr><tr class=odd><td class=val><a href=\"http://data-issa.cirad.fr/article/568597\" target=\"_other\">http://data-issa.cirad.fr/article/568597</a></td>\n",
       "<td class=val><a href=\"http://issa.i3s.unice.fr/visu/?uri=http://data-issa.cirad.fr/article/568597\" target=\"_other\">http://issa.i3s.unice.fr/visu/?uri=http://data-issa.cirad.fr/article/568597</a></td>\n",
       "<td class=val><a href=\"https://sws.geonames.org/1733045/\" target=\"_other\">https://sws.geonames.org/1733045/</a></td>\n",
       "<td class=val>Malaysia</td>\n",
       "<td class=val>2.5</td>\n",
       "<td class=val>112.5</td>\n",
       "<td class=val></td></tr><tr class=even><td class=val><a href=\"http://data-issa.cirad.fr/article/568597\" target=\"_other\">http://data-issa.cirad.fr/article/568597</a></td>\n",
       "<td class=val><a href=\"http://issa.i3s.unice.fr/visu/?uri=http://data-issa.cirad.fr/article/568597\" target=\"_other\">http://issa.i3s.unice.fr/visu/?uri=http://data-issa.cirad.fr/article/568597</a></td>\n",
       "<td class=val><a href=\"https://sws.geonames.org/6252001/\" target=\"_other\">https://sws.geonames.org/6252001/</a></td>\n",
       "<td class=val>United States</td>\n",
       "<td class=val>39.76</td>\n",
       "<td class=val>-98.5</td>\n",
       "<td class=val></td></tr></table><div class=\"tinfo\">Total: 10, Shown: 10</div></div>"
      ]
     },
     "metadata": {},
     "output_type": "display_data"
    }
   ],
   "source": [
    "SELECT distinct ?article ?articleVisu ?geoEntity ?name ?latitude ?longitude ?altitude\n",
    "FROM <http://data-issa.cirad.fr/graph/articles>\n",
    "FROM <http://geonames.org/graph>\n",
    "FROM <http://data-issa.cirad.fr/graph/geographic-nes>\n",
    "FROM <http://data-issa.cirad.fr/graph/thematic-descriptors>\n",
    "WHERE {\n",
    "    []  a issa:ThematicDescriptorAnnotation;\n",
    "        oa:hasTarget ?article;\n",
    "        oa:hasBody agrovoc:c_7713. # Concept \"cacao\"\n",
    "\n",
    "    []  a issa:GeographicAnnotation;\n",
    "        schema:about ?article;\n",
    "        oa:hasBody ?geoEntity.\n",
    "\n",
    "    ?geoEntity\n",
    "        gn:name         ?name;\n",
    "        geo:lat   ?latitude;\n",
    "        geo:long  ?longitude.\n",
    "    \n",
    "    ?article dct:identifier ?id.\n",
    "    bind(iri(concat(\"http://issa.i3s.unice.fr/visu/?uri=\", ?article)) as ?articleVisu)\n",
    "} limit 10"
   ]
  },
  {
   "cell_type": "markdown",
   "metadata": {},
   "source": [
    "### 3. Find the articles with geographic NEs within a certain distance of a given point"
   ]
  },
  {
   "cell_type": "code",
   "execution_count": 142,
   "metadata": {},
   "outputs": [
    {
     "data": {
      "text/html": [
       "<div class=\"krn-spql\"><table><tr class=hdr><th>article</th>\n",
       "<th>articleVisu</th></tr><tr class=odd><td class=val><a href=\"http://data-issa.cirad.fr/article/455935\" target=\"_other\">http://data-issa.cirad.fr/article/455935</a></td>\n",
       "<td class=val><a href=\"http://issa.i3s.unice.fr/visu/?uri=http://data-issa.cirad.fr/article/455935\" target=\"_other\">http://issa.i3s.unice.fr/visu/?uri=http://data-issa.cirad.fr/article/455935</a></td></tr><tr class=even><td class=val><a href=\"http://data-issa.cirad.fr/article/433785\" target=\"_other\">http://data-issa.cirad.fr/article/433785</a></td>\n",
       "<td class=val><a href=\"http://issa.i3s.unice.fr/visu/?uri=http://data-issa.cirad.fr/article/433785\" target=\"_other\">http://issa.i3s.unice.fr/visu/?uri=http://data-issa.cirad.fr/article/433785</a></td></tr><tr class=odd><td class=val><a href=\"http://data-issa.cirad.fr/article/395431\" target=\"_other\">http://data-issa.cirad.fr/article/395431</a></td>\n",
       "<td class=val><a href=\"http://issa.i3s.unice.fr/visu/?uri=http://data-issa.cirad.fr/article/395431\" target=\"_other\">http://issa.i3s.unice.fr/visu/?uri=http://data-issa.cirad.fr/article/395431</a></td></tr><tr class=even><td class=val><a href=\"http://data-issa.cirad.fr/article/454957\" target=\"_other\">http://data-issa.cirad.fr/article/454957</a></td>\n",
       "<td class=val><a href=\"http://issa.i3s.unice.fr/visu/?uri=http://data-issa.cirad.fr/article/454957\" target=\"_other\">http://issa.i3s.unice.fr/visu/?uri=http://data-issa.cirad.fr/article/454957</a></td></tr><tr class=odd><td class=val><a href=\"http://data-issa.cirad.fr/article/455868\" target=\"_other\">http://data-issa.cirad.fr/article/455868</a></td>\n",
       "<td class=val><a href=\"http://issa.i3s.unice.fr/visu/?uri=http://data-issa.cirad.fr/article/455868\" target=\"_other\">http://issa.i3s.unice.fr/visu/?uri=http://data-issa.cirad.fr/article/455868</a></td></tr><tr class=even><td class=val><a href=\"http://data-issa.cirad.fr/article/394049\" target=\"_other\">http://data-issa.cirad.fr/article/394049</a></td>\n",
       "<td class=val><a href=\"http://issa.i3s.unice.fr/visu/?uri=http://data-issa.cirad.fr/article/394049\" target=\"_other\">http://issa.i3s.unice.fr/visu/?uri=http://data-issa.cirad.fr/article/394049</a></td></tr><tr class=odd><td class=val><a href=\"http://data-issa.cirad.fr/article/410537\" target=\"_other\">http://data-issa.cirad.fr/article/410537</a></td>\n",
       "<td class=val><a href=\"http://issa.i3s.unice.fr/visu/?uri=http://data-issa.cirad.fr/article/410537\" target=\"_other\">http://issa.i3s.unice.fr/visu/?uri=http://data-issa.cirad.fr/article/410537</a></td></tr><tr class=even><td class=val><a href=\"http://data-issa.cirad.fr/article/455078\" target=\"_other\">http://data-issa.cirad.fr/article/455078</a></td>\n",
       "<td class=val><a href=\"http://issa.i3s.unice.fr/visu/?uri=http://data-issa.cirad.fr/article/455078\" target=\"_other\">http://issa.i3s.unice.fr/visu/?uri=http://data-issa.cirad.fr/article/455078</a></td></tr><tr class=odd><td class=val><a href=\"http://data-issa.cirad.fr/article/389182\" target=\"_other\">http://data-issa.cirad.fr/article/389182</a></td>\n",
       "<td class=val><a href=\"http://issa.i3s.unice.fr/visu/?uri=http://data-issa.cirad.fr/article/389182\" target=\"_other\">http://issa.i3s.unice.fr/visu/?uri=http://data-issa.cirad.fr/article/389182</a></td></tr><tr class=even><td class=val><a href=\"http://data-issa.cirad.fr/article/599920\" target=\"_other\">http://data-issa.cirad.fr/article/599920</a></td>\n",
       "<td class=val><a href=\"http://issa.i3s.unice.fr/visu/?uri=http://data-issa.cirad.fr/article/599920\" target=\"_other\">http://issa.i3s.unice.fr/visu/?uri=http://data-issa.cirad.fr/article/599920</a></td></tr></table><div class=\"tinfo\">Total: 10, Shown: 10</div></div>"
      ]
     },
     "metadata": {},
     "output_type": "display_data"
    }
   ],
   "source": [
    "SELECT distinct ?article ?articleVisu\n",
    "FROM <http://data-issa.cirad.fr/graph/articles>\n",
    "FROM <http://geonames.org/graph>\n",
    "FROM <http://data-issa.cirad.fr/graph/geographic-nes>\n",
    "WHERE {\n",
    "    []  a issa:GeographicAnnotation;\n",
    "        schema:about ?article;\n",
    "        oa:hasBody ?geoEntity.\n",
    "\n",
    "    ?geoEntity\n",
    "        gn:name   ?name;\n",
    "        geo:lat   ?latitude;\n",
    "        geo:long  ?longitude.\n",
    "    \n",
    "    FILTER (bif:st_within(bif:st_point(xsd:float(?longitude), xsd:float(?latitude)), bif:st_point (8, 10), 2000))\n",
    "    \n",
    "    ?article dct:identifier ?id.\n",
    "    bind(iri(concat(\"http://issa.i3s.unice.fr/visu/?uri=\", ?article)) as ?articleVisu)\n",
    "} LIMIT 10"
   ]
  },
  {
   "cell_type": "markdown",
   "metadata": {
    "tags": []
   },
   "source": [
    "____\n",
    "\n",
    "# Search by descriptors"
   ]
  },
  {
   "cell_type": "markdown",
   "metadata": {
    "tags": []
   },
   "source": [
    "### 4. Find all articles' descriptors, ordered by number of occurrences (nb of articles that have that descriptor)"
   ]
  },
  {
   "cell_type": "code",
   "execution_count": 22,
   "metadata": {
    "collapsed": true,
    "jupyter": {
     "outputs_hidden": true
    },
    "tags": []
   },
   "outputs": [
    {
     "data": {
      "text/html": [
       "<div class=\"krn-spql\"><div class=\"magic\">Result maximum size: 50</div></div>"
      ],
      "text/plain": [
       "Result maximum size: 50\n"
      ]
     },
     "metadata": {},
     "output_type": "display_data"
    },
    {
     "data": {
      "text/html": [
       "<div class=\"krn-spql\"><table><tr class=hdr><th>concept</th>\n",
       "<th>label</th>\n",
       "<th>count</th></tr><tr class=odd><td class=val><a href=\"http://aims.fao.org/aos/agrovoc/c_3081\" target=\"_other\">http://aims.fao.org/aos/agrovoc/c_3081</a></td>\n",
       "<td class=val>France</td>\n",
       "<td class=val>3640</td></tr><tr class=even><td class=val><a href=\"http://aims.fao.org/aos/agrovoc/c_1229\" target=\"_other\">http://aims.fao.org/aos/agrovoc/c_1229</a></td>\n",
       "<td class=val>Cameroun</td>\n",
       "<td class=val>1368</td></tr><tr class=odd><td class=val><a href=\"http://aims.fao.org/aos/agrovoc/c_4027\" target=\"_other\">http://aims.fao.org/aos/agrovoc/c_4027</a></td>\n",
       "<td class=val>Côte d'Ivoire</td>\n",
       "<td class=val>1277</td></tr><tr class=even><td class=val><a href=\"http://aims.fao.org/aos/agrovoc/c_6970\" target=\"_other\">http://aims.fao.org/aos/agrovoc/c_6970</a></td>\n",
       "<td class=val>Sénégal</td>\n",
       "<td class=val>1121</td></tr><tr class=odd><td class=val><a href=\"http://aims.fao.org/aos/agrovoc/c_1070\" target=\"_other\">http://aims.fao.org/aos/agrovoc/c_1070</a></td>\n",
       "<td class=val>Brésil</td>\n",
       "<td class=val>1072</td></tr><tr class=even><td class=val><a href=\"http://aims.fao.org/aos/agrovoc/c_4510\" target=\"_other\">http://aims.fao.org/aos/agrovoc/c_4510</a></td>\n",
       "<td class=val>Madagascar</td>\n",
       "<td class=val>1065</td></tr><tr class=odd><td class=val><a href=\"http://aims.fao.org/aos/agrovoc/c_8355\" target=\"_other\">http://aims.fao.org/aos/agrovoc/c_8355</a></td>\n",
       "<td class=val>Afrique occidentale</td>\n",
       "<td class=val>986</td></tr><tr class=even><td class=val><a href=\"http://aims.fao.org/aos/agrovoc/c_806\" target=\"_other\">http://aims.fao.org/aos/agrovoc/c_806</a></td>\n",
       "<td class=val>banane</td>\n",
       "<td class=val>910</td></tr><tr class=odd><td class=val><a href=\"http://aims.fao.org/aos/agrovoc/c_8081\" target=\"_other\">http://aims.fao.org/aos/agrovoc/c_8081</a></td>\n",
       "<td class=val>Burkina Faso</td>\n",
       "<td class=val>881</td></tr><tr class=even><td class=val><a href=\"http://aims.fao.org/aos/agrovoc/c_6543\" target=\"_other\">http://aims.fao.org/aos/agrovoc/c_6543</a></td>\n",
       "<td class=val>La Réunion</td>\n",
       "<td class=val>842</td></tr><tr class=odd><td class=val><a href=\"http://aims.fao.org/aos/agrovoc/c_165\" target=\"_other\">http://aims.fao.org/aos/agrovoc/c_165</a></td>\n",
       "<td class=val>Afrique</td>\n",
       "<td class=val>786</td></tr><tr class=even><td class=val><a href=\"http://aims.fao.org/aos/agrovoc/c_8532\" target=\"_other\">http://aims.fao.org/aos/agrovoc/c_8532</a></td>\n",
       "<td class=val>élevage</td>\n",
       "<td class=val>786</td></tr><tr class=odd><td class=val><a href=\"http://aims.fao.org/aos/agrovoc/c_4540\" target=\"_other\">http://aims.fao.org/aos/agrovoc/c_4540</a></td>\n",
       "<td class=val>Mali</td>\n",
       "<td class=val>727</td></tr><tr class=even><td class=val><a href=\"http://aims.fao.org/aos/agrovoc/c_1971\" target=\"_other\">http://aims.fao.org/aos/agrovoc/c_1971</a></td>\n",
       "<td class=val>système de culture</td>\n",
       "<td class=val>726</td></tr><tr class=odd><td class=val><a href=\"http://aims.fao.org/aos/agrovoc/c_5083\" target=\"_other\">http://aims.fao.org/aos/agrovoc/c_5083</a></td>\n",
       "<td class=val>distribution géographique</td>\n",
       "<td class=val>725</td></tr><tr class=even><td class=val><a href=\"http://aims.fao.org/aos/agrovoc/c_8157\" target=\"_other\">http://aims.fao.org/aos/agrovoc/c_8157</a></td>\n",
       "<td class=val>variété</td>\n",
       "<td class=val>717</td></tr><tr class=odd><td class=val><a href=\"http://aims.fao.org/aos/agrovoc/c_3335\" target=\"_other\">http://aims.fao.org/aos/agrovoc/c_3335</a></td>\n",
       "<td class=val>Gossypium</td>\n",
       "<td class=val>711</td></tr><tr class=even><td class=val><a href=\"http://aims.fao.org/aos/agrovoc/c_2018\" target=\"_other\">http://aims.fao.org/aos/agrovoc/c_2018</a></td>\n",
       "<td class=val>pratique culturale</td>\n",
       "<td class=val>710</td></tr><tr class=odd><td class=val><a href=\"http://aims.fao.org/aos/agrovoc/c_2509\" target=\"_other\">http://aims.fao.org/aos/agrovoc/c_2509</a></td>\n",
       "<td class=val>Elaeis guineensis</td>\n",
       "<td class=val>671</td></tr><tr class=even><td class=val><a href=\"http://aims.fao.org/aos/agrovoc/c_6734\" target=\"_other\">http://aims.fao.org/aos/agrovoc/c_6734</a></td>\n",
       "<td class=val>Sahel</td>\n",
       "<td class=val>640</td></tr><tr class=odd><td class=val><a href=\"http://aims.fao.org/aos/agrovoc/c_3791\" target=\"_other\">http://aims.fao.org/aos/agrovoc/c_3791</a></td>\n",
       "<td class=val>identification</td>\n",
       "<td class=val>635</td></tr><tr class=even><td class=val><a href=\"http://aims.fao.org/aos/agrovoc/c_33949\" target=\"_other\">http://aims.fao.org/aos/agrovoc/c_33949</a></td>\n",
       "<td class=val>biodiversité</td>\n",
       "<td class=val>625</td></tr><tr class=odd><td class=val><a href=\"http://aims.fao.org/aos/agrovoc/c_5956\" target=\"_other\">http://aims.fao.org/aos/agrovoc/c_5956</a></td>\n",
       "<td class=val>amélioration des plantes</td>\n",
       "<td class=val>592</td></tr><tr class=even><td class=val><a href=\"http://aims.fao.org/aos/agrovoc/c_1391\" target=\"_other\">http://aims.fao.org/aos/agrovoc/c_1391</a></td>\n",
       "<td class=val>bovin</td>\n",
       "<td class=val>577</td></tr><tr class=odd><td class=val><a href=\"http://aims.fao.org/aos/agrovoc/c_6400\" target=\"_other\">http://aims.fao.org/aos/agrovoc/c_6400</a></td>\n",
       "<td class=val>qualité</td>\n",
       "<td class=val>564</td></tr><tr class=even><td class=val><a href=\"http://aims.fao.org/aos/agrovoc/c_6200\" target=\"_other\">http://aims.fao.org/aos/agrovoc/c_6200</a></td>\n",
       "<td class=val>production</td>\n",
       "<td class=val>555</td></tr><tr class=odd><td class=val><a href=\"http://aims.fao.org/aos/agrovoc/c_3394\" target=\"_other\">http://aims.fao.org/aos/agrovoc/c_3394</a></td>\n",
       "<td class=val>croissance</td>\n",
       "<td class=val>550</td></tr><tr class=even><td class=val><a href=\"http://aims.fao.org/aos/agrovoc/c_3406\" target=\"_other\">http://aims.fao.org/aos/agrovoc/c_3406</a></td>\n",
       "<td class=val>Guadeloupe</td>\n",
       "<td class=val>547</td></tr><tr class=odd><td class=val><a href=\"http://aims.fao.org/aos/agrovoc/c_4626\" target=\"_other\">http://aims.fao.org/aos/agrovoc/c_4626</a></td>\n",
       "<td class=val>marché</td>\n",
       "<td class=val>544</td></tr><tr class=even><td class=val><a href=\"http://aims.fao.org/aos/agrovoc/c_1487\" target=\"_other\">http://aims.fao.org/aos/agrovoc/c_1487</a></td>\n",
       "<td class=val>Tchad</td>\n",
       "<td class=val>541</td></tr><tr class=odd><td class=val><a href=\"http://aims.fao.org/aos/agrovoc/c_2615\" target=\"_other\">http://aims.fao.org/aos/agrovoc/c_2615</a></td>\n",
       "<td class=val>épidémiologie</td>\n",
       "<td class=val>523</td></tr><tr class=even><td class=val><a href=\"http://aims.fao.org/aos/agrovoc/c_6513\" target=\"_other\">http://aims.fao.org/aos/agrovoc/c_6513</a></td>\n",
       "<td class=val>recherche</td>\n",
       "<td class=val>519</td></tr><tr class=odd><td class=val><a href=\"http://aims.fao.org/aos/agrovoc/c_10795\" target=\"_other\">http://aims.fao.org/aos/agrovoc/c_10795</a></td>\n",
       "<td class=val>fertilisation</td>\n",
       "<td class=val>517</td></tr><tr class=even><td class=val><a href=\"http://aims.fao.org/aos/agrovoc/c_8176\" target=\"_other\">http://aims.fao.org/aos/agrovoc/c_8176</a></td>\n",
       "<td class=val>végétation</td>\n",
       "<td class=val>511</td></tr><tr class=odd><td class=val><a href=\"http://aims.fao.org/aos/agrovoc/c_1716\" target=\"_other\">http://aims.fao.org/aos/agrovoc/c_1716</a></td>\n",
       "<td class=val>Cocos nucifera</td>\n",
       "<td class=val>500</td></tr><tr class=even><td class=val><a href=\"http://aims.fao.org/aos/agrovoc/c_207\" target=\"_other\">http://aims.fao.org/aos/agrovoc/c_207</a></td>\n",
       "<td class=val>agroforesterie</td>\n",
       "<td class=val>499</td></tr><tr class=odd><td class=val><a href=\"http://aims.fao.org/aos/agrovoc/c_4182\" target=\"_other\">http://aims.fao.org/aos/agrovoc/c_4182</a></td>\n",
       "<td class=val>utilisation des terres</td>\n",
       "<td class=val>494</td></tr><tr class=even><td class=val><a href=\"http://aims.fao.org/aos/agrovoc/c_2787\" target=\"_other\">http://aims.fao.org/aos/agrovoc/c_2787</a></td>\n",
       "<td class=val>exploitation agricole familiale</td>\n",
       "<td class=val>490</td></tr><tr class=odd><td class=val><a href=\"http://aims.fao.org/aos/agrovoc/c_199\" target=\"_other\">http://aims.fao.org/aos/agrovoc/c_199</a></td>\n",
       "<td class=val>développement agricole</td>\n",
       "<td class=val>474</td></tr><tr class=even><td class=val><a href=\"http://aims.fao.org/aos/agrovoc/c_2724\" target=\"_other\">http://aims.fao.org/aos/agrovoc/c_2724</a></td>\n",
       "<td class=val>Europe</td>\n",
       "<td class=val>468</td></tr><tr class=odd><td class=val><a href=\"http://aims.fao.org/aos/agrovoc/c_1432\" target=\"_other\">http://aims.fao.org/aos/agrovoc/c_1432</a></td>\n",
       "<td class=val>Afrique centrale</td>\n",
       "<td class=val>467</td></tr><tr class=even><td class=val><a href=\"http://aims.fao.org/aos/agrovoc/c_4620\" target=\"_other\">http://aims.fao.org/aos/agrovoc/c_4620</a></td>\n",
       "<td class=val>marketing</td>\n",
       "<td class=val>462</td></tr><tr class=odd><td class=val><a href=\"http://aims.fao.org/aos/agrovoc/c_1666\" target=\"_other\">http://aims.fao.org/aos/agrovoc/c_1666</a></td>\n",
       "<td class=val>changement climatique</td>\n",
       "<td class=val>457</td></tr><tr class=even><td class=val><a href=\"http://aims.fao.org/aos/agrovoc/c_8421\" target=\"_other\">http://aims.fao.org/aos/agrovoc/c_8421</a></td>\n",
       "<td class=val>bois</td>\n",
       "<td class=val>453</td></tr><tr class=odd><td class=val><a href=\"http://aims.fao.org/aos/agrovoc/c_4993\" target=\"_other\">http://aims.fao.org/aos/agrovoc/c_4993</a></td>\n",
       "<td class=val>Musa</td>\n",
       "<td class=val>451</td></tr><tr class=even><td class=val><a href=\"http://aims.fao.org/aos/agrovoc/c_2228\" target=\"_other\">http://aims.fao.org/aos/agrovoc/c_2228</a></td>\n",
       "<td class=val>politique de développement</td>\n",
       "<td class=val>450</td></tr><tr class=odd><td class=val><a href=\"http://aims.fao.org/aos/agrovoc/c_15975\" target=\"_other\">http://aims.fao.org/aos/agrovoc/c_15975</a></td>\n",
       "<td class=val>variation génétique</td>\n",
       "<td class=val>444</td></tr><tr class=even><td class=val><a href=\"http://aims.fao.org/aos/agrovoc/c_1794\" target=\"_other\">http://aims.fao.org/aos/agrovoc/c_1794</a></td>\n",
       "<td class=val>composition chimique</td>\n",
       "<td class=val>436</td></tr><tr class=odd><td class=val><a href=\"http://aims.fao.org/aos/agrovoc/c_1641\" target=\"_other\">http://aims.fao.org/aos/agrovoc/c_1641</a></td>\n",
       "<td class=val>agrume</td>\n",
       "<td class=val>425</td></tr><tr class=even><td class=val><a href=\"http://aims.fao.org/aos/agrovoc/c_6178\" target=\"_other\">http://aims.fao.org/aos/agrovoc/c_6178</a></td>\n",
       "<td class=val>prix</td>\n",
       "<td class=val>424</td></tr></table><div class=\"tinfo\">Total: 7982, Shown: 50</div></div>"
      ]
     },
     "metadata": {},
     "output_type": "display_data"
    }
   ],
   "source": [
    "%show 50\n",
    "\n",
    "SELECT distinct ?concept ?label (count(?concept) as ?count)\n",
    "FROM <http://agrovoc.fao.org/graph>\n",
    "FROM <http://data-issa.cirad.fr/graph/thematic-descriptors>\n",
    "WHERE {\n",
    "    []  a issa:ThematicDescriptorAnnotation;\n",
    "        oa:hasBody ?concept.\n",
    "    ?concept  skosxl:prefLabel [ skosxl:literalForm ?label ].\n",
    "    \n",
    "    filter (langMatches(lang(?label), \"fr\"))\n",
    "} group by ?concept ?label order by desc(?count)"
   ]
  },
  {
   "cell_type": "markdown",
   "metadata": {},
   "source": [
    "### 5. Find all articles' descriptors in a subtree of concepts, ordered by number of occurrences (nb of articles that have that descriptor)"
   ]
  },
  {
   "cell_type": "code",
   "execution_count": 30,
   "metadata": {},
   "outputs": [
    {
     "data": {
      "text/html": [
       "<div class=\"krn-spql\"><div class=\"magic\">Result maximum size: 50</div></div>"
      ],
      "text/plain": [
       "Result maximum size: 50\n"
      ]
     },
     "metadata": {},
     "output_type": "display_data"
    },
    {
     "data": {
      "text/html": [
       "<div class=\"krn-spql\"><table><tr class=hdr><th>concept</th>\n",
       "<th>label</th>\n",
       "<th>count</th></tr><tr class=odd><td class=val><a href=\"http://aims.fao.org/aos/agrovoc/c_10967\" target=\"_other\">http://aims.fao.org/aos/agrovoc/c_10967</a></td>\n",
       "<td class=val>sécurité alimentaire</td>\n",
       "<td class=val>382</td></tr><tr class=even><td class=val><a href=\"http://aims.fao.org/aos/agrovoc/c_201\" target=\"_other\">http://aims.fao.org/aos/agrovoc/c_201</a></td>\n",
       "<td class=val>politique agricole</td>\n",
       "<td class=val>373</td></tr><tr class=odd><td class=val><a href=\"http://aims.fao.org/aos/agrovoc/c_195\" target=\"_other\">http://aims.fao.org/aos/agrovoc/c_195</a></td>\n",
       "<td class=val>politique foncière</td>\n",
       "<td class=val>104</td></tr><tr class=even><td class=val><a href=\"http://aims.fao.org/aos/agrovoc/c_4178\" target=\"_other\">http://aims.fao.org/aos/agrovoc/c_4178</a></td>\n",
       "<td class=val>réforme foncière</td>\n",
       "<td class=val>64</td></tr><tr class=odd><td class=val><a href=\"http://aims.fao.org/aos/agrovoc/c_196\" target=\"_other\">http://aims.fao.org/aos/agrovoc/c_196</a></td>\n",
       "<td class=val>réforme agraire</td>\n",
       "<td class=val>22</td></tr><tr class=even><td class=val><a href=\"http://aims.fao.org/aos/agrovoc/c_9000078\" target=\"_other\">http://aims.fao.org/aos/agrovoc/c_9000078</a></td>\n",
       "<td class=val>sécurité alimentaire des ménages</td>\n",
       "<td class=val>12</td></tr><tr class=odd><td class=val><a href=\"http://aims.fao.org/aos/agrovoc/c_7d40c88b\" target=\"_other\">http://aims.fao.org/aos/agrovoc/c_7d40c88b</a></td>\n",
       "<td class=val>accès à la nourriture</td>\n",
       "<td class=val>8</td></tr><tr class=even><td class=val><a href=\"http://aims.fao.org/aos/agrovoc/c_4173\" target=\"_other\">http://aims.fao.org/aos/agrovoc/c_4173</a></td>\n",
       "<td class=val>remembrement</td>\n",
       "<td class=val>2</td></tr><tr class=odd><td class=val><a href=\"http://aims.fao.org/aos/agrovoc/c_57ba042c\" target=\"_other\">http://aims.fao.org/aos/agrovoc/c_57ba042c</a></td>\n",
       "<td class=val>sécurité nutritionnelle</td>\n",
       "<td class=val>1</td></tr><tr class=even><td class=val><a href=\"http://aims.fao.org/aos/agrovoc/c_37734\" target=\"_other\">http://aims.fao.org/aos/agrovoc/c_37734</a></td>\n",
       "<td class=val>distribution des terres</td>\n",
       "<td class=val>1</td></tr></table><div class=\"tinfo\">Total: 10, Shown: 10</div></div>"
      ]
     },
     "metadata": {},
     "output_type": "display_data"
    }
   ],
   "source": [
    "%show 50\n",
    "\n",
    "SELECT distinct ?concept ?label (count(?concept) as ?count)\n",
    "FROM <http://agrovoc.fao.org/graph>\n",
    "FROM <http://data-issa.cirad.fr/graph/thematic-descriptors>\n",
    "WHERE {\n",
    "    []  a issa:ThematicDescriptorAnnotation;\n",
    "        oa:hasBody ?concept.\n",
    "\n",
    "    ?concept  skosxl:prefLabel [ skosxl:literalForm ?label ].\n",
    "    filter (langMatches(lang(?label), \"fr\"))\n",
    "    \n",
    "    ?concept skos:broader* agrovoc:c_201. # all concepts \"politique agricole\" or beneath\n",
    "    \n",
    "} group by ?concept ?label order by desc(?count)"
   ]
  },
  {
   "cell_type": "markdown",
   "metadata": {
    "tags": []
   },
   "source": [
    "____\n",
    "\n",
    "# Search by country"
   ]
  },
  {
   "cell_type": "markdown",
   "metadata": {
    "tags": []
   },
   "source": [
    "### 6. Count articles with descriptor \"cacao\", that mention places in some given countries"
   ]
  },
  {
   "cell_type": "code",
   "execution_count": 40,
   "metadata": {},
   "outputs": [
    {
     "data": {
      "text/html": [
       "<div class=\"krn-spql\"><div class=\"magic\">Result maximum size: 50</div></div>"
      ],
      "text/plain": [
       "Result maximum size: 50\n"
      ]
     },
     "metadata": {},
     "output_type": "display_data"
    },
    {
     "data": {
      "text/html": [
       "<div class=\"krn-spql\"><table><tr class=hdr><th>count</th>\n",
       "<th>countryName</th></tr><tr class=odd><td class=val>35</td>\n",
       "<td class=val>France</td></tr><tr class=even><td class=val>48</td>\n",
       "<td class=val>Brazil</td></tr><tr class=odd><td class=val>51</td>\n",
       "<td class=val>Cameroon</td></tr><tr class=even><td class=val>13</td>\n",
       "<td class=val>Costa Rica</td></tr><tr class=odd><td class=val>25</td>\n",
       "<td class=val>Ecuador</td></tr><tr class=even><td class=val>37</td>\n",
       "<td class=val>Ghana</td></tr></table><div class=\"tinfo\">Total: 6, Shown: 6</div></div>"
      ]
     },
     "metadata": {},
     "output_type": "display_data"
    }
   ],
   "source": [
    "%show 50\n",
    "\n",
    "SELECT (count(distinct ?article) as ?count) ?countryName\n",
    "FROM <http://geonames.org/graph>\n",
    "FROM <http://data-issa.cirad.fr/graph/articles>\n",
    "FROM <http://data-issa.cirad.fr/graph/geographic-nes>\n",
    "FROM <http://data-issa.cirad.fr/graph/thematic-descriptors>\n",
    "WHERE {\n",
    "    # ----- Crops\n",
    "    []  a issa:ThematicDescriptorAnnotation;\n",
    "        oa:hasTarget ?article;\n",
    "        oa:hasBody agrovoc:c_7713. # Concept \"cacao\"\n",
    "\n",
    "    \n",
    "    # ----- Geographic entities\n",
    "    ?geoAnnot\n",
    "        a issa:GeographicAnnotation;\n",
    "        schema:about ?article.\n",
    "    \n",
    "    # Either the geo annotation points to Country or any of its subterritories\n",
    "    { ?geoAnnot oa:hasBody ?country }\n",
    "    UNION             \n",
    "    { ?geoAnnot oa:hasBody [ gn:parentCountry ?country ]. }\n",
    "\n",
    "    # Considered countries\n",
    "    ?country gn:name ?countryName.\n",
    "    values ?country { \n",
    "        <https://sws.geonames.org/3017382/> # France\n",
    "        <https://sws.geonames.org/3469034/> # Brazil\n",
    "        <https://sws.geonames.org/3624060/> # Costa Rica\n",
    "        <https://sws.geonames.org/3658394/> # Ecuador\n",
    "        <https://sws.geonames.org/2233387/> # Cameroon\n",
    "        <https://sws.geonames.org/2300660/> # Ghana\n",
    "    }\n",
    "    \n",
    "} order by ?nameCountry"
   ]
  },
  {
   "cell_type": "markdown",
   "metadata": {
    "tags": []
   },
   "source": [
    "### 7. Count articles with descriptors in some given crop caterogies, that mention places in some given countries"
   ]
  },
  {
   "cell_type": "code",
   "execution_count": 73,
   "metadata": {},
   "outputs": [
    {
     "data": {
      "text/html": [
       "<div class=\"krn-spql\"><div class=\"magic\">Result maximum size: 50</div></div>"
      ],
      "text/plain": [
       "Result maximum size: 50\n"
      ]
     },
     "metadata": {},
     "output_type": "display_data"
    },
    {
     "data": {
      "text/html": [
       "<div class=\"krn-spql\"><table><tr class=hdr><th>count</th>\n",
       "<th>cropName</th>\n",
       "<th>countryName</th></tr><tr class=odd><td class=val>1</td>\n",
       "<td class=val>Annona</td>\n",
       "<td class=val>Brazil</td></tr><tr class=even><td class=val>1</td>\n",
       "<td class=val>Annona</td>\n",
       "<td class=val>Cameroon</td></tr><tr class=odd><td class=val>196</td>\n",
       "<td class=val>agrume</td>\n",
       "<td class=val>France</td></tr><tr class=even><td class=val>102</td>\n",
       "<td class=val>agrume</td>\n",
       "<td class=val>Brazil</td></tr><tr class=odd><td class=val>54</td>\n",
       "<td class=val>agrume</td>\n",
       "<td class=val>Ecuador</td></tr><tr class=even><td class=val>53</td>\n",
       "<td class=val>agrume</td>\n",
       "<td class=val>Cameroon</td></tr><tr class=odd><td class=val>53</td>\n",
       "<td class=val>agrume</td>\n",
       "<td class=val>Costa Rica</td></tr><tr class=even><td class=val>28</td>\n",
       "<td class=val>agrume</td>\n",
       "<td class=val>Ghana</td></tr><tr class=odd><td class=val>91</td>\n",
       "<td class=val>ananas (fruits)</td>\n",
       "<td class=val>France</td></tr><tr class=even><td class=val>67</td>\n",
       "<td class=val>ananas (fruits)</td>\n",
       "<td class=val>Brazil</td></tr><tr class=odd><td class=val>62</td>\n",
       "<td class=val>ananas (fruits)</td>\n",
       "<td class=val>Costa Rica</td></tr><tr class=even><td class=val>58</td>\n",
       "<td class=val>ananas (fruits)</td>\n",
       "<td class=val>Ecuador</td></tr><tr class=odd><td class=val>50</td>\n",
       "<td class=val>ananas (fruits)</td>\n",
       "<td class=val>Cameroon</td></tr><tr class=even><td class=val>34</td>\n",
       "<td class=val>ananas (fruits)</td>\n",
       "<td class=val>Ghana</td></tr><tr class=odd><td class=val>171</td>\n",
       "<td class=val>avocat</td>\n",
       "<td class=val>France</td></tr><tr class=even><td class=val>96</td>\n",
       "<td class=val>avocat</td>\n",
       "<td class=val>Brazil</td></tr><tr class=odd><td class=val>71</td>\n",
       "<td class=val>avocat</td>\n",
       "<td class=val>Costa Rica</td></tr><tr class=even><td class=val>71</td>\n",
       "<td class=val>avocat</td>\n",
       "<td class=val>Ecuador</td></tr><tr class=odd><td class=val>70</td>\n",
       "<td class=val>avocat</td>\n",
       "<td class=val>Cameroon</td></tr><tr class=even><td class=val>37</td>\n",
       "<td class=val>avocat</td>\n",
       "<td class=val>Ghana</td></tr><tr class=odd><td class=val>320</td>\n",
       "<td class=val>banane</td>\n",
       "<td class=val>France</td></tr><tr class=even><td class=val>222</td>\n",
       "<td class=val>banane</td>\n",
       "<td class=val>Cameroon</td></tr><tr class=odd><td class=val>197</td>\n",
       "<td class=val>banane</td>\n",
       "<td class=val>Ecuador</td></tr><tr class=even><td class=val>146</td>\n",
       "<td class=val>banane</td>\n",
       "<td class=val>Costa Rica</td></tr><tr class=odd><td class=val>125</td>\n",
       "<td class=val>banane</td>\n",
       "<td class=val>Brazil</td></tr><tr class=even><td class=val>55</td>\n",
       "<td class=val>banane</td>\n",
       "<td class=val>Ghana</td></tr><tr class=odd><td class=val>3</td>\n",
       "<td class=val>blé</td>\n",
       "<td class=val>Brazil</td></tr><tr class=even><td class=val>2</td>\n",
       "<td class=val>blé</td>\n",
       "<td class=val>France</td></tr><tr class=odd><td class=val>20</td>\n",
       "<td class=val>datte</td>\n",
       "<td class=val>France</td></tr><tr class=even><td class=val>3</td>\n",
       "<td class=val>datte</td>\n",
       "<td class=val>Cameroon</td></tr><tr class=odd><td class=val>1</td>\n",
       "<td class=val>datte</td>\n",
       "<td class=val>Ecuador</td></tr><tr class=even><td class=val>5</td>\n",
       "<td class=val>goyave</td>\n",
       "<td class=val>France</td></tr><tr class=odd><td class=val>5</td>\n",
       "<td class=val>goyave</td>\n",
       "<td class=val>Brazil</td></tr><tr class=even><td class=val>4</td>\n",
       "<td class=val>goyave</td>\n",
       "<td class=val>Cameroon</td></tr><tr class=odd><td class=val>3</td>\n",
       "<td class=val>goyave</td>\n",
       "<td class=val>Ecuador</td></tr><tr class=even><td class=val>2</td>\n",
       "<td class=val>goyave</td>\n",
       "<td class=val>Costa Rica</td></tr><tr class=odd><td class=val>1</td>\n",
       "<td class=val>grenade (fruits)</td>\n",
       "<td class=val>France</td></tr><tr class=even><td class=val>3</td>\n",
       "<td class=val>grenadille</td>\n",
       "<td class=val>France</td></tr><tr class=odd><td class=val>3</td>\n",
       "<td class=val>grenadille</td>\n",
       "<td class=val>Brazil</td></tr><tr class=even><td class=val>3</td>\n",
       "<td class=val>grenadille</td>\n",
       "<td class=val>Cameroon</td></tr><tr class=odd><td class=val>3</td>\n",
       "<td class=val>grenadille</td>\n",
       "<td class=val>Ecuador</td></tr><tr class=even><td class=val>1</td>\n",
       "<td class=val>grenadille</td>\n",
       "<td class=val>Ghana</td></tr><tr class=odd><td class=val>39</td>\n",
       "<td class=val>litchi (fruits)</td>\n",
       "<td class=val>France</td></tr><tr class=even><td class=val>29</td>\n",
       "<td class=val>litchi (fruits)</td>\n",
       "<td class=val>Brazil</td></tr><tr class=odd><td class=val>29</td>\n",
       "<td class=val>litchi (fruits)</td>\n",
       "<td class=val>Ecuador</td></tr><tr class=even><td class=val>28</td>\n",
       "<td class=val>litchi (fruits)</td>\n",
       "<td class=val>Costa Rica</td></tr><tr class=odd><td class=val>22</td>\n",
       "<td class=val>litchi (fruits)</td>\n",
       "<td class=val>Cameroon</td></tr><tr class=even><td class=val>10</td>\n",
       "<td class=val>litchi (fruits)</td>\n",
       "<td class=val>Ghana</td></tr><tr class=odd><td class=val>1</td>\n",
       "<td class=val>longan</td>\n",
       "<td class=val>France</td></tr><tr class=even><td class=val>6</td>\n",
       "<td class=val>mangoustan</td>\n",
       "<td class=val>France</td></tr></table><div class=\"tinfo\">Total: 88, Shown: 50</div></div>"
      ]
     },
     "metadata": {},
     "output_type": "display_data"
    }
   ],
   "source": [
    "%show 50\n",
    "\n",
    "SELECT (count(distinct ?article) as ?count) ?cropName ?countryName\n",
    "FROM <http://agrovoc.fao.org/graph>\n",
    "FROM <http://geonames.org/graph>\n",
    "FROM <http://data-issa.cirad.fr/graph/articles>\n",
    "FROM <http://data-issa.cirad.fr/graph/geographic-nes>\n",
    "FROM <http://data-issa.cirad.fr/graph/thematic-descriptors>\n",
    "WHERE {\n",
    "    # ----- Crops\n",
    "    []  a issa:ThematicDescriptorAnnotation;\n",
    "        oa:hasTarget ?article;\n",
    "        oa:hasBody ?crop.\n",
    "\n",
    "    { ?crop skos:broader+ agrovoc:c_1474 } # cereals\n",
    "    UNION\n",
    "    { agrovoc:c_7974 <http://aims.fao.org/aos/agrontology#includes> ?crop } # <fruits tropicaux> includes ...\n",
    "             \n",
    "    ?crop skosxl:prefLabel [ skosxl:literalForm ?cropName ].\n",
    "    filter (langMatches(lang(?cropName), \"fr\"))\n",
    "\n",
    "\n",
    "    # ----- Geographic entities\n",
    "    ?geoAnnot\n",
    "        a issa:GeographicAnnotation;\n",
    "        schema:about ?article.\n",
    "    \n",
    "    # Either the geo annotation points to Country or any of its subterritories\n",
    "    { ?geoAnnot oa:hasBody ?country }\n",
    "    UNION             \n",
    "    { ?geoAnnot oa:hasBody [ gn:parentCountry ?country ]. }\n",
    "\n",
    "    # Considered countries\n",
    "    ?country gn:name ?countryName.\n",
    "    values ?country {\n",
    "        <https://sws.geonames.org/3017382/> # France\n",
    "        <https://sws.geonames.org/3469034/> # Brazil\n",
    "        <https://sws.geonames.org/3624060/> # Costa Rica\n",
    "        <https://sws.geonames.org/3658394/> # Ecuador\n",
    "        <https://sws.geonames.org/2233387/> # Cameroon\n",
    "        <https://sws.geonames.org/2300660/> # Ghana\n",
    "    }\n",
    "    \n",
    "} order by ?cropName desc(?count)"
   ]
  },
  {
   "cell_type": "markdown",
   "metadata": {
    "tags": []
   },
   "source": [
    "### 8. Count articles with descriptors in some given crop caterogies, that mention places in some given countries"
   ]
  },
  {
   "cell_type": "code",
   "execution_count": 83,
   "metadata": {
    "tags": []
   },
   "outputs": [
    {
     "data": {
      "text/html": [
       "<div class=\"krn-spql\"><div class=\"magic\">Result maximum size: 50</div></div>"
      ],
      "text/plain": [
       "Result maximum size: 50\n"
      ]
     },
     "metadata": {},
     "output_type": "display_data"
    },
    {
     "data": {
      "text/html": [
       "<div class=\"krn-spql\"><table><tr class=hdr><th>count</th>\n",
       "<th>cropName</th>\n",
       "<th>countryName</th></tr><tr class=odd><td class=val>51</td>\n",
       "<td class=val>Theobroma cacao</td>\n",
       "<td class=val>Cameroon</td></tr><tr class=even><td class=val>48</td>\n",
       "<td class=val>Theobroma cacao</td>\n",
       "<td class=val>Brazil</td></tr><tr class=odd><td class=val>37</td>\n",
       "<td class=val>Theobroma cacao</td>\n",
       "<td class=val>Ghana</td></tr><tr class=even><td class=val>35</td>\n",
       "<td class=val>Theobroma cacao</td>\n",
       "<td class=val>France</td></tr><tr class=odd><td class=val>25</td>\n",
       "<td class=val>Theobroma cacao</td>\n",
       "<td class=val>Ecuador</td></tr><tr class=even><td class=val>13</td>\n",
       "<td class=val>Theobroma cacao</td>\n",
       "<td class=val>Costa Rica</td></tr><tr class=odd><td class=val>91</td>\n",
       "<td class=val>ananas (fruits)</td>\n",
       "<td class=val>France</td></tr><tr class=even><td class=val>67</td>\n",
       "<td class=val>ananas (fruits)</td>\n",
       "<td class=val>Brazil</td></tr><tr class=odd><td class=val>62</td>\n",
       "<td class=val>ananas (fruits)</td>\n",
       "<td class=val>Costa Rica</td></tr><tr class=even><td class=val>58</td>\n",
       "<td class=val>ananas (fruits)</td>\n",
       "<td class=val>Ecuador</td></tr><tr class=odd><td class=val>50</td>\n",
       "<td class=val>ananas (fruits)</td>\n",
       "<td class=val>Cameroon</td></tr><tr class=even><td class=val>34</td>\n",
       "<td class=val>ananas (fruits)</td>\n",
       "<td class=val>Ghana</td></tr><tr class=odd><td class=val>171</td>\n",
       "<td class=val>avocat</td>\n",
       "<td class=val>France</td></tr><tr class=even><td class=val>96</td>\n",
       "<td class=val>avocat</td>\n",
       "<td class=val>Brazil</td></tr><tr class=odd><td class=val>71</td>\n",
       "<td class=val>avocat</td>\n",
       "<td class=val>Costa Rica</td></tr><tr class=even><td class=val>71</td>\n",
       "<td class=val>avocat</td>\n",
       "<td class=val>Ecuador</td></tr><tr class=odd><td class=val>70</td>\n",
       "<td class=val>avocat</td>\n",
       "<td class=val>Cameroon</td></tr><tr class=even><td class=val>37</td>\n",
       "<td class=val>avocat</td>\n",
       "<td class=val>Ghana</td></tr><tr class=odd><td class=val>320</td>\n",
       "<td class=val>banane</td>\n",
       "<td class=val>France</td></tr><tr class=even><td class=val>222</td>\n",
       "<td class=val>banane</td>\n",
       "<td class=val>Cameroon</td></tr><tr class=odd><td class=val>197</td>\n",
       "<td class=val>banane</td>\n",
       "<td class=val>Ecuador</td></tr><tr class=even><td class=val>146</td>\n",
       "<td class=val>banane</td>\n",
       "<td class=val>Costa Rica</td></tr><tr class=odd><td class=val>125</td>\n",
       "<td class=val>banane</td>\n",
       "<td class=val>Brazil</td></tr><tr class=even><td class=val>55</td>\n",
       "<td class=val>banane</td>\n",
       "<td class=val>Ghana</td></tr><tr class=odd><td class=val>3</td>\n",
       "<td class=val>blé</td>\n",
       "<td class=val>Brazil</td></tr><tr class=even><td class=val>2</td>\n",
       "<td class=val>blé</td>\n",
       "<td class=val>France</td></tr><tr class=odd><td class=val>107</td>\n",
       "<td class=val>mangue</td>\n",
       "<td class=val>France</td></tr><tr class=even><td class=val>74</td>\n",
       "<td class=val>mangue</td>\n",
       "<td class=val>Brazil</td></tr><tr class=odd><td class=val>54</td>\n",
       "<td class=val>mangue</td>\n",
       "<td class=val>Ecuador</td></tr><tr class=even><td class=val>50</td>\n",
       "<td class=val>mangue</td>\n",
       "<td class=val>Cameroon</td></tr><tr class=odd><td class=val>45</td>\n",
       "<td class=val>mangue</td>\n",
       "<td class=val>Costa Rica</td></tr><tr class=even><td class=val>19</td>\n",
       "<td class=val>mangue</td>\n",
       "<td class=val>Ghana</td></tr><tr class=odd><td class=val>6</td>\n",
       "<td class=val>maïs</td>\n",
       "<td class=val>France</td></tr><tr class=even><td class=val>3</td>\n",
       "<td class=val>maïs</td>\n",
       "<td class=val>Brazil</td></tr><tr class=odd><td class=val>3</td>\n",
       "<td class=val>maïs</td>\n",
       "<td class=val>Cameroon</td></tr><tr class=even><td class=val>1</td>\n",
       "<td class=val>maïs</td>\n",
       "<td class=val>Ghana</td></tr><tr class=odd><td class=val>1</td>\n",
       "<td class=val>millet</td>\n",
       "<td class=val>France</td></tr><tr class=even><td class=val>1</td>\n",
       "<td class=val>millet</td>\n",
       "<td class=val>Ghana</td></tr><tr class=odd><td class=val>23</td>\n",
       "<td class=val>riz</td>\n",
       "<td class=val>France</td></tr><tr class=even><td class=val>7</td>\n",
       "<td class=val>riz</td>\n",
       "<td class=val>Brazil</td></tr><tr class=odd><td class=val>7</td>\n",
       "<td class=val>riz</td>\n",
       "<td class=val>Cameroon</td></tr><tr class=even><td class=val>7</td>\n",
       "<td class=val>riz</td>\n",
       "<td class=val>Ghana</td></tr><tr class=odd><td class=val>6</td>\n",
       "<td class=val>sorgho en grain</td>\n",
       "<td class=val>France</td></tr><tr class=even><td class=val>4</td>\n",
       "<td class=val>sorgho en grain</td>\n",
       "<td class=val>Cameroon</td></tr><tr class=odd><td class=val>1</td>\n",
       "<td class=val>sorgho en grain</td>\n",
       "<td class=val>Brazil</td></tr></table><div class=\"tinfo\">Total: 45, Shown: 45</div></div>"
      ]
     },
     "metadata": {},
     "output_type": "display_data"
    }
   ],
   "source": [
    "%show 50\n",
    "\n",
    "SELECT (count(distinct ?article) as ?count) ?cropName ?countryName\n",
    "FROM <http://agrovoc.fao.org/graph>\n",
    "FROM <http://geonames.org/graph>\n",
    "FROM <http://data-issa.cirad.fr/graph/articles>\n",
    "FROM <http://data-issa.cirad.fr/graph/geographic-nes>\n",
    "FROM <http://data-issa.cirad.fr/graph/thematic-descriptors>\n",
    "WHERE {\n",
    "    # ----- Crops\n",
    "    []  a issa:ThematicDescriptorAnnotation;\n",
    "        oa:hasTarget ?article;\n",
    "        oa:hasBody ?crop.\n",
    "\n",
    "    values ?crop {\n",
    "        # Tropical fruits\n",
    "        <http://aims.fao.org/aos/agrovoc/c_13394> # ananas (fruits)\n",
    "        <http://aims.fao.org/aos/agrovoc/c_9022>  # avocat\n",
    "        <http://aims.fao.org/aos/agrovoc/c_806>   # banane\n",
    "        <http://aims.fao.org/aos/agrovoc/c_7713>  # cacao\n",
    "        <http://aims.fao.org/aos/agrovoc/c_12367> # mangue\n",
    "        \n",
    "        # Cereals\n",
    "        <http://aims.fao.org/aos/agrovoc/c_8373>  # blé\n",
    "        <http://aims.fao.org/aos/agrovoc/c_12332> # maïs\n",
    "        <http://aims.fao.org/aos/agrovoc/c_4838>  # millet\n",
    "        <http://aims.fao.org/aos/agrovoc/c_6599>  # riz\n",
    "        <http://aims.fao.org/aos/agrovoc/c_7249>  # sorgho en grain\n",
    "    }\n",
    "\n",
    "    ?crop skosxl:prefLabel [ skosxl:literalForm ?cropName ].\n",
    "    filter (langMatches(lang(?cropName), \"fr\"))\n",
    "\n",
    "\n",
    "    # ----- Geographic entities\n",
    "    ?geoAnnot\n",
    "        a issa:GeographicAnnotation;\n",
    "        schema:about ?article.\n",
    "    \n",
    "    # Either the geo annotation points to Country or any of its subterritories\n",
    "    { ?geoAnnot oa:hasBody ?country }\n",
    "    UNION             \n",
    "    { ?geoAnnot oa:hasBody [ gn:parentCountry ?country ]. }\n",
    "\n",
    "    # Considered countries\n",
    "    ?country gn:name ?countryName.\n",
    "    values ?country {\n",
    "        <https://sws.geonames.org/3017382/> # France\n",
    "        <https://sws.geonames.org/3469034/> # Brazil\n",
    "        <https://sws.geonames.org/3624060/> # Costa Rica\n",
    "        <https://sws.geonames.org/3658394/> # Ecuador\n",
    "        <https://sws.geonames.org/2233387/> # Cameroon\n",
    "        <https://sws.geonames.org/2300660/> # Ghana\n",
    "    }\n",
    "    \n",
    "} order by ?cropName desc(?count)"
   ]
  },
  {
   "cell_type": "code",
   "execution_count": null,
   "metadata": {},
   "outputs": [],
   "source": []
  }
 ],
 "metadata": {
  "kernelspec": {
   "display_name": "SPARQL",
   "language": "sparql",
   "name": "sparql"
  },
  "language_info": {
   "codemirror_mode": {
    "name": "sparql"
   },
   "mimetype": "application/sparql-query",
   "name": "sparql",
   "pygments_lexer": "sparql-nb"
  }
 },
 "nbformat": 4,
 "nbformat_minor": 4
}
