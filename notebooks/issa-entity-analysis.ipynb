{
 "cells": [
  {
   "cell_type": "markdown",
   "metadata": {},
   "source": [
    "# Analysis of Named Entities in ISSA dataset\n",
    "\n",
    "**Analysing quality of named entities found in the document text**  \n",
    "\n",
    "Use case: Agritrop ISSA\n",
    "\n",
    "Endpoint: https://data-issa.cirad.fr/sparql"
   ]
  },
  {
   "cell_type": "code",
   "execution_count": null,
   "metadata": {
    "colab": {
     "base_uri": "https://localhost:8080/"
    },
    "executionInfo": {
     "elapsed": 3674,
     "status": "ok",
     "timestamp": 1663847382940,
     "user": {
      "displayName": "Anna Bobasheva",
      "userId": "05152602834421587169"
     },
     "user_tz": -120
    },
    "id": "0TCPUi-SA0IN",
    "outputId": "40334e25-5733-4287-f07a-841ed7197c09"
   },
   "outputs": [],
   "source": [
    "import os\n",
    "try:\n",
    "    isColab = os.environ['GCE_METADATA_TIMEOUT']\n",
    "    if isColab:\n",
    "        !pip install SPARQLWrapper\n",
    "except:\n",
    "    pass"
   ]
  },
  {
   "cell_type": "code",
   "execution_count": null,
   "metadata": {
    "executionInfo": {
     "elapsed": 607,
     "status": "ok",
     "timestamp": 1663847383542,
     "user": {
      "displayName": "Anna Bobasheva",
      "userId": "05152602834421587169"
     },
     "user_tz": -120
    },
    "id": "fSUnaquoAzT5"
   },
   "outputs": [],
   "source": [
    "import pandas as pd\n",
    "import json\n",
    "\n",
    "from SPARQLWrapper import SPARQLWrapper, JSON\n",
    "\n",
    "import matplotlib.pyplot as plt\n"
   ]
  },
  {
   "cell_type": "code",
   "execution_count": null,
   "metadata": {
    "executionInfo": {
     "elapsed": 5,
     "status": "ok",
     "timestamp": 1663847383542,
     "user": {
      "displayName": "Anna Bobasheva",
      "userId": "05152602834421587169"
     },
     "user_tz": -120
    },
    "id": "Ga-TnpLeAzT8"
   },
   "outputs": [],
   "source": [
    "def sparql_service_to_dataframe(service, query):\n",
    "    \"\"\"\n",
    "    Helper function to convert SPARQL results into a Pandas DataFrame.\n",
    "    \n",
    "    Credit to Ted Lawless https://lawlesst.github.io/notebook/sparql-dataframe.html\n",
    "    \"\"\"\n",
    "    sparql = SPARQLWrapper(service)\n",
    "    sparql.setQuery(query)\n",
    "    sparql.setReturnFormat(JSON)\n",
    "    result = sparql.query()\n",
    "\n",
    "    processed_results = json.load(result.response)\n",
    "    cols = processed_results['head']['vars']\n",
    "\n",
    "    out = []\n",
    "    for row in processed_results['results']['bindings']:\n",
    "        item = []\n",
    "        for c in cols:\n",
    "            item.append(row.get(c, {}).get('value'))\n",
    "        out.append(item)\n",
    "\n",
    "    return pd.DataFrame(out, columns=cols)\n",
    "\n",
    "def sparql_service_to_dataframe_with_scrollable_cursor(service, query_templ, params=(), page_size=10000):\n",
    "    offset= 0\n",
    "    keep_going=True\n",
    "    df_res_list = [] \n",
    "\n",
    "    print('fetching... ', end='')\n",
    "    while True:\n",
    "        query = query_templ % (params + (offset, page_size) )\n",
    "        df_res = sparql_service_to_dataframe(service, query )\n",
    "        if df_res.shape[0] > 0 : \n",
    "           print(df_res.shape[0], end=', ')\n",
    "           df_res_list.append(df_res)\n",
    "           offset = offset + page_size\n",
    "        else:\n",
    "            print(df_res.shape[0])\n",
    "            break\n",
    "    return pd.concat(df_res_list)\n",
    "\n",
    "def hyperlink(val):\n",
    "    return '<a href=\"{}\">{}</a>'.format(val,val)\n",
    "\n",
    "def hyperlink_multi(val):\n",
    "    uris = val.split(', ')\n",
    "    uris_hl = ['<a href=\"{}\">{}</a>'.format(v,v) for v in uris]\n",
    "\n",
    "    return ', '.join(uris_hl)"
   ]
  },
  {
   "cell_type": "code",
   "execution_count": null,
   "metadata": {
    "executionInfo": {
     "elapsed": 4,
     "status": "ok",
     "timestamp": 1663847383542,
     "user": {
      "displayName": "Anna Bobasheva",
      "userId": "05152602834421587169"
     },
     "user_tz": -120
    },
    "id": "PIbhQcvHAzT9"
   },
   "outputs": [],
   "source": [
    "issa_agritrop_endpoint = 'http://data-issa.cirad.fr/sparql'"
   ]
  },
  {
   "cell_type": "markdown",
   "metadata": {},
   "source": [
    "## Dataset info"
   ]
  },
  {
   "cell_type": "code",
   "execution_count": 164,
   "metadata": {},
   "outputs": [
    {
     "data": {
      "text/html": [
       "<div>\n",
       "<style scoped>\n",
       "    .dataframe tbody tr th:only-of-type {\n",
       "        vertical-align: middle;\n",
       "    }\n",
       "\n",
       "    .dataframe tbody tr th {\n",
       "        vertical-align: top;\n",
       "    }\n",
       "\n",
       "    .dataframe thead th {\n",
       "        text-align: right;\n",
       "    }\n",
       "</style>\n",
       "<table border=\"1\" class=\"dataframe\">\n",
       "  <thead>\n",
       "    <tr style=\"text-align: right;\">\n",
       "      <th></th>\n",
       "      <th>0</th>\n",
       "    </tr>\n",
       "  </thead>\n",
       "  <tbody>\n",
       "    <tr>\n",
       "      <th>dataset_name</th>\n",
       "      <td>ISSA Agritrop dataset</td>\n",
       "    </tr>\n",
       "    <tr>\n",
       "      <th>dataset_description</th>\n",
       "      <td>This RDF dataset was produced by processing articles from Agritrop - the open repository of CIRA...</td>\n",
       "    </tr>\n",
       "    <tr>\n",
       "      <th>triple_count</th>\n",
       "      <td>171783648</td>\n",
       "    </tr>\n",
       "    <tr>\n",
       "      <th>version</th>\n",
       "      <td>1.2.20230306</td>\n",
       "    </tr>\n",
       "    <tr>\n",
       "      <th>initial_date</th>\n",
       "      <td>2022-04-29</td>\n",
       "    </tr>\n",
       "    <tr>\n",
       "      <th>generated_date</th>\n",
       "      <td>2023-03-14</td>\n",
       "    </tr>\n",
       "    <tr>\n",
       "      <th>updated_date</th>\n",
       "      <td>2023-03-14</td>\n",
       "    </tr>\n",
       "  </tbody>\n",
       "</table>\n",
       "</div>"
      ],
      "text/plain": [
       "                                                                                                                       0\n",
       "dataset_name                                                                                       ISSA Agritrop dataset\n",
       "dataset_description  This RDF dataset was produced by processing articles from Agritrop - the open repository of CIRA...\n",
       "triple_count                                                                                                   171783648\n",
       "version                                                                                                     1.2.20230306\n",
       "initial_date                                                                                                  2022-04-29\n",
       "generated_date                                                                                                2023-03-14\n",
       "updated_date                                                                                                  2023-03-14"
      ]
     },
     "execution_count": 164,
     "metadata": {},
     "output_type": "execute_result"
    }
   ],
   "source": [
    "dataset_info_query = '''\n",
    "PREFIX rdf: <http://www.w3.org/1999/02/22-rdf-syntax-ns#>\n",
    "PREFIX rdfs: <http://www.w3.org/2000/01/rdf-schema#>\n",
    "PREFIX void:   <http://rdfs.org/ns/void#> \n",
    "PREFIX issa:   <http://data-issa.cirad.fr/>\n",
    "PREFIX prov: <http://www.w3.org/ns/prov#>\n",
    "\n",
    "SELECT * WHERE {\n",
    "  issa:issa-agritrop dct:title ?dataset_name;\n",
    "                     dct:description ?dataset_description;\n",
    "                     void:triples ?triple_count;\n",
    "                     owl:versionInfo ?version;\n",
    "                     dct:issued ?initial_date;\n",
    "                     prov:wasGeneratedAtTime ?generated_date.\n",
    "  \n",
    "  OPTIONAL{   issa:issa-agritrop dct:modified ?updated_date. }\n",
    "} \n",
    "'''\n",
    "dataset_info = sparql_service_to_dataframe(issa_agritrop_endpoint, dataset_info_query)\n",
    "dataset_info.transpose()"
   ]
  },
  {
   "cell_type": "markdown",
   "metadata": {
    "id": "q_HiKN57AzT9"
   },
   "source": [
    "## Count named entities from all NER tools"
   ]
  },
  {
   "cell_type": "code",
   "execution_count": 190,
   "metadata": {
    "executionInfo": {
     "elapsed": 5,
     "status": "ok",
     "timestamp": 1663847383543,
     "user": {
      "displayName": "Anna Bobasheva",
      "userId": "05152602834421587169"
     },
     "user_tz": -120
    },
    "id": "mlxqEXu1AzT_"
   },
   "outputs": [],
   "source": [
    "entity_count_per_annotator_query = '''\n",
    "PREFIX oa:     <http://www.w3.org/ns/oa#>\n",
    "PREFIX issa:   <http://data-issa.cirad.fr/>\n",
    "PREFIX prov: <http://www.w3.org/ns/prov#>\n",
    "\n",
    "\n",
    "SELECT ?annotator \n",
    "       (count(?entity) as ?cnt) \n",
    "\t     (count(distinct ?uri) as ?unique_cnt)\n",
    "FROM <http://data-issa.cirad.fr/graph/dbpedia-spotlight-nes>\n",
    "FROM <http://data-issa.cirad.fr/graph/entity-fishing-nes>\n",
    "FROM <http://data-issa.cirad.fr/graph/geographic-nes>\n",
    "FROM <http://data-issa.cirad.fr/graph/pyclinrec-nes>\n",
    "WHERE {\n",
    "\t?entity a prov:Entity;\n",
    "          oa:hasBody ?uri;\n",
    "          prov:wasAttributedTo ?annotator.\n",
    "}\n",
    "'''"
   ]
  },
  {
   "cell_type": "code",
   "execution_count": 191,
   "metadata": {
    "colab": {
     "base_uri": "https://localhost:8080/"
    },
    "executionInfo": {
     "elapsed": 24931,
     "status": "ok",
     "timestamp": 1663847408470,
     "user": {
      "displayName": "Anna Bobasheva",
      "userId": "05152602834421587169"
     },
     "user_tz": -120
    },
    "id": "qaPsRooYAzUB",
    "outputId": "8e2fcc82-1fbe-4d26-f5bf-ead3e747ded1"
   },
   "outputs": [
    {
     "name": "stdout",
     "output_type": "stream",
     "text": [
      "(4, 3)\n"
     ]
    }
   ],
   "source": [
    "df_entity_count = sparql_service_to_dataframe(issa_agritrop_endpoint, entity_count_per_annotator_query)\n",
    "\n",
    "df_entity_count = df_entity_count.astype({'cnt': 'int',\n",
    "                                          'unique_cnt' : 'int'})\n",
    "\n",
    "print(df_entity_count.shape)"
   ]
  },
  {
   "cell_type": "code",
   "execution_count": 192,
   "metadata": {
    "colab": {
     "base_uri": "https://localhost:8080/",
     "height": 184
    },
    "executionInfo": {
     "elapsed": 26,
     "status": "ok",
     "timestamp": 1663847408470,
     "user": {
      "displayName": "Anna Bobasheva",
      "userId": "05152602834421587169"
     },
     "user_tz": -120
    },
    "id": "Cc41yIj5AzUC",
    "outputId": "acaf8577-e67d-408e-9028-88bc027bb02a"
   },
   "outputs": [
    {
     "data": {
      "text/html": [
       "<style type=\"text/css\">\n",
       "#T_aae14  {\n",
       "  border: 3px solid lightblue !important;\n",
       "}\n",
       "#T_aae14 td {\n",
       "  border: 1px solid grey !important;\n",
       "}\n",
       "#T_aae14 th {\n",
       "  border: 1px solid grey !important;\n",
       "}\n",
       "</style>\n",
       "<table id=\"T_aae14\">\n",
       "  <thead>\n",
       "    <tr>\n",
       "      <th class=\"blank level0\" >&nbsp;</th>\n",
       "      <th id=\"T_aae14_level0_col0\" class=\"col_heading level0 col0\" >annotator</th>\n",
       "      <th id=\"T_aae14_level0_col1\" class=\"col_heading level0 col1\" >cnt</th>\n",
       "      <th id=\"T_aae14_level0_col2\" class=\"col_heading level0 col2\" >unique_cnt</th>\n",
       "    </tr>\n",
       "  </thead>\n",
       "  <tbody>\n",
       "    <tr>\n",
       "      <th id=\"T_aae14_level0_row0\" class=\"row_heading level0 row0\" >0</th>\n",
       "      <td id=\"T_aae14_row0_col0\" class=\"data row0 col0\" >http://data-issa.cirad.fr/DBPediaSpotlight</td>\n",
       "      <td id=\"T_aae14_row0_col1\" class=\"data row0 col1\" >1876939</td>\n",
       "      <td id=\"T_aae14_row0_col2\" class=\"data row0 col2\" >73390</td>\n",
       "    </tr>\n",
       "    <tr>\n",
       "      <th id=\"T_aae14_level0_row1\" class=\"row_heading level0 row1\" >1</th>\n",
       "      <td id=\"T_aae14_row1_col0\" class=\"data row1 col0\" >http://data-issa.cirad.fr/EntityFishing</td>\n",
       "      <td id=\"T_aae14_row1_col1\" class=\"data row1 col1\" >4480307</td>\n",
       "      <td id=\"T_aae14_row1_col2\" class=\"data row1 col2\" >142397</td>\n",
       "    </tr>\n",
       "    <tr>\n",
       "      <th id=\"T_aae14_level0_row2\" class=\"row_heading level0 row2\" >2</th>\n",
       "      <td id=\"T_aae14_row2_col0\" class=\"data row2 col0\" >http://data-issa.cirad.fr/GeographicEntityExtractor</td>\n",
       "      <td id=\"T_aae14_row2_col1\" class=\"data row2 col1\" >247790</td>\n",
       "      <td id=\"T_aae14_row2_col2\" class=\"data row2 col2\" >12028</td>\n",
       "    </tr>\n",
       "    <tr>\n",
       "      <th id=\"T_aae14_level0_row3\" class=\"row_heading level0 row3\" >3</th>\n",
       "      <td id=\"T_aae14_row3_col0\" class=\"data row3 col0\" >http://data-issa.cirad.fr/Pyclinrec</td>\n",
       "      <td id=\"T_aae14_row3_col1\" class=\"data row3 col1\" >3564076</td>\n",
       "      <td id=\"T_aae14_row3_col2\" class=\"data row3 col2\" >17382</td>\n",
       "    </tr>\n",
       "  </tbody>\n",
       "</table>\n"
      ],
      "text/plain": [
       "<pandas.io.formats.style.Styler at 0x1edf1c68df0>"
      ]
     },
     "execution_count": 192,
     "metadata": {},
     "output_type": "execute_result"
    }
   ],
   "source": [
    "table_style = [{\"selector\": \"\", \"props\": [(\"border\", \"3px solid lightblue !important\")]},\n",
    "               {\"selector\": \"td\", \"props\": [(\"border\", \"1px solid grey !important\")]},\n",
    "               {\"selector\": \"th\", \"props\": [(\"border\", \"1px solid grey !important\")]}  ]\n",
    "               \n",
    "df_entity_count.style.set_table_styles(table_style)"
   ]
  },
  {
   "cell_type": "code",
   "execution_count": 193,
   "metadata": {
    "executionInfo": {
     "elapsed": 16,
     "status": "ok",
     "timestamp": 1663847408472,
     "user": {
      "displayName": "Anna Bobasheva",
      "userId": "05152602834421587169"
     },
     "user_tz": -120
    },
    "id": "_73jALc6AzUD"
   },
   "outputs": [],
   "source": [
    "annotations_per_entity_count_query = '''\n",
    "PREFIX rdf: <http://www.w3.org/1999/02/22-rdf-syntax-ns#>\n",
    "PREFIX rdfs: <http://www.w3.org/2000/01/rdf-schema#>\n",
    "PREFIX oa:     <http://www.w3.org/ns/oa#>\n",
    "PREFIX skos: <http://www.w3.org/2004/02/skos/core#>\n",
    "PREFIX skosxl: <http://www.w3.org/2008/05/skos-xl#>\n",
    "PREFIX issa:   <http://data-issa.cirad.fr/>\n",
    "PREFIX prov: <http://www.w3.org/ns/prov#>\n",
    "PREFIX dct:    <http://purl.org/dc/terms/>\n",
    "PREFIX schema: <http://schema.org/>\n",
    "PREFIX gn:     <http://www.geonames.org/ontology#>\n",
    "PREFIX issapr:  <http://data-issa.cirad.fr/property/> \n",
    "\n",
    "SELECT ?uri ?entityLabel ?cnt ?min_conf ?max_conf\n",
    "FROM <http://data-issa.cirad.fr/graph/dbpedia-spotlight-nes>\n",
    "FROM <http://data-issa.cirad.fr/graph/entity-fishing-nes>\n",
    "FROM <http://data-issa.cirad.fr/graph/geographic-nes>\n",
    "FROM <http://data-issa.cirad.fr/graph/pyclinrec-nes>\n",
    "FROM <http://data-issa.cirad.fr/graph/dbpedia-named-entities>\n",
    "FROM <http://data-issa.cirad.fr/graph/wikidata-named-entities>\n",
    "FROM <http://geonames.org/graph>\n",
    "FROM <http://agrovoc.fao.org/graph>\n",
    "WHERE {\n",
    "\n",
    "      SELECT ?uri ?entityLabel ?cnt ?min_conf ?max_conf\n",
    "      WHERE {\n",
    "\n",
    "      {\n",
    "      SELECT ?uri ?annotator\n",
    "            (count(distinct ?paper) as ?cnt)\n",
    "            (min(?conf) as ?min_conf)\n",
    "            (max(?conf) as ?max_conf)\n",
    "\n",
    "      WHERE {\n",
    "            ?entity a prov:Entity;\n",
    "            oa:hasBody ?uri;\n",
    "            schema:about ?paper;\n",
    "            issapr:confidence ?conf;\n",
    "            prov:wasAttributedTo ?annotator.\n",
    "            FILTER (?annotator = %s) # issa:EntityFishing | issa:DBPediaSpotlight | issa:GeographicEntityExtractor | issa:Pyclinrec\n",
    "            }\n",
    "      GROUP by  ?uri ?annotator\n",
    "      }\n",
    "      \n",
    "      OPTIONAL {\n",
    "            ?uri rdfs:label|skos:prefLabel|(skosxl:prefLabel/skosxl:literalForm)|dct:title|schema:name|gn:officialName ?entityLabel_en.\n",
    "            FILTER langMatches(lang(?entityLabel_en), \"en\" )\n",
    "      }\n",
    "      # for DBPedia.fr\n",
    "      OPTIONAL {\n",
    "            ?uri rdfs:label ?entityLabel_fr.\n",
    "            FILTER langMatches(lang(?entityLabel_fr), \"fr\" )\n",
    "      }\n",
    "      # for Geonames\n",
    "      OPTIONAL {\n",
    "            # |gn:alternateName||gn:shortName\n",
    "            ?uri gn:name ?entityLabel_nolang.\n",
    "      }\n",
    "      \n",
    "            BIND(COALESCE(?entityLabel_en, ?entityLabel_fr, ?entityLabel_nolang) as ?entityLabel)\n",
    "      }\n",
    "      ORDER BY DESC(?cnt)\n",
    "}\n",
    "OFFSET %d\n",
    "LIMIT %d\n",
    "'''"
   ]
  },
  {
   "cell_type": "code",
   "execution_count": 194,
   "metadata": {
    "executionInfo": {
     "elapsed": 17,
     "status": "ok",
     "timestamp": 1663847408473,
     "user": {
      "displayName": "Anna Bobasheva",
      "userId": "05152602834421587169"
     },
     "user_tz": -120
    },
    "id": "FH2rumEtAzUD"
   },
   "outputs": [],
   "source": [
    "annotators = {'wikidata': 'issa:EntityFishing',\n",
    "              'geonames': 'issa:GeographicEntityExtractor',\n",
    "              'dbpedia' : 'issa:DBPediaSpotlight',\n",
    "              'agrovoc' : 'issa:Pyclinrec'}"
   ]
  },
  {
   "cell_type": "code",
   "execution_count": 195,
   "metadata": {
    "executionInfo": {
     "elapsed": 17,
     "status": "ok",
     "timestamp": 1663847408474,
     "user": {
      "displayName": "Anna Bobasheva",
      "userId": "05152602834421587169"
     },
     "user_tz": -120
    },
    "id": "iD_kJG4hAzUE"
   },
   "outputs": [],
   "source": [
    "# in some queries having a long choice of paths to a label proves to be too expensive. \n",
    "# For these queries we can split the path and pass it as a string substitution.\n",
    "label_path = {'wikidata': 'rdfs:label|skos:prefLabel|dct:title|schema:name',\n",
    "              'geonames': 'gn:officialName',\n",
    "              'dbpedia' : 'rdfs:label|skos:prefLabel|dct:title|schema:name',\n",
    "              'agrovoc' : 'skosxl:prefLabel/skosxl:literalForm'}"
   ]
  },
  {
   "cell_type": "markdown",
   "metadata": {
    "id": "B0RIgv3NAzUE"
   },
   "source": [
    "## Annotation quality assesment per vocabulary\n",
    "Select one of the vocabularis and run the cells below"
   ]
  },
  {
   "cell_type": "code",
   "execution_count": null,
   "metadata": {
    "executionInfo": {
     "elapsed": 18,
     "status": "ok",
     "timestamp": 1663847408475,
     "user": {
      "displayName": "Anna Bobasheva",
      "userId": "05152602834421587169"
     },
     "user_tz": -120
    },
    "id": "UVNXYLRGAzUF"
   },
   "outputs": [],
   "source": [
    "vocab = 'agrovoc'"
   ]
  },
  {
   "cell_type": "code",
   "execution_count": null,
   "metadata": {
    "colab": {
     "base_uri": "https://localhost:8080/"
    },
    "executionInfo": {
     "elapsed": 194449,
     "status": "ok",
     "timestamp": 1663847602907,
     "user": {
      "displayName": "Anna Bobasheva",
      "userId": "05152602834421587169"
     },
     "user_tz": -120
    },
    "id": "k2N-Gb_MAzUF",
    "outputId": "2d5f764a-1d8b-4f9a-82b8-e5296918ee39"
   },
   "outputs": [],
   "source": [
    "df_ne_count = {}\n",
    "#for key, value in annotators.items():\n",
    "key, value = vocab, annotators[vocab]\n",
    "df_ne_count[key] = sparql_service_to_dataframe_with_scrollable_cursor(issa_agritrop_endpoint,  annotations_per_entity_count_query, (value, ) )\n",
    "#df_ne_count[key].dropna(inplace=True)\n",
    "df_ne_count[key] = df_ne_count[key].astype({'cnt': 'int',\n",
    "                                            'min_conf' : 'float',\n",
    "                                            'max_conf' : 'float'})\n",
    "print(annotators[key] , df_ne_count[key].shape)"
   ]
  },
  {
   "cell_type": "code",
   "execution_count": null,
   "metadata": {
    "executionInfo": {
     "elapsed": 25,
     "status": "ok",
     "timestamp": 1663847602908,
     "user": {
      "displayName": "Anna Bobasheva",
      "userId": "05152602834421587169"
     },
     "user_tz": -120
    },
    "id": "UfJkqYPRAzUF"
   },
   "outputs": [],
   "source": [
    "#import pickle\n",
    "#with open('df_ne_count.pkl', 'wb') as f:\n",
    "#    pickle.dump(df_ne_count, f)\n",
    "\n",
    "#with open('df_ne_count.pkl', 'rb') as f:\n",
    "#    df_ne_count = pickle.load(f)"
   ]
  },
  {
   "cell_type": "code",
   "execution_count": null,
   "metadata": {
    "colab": {
     "base_uri": "https://localhost:8080/",
     "height": 151
    },
    "executionInfo": {
     "elapsed": 24,
     "status": "ok",
     "timestamp": 1663847602908,
     "user": {
      "displayName": "Anna Bobasheva",
      "userId": "05152602834421587169"
     },
     "user_tz": -120
    },
    "id": "s52eqxDfAzUF",
    "outputId": "83d79bcf-2a4a-4476-cd37-5c7409498c84"
   },
   "outputs": [],
   "source": [
    "df_ne_count[vocab].describe() \\\n",
    "                  .transpose() \\\n",
    "                  .style.format(precision=2)\\\n",
    "                  .set_table_styles(table_style) "
   ]
  },
  {
   "cell_type": "markdown",
   "metadata": {
    "id": "e-izNQt9AzUG"
   },
   "source": [
    "OBSERVATIONS: \n",
    "- AGROVOC: Confidence score is always 1.0. It should be addressed in the *pyclinrec* library.\n",
    "- GEONAMES: \n",
    "- WIKIDATA: we don't filter the wikidata NE but we probably should as min confidence is 0.35.\n",
    "- DBPEDIA: we do filter the DBpedia NEs by setting up the Spotlight parameters, terefore the min confidence is 0.75. Otherwise there would be a lot of NEs."
   ]
  },
  {
   "cell_type": "markdown",
   "metadata": {
    "id": "GzuBLpBRAzUG"
   },
   "source": [
    "### Most popular entities "
   ]
  },
  {
   "cell_type": "code",
   "execution_count": null,
   "metadata": {},
   "outputs": [],
   "source": [
    "df_ne_count[vocab].head(20)"
   ]
  },
  {
   "cell_type": "code",
   "execution_count": null,
   "metadata": {
    "colab": {
     "base_uri": "https://localhost:8080/",
     "height": 417
    },
    "executionInfo": {
     "elapsed": 572,
     "status": "ok",
     "timestamp": 1663847743076,
     "user": {
      "displayName": "Anna Bobasheva",
      "userId": "05152602834421587169"
     },
     "user_tz": -120
    },
    "id": "crMCbHfWAzUG",
    "outputId": "03263eda-f10d-4200-c25a-34d8cd8d18cb"
   },
   "outputs": [],
   "source": [
    "fig = plt.figure(figsize=(12, 6))\n",
    "fig.suptitle(f'Most popular {vocab} named entities')\n",
    "\n",
    "plt.barh(df_ne_count[vocab].head(20).entityLabel , width= df_ne_count[vocab].head(20).cnt)\n",
    "plt.gca().invert_yaxis()\n",
    "\n",
    "plt.show()"
   ]
  },
  {
   "cell_type": "markdown",
   "metadata": {
    "id": "R4-h8LvtAzUG"
   },
   "source": [
    "OBSERVATIONS: \n",
    "- AGROVOC: top named entities are general concepts\n",
    "- GEONAMES: as expected \n",
    "- WIKIDATA: as expected the top named entities are either geographic or agriculture related.\n",
    "- DBPEDIA: not as agricultural as wikidata. Odd one: *Seconde Guerre Mondiale*."
   ]
  },
  {
   "cell_type": "code",
   "execution_count": null,
   "metadata": {
    "colab": {
     "base_uri": "https://localhost:8080/",
     "height": 417
    },
    "executionInfo": {
     "elapsed": 1349,
     "status": "ok",
     "timestamp": 1663847744419,
     "user": {
      "displayName": "Anna Bobasheva",
      "userId": "05152602834421587169"
     },
     "user_tz": -120
    },
    "id": "8PWcjL-9AzUG",
    "outputId": "c24473f0-0b97-475e-9080-353cae15ba7d"
   },
   "outputs": [],
   "source": [
    "fig = plt.figure(figsize=(18, 6))\n",
    "fig.suptitle(f'Distribution of per entity counts for {vocab}')\n",
    "\n",
    "def show_hist(i, df_f1, range=None, title=None):\n",
    "    mean_cnt = df_f1.cnt.mean()\n",
    "    median_cnt = df_f1.cnt.median()\n",
    "\n",
    "    plt.subplot(1 , 3, i+1)\n",
    "\n",
    "    plt.hist(df_f1.cnt, 10, color='lightblue', range=range)\n",
    "    plt.axvline(mean_cnt, color='indigo')\n",
    "    plt.text(mean_cnt + 0.01, 500, 'mean=%.2f' % mean_cnt , color=\"indigo\")\n",
    "\n",
    "    plt.axvline(median_cnt, color=\"blue\")\n",
    "    plt.text(median_cnt + 0.01, 1000, 'median=%.2f' % median_cnt , color=\"blue\")\n",
    "    \n",
    "    plt.title(title)\n",
    "\n",
    "\n",
    "show_hist(0, df_ne_count[vocab], title='All counts')\n",
    "show_hist(1, df_ne_count[vocab], range=(df_ne_count[vocab].cnt.quantile(0.05) ,  \n",
    "                                        df_ne_count[vocab].cnt.quantile(0.95)),\n",
    "          title='middle 90%' )\n",
    "show_hist(2, df_ne_count[vocab], range=(df_ne_count[vocab].cnt.quantile(0.25) ,\n",
    "                                        df_ne_count[vocab].cnt.quantile(0.75)),\n",
    "         title='Moddle 50%')"
   ]
  },
  {
   "cell_type": "markdown",
   "metadata": {
    "id": "DAhvjmLoAzUH"
   },
   "source": [
    "### Missing labels"
   ]
  },
  {
   "cell_type": "code",
   "execution_count": null,
   "metadata": {
    "colab": {
     "base_uri": "https://localhost:8080/",
     "height": 49
    },
    "executionInfo": {
     "elapsed": 10,
     "status": "ok",
     "timestamp": 1663847744419,
     "user": {
      "displayName": "Anna Bobasheva",
      "userId": "05152602834421587169"
     },
     "user_tz": -120
    },
    "id": "ginEkRsQAzUH",
    "outputId": "0760889c-5668-4ea7-facc-3cb3ce161c04",
    "scrolled": true
   },
   "outputs": [],
   "source": [
    "df_ne_count[vocab][df_ne_count[vocab].entityLabel.isna()]\\\n",
    "    .style.format({'uri': hyperlink})"
   ]
  },
  {
   "cell_type": "code",
   "execution_count": null,
   "metadata": {},
   "outputs": [],
   "source": [
    "df_ne_count[vocab][df_ne_count[vocab].entityLabel.isna()].shape"
   ]
  },
  {
   "cell_type": "markdown",
   "metadata": {
    "id": "HQatWfwxAzUH"
   },
   "source": [
    "OBSERVATIONS: \n",
    "- AGROVOC: no missing values!\n",
    "- GEONAMES:\n",
    "- WIKIDATA: investigate why 463 entities do not have labels\n",
    "- DBPEDIA:"
   ]
  },
  {
   "cell_type": "markdown",
   "metadata": {
    "id": "Lt8-OWoDAzUH"
   },
   "source": [
    "### Named entities recognised from a short words ( surface <= 3 characters)"
   ]
  },
  {
   "cell_type": "code",
   "execution_count": null,
   "metadata": {
    "executionInfo": {
     "elapsed": 8,
     "status": "ok",
     "timestamp": 1663847744420,
     "user": {
      "displayName": "Anna Bobasheva",
      "userId": "05152602834421587169"
     },
     "user_tz": -120
    },
    "id": "dv3TNyaPAzUI"
   },
   "outputs": [],
   "source": [
    "short_text_query_templ = '''\n",
    "PREFIX rdf: <http://www.w3.org/1999/02/22-rdf-syntax-ns#>\n",
    "PREFIX rdfs: <http://www.w3.org/2000/01/rdf-schema#>\n",
    "PREFIX oa:     <http://www.w3.org/ns/oa#>\n",
    "PREFIX skos: <http://www.w3.org/2004/02/skos/core#>\n",
    "PREFIX skosxl: <http://www.w3.org/2008/05/skos-xl#>\n",
    "PREFIX issa:   <http://data-issa.cirad.fr/>\n",
    "PREFIX prov: <http://www.w3.org/ns/prov#>\n",
    "PREFIX dct:    <http://purl.org/dc/terms/>\n",
    "PREFIX schema: <http://schema.org/>\n",
    "PREFIX gn:     <http://www.geonames.org/ontology#>\n",
    "PREFIX issapr:  <http://data-issa.cirad.fr/property/> \n",
    "\n",
    "SELECT ?surfaceLen ?surface ?entityLabel_en ?entityLabel_fr ?entityLabel ?entityUri ?cnt \n",
    "FROM <http://data-issa.cirad.fr/graph/dbpedia-spotlight-nes>\n",
    "FROM <http://data-issa.cirad.fr/graph/entity-fishing-nes>\n",
    "FROM <http://data-issa.cirad.fr/graph/geographic-nes>\n",
    "FROM <http://data-issa.cirad.fr/graph/pyclinrec-nes>\n",
    "FROM <http://data-issa.cirad.fr/graph/dbpedia-named-entities>\n",
    "FROM <http://data-issa.cirad.fr/graph/wikidata-named-entities>\n",
    "FROM <http://geonames.org/graph>\n",
    "FROM <http://agrovoc.fao.org/graph>\n",
    "WHERE {\n",
    "      {SELECT ?surface ?entityUri (count(?surface) as ?cnt) (max(?surfaceLEN) as ?surfaceLen)\n",
    "      WHERE {\n",
    "            #VALUES (?entity) {(<http://data-issa.cirad.fr/ann/00006684522793ef568fee34752ac6371f33d3c3>)}\n",
    "            ?entity a prov:Entity;\n",
    "                  oa:hasBody ?entityUri;       \n",
    "                  oa:hasTarget/oa:hasSelector ?selector;\n",
    "                  oa:hasTarget/oa:hasSource ?source;\n",
    "                  issapr:confidence ?conf;\n",
    "                  prov:wasAttributedTo ?annotator.\n",
    "            FILTER (?annotator = %s) # issa:EntityFishing | issa:DBPediaSpotlight | issa:GeographicEntityExtractor | issa:Pyclinrec\n",
    "\n",
    "            ?selector oa:exact ?surface;\n",
    "                  oa:start ?start.\n",
    "\n",
    "            BIND ( STRLEN(?surface) as ?surfaceLEN )\n",
    "            FILTER ( ?surfaceLEN %s )\n",
    "            } \n",
    "      GROUP BY ?surface ?entityUri ?entityLabel\n",
    "      }\n",
    "      OPTIONAL {\n",
    "            #?entityUri rdfs:label|skos:prefLabel|(skosxl:prefLabel/skosxl:literalForm)|dct:title|schema:name|gn:officialName|gn:alternateName|gn:name|gn:shortName ?entityLabel.\n",
    "            ?entityUri %s ?entityLabel_en.\n",
    "            FILTER langMatches(lang(?entityLabel_en), \"en\" )\n",
    "      }\n",
    "      OPTIONAL {\n",
    "            ?entityUri %s ?entityLabel_fr.\n",
    "            FILTER langMatches(lang(?entityLabel_fr), \"fr\" )\n",
    "      }\n",
    "      # for Geonames\n",
    "      #OPTIONAL {\n",
    "      #      ?entityUri gn:name ?entityLabel_nolang.\n",
    "      #}\n",
    "\n",
    "      BIND(COALESCE(?entityLabel_en, ?entityLabel_fr, ?entityLabel_nolang) as ?entityLabel)\n",
    "}\n",
    "ORDER BY ?surface ?entityLabel\n",
    "'''"
   ]
  },
  {
   "cell_type": "code",
   "execution_count": null,
   "metadata": {
    "colab": {
     "base_uri": "https://localhost:8080/"
    },
    "executionInfo": {
     "elapsed": 15092,
     "status": "ok",
     "timestamp": 1663847759505,
     "user": {
      "displayName": "Anna Bobasheva",
      "userId": "05152602834421587169"
     },
     "user_tz": -120
    },
    "id": "2EOiMpwGAzUI",
    "outputId": "0a3853ef-f178-4f35-fb05-fda7bed7898e"
   },
   "outputs": [],
   "source": [
    "df_short_text_count = {}\n",
    "\n",
    "df_short_text_count[vocab] = sparql_service_to_dataframe(issa_agritrop_endpoint,  \n",
    "                                                            short_text_query_templ %  (annotators[vocab], '< 4',\n",
    "                                                                                       label_path[vocab], label_path[vocab]) )\n",
    "df_short_text_count[vocab] = df_short_text_count[vocab].astype({'cnt': 'int',\n",
    "                                                                'surfaceLen': 'int'})\n",
    "print(annotators[vocab] , df_short_text_count[vocab].shape)"
   ]
  },
  {
   "cell_type": "markdown",
   "metadata": {
    "id": "NcZS7vzRAzUI"
   },
   "source": [
    "#### len(surface) == 1"
   ]
  },
  {
   "cell_type": "code",
   "execution_count": null,
   "metadata": {
    "colab": {
     "base_uri": "https://localhost:8080/",
     "height": 0
    },
    "executionInfo": {
     "elapsed": 19,
     "status": "ok",
     "timestamp": 1663847759506,
     "user": {
      "displayName": "Anna Bobasheva",
      "userId": "05152602834421587169"
     },
     "user_tz": -120
    },
    "id": "7BiPQ_nrAzUI",
    "outputId": "d7447ce0-f690-4aaf-bf94-7e4a5e8b5847"
   },
   "outputs": [],
   "source": [
    "df_short_text_1 =  df_short_text_count[vocab].loc[df_short_text_count[vocab].surfaceLen == 1]\n",
    "\n",
    "#df_short_surface_1.sort_values(by='cnt', ascending=False)\n",
    "df_short_text_1.sort_values(by=['entityLabel_en','cnt'])\\\n",
    "                  #.style.set_table_styles(table_style)"
   ]
  },
  {
   "cell_type": "markdown",
   "metadata": {
    "id": "v244YOJbAzUJ"
   },
   "source": [
    "OBSERVATIONS: \n",
    "- AGROVOC: filtering surface string >= 3 in effect\n",
    "- GEONAMES:\n",
    "- WIKIDATA: \n",
    "- DBPEDIA: "
   ]
  },
  {
   "cell_type": "markdown",
   "metadata": {
    "id": "sInD7OXBAzUJ"
   },
   "source": [
    "#### len(surface) == 2"
   ]
  },
  {
   "cell_type": "code",
   "execution_count": null,
   "metadata": {
    "colab": {
     "base_uri": "https://localhost:8080/",
     "height": 0
    },
    "executionInfo": {
     "elapsed": 16,
     "status": "ok",
     "timestamp": 1663847759506,
     "user": {
      "displayName": "Anna Bobasheva",
      "userId": "05152602834421587169"
     },
     "user_tz": -120
    },
    "id": "oDH7cWDIAzUJ",
    "outputId": "5bdf7682-239e-4ca4-894c-e73391860f35"
   },
   "outputs": [],
   "source": [
    "pd.options.display.max_rows = 10\n",
    "df_short_surface_2 =  df_short_text_count[vocab].loc[df_short_text_count[vocab].surfaceLen == 2]\n",
    "\n",
    "#df_short_surface_2.sort_values(by='cnt', ascending=False)\n",
    "df_short_surface_2.sort_values(by=['entityLabel_en','cnt'])\\\n",
    "                  #.style.format({'entityUri': hyperlink})"
   ]
  },
  {
   "cell_type": "markdown",
   "metadata": {
    "id": "CmCdG4QoAzUJ"
   },
   "source": [
    "CONCLUSION: \n",
    "- AGROVOC: the 2 letter surface also does not match very well with the exceptions of UK, EU, and pH. I think they should be filtered as well (0.4% of all) => filtering surface string >= 3 in effect\n",
    "- GEONAMES: hard to tell, some of the 2 letter entities look ok, like *UK* or *US* but some are quesionable like *LA* or *SC*. Removing these entities would mean removing 4% of annottaions. Definetely needs a closer look.\n",
    "- WIKIDATA: see the conclusion above\n",
    "- DBPEDIA: see the conclusion  above"
   ]
  },
  {
   "cell_type": "markdown",
   "metadata": {
    "id": "b0AhQvfUAzUJ"
   },
   "source": [
    "#### len(surface) == 3"
   ]
  },
  {
   "cell_type": "code",
   "execution_count": null,
   "metadata": {
    "colab": {
     "base_uri": "https://localhost:8080/",
     "height": 0
    },
    "executionInfo": {
     "elapsed": 16,
     "status": "ok",
     "timestamp": 1663847759507,
     "user": {
      "displayName": "Anna Bobasheva",
      "userId": "05152602834421587169"
     },
     "user_tz": -120
    },
    "id": "IyJ3MtOiAzUK",
    "outputId": "878bd55b-73aa-474e-b1de-f3ace9020354"
   },
   "outputs": [],
   "source": [
    "pd.options.display.max_rows = 100\n",
    "df_short_text_3 =  df_short_text_count[vocab].loc[df_short_text_count[vocab].surfaceLen == 3]\n",
    "\n",
    "#df_short_text_3.sort_values(by='cnt', ascending=False)\n",
    "df_short_text_3.sort_values(by=['cnt', 'entityLabel_en'], ascending=False)\\\n",
    "               .head(20)\n",
    "               #.style.format({'entityUri': hyperlink})\n"
   ]
  },
  {
   "cell_type": "markdown",
   "metadata": {},
   "source": [
    "CONCLUSION: \n",
    "- AGROVOC: for the populous 3 letter words the annotation is pretty accurate. For less popular words and abbreviations it's hard to tell without the context\n",
    "- GEONAMES:\n",
    "- WIKIDATA: hard to tellsome of the 3 letter entities look ok, like *CWD* (Coffee Wilt Disease). Definetely needs a closer look.\n",
    "- DBPEDIA:"
   ]
  },
  {
   "cell_type": "markdown",
   "metadata": {
    "id": "hdNoFnzvAzUK"
   },
   "source": [
    "##### surface text starts with digit"
   ]
  },
  {
   "cell_type": "code",
   "execution_count": null,
   "metadata": {
    "colab": {
     "base_uri": "https://localhost:8080/",
     "height": 0
    },
    "executionInfo": {
     "elapsed": 15,
     "status": "ok",
     "timestamp": 1663847759507,
     "user": {
      "displayName": "Anna Bobasheva",
      "userId": "05152602834421587169"
     },
     "user_tz": -120
    },
    "id": "RO2e9Wb1AzUK",
    "outputId": "b1bc9bd4-a0c8-44d7-953c-68f75956dfc5"
   },
   "outputs": [],
   "source": [
    "pd.options.display.max_rows = 10\n",
    "df_short_text_count[vocab] .loc[df_short_text_count[vocab] .surface.str[0].str.isdigit() ]\\\n",
    "                  #.style.format({'entityUri': hyperlink})  "
   ]
  },
  {
   "cell_type": "markdown",
   "metadata": {
    "id": "wJhLrFgnAzUK"
   },
   "source": [
    "CONCLUSION: \n",
    "- AGROVOC:  filtering surfaces that start with digits or punctualtion is in effect\n",
    "- GEONAMES: the text *7E* annotated as  *Paris 07 Palais-Bourbon* is most likely junk. But having one junky annotation is is very insignificant.\n",
    "- WIKIDATA: Consider filtering out the short text that starts with a digit.\n",
    "- DBPEDIA: the same as above"
   ]
  },
  {
   "cell_type": "markdown",
   "metadata": {
    "id": "_scOZRGRAzUK"
   },
   "source": [
    "##### surface matches (or not) the entity label"
   ]
  },
  {
   "cell_type": "code",
   "execution_count": null,
   "metadata": {
    "colab": {
     "base_uri": "https://localhost:8080/",
     "height": 0
    },
    "executionInfo": {
     "elapsed": 13,
     "status": "ok",
     "timestamp": 1663847759507,
     "user": {
      "displayName": "Anna Bobasheva",
      "userId": "05152602834421587169"
     },
     "user_tz": -120
    },
    "id": "hwUIaT0EAzUK",
    "outputId": "c65de00f-71a9-4ef6-9648-0ccf70f08822"
   },
   "outputs": [],
   "source": [
    "pd.options.display.max_rows = 10\n",
    "\n",
    "def unCapitalise(s):\n",
    "     if s[0].isupper() and s[1].islower():\n",
    "          return s[:1].lower() + s[1:]\n",
    "     else:\n",
    "          return s\n",
    "\n",
    "\n",
    "df_short_text_3.loc[(df_short_text_3.surface.apply(unCapitalise) != df_short_text_3.entityLabel_en) & \n",
    "                    (df_short_text_3.surface.apply(unCapitalise) != df_short_text_3.entityLabel_fr)] \\\n",
    "                  .sort_values(by=['cnt', 'entityLabel_en'], ascending=False)\\\n",
    "                  #.style.format({'entityUri': hyperlink}) "
   ]
  },
  {
   "cell_type": "markdown",
   "metadata": {
    "id": "ZRQZzqW2AzUK"
   },
   "source": [
    "CONCLUSION: \n",
    "- AGROVOC: 3 letter surfaces annotations look pretty good especially for the mostly used. The percentage of not-correct annotations should be negligible. \n",
    "- GEONAMES: geonames labels try to expand the abrreviations that's why there is no match between 3 letter text and concept lables.\n",
    "- WIKIDATA: hard to judge the abbreviations. but not abbreaviate 3 letter text looks good.\n",
    "- DBPEDIA: the same"
   ]
  },
  {
   "cell_type": "markdown",
   "metadata": {
    "id": "C_46UB3cAzUM"
   },
   "source": [
    "### Surface forms that begin with non-letters"
   ]
  },
  {
   "cell_type": "code",
   "execution_count": 105,
   "metadata": {},
   "outputs": [],
   "source": [
    "text_starts_with_non_letter_query_templ = ''' \n",
    "PREFIX rdf: <http://www.w3.org/1999/02/22-rdf-syntax-ns#>\n",
    "PREFIX rdfs: <http://www.w3.org/2000/01/rdf-schema#>\n",
    "PREFIX oa:     <http://www.w3.org/ns/oa#>\n",
    "PREFIX skos: <http://www.w3.org/2004/02/skos/core#>\n",
    "PREFIX skosxl: <http://www.w3.org/2008/05/skos-xl#>\n",
    "PREFIX issa:   <http://data-issa.cirad.fr/>\n",
    "PREFIX prov: <http://www.w3.org/ns/prov#>\n",
    "PREFIX dct:    <http://purl.org/dc/terms/>\n",
    "PREFIX schema: <http://schema.org/>\n",
    "PREFIX gn:     <http://www.geonames.org/ontology#>\n",
    "PREFIX issapr:  <http://data-issa.cirad.fr/property/> \n",
    "\n",
    "SELECT ?surfaceLen ?surface ?entityLabel_en ?entityLabel_fr ?entityLabel ?entityUri ?cnt \n",
    "FROM <http://data-issa.cirad.fr/graph/dbpedia-spotlight-nes>\n",
    "FROM <http://data-issa.cirad.fr/graph/entity-fishing-nes>\n",
    "FROM <http://data-issa.cirad.fr/graph/geographic-nes>\n",
    "FROM <http://data-issa.cirad.fr/graph/pyclinrec-nes>\n",
    "FROM <http://data-issa.cirad.fr/graph/dbpedia-named-entities>\n",
    "FROM <http://data-issa.cirad.fr/graph/wikidata-named-entities>\n",
    "FROM <http://geonames.org/graph>\n",
    "FROM <http://agrovoc.fao.org/graph>\n",
    "WHERE {\n",
    "      {SELECT ?surface ?entityUri (count(?surface) as ?cnt) (max(?surfaceLEN) as ?surfaceLen)\n",
    "      WHERE {\n",
    "            #VALUES (?entity) {(<http://data-issa.cirad.fr/ann/00006684522793ef568fee34752ac6371f33d3c3>)}\n",
    "            ?entity a prov:Entity;\n",
    "                  oa:hasBody ?entityUri;       \n",
    "                  oa:hasTarget/oa:hasSelector ?selector;\n",
    "                  oa:hasTarget/oa:hasSource ?source;\n",
    "                  issapr:confidence ?conf;\n",
    "                  prov:wasAttributedTo ?annotator.\n",
    "            FILTER (?annotator = %s) # issa:EntityFishing | issa:DBPediaSpotlight | issa:GeographicEntityExtractor | issa:Pyclinrec\n",
    "\n",
    "            ?selector oa:exact ?surface;\n",
    "                  oa:start ?start.\n",
    "\n",
    "            BIND ( STRLEN(?surface) as ?surfaceLEN )\n",
    "            FILTER ( ! REGEX(?surface, \"^[a-z,A-Z,À-ÿ]\")  ) # Greek letters ,\\\\p{Greek},µ\n",
    "            } \n",
    "      GROUP BY ?surface ?entityUri ?entityLabel\n",
    "      }\n",
    "      OPTIONAL {\n",
    "            #?entityUri rdfs:label|skos:prefLabel|(skosxl:prefLabel/skosxl:literalForm)|dct:title|schema:name|gn:officialName|gn:alternateName|gn:name|gn:shortName ?entityLabel.\n",
    "            ?entityUri %s ?entityLabel_en.\n",
    "            FILTER langMatches(lang(?entityLabel_en), \"en\" )\n",
    "      }\n",
    "      OPTIONAL {\n",
    "            ?entityUri %s ?entityLabel_fr.\n",
    "            FILTER langMatches(lang(?entityLabel_fr), \"fr\" )\n",
    "      }\n",
    "      # for Geonames\n",
    "      OPTIONAL {\n",
    "            ?entityUri gn:name ?entityLabel_nolang.\n",
    "      }\n",
    "\n",
    "      BIND(COALESCE(?entityLabel_en, ?entityLabel_fr, ?entityLabel_nolang) as ?entityLabel)\n",
    "}\n",
    "ORDER BY ?surface ?entityLabel\n",
    "'''"
   ]
  },
  {
   "cell_type": "code",
   "execution_count": 106,
   "metadata": {},
   "outputs": [
    {
     "name": "stdout",
     "output_type": "stream",
     "text": [
      "issa:Pyclinrec (0, 7)\n"
     ]
    }
   ],
   "source": [
    "df_non_letter_count = {}\n",
    "\n",
    "df_non_letter_count[vocab] = sparql_service_to_dataframe(issa_agritrop_endpoint,  \n",
    "                                                            text_starts_with_non_letter_query_templ %  (annotators[vocab],\n",
    "                                                                                       label_path[vocab], label_path[vocab]) )\n",
    "df_non_letter_count[vocab] = df_non_letter_count[vocab].astype({'cnt': 'int',\n",
    "                                                                'surfaceLen': 'int'})\n",
    "print(annotators[vocab] , df_non_letter_count[vocab].shape)"
   ]
  },
  {
   "cell_type": "code",
   "execution_count": 107,
   "metadata": {},
   "outputs": [
    {
     "data": {
      "text/html": [
       "<div>\n",
       "<style scoped>\n",
       "    .dataframe tbody tr th:only-of-type {\n",
       "        vertical-align: middle;\n",
       "    }\n",
       "\n",
       "    .dataframe tbody tr th {\n",
       "        vertical-align: top;\n",
       "    }\n",
       "\n",
       "    .dataframe thead th {\n",
       "        text-align: right;\n",
       "    }\n",
       "</style>\n",
       "<table border=\"1\" class=\"dataframe\">\n",
       "  <thead>\n",
       "    <tr style=\"text-align: right;\">\n",
       "      <th></th>\n",
       "      <th>surfaceLen</th>\n",
       "      <th>surface</th>\n",
       "      <th>entityLabel_en</th>\n",
       "      <th>entityLabel_fr</th>\n",
       "      <th>entityLabel</th>\n",
       "      <th>entityUri</th>\n",
       "      <th>cnt</th>\n",
       "    </tr>\n",
       "  </thead>\n",
       "  <tbody>\n",
       "  </tbody>\n",
       "</table>\n",
       "</div>"
      ],
      "text/plain": [
       "Empty DataFrame\n",
       "Columns: [surfaceLen, surface, entityLabel_en, entityLabel_fr, entityLabel, entityUri, cnt]\n",
       "Index: []"
      ]
     },
     "execution_count": 107,
     "metadata": {},
     "output_type": "execute_result"
    }
   ],
   "source": [
    "df_non_letter_count[vocab].sort_values(by=['surface'])\\\n",
    "                  #.style.format({'entityUri': hyperlink})\n",
    "                  "
   ]
  },
  {
   "cell_type": "code",
   "execution_count": 108,
   "metadata": {},
   "outputs": [
    {
     "data": {
      "text/plain": [
       "0"
      ]
     },
     "execution_count": 108,
     "metadata": {},
     "output_type": "execute_result"
    }
   ],
   "source": [
    "df_non_letter_count[vocab].loc[(df_non_letter_count[vocab].surfaceLen==4) & \n",
    "                              ( df_non_letter_count[vocab].entityLabel_fr.str.isdigit()) ].cnt.sum()\n"
   ]
  },
  {
   "cell_type": "code",
   "execution_count": 109,
   "metadata": {},
   "outputs": [
    {
     "data": {
      "text/html": [
       "<div>\n",
       "<style scoped>\n",
       "    .dataframe tbody tr th:only-of-type {\n",
       "        vertical-align: middle;\n",
       "    }\n",
       "\n",
       "    .dataframe tbody tr th {\n",
       "        vertical-align: top;\n",
       "    }\n",
       "\n",
       "    .dataframe thead th {\n",
       "        text-align: right;\n",
       "    }\n",
       "</style>\n",
       "<table border=\"1\" class=\"dataframe\">\n",
       "  <thead>\n",
       "    <tr style=\"text-align: right;\">\n",
       "      <th></th>\n",
       "      <th>surfaceLen</th>\n",
       "      <th>surface</th>\n",
       "      <th>entityLabel_en</th>\n",
       "      <th>entityLabel_fr</th>\n",
       "      <th>entityLabel</th>\n",
       "      <th>entityUri</th>\n",
       "      <th>cnt</th>\n",
       "    </tr>\n",
       "  </thead>\n",
       "  <tbody>\n",
       "  </tbody>\n",
       "</table>\n",
       "</div>"
      ],
      "text/plain": [
       "Empty DataFrame\n",
       "Columns: [surfaceLen, surface, entityLabel_en, entityLabel_fr, entityLabel, entityUri, cnt]\n",
       "Index: []"
      ]
     },
     "execution_count": 109,
     "metadata": {},
     "output_type": "execute_result"
    }
   ],
   "source": [
    "df_non_letter_count[vocab].head()"
   ]
  },
  {
   "cell_type": "code",
   "execution_count": 110,
   "metadata": {},
   "outputs": [
    {
     "data": {
      "text/plain": [
       "0"
      ]
     },
     "execution_count": 110,
     "metadata": {},
     "output_type": "execute_result"
    }
   ],
   "source": [
    "df_non_letter_count[vocab].cnt.sort_values().sum()"
   ]
  },
  {
   "cell_type": "markdown",
   "metadata": {},
   "source": [
    "OBSERVATIONS:\n",
    "- AGROVOC: filtering in effect \n",
    "- GEONAMES: 24 surface forms that start with various non-alphabetical and non-digit characters. Some of the annotations look ok though but the offsets are incorrect. Si I think it would be better to filter them out too and we will not loose much of the information.\n",
    "- WIKIDATA: about 1% of entity-fishing annotatins correspond to the text that begins with non-alphabetical charachters. In most cases they are interpreded as :\n",
    "    - country calling codes - e.g. *+223*\t= *Telephone numbers in Mali* - correct and clever but irrelevant for the corpus\n",
    "    - file extensions - e.g. *.csv file*\t= *comma-separated values* - also correct and clever but irrelevant\n",
    "    - quantity  annotations - e.g. *0.31%* = \t*1998 United States Senate elections* - mosly meaningless\n",
    "    - dates - e.g. *01/09* = *September 1* - correct but not interesting I suppose\n",
    "    - chemical formulas - e.g. *1-MCP* = *1-methylcyclopropene*  - these could be good to keep but hard to distinguish\n",
    "    - biological nmaes  - e.g. *β2-microglobulin* = *Beta-2-microglobulin*  - these could be good to keep and if they begin with a greek letter easy to do\n",
    "    - units - e.g. *μmol* = *mole* - also good to keep\n",
    "    \n",
    "    It looks like majority of annotations for the text starting with digit is meaningless and can be filtered out we would only loose the chemical and biological entities along the way. Other starting charactes are ok including the greek letters.\n",
    "- DBPEDIA: 2.5% of dbpedia spotlight annotatins correspond to the text that begins with non-alphabetical charachters. Quite a lot! And it seems that the 70% of them are the annotations of the years in french dbpedia. The other issues are similar to wikidata case. Thus if we filter out the annotatins for the surface form starting with non-alphabetical character in te worse case scenario we would loose less than 0.5% of good annotations.  \n",
    "\n"
   ]
  },
  {
   "cell_type": "markdown",
   "metadata": {
    "id": "9Hx6L034AzUL"
   },
   "source": [
    "### Multiple entities for one piece of text\n",
    "\n",
    "#### More than 3 named entity per text"
   ]
  },
  {
   "cell_type": "code",
   "execution_count": 127,
   "metadata": {
    "executionInfo": {
     "elapsed": 13,
     "status": "ok",
     "timestamp": 1663847759508,
     "user": {
      "displayName": "Anna Bobasheva",
      "userId": "05152602834421587169"
     },
     "user_tz": -120
    },
    "id": "jw3LX-n0AzUL"
   },
   "outputs": [],
   "source": [
    "multiple_entities_query_templ = '''\n",
    "PREFIX rdf: <http://www.w3.org/1999/02/22-rdf-syntax-ns#>\n",
    "PREFIX rdfs: <http://www.w3.org/2000/01/rdf-schema#>\n",
    "PREFIX oa:     <http://www.w3.org/ns/oa#>\n",
    "PREFIX skos: <http://www.w3.org/2004/02/skos/core#>\n",
    "PREFIX skosxl: <http://www.w3.org/2008/05/skos-xl#>\n",
    "PREFIX issa:   <http://data-issa.cirad.fr/>\n",
    "PREFIX prov: <http://www.w3.org/ns/prov#>\n",
    "PREFIX dct:    <http://purl.org/dc/terms/>\n",
    "PREFIX schema: <http://schema.org/>\n",
    "PREFIX gn:     <http://www.geonames.org/ontology#>\n",
    "\n",
    "\n",
    "SELECT ?source ?surface ?start ?cnt \n",
    "       #?entities \n",
    "WHERE {\n",
    "  { SELECT ?source ?surface ?start \n",
    "          (count(?entityUri) as ?cnt)\n",
    "          (group_concat(?entityUri; separator=\", \") as ?entities) \n",
    "    WHERE {\n",
    "          #VALUES (?entity) {(<http://data-issa.cirad.fr/ann/00006684522793ef568fee34752ac6371f33d3c3>)}\n",
    "          ?entity a prov:Entity;\n",
    "                  oa:hasBody ?entityUri;       \n",
    "                  oa:hasTarget/oa:hasSelector ?selector;\n",
    "                  oa:hasTarget/oa:hasSource ?source;\n",
    "                  prov:wasAttributedTo ?annotator.\n",
    "          FILTER (?annotator = %s) # issa:EntityFishing | issa:DBPediaSpotlight | issa:GeographicEntityExtractor | issa:Pyclinrec\n",
    "\n",
    "          ?selector oa:exact ?surface;\n",
    "                    oa:start ?start.\n",
    "          } \n",
    "    GROUP BY ?source ?surface ?start\n",
    "    HAVING ((count(?entityUri) %s ) && (count(?entityUri) > 1) )\n",
    "  }\n",
    "\n",
    "}\n",
    "order by desc(?cnt)\n",
    "'''"
   ]
  },
  {
   "cell_type": "code",
   "execution_count": 132,
   "metadata": {
    "colab": {
     "base_uri": "https://localhost:8080/"
    },
    "executionInfo": {
     "elapsed": 47255,
     "status": "ok",
     "timestamp": 1663847806750,
     "user": {
      "displayName": "Anna Bobasheva",
      "userId": "05152602834421587169"
     },
     "user_tz": -120
    },
    "id": "t_w3rTaYAzUL",
    "outputId": "3411bb0b-5556-4393-a17e-928d848d01af"
   },
   "outputs": [
    {
     "name": "stdout",
     "output_type": "stream",
     "text": [
      "issa:Pyclinrec (107, 4)\n"
     ]
    }
   ],
   "source": [
    "pd.options.display.max_colwidth = 100\n",
    "\n",
    "df_multi_entities = df_multi_entities if 'df_multi_entities' in locals() else {}\n",
    "\n",
    "df_multi_entities[vocab] = sparql_service_to_dataframe(issa_agritrop_endpoint,  \n",
    "                                                        multiple_entities_query_templ %  (annotators[vocab], '> 3') )\n",
    "\n",
    "df_multi_entities[vocab] = df_multi_entities[vocab].astype({'cnt': 'int'})\n",
    "\n",
    "print(annotators[vocab] , df_multi_entities[vocab].shape)"
   ]
  },
  {
   "cell_type": "code",
   "execution_count": 153,
   "metadata": {},
   "outputs": [
    {
     "data": {
      "text/html": [
       "<div>\n",
       "<style scoped>\n",
       "    .dataframe tbody tr th:only-of-type {\n",
       "        vertical-align: middle;\n",
       "    }\n",
       "\n",
       "    .dataframe tbody tr th {\n",
       "        vertical-align: top;\n",
       "    }\n",
       "\n",
       "    .dataframe thead th {\n",
       "        text-align: right;\n",
       "    }\n",
       "</style>\n",
       "<table border=\"1\" class=\"dataframe\">\n",
       "  <thead>\n",
       "    <tr style=\"text-align: right;\">\n",
       "      <th></th>\n",
       "      <th>source</th>\n",
       "      <th>surface</th>\n",
       "      <th>start</th>\n",
       "      <th>cnt</th>\n",
       "      <th>repeat</th>\n",
       "    </tr>\n",
       "  </thead>\n",
       "  <tbody>\n",
       "    <tr>\n",
       "      <th>0</th>\n",
       "      <td>http://data-issa.cirad.fr/document/593761#body_text</td>\n",
       "      <td>seeds in seed</td>\n",
       "      <td>655</td>\n",
       "      <td>98</td>\n",
       "      <td>False</td>\n",
       "    </tr>\n",
       "    <tr>\n",
       "      <th>1</th>\n",
       "      <td>http://data-issa.cirad.fr/document/459218#body_text</td>\n",
       "      <td>dried in a drying</td>\n",
       "      <td>10073</td>\n",
       "      <td>37</td>\n",
       "      <td>False</td>\n",
       "    </tr>\n",
       "    <tr>\n",
       "      <th>2</th>\n",
       "      <td>http://data-issa.cirad.fr/document/593680#abstract</td>\n",
       "      <td>espèce par espèce</td>\n",
       "      <td>1516</td>\n",
       "      <td>36</td>\n",
       "      <td>True</td>\n",
       "    </tr>\n",
       "    <tr>\n",
       "      <th>4</th>\n",
       "      <td>http://data-issa.cirad.fr/document/465032#abstract</td>\n",
       "      <td>espèce par espèce</td>\n",
       "      <td>1289</td>\n",
       "      <td>36</td>\n",
       "      <td>True</td>\n",
       "    </tr>\n",
       "    <tr>\n",
       "      <th>5</th>\n",
       "      <td>http://data-issa.cirad.fr/document/486470#abstract</td>\n",
       "      <td>espèce par espèce</td>\n",
       "      <td>706</td>\n",
       "      <td>36</td>\n",
       "      <td>True</td>\n",
       "    </tr>\n",
       "    <tr>\n",
       "      <th>...</th>\n",
       "      <td>...</td>\n",
       "      <td>...</td>\n",
       "      <td>...</td>\n",
       "      <td>...</td>\n",
       "      <td>...</td>\n",
       "    </tr>\n",
       "    <tr>\n",
       "      <th>88</th>\n",
       "      <td>http://data-issa.cirad.fr/document/455036#abstract</td>\n",
       "      <td>Gallus gallus</td>\n",
       "      <td>91</td>\n",
       "      <td>5</td>\n",
       "      <td>True</td>\n",
       "    </tr>\n",
       "    <tr>\n",
       "      <th>103</th>\n",
       "      <td>http://data-issa.cirad.fr/document/597318#abstract</td>\n",
       "      <td>Carassius carassius</td>\n",
       "      <td>1270</td>\n",
       "      <td>4</td>\n",
       "      <td>True</td>\n",
       "    </tr>\n",
       "    <tr>\n",
       "      <th>104</th>\n",
       "      <td>http://data-issa.cirad.fr/document/513625#abstract</td>\n",
       "      <td>Bison bison</td>\n",
       "      <td>228</td>\n",
       "      <td>4</td>\n",
       "      <td>True</td>\n",
       "    </tr>\n",
       "    <tr>\n",
       "      <th>105</th>\n",
       "      <td>http://data-issa.cirad.fr/document/553570#abstract</td>\n",
       "      <td>organic carbon carbon</td>\n",
       "      <td>1848</td>\n",
       "      <td>4</td>\n",
       "      <td>True</td>\n",
       "    </tr>\n",
       "    <tr>\n",
       "      <th>106</th>\n",
       "      <td>http://data-issa.cirad.fr/document/414119#body_text</td>\n",
       "      <td>sud-sud-ouest</td>\n",
       "      <td>2881</td>\n",
       "      <td>4</td>\n",
       "      <td>True</td>\n",
       "    </tr>\n",
       "  </tbody>\n",
       "</table>\n",
       "<p>107 rows × 5 columns</p>\n",
       "</div>"
      ],
      "text/plain": [
       "                                                  source  \\\n",
       "0    http://data-issa.cirad.fr/document/593761#body_text   \n",
       "1    http://data-issa.cirad.fr/document/459218#body_text   \n",
       "2     http://data-issa.cirad.fr/document/593680#abstract   \n",
       "4     http://data-issa.cirad.fr/document/465032#abstract   \n",
       "5     http://data-issa.cirad.fr/document/486470#abstract   \n",
       "..                                                   ...   \n",
       "88    http://data-issa.cirad.fr/document/455036#abstract   \n",
       "103   http://data-issa.cirad.fr/document/597318#abstract   \n",
       "104   http://data-issa.cirad.fr/document/513625#abstract   \n",
       "105   http://data-issa.cirad.fr/document/553570#abstract   \n",
       "106  http://data-issa.cirad.fr/document/414119#body_text   \n",
       "\n",
       "                   surface  start  cnt  repeat  \n",
       "0            seeds in seed    655   98   False  \n",
       "1        dried in a drying  10073   37   False  \n",
       "2        espèce par espèce   1516   36    True  \n",
       "4        espèce par espèce   1289   36    True  \n",
       "5        espèce par espèce    706   36    True  \n",
       "..                     ...    ...  ...     ...  \n",
       "88           Gallus gallus     91    5    True  \n",
       "103    Carassius carassius   1270    4    True  \n",
       "104            Bison bison    228    4    True  \n",
       "105  organic carbon carbon   1848    4    True  \n",
       "106          sud-sud-ouest   2881    4    True  \n",
       "\n",
       "[107 rows x 5 columns]"
      ]
     },
     "execution_count": 153,
     "metadata": {},
     "output_type": "execute_result"
    }
   ],
   "source": [
    "pd.options.display.max_rows = 10\n",
    "df_multi_entities[vocab].sort_values(by=['cnt'], ascending=False)\\\n",
    "                        #.head()"
   ]
  },
  {
   "cell_type": "code",
   "execution_count": 134,
   "metadata": {},
   "outputs": [],
   "source": [
    "def detect_repeat(string_to_split):\n",
    "    import re\n",
    "    return pd.Series(re.split('-| ', string_to_split.lower())).value_counts().max() > 1\n",
    "\n",
    "df_multi_entities[vocab]['repeat']  = df_multi_entities[vocab].surface.apply(detect_repeat)"
   ]
  },
  {
   "cell_type": "code",
   "execution_count": 155,
   "metadata": {
    "colab": {
     "base_uri": "https://localhost:8080/",
     "height": 315
    },
    "executionInfo": {
     "elapsed": 291,
     "status": "ok",
     "timestamp": 1663852566423,
     "user": {
      "displayName": "Anna Bobasheva",
      "userId": "05152602834421587169"
     },
     "user_tz": -120
    },
    "id": "V5fPkAQCAzUL",
    "outputId": "4b3bc990-bb1e-4114-90f8-a3e470a27ed9",
    "scrolled": true
   },
   "outputs": [
    {
     "data": {
      "text/html": [
       "<div>\n",
       "<style scoped>\n",
       "    .dataframe tbody tr th:only-of-type {\n",
       "        vertical-align: middle;\n",
       "    }\n",
       "\n",
       "    .dataframe tbody tr th {\n",
       "        vertical-align: top;\n",
       "    }\n",
       "\n",
       "    .dataframe thead th {\n",
       "        text-align: right;\n",
       "    }\n",
       "</style>\n",
       "<table border=\"1\" class=\"dataframe\">\n",
       "  <thead>\n",
       "    <tr style=\"text-align: right;\">\n",
       "      <th></th>\n",
       "      <th>source</th>\n",
       "      <th>surface</th>\n",
       "      <th>start</th>\n",
       "      <th>cnt</th>\n",
       "      <th>repeat</th>\n",
       "    </tr>\n",
       "  </thead>\n",
       "  <tbody>\n",
       "    <tr>\n",
       "      <th>2</th>\n",
       "      <td>http://data-issa.cirad.fr/document/593680#abstract</td>\n",
       "      <td>espèce par espèce</td>\n",
       "      <td>1516</td>\n",
       "      <td>36</td>\n",
       "      <td>True</td>\n",
       "    </tr>\n",
       "    <tr>\n",
       "      <th>3</th>\n",
       "      <td>http://data-issa.cirad.fr/document/388166#abstract</td>\n",
       "      <td>espèce par espèce</td>\n",
       "      <td>125</td>\n",
       "      <td>36</td>\n",
       "      <td>True</td>\n",
       "    </tr>\n",
       "    <tr>\n",
       "      <th>4</th>\n",
       "      <td>http://data-issa.cirad.fr/document/465032#abstract</td>\n",
       "      <td>espèce par espèce</td>\n",
       "      <td>1289</td>\n",
       "      <td>36</td>\n",
       "      <td>True</td>\n",
       "    </tr>\n",
       "    <tr>\n",
       "      <th>5</th>\n",
       "      <td>http://data-issa.cirad.fr/document/486470#abstract</td>\n",
       "      <td>espèce par espèce</td>\n",
       "      <td>706</td>\n",
       "      <td>36</td>\n",
       "      <td>True</td>\n",
       "    </tr>\n",
       "    <tr>\n",
       "      <th>6</th>\n",
       "      <td>http://data-issa.cirad.fr/document/457753#body_text</td>\n",
       "      <td>espèce par espèce</td>\n",
       "      <td>6168</td>\n",
       "      <td>36</td>\n",
       "      <td>True</td>\n",
       "    </tr>\n",
       "    <tr>\n",
       "      <th>...</th>\n",
       "      <td>...</td>\n",
       "      <td>...</td>\n",
       "      <td>...</td>\n",
       "      <td>...</td>\n",
       "      <td>...</td>\n",
       "    </tr>\n",
       "    <tr>\n",
       "      <th>101</th>\n",
       "      <td>http://data-issa.cirad.fr/document/599862#body_text</td>\n",
       "      <td>Anser anser</td>\n",
       "      <td>1665</td>\n",
       "      <td>5</td>\n",
       "      <td>True</td>\n",
       "    </tr>\n",
       "    <tr>\n",
       "      <th>106</th>\n",
       "      <td>http://data-issa.cirad.fr/document/414119#body_text</td>\n",
       "      <td>sud-sud-ouest</td>\n",
       "      <td>2881</td>\n",
       "      <td>4</td>\n",
       "      <td>True</td>\n",
       "    </tr>\n",
       "    <tr>\n",
       "      <th>105</th>\n",
       "      <td>http://data-issa.cirad.fr/document/553570#abstract</td>\n",
       "      <td>organic carbon carbon</td>\n",
       "      <td>1848</td>\n",
       "      <td>4</td>\n",
       "      <td>True</td>\n",
       "    </tr>\n",
       "    <tr>\n",
       "      <th>103</th>\n",
       "      <td>http://data-issa.cirad.fr/document/597318#abstract</td>\n",
       "      <td>Carassius carassius</td>\n",
       "      <td>1270</td>\n",
       "      <td>4</td>\n",
       "      <td>True</td>\n",
       "    </tr>\n",
       "    <tr>\n",
       "      <th>104</th>\n",
       "      <td>http://data-issa.cirad.fr/document/513625#abstract</td>\n",
       "      <td>Bison bison</td>\n",
       "      <td>228</td>\n",
       "      <td>4</td>\n",
       "      <td>True</td>\n",
       "    </tr>\n",
       "  </tbody>\n",
       "</table>\n",
       "<p>101 rows × 5 columns</p>\n",
       "</div>"
      ],
      "text/plain": [
       "                                                  source  \\\n",
       "2     http://data-issa.cirad.fr/document/593680#abstract   \n",
       "3     http://data-issa.cirad.fr/document/388166#abstract   \n",
       "4     http://data-issa.cirad.fr/document/465032#abstract   \n",
       "5     http://data-issa.cirad.fr/document/486470#abstract   \n",
       "6    http://data-issa.cirad.fr/document/457753#body_text   \n",
       "..                                                   ...   \n",
       "101  http://data-issa.cirad.fr/document/599862#body_text   \n",
       "106  http://data-issa.cirad.fr/document/414119#body_text   \n",
       "105   http://data-issa.cirad.fr/document/553570#abstract   \n",
       "103   http://data-issa.cirad.fr/document/597318#abstract   \n",
       "104   http://data-issa.cirad.fr/document/513625#abstract   \n",
       "\n",
       "                   surface start  cnt  repeat  \n",
       "2        espèce par espèce  1516   36    True  \n",
       "3        espèce par espèce   125   36    True  \n",
       "4        espèce par espèce  1289   36    True  \n",
       "5        espèce par espèce   706   36    True  \n",
       "6        espèce par espèce  6168   36    True  \n",
       "..                     ...   ...  ...     ...  \n",
       "101            Anser anser  1665    5    True  \n",
       "106          sud-sud-ouest  2881    4    True  \n",
       "105  organic carbon carbon  1848    4    True  \n",
       "103    Carassius carassius  1270    4    True  \n",
       "104            Bison bison   228    4    True  \n",
       "\n",
       "[101 rows x 5 columns]"
      ]
     },
     "execution_count": 155,
     "metadata": {},
     "output_type": "execute_result"
    }
   ],
   "source": [
    "# repeated text\n",
    "pd.options.display.max_rows = 10\n",
    "df_multi_entities[vocab].loc[df_multi_entities[vocab].repeat]\\\n",
    "                        .sort_values(by=['cnt', 'surface'], ascending=False)\\\n",
    "                        #.head(10)\n",
    "      \n",
    "    #.style.format({'source': hyperlink})"
   ]
  },
  {
   "cell_type": "code",
   "execution_count": 157,
   "metadata": {},
   "outputs": [
    {
     "data": {
      "text/html": [
       "<div>\n",
       "<style scoped>\n",
       "    .dataframe tbody tr th:only-of-type {\n",
       "        vertical-align: middle;\n",
       "    }\n",
       "\n",
       "    .dataframe tbody tr th {\n",
       "        vertical-align: top;\n",
       "    }\n",
       "\n",
       "    .dataframe thead th {\n",
       "        text-align: right;\n",
       "    }\n",
       "</style>\n",
       "<table border=\"1\" class=\"dataframe\">\n",
       "  <thead>\n",
       "    <tr style=\"text-align: right;\">\n",
       "      <th></th>\n",
       "      <th>source</th>\n",
       "      <th>surface</th>\n",
       "      <th>start</th>\n",
       "      <th>cnt</th>\n",
       "      <th>repeat</th>\n",
       "    </tr>\n",
       "  </thead>\n",
       "  <tbody>\n",
       "    <tr>\n",
       "      <th>0</th>\n",
       "      <td>http://data-issa.cirad.fr/document/593761#body_text</td>\n",
       "      <td>seeds in seed</td>\n",
       "      <td>655</td>\n",
       "      <td>98</td>\n",
       "      <td>False</td>\n",
       "    </tr>\n",
       "    <tr>\n",
       "      <th>1</th>\n",
       "      <td>http://data-issa.cirad.fr/document/459218#body_text</td>\n",
       "      <td>dried in a drying</td>\n",
       "      <td>10073</td>\n",
       "      <td>37</td>\n",
       "      <td>False</td>\n",
       "    </tr>\n",
       "    <tr>\n",
       "      <th>10</th>\n",
       "      <td>http://data-issa.cirad.fr/document/569874#body_text</td>\n",
       "      <td>cells of cell</td>\n",
       "      <td>5210</td>\n",
       "      <td>30</td>\n",
       "      <td>False</td>\n",
       "    </tr>\n",
       "    <tr>\n",
       "      <th>9</th>\n",
       "      <td>http://data-issa.cirad.fr/document/575027#body_text</td>\n",
       "      <td>cells in cell</td>\n",
       "      <td>1145</td>\n",
       "      <td>30</td>\n",
       "      <td>False</td>\n",
       "    </tr>\n",
       "    <tr>\n",
       "      <th>31</th>\n",
       "      <td>http://data-issa.cirad.fr/document/413880#body_text</td>\n",
       "      <td>liquide-liquid</td>\n",
       "      <td>1962</td>\n",
       "      <td>16</td>\n",
       "      <td>False</td>\n",
       "    </tr>\n",
       "    <tr>\n",
       "      <th>86</th>\n",
       "      <td>http://data-issa.cirad.fr/document/578565#body_text</td>\n",
       "      <td>land uses using</td>\n",
       "      <td>4772</td>\n",
       "      <td>8</td>\n",
       "      <td>False</td>\n",
       "    </tr>\n",
       "  </tbody>\n",
       "</table>\n",
       "</div>"
      ],
      "text/plain": [
       "                                                 source            surface  \\\n",
       "0   http://data-issa.cirad.fr/document/593761#body_text      seeds in seed   \n",
       "1   http://data-issa.cirad.fr/document/459218#body_text  dried in a drying   \n",
       "10  http://data-issa.cirad.fr/document/569874#body_text      cells of cell   \n",
       "9   http://data-issa.cirad.fr/document/575027#body_text      cells in cell   \n",
       "31  http://data-issa.cirad.fr/document/413880#body_text     liquide-liquid   \n",
       "86  http://data-issa.cirad.fr/document/578565#body_text    land uses using   \n",
       "\n",
       "    start  cnt  repeat  \n",
       "0     655   98   False  \n",
       "1   10073   37   False  \n",
       "10   5210   30   False  \n",
       "9    1145   30   False  \n",
       "31   1962   16   False  \n",
       "86   4772    8   False  "
      ]
     },
     "execution_count": 157,
     "metadata": {},
     "output_type": "execute_result"
    }
   ],
   "source": [
    "# non repeated text\n",
    "pd.options.display.max_rows = 10\n",
    "df_multi_entities[vocab].loc[df_multi_entities[vocab].repeat==False]\\\n",
    "                        .sort_values(by=['cnt', 'surface'], ascending=False)\\\n",
    "                        "
   ]
  },
  {
   "cell_type": "code",
   "execution_count": 158,
   "metadata": {
    "colab": {
     "base_uri": "https://localhost:8080/",
     "height": 350
    },
    "executionInfo": {
     "elapsed": 911,
     "status": "ok",
     "timestamp": 1663847807648,
     "user": {
      "displayName": "Anna Bobasheva",
      "userId": "05152602834421587169"
     },
     "user_tz": -120
    },
    "id": "Fk5NlaWtAzUL",
    "outputId": "da91cab9-3b81-4cf0-c70b-3ccb53868831"
   },
   "outputs": [
    {
     "name": "stdout",
     "output_type": "stream",
     "text": [
      "(98, 6)\n"
     ]
    },
    {
     "data": {
      "text/html": [
       "<div>\n",
       "<style scoped>\n",
       "    .dataframe tbody tr th:only-of-type {\n",
       "        vertical-align: middle;\n",
       "    }\n",
       "\n",
       "    .dataframe tbody tr th {\n",
       "        vertical-align: top;\n",
       "    }\n",
       "\n",
       "    .dataframe thead th {\n",
       "        text-align: right;\n",
       "    }\n",
       "</style>\n",
       "<table border=\"1\" class=\"dataframe\">\n",
       "  <thead>\n",
       "    <tr style=\"text-align: right;\">\n",
       "      <th></th>\n",
       "      <th>source</th>\n",
       "      <th>start</th>\n",
       "      <th>surface</th>\n",
       "      <th>entityUri</th>\n",
       "      <th>entityLabel_en</th>\n",
       "      <th>entityLabel_fr</th>\n",
       "    </tr>\n",
       "  </thead>\n",
       "  <tbody>\n",
       "    <tr>\n",
       "      <th>0</th>\n",
       "      <td>http://data-issa.cirad.fr/document/593761#body_text</td>\n",
       "      <td>655</td>\n",
       "      <td>seeds in seed</td>\n",
       "      <td>http://aims.fao.org/aos/agrovoc/c_14170</td>\n",
       "      <td>seed inoculation</td>\n",
       "      <td>inoculation des semences</td>\n",
       "    </tr>\n",
       "    <tr>\n",
       "      <th>1</th>\n",
       "      <td>http://data-issa.cirad.fr/document/593761#body_text</td>\n",
       "      <td>655</td>\n",
       "      <td>seeds in seed</td>\n",
       "      <td>http://aims.fao.org/aos/agrovoc/c_330719</td>\n",
       "      <td>cultivar selection</td>\n",
       "      <td>sélection de cultivars</td>\n",
       "    </tr>\n",
       "    <tr>\n",
       "      <th>2</th>\n",
       "      <td>http://data-issa.cirad.fr/document/593761#body_text</td>\n",
       "      <td>655</td>\n",
       "      <td>seeds in seed</td>\n",
       "      <td>http://aims.fao.org/aos/agrovoc/c_330749</td>\n",
       "      <td>sowing methods</td>\n",
       "      <td>méthode d'ensemencement</td>\n",
       "    </tr>\n",
       "    <tr>\n",
       "      <th>3</th>\n",
       "      <td>http://data-issa.cirad.fr/document/593761#body_text</td>\n",
       "      <td>655</td>\n",
       "      <td>seeds in seed</td>\n",
       "      <td>http://aims.fao.org/aos/agrovoc/c_12827</td>\n",
       "      <td>niger seed</td>\n",
       "      <td>niger (plante)</td>\n",
       "    </tr>\n",
       "    <tr>\n",
       "      <th>4</th>\n",
       "      <td>http://data-issa.cirad.fr/document/593761#body_text</td>\n",
       "      <td>655</td>\n",
       "      <td>seeds in seed</td>\n",
       "      <td>http://aims.fao.org/aos/agrovoc/c_18705</td>\n",
       "      <td>castor beans</td>\n",
       "      <td>ricin</td>\n",
       "    </tr>\n",
       "    <tr>\n",
       "      <th>...</th>\n",
       "      <td>...</td>\n",
       "      <td>...</td>\n",
       "      <td>...</td>\n",
       "      <td>...</td>\n",
       "      <td>...</td>\n",
       "      <td>...</td>\n",
       "    </tr>\n",
       "    <tr>\n",
       "      <th>93</th>\n",
       "      <td>http://data-issa.cirad.fr/document/593761#body_text</td>\n",
       "      <td>655</td>\n",
       "      <td>seeds in seed</td>\n",
       "      <td>http://aims.fao.org/aos/agrovoc/c_330627</td>\n",
       "      <td>wet seeding</td>\n",
       "      <td>None</td>\n",
       "    </tr>\n",
       "    <tr>\n",
       "      <th>94</th>\n",
       "      <td>http://data-issa.cirad.fr/document/593761#body_text</td>\n",
       "      <td>655</td>\n",
       "      <td>seeds in seed</td>\n",
       "      <td>http://aims.fao.org/aos/agrovoc/c_f3019d2b</td>\n",
       "      <td>seed shattering</td>\n",
       "      <td>None</td>\n",
       "    </tr>\n",
       "    <tr>\n",
       "      <th>95</th>\n",
       "      <td>http://data-issa.cirad.fr/document/593761#body_text</td>\n",
       "      <td>655</td>\n",
       "      <td>seeds in seed</td>\n",
       "      <td>http://aims.fao.org/aos/agrovoc/c_3d8dc048</td>\n",
       "      <td>seed aging</td>\n",
       "      <td>None</td>\n",
       "    </tr>\n",
       "    <tr>\n",
       "      <th>96</th>\n",
       "      <td>http://data-issa.cirad.fr/document/593761#body_text</td>\n",
       "      <td>655</td>\n",
       "      <td>seeds in seed</td>\n",
       "      <td>http://aims.fao.org/aos/agrovoc/c_330767</td>\n",
       "      <td>sprouting of seed</td>\n",
       "      <td>None</td>\n",
       "    </tr>\n",
       "    <tr>\n",
       "      <th>97</th>\n",
       "      <td>http://data-issa.cirad.fr/document/593761#body_text</td>\n",
       "      <td>655</td>\n",
       "      <td>seeds in seed</td>\n",
       "      <td>http://aims.fao.org/aos/agrovoc/c_87b2f749</td>\n",
       "      <td>fish seed</td>\n",
       "      <td>None</td>\n",
       "    </tr>\n",
       "  </tbody>\n",
       "</table>\n",
       "<p>98 rows × 6 columns</p>\n",
       "</div>"
      ],
      "text/plain": [
       "                                                 source start        surface  \\\n",
       "0   http://data-issa.cirad.fr/document/593761#body_text   655  seeds in seed   \n",
       "1   http://data-issa.cirad.fr/document/593761#body_text   655  seeds in seed   \n",
       "2   http://data-issa.cirad.fr/document/593761#body_text   655  seeds in seed   \n",
       "3   http://data-issa.cirad.fr/document/593761#body_text   655  seeds in seed   \n",
       "4   http://data-issa.cirad.fr/document/593761#body_text   655  seeds in seed   \n",
       "..                                                  ...   ...            ...   \n",
       "93  http://data-issa.cirad.fr/document/593761#body_text   655  seeds in seed   \n",
       "94  http://data-issa.cirad.fr/document/593761#body_text   655  seeds in seed   \n",
       "95  http://data-issa.cirad.fr/document/593761#body_text   655  seeds in seed   \n",
       "96  http://data-issa.cirad.fr/document/593761#body_text   655  seeds in seed   \n",
       "97  http://data-issa.cirad.fr/document/593761#body_text   655  seeds in seed   \n",
       "\n",
       "                                     entityUri      entityLabel_en  \\\n",
       "0      http://aims.fao.org/aos/agrovoc/c_14170    seed inoculation   \n",
       "1     http://aims.fao.org/aos/agrovoc/c_330719  cultivar selection   \n",
       "2     http://aims.fao.org/aos/agrovoc/c_330749      sowing methods   \n",
       "3      http://aims.fao.org/aos/agrovoc/c_12827          niger seed   \n",
       "4      http://aims.fao.org/aos/agrovoc/c_18705        castor beans   \n",
       "..                                         ...                 ...   \n",
       "93    http://aims.fao.org/aos/agrovoc/c_330627         wet seeding   \n",
       "94  http://aims.fao.org/aos/agrovoc/c_f3019d2b     seed shattering   \n",
       "95  http://aims.fao.org/aos/agrovoc/c_3d8dc048          seed aging   \n",
       "96    http://aims.fao.org/aos/agrovoc/c_330767   sprouting of seed   \n",
       "97  http://aims.fao.org/aos/agrovoc/c_87b2f749           fish seed   \n",
       "\n",
       "              entityLabel_fr  \n",
       "0   inoculation des semences  \n",
       "1     sélection de cultivars  \n",
       "2    méthode d'ensemencement  \n",
       "3             niger (plante)  \n",
       "4                      ricin  \n",
       "..                       ...  \n",
       "93                      None  \n",
       "94                      None  \n",
       "95                      None  \n",
       "96                      None  \n",
       "97                      None  \n",
       "\n",
       "[98 rows x 6 columns]"
      ]
     },
     "execution_count": 158,
     "metadata": {},
     "output_type": "execute_result"
    }
   ],
   "source": [
    "# Complementary query: get all the entities for a specific text\n",
    "\n",
    "entities_for_surface_query_templ = ''' \n",
    "PREFIX rdf: <http://www.w3.org/1999/02/22-rdf-syntax-ns#>\n",
    "PREFIX rdfs: <http://www.w3.org/2000/01/rdf-schema#>\n",
    "PREFIX oa:     <http://www.w3.org/ns/oa#>\n",
    "PREFIX skos: <http://www.w3.org/2004/02/skos/core#>\n",
    "PREFIX skosxl: <http://www.w3.org/2008/05/skos-xl#>\n",
    "PREFIX issa:   <http://data-issa.cirad.fr/>\n",
    "PREFIX prov: <http://www.w3.org/ns/prov#>\n",
    "PREFIX dct:    <http://purl.org/dc/terms/>\n",
    "PREFIX schema: <http://schema.org/>\n",
    "PREFIX gn:     <http://www.geonames.org/ontology#>\n",
    "PREFIX issapr:  <http://data-issa.cirad.fr/property/> \n",
    "\n",
    "SELECT ?source ?start ?surface ?entityUri ?entityLabel_en ?entityLabel_fr\n",
    "WHERE \n",
    "{\n",
    "    VALUES (?source) {(<%s>)}\n",
    "    VALUES (?start) {(%d)}\n",
    "    \n",
    "    ?entity a prov:Entity;\n",
    "            oa:hasBody ?entityUri;       \n",
    "            oa:hasTarget/oa:hasSelector ?selector;\n",
    "            oa:hasTarget/oa:hasSource ?source;\n",
    "            prov:wasAttributedTo ?annotator.\n",
    "    FILTER (?annotator = %s)\n",
    "\n",
    "    ?selector oa:exact ?surface;\n",
    "              oa:start ?start.\n",
    "\n",
    "    OPTIONAL {\n",
    "        ?entityUri rdfs:label|skos:prefLabel|(skosxl:prefLabel/skosxl:literalForm)|dct:title|schema:name|gn:officialName|gn:alternateName|gn:name|gn:shortName ?entityLabel_en.\n",
    "        FILTER langMatches(lang(?entityLabel_en), \"en\" )  }\n",
    "\n",
    "\tOPTIONAL {\n",
    "\t    ?entityUri rdfs:label|skos:prefLabel|(skosxl:prefLabel/skosxl:literalForm)|dct:title|schema:name|gn:officialName|gn:alternateName|gn:name|gn:shortName ?entityLabel_fr.\n",
    "        FILTER langMatches(lang(?entityLabel_fr), \"fr\" ) }\n",
    "}\n",
    "'''\n",
    "\n",
    "# copy/paste the values for this query here: \n",
    "source = 'http://data-issa.cirad.fr/document/593761#body_text'\n",
    "start  = 655\n",
    "\n",
    "df_nes = sparql_service_to_dataframe(issa_agritrop_endpoint,  \n",
    "                                    entities_for_surface_query_templ %  (source, start, annotators[vocab]) )\n",
    "print(df_nes.shape)\n",
    "df_nes"
   ]
  },
  {
   "cell_type": "markdown",
   "metadata": {
    "id": "cBVHXaNzAzUL"
   },
   "source": [
    "OBSERVATIONS: \n",
    "- AGROVOC: The number of overlaping entities has been reduced by 10 folds by the new vesrion of pyclinrec. However, the problem with multuple (> 3) entities for the surfaces with repetitive words still persist although to a lesser scale. \n",
    "- GEONAMES: no overapping.\n",
    "- WIKIDATA: no overapping.\n",
    "- DBPEDIA: no overalpping."
   ]
  },
  {
   "cell_type": "markdown",
   "metadata": {
    "id": "U1MQm_esAzUM"
   },
   "source": [
    "#### 2 or 3 entities for one surface form \n",
    "vast majority of them does not have repeated text"
   ]
  },
  {
   "cell_type": "code",
   "execution_count": 147,
   "metadata": {
    "colab": {
     "base_uri": "https://localhost:8080/"
    },
    "executionInfo": {
     "elapsed": 46575,
     "status": "ok",
     "timestamp": 1663847854688,
     "user": {
      "displayName": "Anna Bobasheva",
      "userId": "05152602834421587169"
     },
     "user_tz": -120
    },
    "id": "6iwvgfRtAzUM",
    "outputId": "09235b0c-0a8f-485b-ac4e-b79b179f55ba"
   },
   "outputs": [
    {
     "name": "stdout",
     "output_type": "stream",
     "text": [
      "issa:Pyclinrec (23984, 4)\n"
     ]
    }
   ],
   "source": [
    "df_few_entities = df_few_entities if 'df_few_entities' in locals() else {}\n",
    "\n",
    "df_few_entities[vocab] = sparql_service_to_dataframe(issa_agritrop_endpoint,  \n",
    "                                                     multiple_entities_query_templ %  (annotators[vocab], '< 4') )\n",
    "\n",
    "df_few_entities[vocab] = df_few_entities[vocab].astype({'cnt': 'int'})\n",
    "print(annotators[vocab] , df_few_entities[vocab].shape)"
   ]
  },
  {
   "cell_type": "code",
   "execution_count": 159,
   "metadata": {},
   "outputs": [
    {
     "data": {
      "text/html": [
       "<div>\n",
       "<style scoped>\n",
       "    .dataframe tbody tr th:only-of-type {\n",
       "        vertical-align: middle;\n",
       "    }\n",
       "\n",
       "    .dataframe tbody tr th {\n",
       "        vertical-align: top;\n",
       "    }\n",
       "\n",
       "    .dataframe thead th {\n",
       "        text-align: right;\n",
       "    }\n",
       "</style>\n",
       "<table border=\"1\" class=\"dataframe\">\n",
       "  <thead>\n",
       "    <tr style=\"text-align: right;\">\n",
       "      <th></th>\n",
       "      <th>source</th>\n",
       "      <th>surface</th>\n",
       "      <th>start</th>\n",
       "      <th>cnt</th>\n",
       "    </tr>\n",
       "  </thead>\n",
       "  <tbody>\n",
       "    <tr>\n",
       "      <th>1007</th>\n",
       "      <td>http://data-issa.cirad.fr/document/568930#title</td>\n",
       "      <td>soils polluted</td>\n",
       "      <td>51</td>\n",
       "      <td>3</td>\n",
       "    </tr>\n",
       "    <tr>\n",
       "      <th>529</th>\n",
       "      <td>http://data-issa.cirad.fr/document/591757#abstract</td>\n",
       "      <td>soil salinization</td>\n",
       "      <td>4300</td>\n",
       "      <td>3</td>\n",
       "    </tr>\n",
       "    <tr>\n",
       "      <th>762</th>\n",
       "      <td>http://data-issa.cirad.fr/document/551785#abstract</td>\n",
       "      <td>soil salinization</td>\n",
       "      <td>107</td>\n",
       "      <td>3</td>\n",
       "    </tr>\n",
       "    <tr>\n",
       "      <th>1441</th>\n",
       "      <td>http://data-issa.cirad.fr/document/561446#abstract</td>\n",
       "      <td>soil salinization</td>\n",
       "      <td>731</td>\n",
       "      <td>3</td>\n",
       "    </tr>\n",
       "    <tr>\n",
       "      <th>1901</th>\n",
       "      <td>http://data-issa.cirad.fr/document/597369#body_text</td>\n",
       "      <td>soil salinization</td>\n",
       "      <td>15680</td>\n",
       "      <td>3</td>\n",
       "    </tr>\n",
       "    <tr>\n",
       "      <th>...</th>\n",
       "      <td>...</td>\n",
       "      <td>...</td>\n",
       "      <td>...</td>\n",
       "      <td>...</td>\n",
       "    </tr>\n",
       "    <tr>\n",
       "      <th>18408</th>\n",
       "      <td>http://data-issa.cirad.fr/document/455751#body_text</td>\n",
       "      <td>Acide ascorbique</td>\n",
       "      <td>5793</td>\n",
       "      <td>2</td>\n",
       "    </tr>\n",
       "    <tr>\n",
       "      <th>18513</th>\n",
       "      <td>http://data-issa.cirad.fr/document/455752#body_text</td>\n",
       "      <td>Acide ascorbique</td>\n",
       "      <td>58</td>\n",
       "      <td>2</td>\n",
       "    </tr>\n",
       "    <tr>\n",
       "      <th>19554</th>\n",
       "      <td>http://data-issa.cirad.fr/document/421912#body_text</td>\n",
       "      <td>Acide ascorbique</td>\n",
       "      <td>4375</td>\n",
       "      <td>2</td>\n",
       "    </tr>\n",
       "    <tr>\n",
       "      <th>20035</th>\n",
       "      <td>http://data-issa.cirad.fr/document/560487#abstract</td>\n",
       "      <td>Acid soils</td>\n",
       "      <td>12</td>\n",
       "      <td>2</td>\n",
       "    </tr>\n",
       "    <tr>\n",
       "      <th>23399</th>\n",
       "      <td>http://data-issa.cirad.fr/document/580154#body_text</td>\n",
       "      <td>ANIMAL PRODUCT</td>\n",
       "      <td>198557</td>\n",
       "      <td>2</td>\n",
       "    </tr>\n",
       "  </tbody>\n",
       "</table>\n",
       "<p>23984 rows × 4 columns</p>\n",
       "</div>"
      ],
      "text/plain": [
       "                                                    source            surface  \\\n",
       "1007       http://data-issa.cirad.fr/document/568930#title     soils polluted   \n",
       "529     http://data-issa.cirad.fr/document/591757#abstract  soil salinization   \n",
       "762     http://data-issa.cirad.fr/document/551785#abstract  soil salinization   \n",
       "1441    http://data-issa.cirad.fr/document/561446#abstract  soil salinization   \n",
       "1901   http://data-issa.cirad.fr/document/597369#body_text  soil salinization   \n",
       "...                                                    ...                ...   \n",
       "18408  http://data-issa.cirad.fr/document/455751#body_text   Acide ascorbique   \n",
       "18513  http://data-issa.cirad.fr/document/455752#body_text   Acide ascorbique   \n",
       "19554  http://data-issa.cirad.fr/document/421912#body_text   Acide ascorbique   \n",
       "20035   http://data-issa.cirad.fr/document/560487#abstract         Acid soils   \n",
       "23399  http://data-issa.cirad.fr/document/580154#body_text     ANIMAL PRODUCT   \n",
       "\n",
       "        start  cnt  \n",
       "1007       51    3  \n",
       "529      4300    3  \n",
       "762       107    3  \n",
       "1441      731    3  \n",
       "1901    15680    3  \n",
       "...       ...  ...  \n",
       "18408    5793    2  \n",
       "18513      58    2  \n",
       "19554    4375    2  \n",
       "20035      12    2  \n",
       "23399  198557    2  \n",
       "\n",
       "[23984 rows x 4 columns]"
      ]
     },
     "execution_count": 159,
     "metadata": {},
     "output_type": "execute_result"
    }
   ],
   "source": [
    "df_few_entities[vocab].sort_values(by=['cnt', 'surface'], ascending=False) "
   ]
  },
  {
   "cell_type": "code",
   "execution_count": 161,
   "metadata": {},
   "outputs": [
    {
     "data": {
      "text/html": [
       "<div>\n",
       "<style scoped>\n",
       "    .dataframe tbody tr th:only-of-type {\n",
       "        vertical-align: middle;\n",
       "    }\n",
       "\n",
       "    .dataframe tbody tr th {\n",
       "        vertical-align: top;\n",
       "    }\n",
       "\n",
       "    .dataframe thead th {\n",
       "        text-align: right;\n",
       "    }\n",
       "</style>\n",
       "<table border=\"1\" class=\"dataframe\">\n",
       "  <thead>\n",
       "    <tr style=\"text-align: right;\">\n",
       "      <th></th>\n",
       "      <th>source</th>\n",
       "      <th>surface</th>\n",
       "      <th>start</th>\n",
       "      <th>cnt</th>\n",
       "      <th>repeat</th>\n",
       "    </tr>\n",
       "  </thead>\n",
       "  <tbody>\n",
       "    <tr>\n",
       "      <th>2312</th>\n",
       "      <td>http://data-issa.cirad.fr/document/484053#body_text</td>\n",
       "      <td>monachus monachus</td>\n",
       "      <td>5550</td>\n",
       "      <td>3</td>\n",
       "      <td>True</td>\n",
       "    </tr>\n",
       "    <tr>\n",
       "      <th>5122</th>\n",
       "      <td>http://data-issa.cirad.fr/document/264904#body_text</td>\n",
       "      <td>development stage by stage</td>\n",
       "      <td>340</td>\n",
       "      <td>3</td>\n",
       "      <td>True</td>\n",
       "    </tr>\n",
       "    <tr>\n",
       "      <th>1237</th>\n",
       "      <td>http://data-issa.cirad.fr/document/555037#abstract</td>\n",
       "      <td>Sud-est est</td>\n",
       "      <td>10</td>\n",
       "      <td>3</td>\n",
       "      <td>True</td>\n",
       "    </tr>\n",
       "    <tr>\n",
       "      <th>2010</th>\n",
       "      <td>http://data-issa.cirad.fr/document/444556#body_text</td>\n",
       "      <td>Sud-Sud-Est</td>\n",
       "      <td>8064</td>\n",
       "      <td>3</td>\n",
       "      <td>True</td>\n",
       "    </tr>\n",
       "    <tr>\n",
       "      <th>767</th>\n",
       "      <td>http://data-issa.cirad.fr/document/549787#abstract</td>\n",
       "      <td>Sud-Est est</td>\n",
       "      <td>69</td>\n",
       "      <td>3</td>\n",
       "      <td>True</td>\n",
       "    </tr>\n",
       "    <tr>\n",
       "      <th>...</th>\n",
       "      <td>...</td>\n",
       "      <td>...</td>\n",
       "      <td>...</td>\n",
       "      <td>...</td>\n",
       "      <td>...</td>\n",
       "    </tr>\n",
       "    <tr>\n",
       "      <th>23792</th>\n",
       "      <td>http://data-issa.cirad.fr/document/488765#body_text</td>\n",
       "      <td>cas par cas</td>\n",
       "      <td>40812</td>\n",
       "      <td>2</td>\n",
       "      <td>True</td>\n",
       "    </tr>\n",
       "    <tr>\n",
       "      <th>13654</th>\n",
       "      <td>http://data-issa.cirad.fr/document/599562#body_text</td>\n",
       "      <td>Sprattus sprattus</td>\n",
       "      <td>612</td>\n",
       "      <td>2</td>\n",
       "      <td>True</td>\n",
       "    </tr>\n",
       "    <tr>\n",
       "      <th>19223</th>\n",
       "      <td>http://data-issa.cirad.fr/document/420881#body_text</td>\n",
       "      <td>Nord-Est est</td>\n",
       "      <td>69719</td>\n",
       "      <td>2</td>\n",
       "      <td>True</td>\n",
       "    </tr>\n",
       "    <tr>\n",
       "      <th>12419</th>\n",
       "      <td>http://data-issa.cirad.fr/document/601907#body_text</td>\n",
       "      <td>Melolontha melolontha</td>\n",
       "      <td>7684</td>\n",
       "      <td>2</td>\n",
       "      <td>True</td>\n",
       "    </tr>\n",
       "    <tr>\n",
       "      <th>20169</th>\n",
       "      <td>http://data-issa.cirad.fr/document/406767#body_text</td>\n",
       "      <td>Cas par cas</td>\n",
       "      <td>2440</td>\n",
       "      <td>2</td>\n",
       "      <td>True</td>\n",
       "    </tr>\n",
       "  </tbody>\n",
       "</table>\n",
       "<p>66 rows × 5 columns</p>\n",
       "</div>"
      ],
      "text/plain": [
       "                                                    source  \\\n",
       "2312   http://data-issa.cirad.fr/document/484053#body_text   \n",
       "5122   http://data-issa.cirad.fr/document/264904#body_text   \n",
       "1237    http://data-issa.cirad.fr/document/555037#abstract   \n",
       "2010   http://data-issa.cirad.fr/document/444556#body_text   \n",
       "767     http://data-issa.cirad.fr/document/549787#abstract   \n",
       "...                                                    ...   \n",
       "23792  http://data-issa.cirad.fr/document/488765#body_text   \n",
       "13654  http://data-issa.cirad.fr/document/599562#body_text   \n",
       "19223  http://data-issa.cirad.fr/document/420881#body_text   \n",
       "12419  http://data-issa.cirad.fr/document/601907#body_text   \n",
       "20169  http://data-issa.cirad.fr/document/406767#body_text   \n",
       "\n",
       "                          surface  start  cnt  repeat  \n",
       "2312            monachus monachus   5550    3    True  \n",
       "5122   development stage by stage    340    3    True  \n",
       "1237                  Sud-est est     10    3    True  \n",
       "2010                  Sud-Sud-Est   8064    3    True  \n",
       "767                   Sud-Est est     69    3    True  \n",
       "...                           ...    ...  ...     ...  \n",
       "23792                 cas par cas  40812    2    True  \n",
       "13654           Sprattus sprattus    612    2    True  \n",
       "19223                Nord-Est est  69719    2    True  \n",
       "12419       Melolontha melolontha   7684    2    True  \n",
       "20169                 Cas par cas   2440    2    True  \n",
       "\n",
       "[66 rows x 5 columns]"
      ]
     },
     "execution_count": 161,
     "metadata": {},
     "output_type": "execute_result"
    }
   ],
   "source": [
    "df_few_entities[vocab]['repeat']  = df_few_entities[vocab].surface.apply(detect_repeat)\n",
    "df_few_entities[vocab].loc[ df_few_entities[vocab].repeat ] \\\n",
    "                              .sort_values(by=['cnt', 'surface'], ascending=False)"
   ]
  },
  {
   "cell_type": "code",
   "execution_count": 162,
   "metadata": {},
   "outputs": [
    {
     "data": {
      "text/html": [
       "<div>\n",
       "<style scoped>\n",
       "    .dataframe tbody tr th:only-of-type {\n",
       "        vertical-align: middle;\n",
       "    }\n",
       "\n",
       "    .dataframe tbody tr th {\n",
       "        vertical-align: top;\n",
       "    }\n",
       "\n",
       "    .dataframe thead th {\n",
       "        text-align: right;\n",
       "    }\n",
       "</style>\n",
       "<table border=\"1\" class=\"dataframe\">\n",
       "  <thead>\n",
       "    <tr style=\"text-align: right;\">\n",
       "      <th></th>\n",
       "      <th>source</th>\n",
       "      <th>surface</th>\n",
       "      <th>start</th>\n",
       "      <th>cnt</th>\n",
       "      <th>repeat</th>\n",
       "    </tr>\n",
       "  </thead>\n",
       "  <tbody>\n",
       "    <tr>\n",
       "      <th>1007</th>\n",
       "      <td>http://data-issa.cirad.fr/document/568930#title</td>\n",
       "      <td>soils polluted</td>\n",
       "      <td>51</td>\n",
       "      <td>3</td>\n",
       "      <td>False</td>\n",
       "    </tr>\n",
       "    <tr>\n",
       "      <th>529</th>\n",
       "      <td>http://data-issa.cirad.fr/document/591757#abstract</td>\n",
       "      <td>soil salinization</td>\n",
       "      <td>4300</td>\n",
       "      <td>3</td>\n",
       "      <td>False</td>\n",
       "    </tr>\n",
       "    <tr>\n",
       "      <th>762</th>\n",
       "      <td>http://data-issa.cirad.fr/document/551785#abstract</td>\n",
       "      <td>soil salinization</td>\n",
       "      <td>107</td>\n",
       "      <td>3</td>\n",
       "      <td>False</td>\n",
       "    </tr>\n",
       "    <tr>\n",
       "      <th>1441</th>\n",
       "      <td>http://data-issa.cirad.fr/document/561446#abstract</td>\n",
       "      <td>soil salinization</td>\n",
       "      <td>731</td>\n",
       "      <td>3</td>\n",
       "      <td>False</td>\n",
       "    </tr>\n",
       "    <tr>\n",
       "      <th>1901</th>\n",
       "      <td>http://data-issa.cirad.fr/document/597369#body_text</td>\n",
       "      <td>soil salinization</td>\n",
       "      <td>15680</td>\n",
       "      <td>3</td>\n",
       "      <td>False</td>\n",
       "    </tr>\n",
       "    <tr>\n",
       "      <th>...</th>\n",
       "      <td>...</td>\n",
       "      <td>...</td>\n",
       "      <td>...</td>\n",
       "      <td>...</td>\n",
       "      <td>...</td>\n",
       "    </tr>\n",
       "    <tr>\n",
       "      <th>18408</th>\n",
       "      <td>http://data-issa.cirad.fr/document/455751#body_text</td>\n",
       "      <td>Acide ascorbique</td>\n",
       "      <td>5793</td>\n",
       "      <td>2</td>\n",
       "      <td>False</td>\n",
       "    </tr>\n",
       "    <tr>\n",
       "      <th>18513</th>\n",
       "      <td>http://data-issa.cirad.fr/document/455752#body_text</td>\n",
       "      <td>Acide ascorbique</td>\n",
       "      <td>58</td>\n",
       "      <td>2</td>\n",
       "      <td>False</td>\n",
       "    </tr>\n",
       "    <tr>\n",
       "      <th>19554</th>\n",
       "      <td>http://data-issa.cirad.fr/document/421912#body_text</td>\n",
       "      <td>Acide ascorbique</td>\n",
       "      <td>4375</td>\n",
       "      <td>2</td>\n",
       "      <td>False</td>\n",
       "    </tr>\n",
       "    <tr>\n",
       "      <th>20035</th>\n",
       "      <td>http://data-issa.cirad.fr/document/560487#abstract</td>\n",
       "      <td>Acid soils</td>\n",
       "      <td>12</td>\n",
       "      <td>2</td>\n",
       "      <td>False</td>\n",
       "    </tr>\n",
       "    <tr>\n",
       "      <th>23399</th>\n",
       "      <td>http://data-issa.cirad.fr/document/580154#body_text</td>\n",
       "      <td>ANIMAL PRODUCT</td>\n",
       "      <td>198557</td>\n",
       "      <td>2</td>\n",
       "      <td>False</td>\n",
       "    </tr>\n",
       "  </tbody>\n",
       "</table>\n",
       "<p>23918 rows × 5 columns</p>\n",
       "</div>"
      ],
      "text/plain": [
       "                                                    source            surface  \\\n",
       "1007       http://data-issa.cirad.fr/document/568930#title     soils polluted   \n",
       "529     http://data-issa.cirad.fr/document/591757#abstract  soil salinization   \n",
       "762     http://data-issa.cirad.fr/document/551785#abstract  soil salinization   \n",
       "1441    http://data-issa.cirad.fr/document/561446#abstract  soil salinization   \n",
       "1901   http://data-issa.cirad.fr/document/597369#body_text  soil salinization   \n",
       "...                                                    ...                ...   \n",
       "18408  http://data-issa.cirad.fr/document/455751#body_text   Acide ascorbique   \n",
       "18513  http://data-issa.cirad.fr/document/455752#body_text   Acide ascorbique   \n",
       "19554  http://data-issa.cirad.fr/document/421912#body_text   Acide ascorbique   \n",
       "20035   http://data-issa.cirad.fr/document/560487#abstract         Acid soils   \n",
       "23399  http://data-issa.cirad.fr/document/580154#body_text     ANIMAL PRODUCT   \n",
       "\n",
       "        start  cnt  repeat  \n",
       "1007       51    3   False  \n",
       "529      4300    3   False  \n",
       "762       107    3   False  \n",
       "1441      731    3   False  \n",
       "1901    15680    3   False  \n",
       "...       ...  ...     ...  \n",
       "18408    5793    2   False  \n",
       "18513      58    2   False  \n",
       "19554    4375    2   False  \n",
       "20035      12    2   False  \n",
       "23399  198557    2   False  \n",
       "\n",
       "[23918 rows x 5 columns]"
      ]
     },
     "execution_count": 162,
     "metadata": {},
     "output_type": "execute_result"
    }
   ],
   "source": [
    "df_few_entities[vocab].loc[ df_few_entities[vocab].repeat==False ] \\\n",
    "                              .sort_values(by=['cnt', 'surface'], ascending=False)"
   ]
  },
  {
   "cell_type": "markdown",
   "metadata": {},
   "source": [
    "OBSERVATIONS:\n",
    "- AGROVOC: it seems that a seamingly large number but in fact a small percentage (23984/3505441, 0.7%) of surface forms are annotated with 2 or 3 entities."
   ]
  },
  {
   "cell_type": "code",
   "execution_count": 163,
   "metadata": {
    "executionInfo": {
     "elapsed": 5,
     "status": "ok",
     "timestamp": 1663847808117,
     "user": {
      "displayName": "Anna Bobasheva",
      "userId": "05152602834421587169"
     },
     "user_tz": -120
    },
    "id": "rxQblicWAzUM"
   },
   "outputs": [],
   "source": [
    "multiple_surface_entities_templ = '''\n",
    "PREFIX rdf: <http://www.w3.org/1999/02/22-rdf-syntax-ns#>\n",
    "PREFIX rdfs: <http://www.w3.org/2000/01/rdf-schema#>\n",
    "PREFIX oa:     <http://www.w3.org/ns/oa#>\n",
    "PREFIX skos: <http://www.w3.org/2004/02/skos/core#>\n",
    "PREFIX skosxl: <http://www.w3.org/2008/05/skos-xl#>\n",
    "PREFIX issa:   <http://data-issa.cirad.fr/>\n",
    "PREFIX prov: <http://www.w3.org/ns/prov#>\n",
    "PREFIX dct:    <http://purl.org/dc/terms/>\n",
    "PREFIX schema: <http://schema.org/>\n",
    "PREFIX gn:     <http://www.geonames.org/ontology#>\n",
    "\n",
    "\n",
    "SELECT ?surface ?entities  (count(?source) as ?surface_cnt) \n",
    "WHERE {\n",
    "  { SELECT ?source ?surface ?start \n",
    "          (count(?entityUri) as ?cnt)\n",
    "          (group_concat(?entityUri; separator=\", \") as ?entities) \n",
    "    WHERE {\n",
    "          ?entity a prov:Entity;\n",
    "                  oa:hasBody ?entityUri;       \n",
    "                  oa:hasTarget/oa:hasSelector ?selector;\n",
    "                  oa:hasTarget/oa:hasSource ?source;\n",
    "                  prov:wasAttributedTo ?annotator.\n",
    "          FILTER (?annotator = %s) # issa:EntityFishing | issa:DBPediaSpotlight | issa:GeographicEntityExtractor | issa:Pyclinrec\n",
    "\n",
    "          ?selector oa:exact ?surface;\n",
    "                    oa:start ?start.\n",
    "\n",
    "    } \n",
    "    GROUP BY ?source ?surface ?start ?end\n",
    "    HAVING ((count(?entityUri) %s) && (count(?entityUri) > 1) )\n",
    "    }\n",
    "\n",
    "}\n",
    "group by ?surface ?entities\n",
    "#order by desc(?cnt)\n",
    "#limit 100\n",
    "'''"
   ]
  },
  {
   "cell_type": "code",
   "execution_count": 181,
   "metadata": {
    "executionInfo": {
     "elapsed": 42557,
     "status": "ok",
     "timestamp": 1663847897235,
     "user": {
      "displayName": "Anna Bobasheva",
      "userId": "05152602834421587169"
     },
     "user_tz": -120
    },
    "id": "qhLDmnIrAzUM"
   },
   "outputs": [],
   "source": [
    "# Complementary query because adding the label fetching in the main query makes its execution too long\n",
    "labels_for_uris_query_templ = '''\n",
    "PREFIX rdf: <http://www.w3.org/1999/02/22-rdf-syntax-ns#>\n",
    "PREFIX rdfs: <http://www.w3.org/2000/01/rdf-schema#>\n",
    "PREFIX oa:     <http://www.w3.org/ns/oa#>\n",
    "PREFIX skos: <http://www.w3.org/2004/02/skos/core#>\n",
    "PREFIX skosxl: <http://www.w3.org/2008/05/skos-xl#>\n",
    "PREFIX issa:   <http://data-issa.cirad.fr/>\n",
    "PREFIX prov: <http://www.w3.org/ns/prov#>\n",
    "PREFIX dct:    <http://purl.org/dc/terms/>\n",
    "PREFIX schema: <http://schema.org/>\n",
    "PREFIX gn:     <http://www.geonames.org/ontology#>\n",
    "\n",
    "SELECT *\n",
    "WHERE {\n",
    "\n",
    "    VALUES(?entityUri) { %s }\n",
    "\n",
    "    OPTIONAL {\n",
    "        ?entityUri rdfs:label|skos:prefLabel|(skosxl:prefLabel/skosxl:literalForm)|dct:title|schema:name|gn:officialName|gn:alternateName|gn:name|gn:shortName ?entityLabel_en.\n",
    "        FILTER langMatches(lang(?entityLabel_en), \"en\" )  }\n",
    "\n",
    "\tOPTIONAL {\n",
    "\t    ?entityUri rdfs:label|skos:prefLabel|(skosxl:prefLabel/skosxl:literalForm)|dct:title|schema:name|gn:officialName|gn:alternateName|gn:name|gn:shortName ?entityLabel_fr.\n",
    "        FILTER langMatches(lang(?entityLabel_fr), \"fr\" ) }\n",
    "\n",
    "}\n",
    "\n",
    "'''\n",
    "def decorate_uris_multi(val):\n",
    "    uris = val.split(', ')\n",
    "    uris_d = ['(<{}>)'.format(v) for v in uris]\n",
    "\n",
    "    return ' '.join(uris_d)\n",
    "\n",
    "def fetch_entity_labels(entityUris):\n",
    "    return sparql_service_to_dataframe(issa_agritrop_endpoint,  \n",
    "                                        labels_for_uris_query_templ % decorate_uris_multi(entityUris)  )\n",
    "\n",
    "def entity_labels(entityUris):\n",
    "    df_lbls = fetch_entity_labels(entityUris)\n",
    "    df_lbls.fillna('', inplace=True)\n",
    "    return [', '.join(df_lbls.entityLabel_en) ,  ', '.join(df_lbls.entityLabel_fr)]\n"
   ]
  },
  {
   "cell_type": "code",
   "execution_count": 176,
   "metadata": {},
   "outputs": [
    {
     "name": "stdout",
     "output_type": "stream",
     "text": [
      "issa:Pyclinrec (1599, 3)\n"
     ]
    }
   ],
   "source": [
    "#df_multi_entities_3 = df_multi_entities_3 if 'df_multi_entities_3' in locals() else {}\n",
    "\n",
    "#df_multi_entities_3[vocab] = sparql_service_to_dataframe(issa_agritrop_endpoint,  \n",
    "#                                                     multiple_surface_entities_templ %  (annotators[vocab], '< 4') )\n",
    "\n",
    "df_multi_entities_3[vocab] = df_multi_entities_3[vocab].astype({'surface_cnt': 'int'})\n",
    "print(annotators[vocab] , df_multi_entities_3[vocab].shape)"
   ]
  },
  {
   "cell_type": "code",
   "execution_count": 182,
   "metadata": {},
   "outputs": [],
   "source": [
    "s_lbls = df_multi_entities_3[vocab].entities.apply(entity_labels)\n",
    "df_multi_entities_3[vocab]['labels_en']=s_lbls.apply(lambda x: x[0])\n",
    "df_multi_entities_3[vocab]['labels_fr']=s_lbls.apply(lambda x: x[1])"
   ]
  },
  {
   "cell_type": "code",
   "execution_count": 189,
   "metadata": {
    "colab": {
     "base_uri": "https://localhost:8080/",
     "height": 1176
    },
    "executionInfo": {
     "elapsed": 237,
     "status": "ok",
     "timestamp": 1663848140368,
     "user": {
      "displayName": "Anna Bobasheva",
      "userId": "05152602834421587169"
     },
     "user_tz": -120
    },
    "id": "Ku1Eyz2EAzUM",
    "outputId": "07055e51-84f5-46c6-8540-01ad8542cae8"
   },
   "outputs": [
    {
     "data": {
      "text/html": [
       "<div>\n",
       "<style scoped>\n",
       "    .dataframe tbody tr th:only-of-type {\n",
       "        vertical-align: middle;\n",
       "    }\n",
       "\n",
       "    .dataframe tbody tr th {\n",
       "        vertical-align: top;\n",
       "    }\n",
       "\n",
       "    .dataframe thead th {\n",
       "        text-align: right;\n",
       "    }\n",
       "</style>\n",
       "<table border=\"1\" class=\"dataframe\">\n",
       "  <thead>\n",
       "    <tr style=\"text-align: right;\">\n",
       "      <th></th>\n",
       "      <th></th>\n",
       "      <th>surface</th>\n",
       "      <th>surface_cnt</th>\n",
       "      <th>labels_en</th>\n",
       "      <th>labels_fr</th>\n",
       "    </tr>\n",
       "    <tr>\n",
       "      <th>entities</th>\n",
       "      <th></th>\n",
       "      <th></th>\n",
       "      <th></th>\n",
       "      <th></th>\n",
       "      <th></th>\n",
       "    </tr>\n",
       "  </thead>\n",
       "  <tbody>\n",
       "    <tr>\n",
       "      <th>http://aims.fao.org/aos/agrovoc/c_2509, http://aims.fao.org/aos/agrovoc/c_5330, http://aims.fao.org/aos/agrovoc/c_5514</th>\n",
       "      <th>165</th>\n",
       "      <td>oil palm</td>\n",
       "      <td>2556</td>\n",
       "      <td>palm oils, oil palms, Elaeis guineensis</td>\n",
       "      <td>huile de palme, palmier oléifère, Elaeis guineensis</td>\n",
       "    </tr>\n",
       "    <tr>\n",
       "      <th>http://aims.fao.org/aos/agrovoc/c_14343, http://aims.fao.org/aos/agrovoc/c_2809</th>\n",
       "      <th>970</th>\n",
       "      <td>exploitations agricoles</td>\n",
       "      <td>871</td>\n",
       "      <td>smallholders, farms</td>\n",
       "      <td>exploitant agricole, exploitation agricole</td>\n",
       "    </tr>\n",
       "    <tr>\n",
       "      <th>http://aims.fao.org/aos/agrovoc/c_2509, http://aims.fao.org/aos/agrovoc/c_5330, http://aims.fao.org/aos/agrovoc/c_5514</th>\n",
       "      <th>1449</th>\n",
       "      <td>palm oil</td>\n",
       "      <td>797</td>\n",
       "      <td>palm oils, oil palms, Elaeis guineensis</td>\n",
       "      <td>huile de palme, palmier oléifère, Elaeis guineensis</td>\n",
       "    </tr>\n",
       "    <tr>\n",
       "      <th>http://aims.fao.org/aos/agrovoc/c_2221, http://aims.fao.org/aos/agrovoc/c_2222</th>\n",
       "      <th>1292</th>\n",
       "      <td>developing countries</td>\n",
       "      <td>715</td>\n",
       "      <td>developed countries, developing countries</td>\n",
       "      <td>pays développé, pays en développement</td>\n",
       "    </tr>\n",
       "    <tr>\n",
       "      <th rowspan=\"3\" valign=\"top\">http://aims.fao.org/aos/agrovoc/c_2ac7c9e1, http://aims.fao.org/aos/agrovoc/c_8678, http://aims.fao.org/aos/agrovoc/c_9fe82378</th>\n",
       "      <th>1291</th>\n",
       "      <td>agricultural production</td>\n",
       "      <td>673</td>\n",
       "      <td>agricultural products, agricultural productivity, agricultural production</td>\n",
       "      <td>produit agricole, productivité agricole, production agricole</td>\n",
       "    </tr>\n",
       "    <tr>\n",
       "      <th>...</th>\n",
       "      <td>...</td>\n",
       "      <td>...</td>\n",
       "      <td>...</td>\n",
       "      <td>...</td>\n",
       "    </tr>\n",
       "    <tr>\n",
       "      <th>656</th>\n",
       "      <td>Agricultural Productions</td>\n",
       "      <td>1</td>\n",
       "      <td>agricultural products, agricultural productivity, agricultural production</td>\n",
       "      <td>produit agricole, productivité agricole, production agricole</td>\n",
       "    </tr>\n",
       "    <tr>\n",
       "      <th>http://aims.fao.org/aos/agrovoc/c_9fe82378, http://aims.fao.org/aos/agrovoc/c_8678, http://aims.fao.org/aos/agrovoc/c_2ac7c9e1</th>\n",
       "      <th>937</th>\n",
       "      <td>Agricultural Production</td>\n",
       "      <td>1</td>\n",
       "      <td>agricultural products, agricultural productivity, agricultural production</td>\n",
       "      <td>produit agricole, productivité agricole, production agricole</td>\n",
       "    </tr>\n",
       "    <tr>\n",
       "      <th>http://aims.fao.org/aos/agrovoc/c_2604, http://aims.fao.org/aos/agrovoc/c_27513</th>\n",
       "      <th>146</th>\n",
       "      <td>Active enZymes</td>\n",
       "      <td>1</td>\n",
       "      <td>enzyme activators, enzyme activity</td>\n",
       "      <td>activateur d'enzyme, activité enzymatique</td>\n",
       "    </tr>\n",
       "    <tr>\n",
       "      <th>http://aims.fao.org/aos/agrovoc/c_34901, http://aims.fao.org/aos/agrovoc/c_89</th>\n",
       "      <th>1585</th>\n",
       "      <td>Acid soils</td>\n",
       "      <td>1</td>\n",
       "      <td>acid soils, soil pH</td>\n",
       "      <td>sol acide, pH du sol</td>\n",
       "    </tr>\n",
       "    <tr>\n",
       "      <th>http://aims.fao.org/aos/agrovoc/c_437, http://aims.fao.org/aos/agrovoc/c_438</th>\n",
       "      <th>305</th>\n",
       "      <td>ANIMAL PRODUCT</td>\n",
       "      <td>1</td>\n",
       "      <td>animal products, animal production</td>\n",
       "      <td>produit animal, production animale</td>\n",
       "    </tr>\n",
       "  </tbody>\n",
       "</table>\n",
       "<p>1599 rows × 4 columns</p>\n",
       "</div>"
      ],
      "text/plain": [
       "                                                                                                                            surface  \\\n",
       "entities                                                                                                                              \n",
       "http://aims.fao.org/aos/agrovoc/c_2509, http://aims.fao.org/aos/agrovoc/c_5330, http://aims.fao.o... 165                   oil palm   \n",
       "http://aims.fao.org/aos/agrovoc/c_14343, http://aims.fao.org/aos/agrovoc/c_2809                      970    exploitations agricoles   \n",
       "http://aims.fao.org/aos/agrovoc/c_2509, http://aims.fao.org/aos/agrovoc/c_5330, http://aims.fao.o... 1449                  palm oil   \n",
       "http://aims.fao.org/aos/agrovoc/c_2221, http://aims.fao.org/aos/agrovoc/c_2222                       1292      developing countries   \n",
       "http://aims.fao.org/aos/agrovoc/c_2ac7c9e1, http://aims.fao.org/aos/agrovoc/c_8678, http://aims.f... 1291   agricultural production   \n",
       "...                                                                                                                             ...   \n",
       "                                                                                                     656   Agricultural Productions   \n",
       "http://aims.fao.org/aos/agrovoc/c_9fe82378, http://aims.fao.org/aos/agrovoc/c_8678, http://aims.f... 937    Agricultural Production   \n",
       "http://aims.fao.org/aos/agrovoc/c_2604, http://aims.fao.org/aos/agrovoc/c_27513                      146             Active enZymes   \n",
       "http://aims.fao.org/aos/agrovoc/c_34901, http://aims.fao.org/aos/agrovoc/c_89                        1585                Acid soils   \n",
       "http://aims.fao.org/aos/agrovoc/c_437, http://aims.fao.org/aos/agrovoc/c_438                         305             ANIMAL PRODUCT   \n",
       "\n",
       "                                                                                                           surface_cnt  \\\n",
       "entities                                                                                                                 \n",
       "http://aims.fao.org/aos/agrovoc/c_2509, http://aims.fao.org/aos/agrovoc/c_5330, http://aims.fao.o... 165          2556   \n",
       "http://aims.fao.org/aos/agrovoc/c_14343, http://aims.fao.org/aos/agrovoc/c_2809                      970           871   \n",
       "http://aims.fao.org/aos/agrovoc/c_2509, http://aims.fao.org/aos/agrovoc/c_5330, http://aims.fao.o... 1449          797   \n",
       "http://aims.fao.org/aos/agrovoc/c_2221, http://aims.fao.org/aos/agrovoc/c_2222                       1292          715   \n",
       "http://aims.fao.org/aos/agrovoc/c_2ac7c9e1, http://aims.fao.org/aos/agrovoc/c_8678, http://aims.f... 1291          673   \n",
       "...                                                                                                                ...   \n",
       "                                                                                                     656             1   \n",
       "http://aims.fao.org/aos/agrovoc/c_9fe82378, http://aims.fao.org/aos/agrovoc/c_8678, http://aims.f... 937             1   \n",
       "http://aims.fao.org/aos/agrovoc/c_2604, http://aims.fao.org/aos/agrovoc/c_27513                      146             1   \n",
       "http://aims.fao.org/aos/agrovoc/c_34901, http://aims.fao.org/aos/agrovoc/c_89                        1585            1   \n",
       "http://aims.fao.org/aos/agrovoc/c_437, http://aims.fao.org/aos/agrovoc/c_438                         305             1   \n",
       "\n",
       "                                                                                                                                                                           labels_en  \\\n",
       "entities                                                                                                                                                                               \n",
       "http://aims.fao.org/aos/agrovoc/c_2509, http://aims.fao.org/aos/agrovoc/c_5330, http://aims.fao.o... 165                                     palm oils, oil palms, Elaeis guineensis   \n",
       "http://aims.fao.org/aos/agrovoc/c_14343, http://aims.fao.org/aos/agrovoc/c_2809                      970                                                         smallholders, farms   \n",
       "http://aims.fao.org/aos/agrovoc/c_2509, http://aims.fao.org/aos/agrovoc/c_5330, http://aims.fao.o... 1449                                    palm oils, oil palms, Elaeis guineensis   \n",
       "http://aims.fao.org/aos/agrovoc/c_2221, http://aims.fao.org/aos/agrovoc/c_2222                       1292                                  developed countries, developing countries   \n",
       "http://aims.fao.org/aos/agrovoc/c_2ac7c9e1, http://aims.fao.org/aos/agrovoc/c_8678, http://aims.f... 1291  agricultural products, agricultural productivity, agricultural production   \n",
       "...                                                                                                                                                                              ...   \n",
       "                                                                                                     656   agricultural products, agricultural productivity, agricultural production   \n",
       "http://aims.fao.org/aos/agrovoc/c_9fe82378, http://aims.fao.org/aos/agrovoc/c_8678, http://aims.f... 937   agricultural products, agricultural productivity, agricultural production   \n",
       "http://aims.fao.org/aos/agrovoc/c_2604, http://aims.fao.org/aos/agrovoc/c_27513                      146                                          enzyme activators, enzyme activity   \n",
       "http://aims.fao.org/aos/agrovoc/c_34901, http://aims.fao.org/aos/agrovoc/c_89                        1585                                                        acid soils, soil pH   \n",
       "http://aims.fao.org/aos/agrovoc/c_437, http://aims.fao.org/aos/agrovoc/c_438                         305                                          animal products, animal production   \n",
       "\n",
       "                                                                                                                                                              labels_fr  \n",
       "entities                                                                                                                                                                 \n",
       "http://aims.fao.org/aos/agrovoc/c_2509, http://aims.fao.org/aos/agrovoc/c_5330, http://aims.fao.o... 165            huile de palme, palmier oléifère, Elaeis guineensis  \n",
       "http://aims.fao.org/aos/agrovoc/c_14343, http://aims.fao.org/aos/agrovoc/c_2809                      970                     exploitant agricole, exploitation agricole  \n",
       "http://aims.fao.org/aos/agrovoc/c_2509, http://aims.fao.org/aos/agrovoc/c_5330, http://aims.fao.o... 1449           huile de palme, palmier oléifère, Elaeis guineensis  \n",
       "http://aims.fao.org/aos/agrovoc/c_2221, http://aims.fao.org/aos/agrovoc/c_2222                       1292                         pays développé, pays en développement  \n",
       "http://aims.fao.org/aos/agrovoc/c_2ac7c9e1, http://aims.fao.org/aos/agrovoc/c_8678, http://aims.f... 1291  produit agricole, productivité agricole, production agricole  \n",
       "...                                                                                                                                                                 ...  \n",
       "                                                                                                     656   produit agricole, productivité agricole, production agricole  \n",
       "http://aims.fao.org/aos/agrovoc/c_9fe82378, http://aims.fao.org/aos/agrovoc/c_8678, http://aims.f... 937   produit agricole, productivité agricole, production agricole  \n",
       "http://aims.fao.org/aos/agrovoc/c_2604, http://aims.fao.org/aos/agrovoc/c_27513                      146                      activateur d'enzyme, activité enzymatique  \n",
       "http://aims.fao.org/aos/agrovoc/c_34901, http://aims.fao.org/aos/agrovoc/c_89                        1585                                          sol acide, pH du sol  \n",
       "http://aims.fao.org/aos/agrovoc/c_437, http://aims.fao.org/aos/agrovoc/c_438                         305                             produit animal, production animale  \n",
       "\n",
       "[1599 rows x 4 columns]"
      ]
     },
     "execution_count": 189,
     "metadata": {},
     "output_type": "execute_result"
    }
   ],
   "source": [
    "# two different ways to visualize the table, uncomment the prefered way\n",
    "\n",
    "idx = ['entities', df_multi_entities_3[vocab].index ]\n",
    "df_multi_entities_3[vocab].set_index(idx)\\\n",
    "                          .sort_values(by=['surface_cnt', 'surface'] , ascending=False)\n",
    "\n",
    "#df_multi_entities_3[vocab].sort_values(by=['surface_cnt', 'surface'], ascending=False)\\\n",
    "    #.style.format({'entities': hyperlink_multi})                          "
   ]
  },
  {
   "cell_type": "markdown",
   "metadata": {
    "id": "vC7YpqHsAzUM"
   },
   "source": [
    "OBSERVATIONS: \n",
    "- AGROVOC: Looks like the annottaions with multiple entities is pretty consistent, i.e. the same text is annotated with the same few entities and possibly due to the alternative labels for one agrovoc term being the same as pref label for another. \n",
    "- GEONAMES: no overalping :thumbsup\n",
    "- WIKIDATA: no overalping :thumbsup\n",
    "- DBPEDIA: no overalping :thumbsup\n"
   ]
  },
  {
   "cell_type": "markdown",
   "metadata": {},
   "source": [
    "### Overlaping surface forms"
   ]
  },
  {
   "cell_type": "code",
   "execution_count": null,
   "metadata": {},
   "outputs": [],
   "source": [
    "overlaping_surface_forms_query = '''\n",
    "PREFIX rdf: <http://www.w3.org/1999/02/22-rdf-syntax-ns#>\n",
    "PREFIX rdfs: <http://www.w3.org/2000/01/rdf-schema#>\n",
    "PREFIX oa:     <http://www.w3.org/ns/oa#>\n",
    "PREFIX skos: <http://www.w3.org/2004/02/skos/core#>\n",
    "PREFIX skosxl: <http://www.w3.org/2008/05/skos-xl#>\n",
    "PREFIX issa:   <http://data-issa.cirad.fr/>\n",
    "PREFIX prov: <http://www.w3.org/ns/prov#>\n",
    "PREFIX dct:    <http://purl.org/dc/terms/>\n",
    "PREFIX schema: <http://schema.org/>\n",
    "PREFIX gn:     <http://www.geonames.org/ontology#>\n",
    "\n",
    "'''"
   ]
  },
  {
   "cell_type": "markdown",
   "metadata": {},
   "source": []
  }
 ],
 "metadata": {
  "colab": {
   "provenance": []
  },
  "kernelspec": {
   "display_name": "Python 3 (ipykernel)",
   "language": "python",
   "name": "python3"
  },
  "language_info": {
   "codemirror_mode": {
    "name": "ipython",
    "version": 3
   },
   "file_extension": ".py",
   "mimetype": "text/x-python",
   "name": "python",
   "nbconvert_exporter": "python",
   "pygments_lexer": "ipython3",
   "version": "3.8.8"
  },
  "vscode": {
   "interpreter": {
    "hash": "ad2bdc8ecc057115af97d19610ffacc2b4e99fae6737bb82f5d7fb13d2f2c186"
   }
  }
 },
 "nbformat": 4,
 "nbformat_minor": 1
}
