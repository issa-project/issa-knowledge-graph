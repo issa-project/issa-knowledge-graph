{
 "cells": [
  {
   "cell_type": "markdown",
   "metadata": {},
   "source": [
    "<a href=\"https://colab.research.google.com/github/issa-project/issa-pipeline/blob/main/notebooks/issa-entity-analysis.ipynb\" target=\"_parent\"><img src=\"https://colab.research.google.com/assets/colab-badge.svg\" alt=\"Open In Colab\"/></a>"
   ]
  },
  {
   "cell_type": "markdown",
   "metadata": {},
   "source": [
    "# Analysis of Named Entities in ISSA dataset\n",
    "\n",
    "**Analysing quality of named entities found in the document text**  \n",
    "\n",
    "Use case: Agritrop ISSA\n",
    "\n",
    "Endpoint: https://data-issa.cirad.fr/sparql"
   ]
  },
  {
   "cell_type": "code",
   "execution_count": 1,
   "metadata": {
    "colab": {
     "base_uri": "https://localhost:8080/"
    },
    "executionInfo": {
     "elapsed": 3674,
     "status": "ok",
     "timestamp": 1663847382940,
     "user": {
      "displayName": "Anna Bobasheva",
      "userId": "05152602834421587169"
     },
     "user_tz": -120
    },
    "id": "0TCPUi-SA0IN",
    "outputId": "40334e25-5733-4287-f07a-841ed7197c09"
   },
   "outputs": [],
   "source": [
    "import os\n",
    "try:\n",
    "    isColab = os.environ['GCE_METADATA_TIMEOUT']\n",
    "    if isColab:\n",
    "        !pip install SPARQLWrapper\n",
    "except:\n",
    "    pass"
   ]
  },
  {
   "cell_type": "code",
   "execution_count": 2,
   "metadata": {
    "executionInfo": {
     "elapsed": 607,
     "status": "ok",
     "timestamp": 1663847383542,
     "user": {
      "displayName": "Anna Bobasheva",
      "userId": "05152602834421587169"
     },
     "user_tz": -120
    },
    "id": "fSUnaquoAzT5"
   },
   "outputs": [],
   "source": [
    "import pandas as pd\n",
    "import json\n",
    "\n",
    "from SPARQLWrapper import SPARQLWrapper, JSON\n",
    "\n",
    "import matplotlib.pyplot as plt\n",
    "\n",
    "import time"
   ]
  },
  {
   "cell_type": "code",
   "execution_count": 3,
   "metadata": {
    "executionInfo": {
     "elapsed": 5,
     "status": "ok",
     "timestamp": 1663847383542,
     "user": {
      "displayName": "Anna Bobasheva",
      "userId": "05152602834421587169"
     },
     "user_tz": -120
    },
    "id": "Ga-TnpLeAzT8"
   },
   "outputs": [],
   "source": [
    "def sparql_service_to_dataframe(service, query):\n",
    "    \"\"\"\n",
    "    Helper function to convert SPARQL results into a Pandas DataFrame.\n",
    "    \n",
    "    Credit to Ted Lawless https://lawlesst.github.io/notebook/sparql-dataframe.html\n",
    "    \"\"\"\n",
    "    sparql = SPARQLWrapper(service)\n",
    "    sparql.setQuery(query)\n",
    "    sparql.setReturnFormat(JSON)\n",
    "    result = sparql.query()\n",
    "\n",
    "    processed_results = json.load(result.response)\n",
    "    cols = processed_results['head']['vars']\n",
    "\n",
    "    out = []\n",
    "    for row in processed_results['results']['bindings']:\n",
    "        item = []\n",
    "        for c in cols:\n",
    "            item.append(row.get(c, {}).get('value'))\n",
    "        out.append(item)\n",
    "\n",
    "    return pd.DataFrame(out, columns=cols)\n",
    "\n",
    "def sparql_service_to_dataframe_with_scrollable_cursor(service, query_templ, params=(), page_size=10000):\n",
    "    offset= 0\n",
    "    keep_going=True\n",
    "    df_res_list = [] \n",
    "\n",
    "    print('fetching... ', end='')\n",
    "    try:\n",
    "        while True:\n",
    "            query = query_templ % (params + (offset, page_size) )\n",
    "            df_res = sparql_service_to_dataframe(service, query )\n",
    "            if df_res.shape[0] > 0 : \n",
    "                print(df_res.shape[0], end=', ')\n",
    "                df_res_list.append(df_res)\n",
    "                offset = offset + page_size\n",
    "                time.sleep(5)\n",
    "            else:\n",
    "                print(df_res.shape[0])\n",
    "                break\n",
    "    except Exception as ex:\n",
    "        print(ex)\n",
    "    finally:\n",
    "        \n",
    "        return pd.concat(df_res_list) if df_res_list else pd.DataFrame()\n",
    "\n",
    "def hyperlink(val):\n",
    "    return '<a href=\"{}\">{}</a>'.format(val,val)\n",
    "\n",
    "def hyperlink_multi(val):\n",
    "    uris = val.split(', ')\n",
    "    uris_hl = ['<a href=\"{}\">{}</a>'.format(v,v) for v in uris]\n",
    "\n",
    "    return ', '.join(uris_hl)"
   ]
  },
  {
   "cell_type": "code",
   "execution_count": 4,
   "metadata": {
    "executionInfo": {
     "elapsed": 4,
     "status": "ok",
     "timestamp": 1663847383542,
     "user": {
      "displayName": "Anna Bobasheva",
      "userId": "05152602834421587169"
     },
     "user_tz": -120
    },
    "id": "PIbhQcvHAzT9"
   },
   "outputs": [],
   "source": [
    "issa_agritrop_endpoint = 'http://data-issa.cirad.fr/sparql'"
   ]
  },
  {
   "cell_type": "markdown",
   "metadata": {},
   "source": [
    "## Dataset info"
   ]
  },
  {
   "cell_type": "code",
   "execution_count": 6,
   "metadata": {},
   "outputs": [
    {
     "data": {
      "text/html": [
       "<div>\n",
       "<style scoped>\n",
       "    .dataframe tbody tr th:only-of-type {\n",
       "        vertical-align: middle;\n",
       "    }\n",
       "\n",
       "    .dataframe tbody tr th {\n",
       "        vertical-align: top;\n",
       "    }\n",
       "\n",
       "    .dataframe thead th {\n",
       "        text-align: right;\n",
       "    }\n",
       "</style>\n",
       "<table border=\"1\" class=\"dataframe\">\n",
       "  <thead>\n",
       "    <tr style=\"text-align: right;\">\n",
       "      <th></th>\n",
       "      <th>0</th>\n",
       "    </tr>\n",
       "  </thead>\n",
       "  <tbody>\n",
       "    <tr>\n",
       "      <th>dataset_name</th>\n",
       "      <td>ISSA Agritrop dataset</td>\n",
       "    </tr>\n",
       "    <tr>\n",
       "      <th>dataset_description</th>\n",
       "      <td>This RDF dataset was produced by processing ar...</td>\n",
       "    </tr>\n",
       "    <tr>\n",
       "      <th>triple_count</th>\n",
       "      <td>173612174</td>\n",
       "    </tr>\n",
       "    <tr>\n",
       "      <th>version</th>\n",
       "      <td>1.2.20230606</td>\n",
       "    </tr>\n",
       "    <tr>\n",
       "      <th>initial_date</th>\n",
       "      <td>2022-04-29</td>\n",
       "    </tr>\n",
       "    <tr>\n",
       "      <th>generated_date</th>\n",
       "      <td>2023-06-08</td>\n",
       "    </tr>\n",
       "    <tr>\n",
       "      <th>updated_date</th>\n",
       "      <td>2023-06-08</td>\n",
       "    </tr>\n",
       "  </tbody>\n",
       "</table>\n",
       "</div>"
      ],
      "text/plain": [
       "                                                                     0\n",
       "dataset_name                                     ISSA Agritrop dataset\n",
       "dataset_description  This RDF dataset was produced by processing ar...\n",
       "triple_count                                                 173612174\n",
       "version                                                   1.2.20230606\n",
       "initial_date                                                2022-04-29\n",
       "generated_date                                              2023-06-08\n",
       "updated_date                                                2023-06-08"
      ]
     },
     "execution_count": 6,
     "metadata": {},
     "output_type": "execute_result"
    }
   ],
   "source": [
    "dataset_info_query = '''\n",
    "PREFIX rdf: <http://www.w3.org/1999/02/22-rdf-syntax-ns#>\n",
    "PREFIX rdfs: <http://www.w3.org/2000/01/rdf-schema#>\n",
    "PREFIX void:   <http://rdfs.org/ns/void#> \n",
    "PREFIX issa:   <http://data-issa.cirad.fr/>\n",
    "PREFIX prov: <http://www.w3.org/ns/prov#>\n",
    "\n",
    "SELECT * WHERE {\n",
    "  issa:issa-agritrop dct:title ?dataset_name;\n",
    "                     dct:description ?dataset_description;\n",
    "                     void:triples ?triple_count;\n",
    "                     owl:versionInfo ?version;\n",
    "                     dct:issued ?initial_date;\n",
    "                     prov:generatedAtTime ?generated_date.\n",
    "  \n",
    "  OPTIONAL{   issa:issa-agritrop dct:modified ?updated_date. }\n",
    "} \n",
    "'''\n",
    "dataset_info = sparql_service_to_dataframe(issa_agritrop_endpoint, dataset_info_query)\n",
    "dataset_info.transpose()"
   ]
  },
  {
   "cell_type": "markdown",
   "metadata": {
    "id": "q_HiKN57AzT9"
   },
   "source": [
    "## Count named entities from all NER tools"
   ]
  },
  {
   "cell_type": "code",
   "execution_count": 6,
   "metadata": {
    "executionInfo": {
     "elapsed": 5,
     "status": "ok",
     "timestamp": 1663847383543,
     "user": {
      "displayName": "Anna Bobasheva",
      "userId": "05152602834421587169"
     },
     "user_tz": -120
    },
    "id": "mlxqEXu1AzT_"
   },
   "outputs": [],
   "source": [
    "entity_count_per_annotator_query = '''\n",
    "PREFIX oa:     <http://www.w3.org/ns/oa#>\n",
    "PREFIX issa:   <http://data-issa.cirad.fr/>\n",
    "PREFIX prov: <http://www.w3.org/ns/prov#>\n",
    "\n",
    "\n",
    "SELECT ?annotator \n",
    "       (count(?entity) as ?cnt) \n",
    "\t     (count(distinct ?uri) as ?unique_cnt)\n",
    "FROM <http://data-issa.cirad.fr/graph/dbpedia-spotlight-nes>\n",
    "FROM <http://data-issa.cirad.fr/graph/entity-fishing-nes>\n",
    "FROM <http://data-issa.cirad.fr/graph/geographic-nes>\n",
    "FROM <http://data-issa.cirad.fr/graph/pyclinrec-nes>\n",
    "WHERE {\n",
    "\t?entity a prov:Entity;\n",
    "          oa:hasBody ?uri;\n",
    "          prov:wasAttributedTo ?annotator.\n",
    "}\n",
    "'''"
   ]
  },
  {
   "cell_type": "code",
   "execution_count": 69,
   "metadata": {
    "colab": {
     "base_uri": "https://localhost:8080/"
    },
    "executionInfo": {
     "elapsed": 24931,
     "status": "ok",
     "timestamp": 1663847408470,
     "user": {
      "displayName": "Anna Bobasheva",
      "userId": "05152602834421587169"
     },
     "user_tz": -120
    },
    "id": "qaPsRooYAzUB",
    "outputId": "8e2fcc82-1fbe-4d26-f5bf-ead3e747ded1"
   },
   "outputs": [
    {
     "name": "stdout",
     "output_type": "stream",
     "text": [
      "(4, 3)\n"
     ]
    }
   ],
   "source": [
    "df_entity_count = sparql_service_to_dataframe(issa_agritrop_endpoint, entity_count_per_annotator_query)\n",
    "\n",
    "df_entity_count = df_entity_count.astype({'cnt': 'int',\n",
    "                                          'unique_cnt' : 'int'})\n",
    "\n",
    "print(df_entity_count.shape)"
   ]
  },
  {
   "cell_type": "code",
   "execution_count": 70,
   "metadata": {
    "colab": {
     "base_uri": "https://localhost:8080/",
     "height": 184
    },
    "executionInfo": {
     "elapsed": 26,
     "status": "ok",
     "timestamp": 1663847408470,
     "user": {
      "displayName": "Anna Bobasheva",
      "userId": "05152602834421587169"
     },
     "user_tz": -120
    },
    "id": "Cc41yIj5AzUC",
    "outputId": "acaf8577-e67d-408e-9028-88bc027bb02a"
   },
   "outputs": [
    {
     "data": {
      "text/html": [
       "<style type=\"text/css\">\n",
       "#T_fa124  {\n",
       "  border: 3px solid lightblue !important;\n",
       "}\n",
       "#T_fa124 td {\n",
       "  border: 1px solid grey !important;\n",
       "}\n",
       "#T_fa124 th {\n",
       "  border: 1px solid grey !important;\n",
       "}\n",
       "</style>\n",
       "<table id=\"T_fa124\">\n",
       "  <thead>\n",
       "    <tr>\n",
       "      <th class=\"blank level0\" >&nbsp;</th>\n",
       "      <th id=\"T_fa124_level0_col0\" class=\"col_heading level0 col0\" >annotator</th>\n",
       "      <th id=\"T_fa124_level0_col1\" class=\"col_heading level0 col1\" >cnt</th>\n",
       "      <th id=\"T_fa124_level0_col2\" class=\"col_heading level0 col2\" >unique_cnt</th>\n",
       "    </tr>\n",
       "  </thead>\n",
       "  <tbody>\n",
       "    <tr>\n",
       "      <th id=\"T_fa124_level0_row0\" class=\"row_heading level0 row0\" >0</th>\n",
       "      <td id=\"T_fa124_row0_col0\" class=\"data row0 col0\" >http://data-issa.cirad.fr/DBPediaSpotlight</td>\n",
       "      <td id=\"T_fa124_row0_col1\" class=\"data row0 col1\" >1824056</td>\n",
       "      <td id=\"T_fa124_row0_col2\" class=\"data row0 col2\" >72266</td>\n",
       "    </tr>\n",
       "    <tr>\n",
       "      <th id=\"T_fa124_level0_row1\" class=\"row_heading level0 row1\" >1</th>\n",
       "      <td id=\"T_fa124_row1_col0\" class=\"data row1 col0\" >http://data-issa.cirad.fr/EntityFishing</td>\n",
       "      <td id=\"T_fa124_row1_col1\" class=\"data row1 col1\" >4538104</td>\n",
       "      <td id=\"T_fa124_row1_col2\" class=\"data row1 col2\" >143293</td>\n",
       "    </tr>\n",
       "    <tr>\n",
       "      <th id=\"T_fa124_level0_row2\" class=\"row_heading level0 row2\" >2</th>\n",
       "      <td id=\"T_fa124_row2_col0\" class=\"data row2 col0\" >http://data-issa.cirad.fr/GeographicEntityExtractor</td>\n",
       "      <td id=\"T_fa124_row2_col1\" class=\"data row2 col1\" >250440</td>\n",
       "      <td id=\"T_fa124_row2_col2\" class=\"data row2 col2\" >12111</td>\n",
       "    </tr>\n",
       "    <tr>\n",
       "      <th id=\"T_fa124_level0_row3\" class=\"row_heading level0 row3\" >3</th>\n",
       "      <td id=\"T_fa124_row3_col0\" class=\"data row3 col0\" >http://data-issa.cirad.fr/Pyclinrec</td>\n",
       "      <td id=\"T_fa124_row3_col1\" class=\"data row3 col1\" >3310210</td>\n",
       "      <td id=\"T_fa124_row3_col2\" class=\"data row3 col2\" >17216</td>\n",
       "    </tr>\n",
       "  </tbody>\n",
       "</table>\n"
      ],
      "text/plain": [
       "<pandas.io.formats.style.Styler at 0x24c38af4460>"
      ]
     },
     "execution_count": 70,
     "metadata": {},
     "output_type": "execute_result"
    }
   ],
   "source": [
    "table_style = [{\"selector\": \"\", \"props\": [(\"border\", \"3px solid lightblue !important\")]},\n",
    "               {\"selector\": \"td\", \"props\": [(\"border\", \"1px solid grey !important\")]},\n",
    "               {\"selector\": \"th\", \"props\": [(\"border\", \"1px solid grey !important\")]}  ]\n",
    "               \n",
    "df_entity_count.style.set_table_styles(table_style)"
   ]
  },
  {
   "cell_type": "code",
   "execution_count": 9,
   "metadata": {
    "executionInfo": {
     "elapsed": 16,
     "status": "ok",
     "timestamp": 1663847408472,
     "user": {
      "displayName": "Anna Bobasheva",
      "userId": "05152602834421587169"
     },
     "user_tz": -120
    },
    "id": "_73jALc6AzUD"
   },
   "outputs": [],
   "source": [
    "annotations_per_entity_count_query = '''\n",
    "PREFIX rdf: <http://www.w3.org/1999/02/22-rdf-syntax-ns#>\n",
    "PREFIX rdfs: <http://www.w3.org/2000/01/rdf-schema#>\n",
    "PREFIX oa:     <http://www.w3.org/ns/oa#>\n",
    "PREFIX skos: <http://www.w3.org/2004/02/skos/core#>\n",
    "PREFIX skosxl: <http://www.w3.org/2008/05/skos-xl#>\n",
    "PREFIX issa:   <http://data-issa.cirad.fr/>\n",
    "PREFIX prov: <http://www.w3.org/ns/prov#>\n",
    "PREFIX dct:    <http://purl.org/dc/terms/>\n",
    "PREFIX schema: <http://schema.org/>\n",
    "PREFIX gn:     <http://www.geonames.org/ontology#>\n",
    "PREFIX issapr:  <http://data-issa.cirad.fr/property/> \n",
    "\n",
    "SELECT ?uri ?entityLabel ?cnt ?min_conf ?max_conf\n",
    "FROM <http://data-issa.cirad.fr/graph/dbpedia-spotlight-nes>\n",
    "FROM <http://data-issa.cirad.fr/graph/entity-fishing-nes>\n",
    "FROM <http://data-issa.cirad.fr/graph/geographic-nes>\n",
    "FROM <http://data-issa.cirad.fr/graph/pyclinrec-nes>\n",
    "FROM <http://data-issa.cirad.fr/graph/dbpedia-named-entities>\n",
    "FROM <http://data-issa.cirad.fr/graph/wikidata-named-entities>\n",
    "FROM <http://geonames.org/graph>\n",
    "FROM <http://agrovoc.fao.org/graph>\n",
    "WHERE {\n",
    "\n",
    "      SELECT ?uri ?entityLabel ?cnt ?min_conf ?max_conf\n",
    "      WHERE {\n",
    "\n",
    "      {\n",
    "      SELECT ?uri ?annotator\n",
    "            (count(distinct ?paper) as ?cnt)\n",
    "            (min(?conf) as ?min_conf)\n",
    "            (max(?conf) as ?max_conf)\n",
    "\n",
    "      WHERE {\n",
    "            ?entity a prov:Entity;\n",
    "            oa:hasBody ?uri;\n",
    "            schema:about ?paper;\n",
    "            issapr:confidence ?conf;\n",
    "            prov:wasAttributedTo ?annotator.\n",
    "            FILTER (?annotator = %s) # issa:EntityFishing | issa:DBPediaSpotlight | issa:GeographicEntityExtractor | issa:Pyclinrec\n",
    "            }\n",
    "      GROUP by  ?uri ?annotator\n",
    "      }\n",
    "      \n",
    "      OPTIONAL {\n",
    "            ?uri rdfs:label|skos:prefLabel|(skosxl:prefLabel/skosxl:literalForm)|dct:title|schema:name|gn:officialName ?entityLabel_en.\n",
    "            FILTER langMatches(lang(?entityLabel_en), \"en\" )\n",
    "      }\n",
    "      # for DBPedia.fr\n",
    "      OPTIONAL {\n",
    "            ?uri rdfs:label ?entityLabel_fr.\n",
    "            FILTER langMatches(lang(?entityLabel_fr), \"fr\" )\n",
    "      }\n",
    "      # for Geonames\n",
    "      OPTIONAL {\n",
    "            # |gn:alternateName||gn:shortName\n",
    "            ?uri gn:name ?entityLabel_nolang.\n",
    "      }\n",
    "      \n",
    "            BIND(COALESCE(?entityLabel_en, ?entityLabel_fr, ?entityLabel_nolang) as ?entityLabel)\n",
    "      }\n",
    "      ORDER BY DESC(?cnt)\n",
    "}\n",
    "OFFSET %d\n",
    "LIMIT %d\n",
    "'''"
   ]
  },
  {
   "cell_type": "code",
   "execution_count": 10,
   "metadata": {
    "executionInfo": {
     "elapsed": 17,
     "status": "ok",
     "timestamp": 1663847408473,
     "user": {
      "displayName": "Anna Bobasheva",
      "userId": "05152602834421587169"
     },
     "user_tz": -120
    },
    "id": "FH2rumEtAzUD"
   },
   "outputs": [],
   "source": [
    "annotators = {'wikidata': 'issa:EntityFishing',\n",
    "              'geonames': 'issa:GeographicEntityExtractor',\n",
    "              'dbpedia' : 'issa:DBPediaSpotlight',\n",
    "              'agrovoc' : 'issa:Pyclinrec'}"
   ]
  },
  {
   "cell_type": "code",
   "execution_count": 11,
   "metadata": {
    "executionInfo": {
     "elapsed": 17,
     "status": "ok",
     "timestamp": 1663847408474,
     "user": {
      "displayName": "Anna Bobasheva",
      "userId": "05152602834421587169"
     },
     "user_tz": -120
    },
    "id": "iD_kJG4hAzUE"
   },
   "outputs": [],
   "source": [
    "# in some queries having a long choice of paths to a label proves to be too expensive. \n",
    "# For these queries we can split the path and pass it as a string substitution.\n",
    "label_path = {'wikidata': 'rdfs:label|skos:prefLabel|dct:title|schema:name',\n",
    "              'geonames': 'gn:officialName',\n",
    "              'dbpedia' : 'rdfs:label|skos:prefLabel|dct:title|schema:name',\n",
    "              'agrovoc' : 'skosxl:prefLabel/skosxl:literalForm'}"
   ]
  },
  {
   "cell_type": "markdown",
   "metadata": {
    "id": "B0RIgv3NAzUE"
   },
   "source": [
    "## Annotation quality assesment per vocabulary\n",
    "Select one of the vocabularis and run the cells below"
   ]
  },
  {
   "cell_type": "code",
   "execution_count": 12,
   "metadata": {
    "executionInfo": {
     "elapsed": 18,
     "status": "ok",
     "timestamp": 1663847408475,
     "user": {
      "displayName": "Anna Bobasheva",
      "userId": "05152602834421587169"
     },
     "user_tz": -120
    },
    "id": "UVNXYLRGAzUF"
   },
   "outputs": [],
   "source": [
    "vocab = 'dbpedia'"
   ]
  },
  {
   "cell_type": "code",
   "execution_count": 13,
   "metadata": {
    "colab": {
     "base_uri": "https://localhost:8080/"
    },
    "executionInfo": {
     "elapsed": 194449,
     "status": "ok",
     "timestamp": 1663847602907,
     "user": {
      "displayName": "Anna Bobasheva",
      "userId": "05152602834421587169"
     },
     "user_tz": -120
    },
    "id": "k2N-Gb_MAzUF",
    "outputId": "2d5f764a-1d8b-4f9a-82b8-e5296918ee39"
   },
   "outputs": [
    {
     "name": "stdout",
     "output_type": "stream",
     "text": [
      "fetching... 10000, 10000, 10000, 10000, 10000, 10000, 10000, 2270, 0\n",
      "issa:DBPediaSpotlight (72270, 5)\n"
     ]
    }
   ],
   "source": [
    "df_ne_count = {}\n",
    "#for key, value in annotators.items():\n",
    "key, value = vocab, annotators[vocab]\n",
    "df_ne_count[key] = sparql_service_to_dataframe_with_scrollable_cursor(issa_agritrop_endpoint,  annotations_per_entity_count_query, (value, ) )\n",
    "#df_ne_count[key].dropna(inplace=True)\n",
    "df_ne_count[key] = df_ne_count[key].astype({'cnt': 'int',\n",
    "                                            'min_conf' : 'float',\n",
    "                                            'max_conf' : 'float'})\n",
    "print(annotators[key] , df_ne_count[key].shape)"
   ]
  },
  {
   "cell_type": "code",
   "execution_count": 14,
   "metadata": {
    "executionInfo": {
     "elapsed": 25,
     "status": "ok",
     "timestamp": 1663847602908,
     "user": {
      "displayName": "Anna Bobasheva",
      "userId": "05152602834421587169"
     },
     "user_tz": -120
    },
    "id": "UfJkqYPRAzUF"
   },
   "outputs": [],
   "source": [
    "#import pickle\n",
    "#with open('df_ne_count.pkl', 'wb') as f:\n",
    "#    pickle.dump(df_ne_count, f)\n",
    "\n",
    "#with open('df_ne_count.pkl', 'rb') as f:\n",
    "#    df_ne_count = pickle.load(f)"
   ]
  },
  {
   "cell_type": "code",
   "execution_count": 15,
   "metadata": {
    "colab": {
     "base_uri": "https://localhost:8080/",
     "height": 151
    },
    "executionInfo": {
     "elapsed": 24,
     "status": "ok",
     "timestamp": 1663847602908,
     "user": {
      "displayName": "Anna Bobasheva",
      "userId": "05152602834421587169"
     },
     "user_tz": -120
    },
    "id": "s52eqxDfAzUF",
    "outputId": "83d79bcf-2a4a-4476-cd37-5c7409498c84"
   },
   "outputs": [
    {
     "data": {
      "text/html": [
       "<style type=\"text/css\">\n",
       "#T_a0b45  {\n",
       "  border: 3px solid lightblue !important;\n",
       "}\n",
       "#T_a0b45 td {\n",
       "  border: 1px solid grey !important;\n",
       "}\n",
       "#T_a0b45 th {\n",
       "  border: 1px solid grey !important;\n",
       "}\n",
       "</style>\n",
       "<table id=\"T_a0b45\">\n",
       "  <thead>\n",
       "    <tr>\n",
       "      <th class=\"blank level0\" >&nbsp;</th>\n",
       "      <th id=\"T_a0b45_level0_col0\" class=\"col_heading level0 col0\" >count</th>\n",
       "      <th id=\"T_a0b45_level0_col1\" class=\"col_heading level0 col1\" >mean</th>\n",
       "      <th id=\"T_a0b45_level0_col2\" class=\"col_heading level0 col2\" >std</th>\n",
       "      <th id=\"T_a0b45_level0_col3\" class=\"col_heading level0 col3\" >min</th>\n",
       "      <th id=\"T_a0b45_level0_col4\" class=\"col_heading level0 col4\" >25%</th>\n",
       "      <th id=\"T_a0b45_level0_col5\" class=\"col_heading level0 col5\" >50%</th>\n",
       "      <th id=\"T_a0b45_level0_col6\" class=\"col_heading level0 col6\" >75%</th>\n",
       "      <th id=\"T_a0b45_level0_col7\" class=\"col_heading level0 col7\" >max</th>\n",
       "    </tr>\n",
       "  </thead>\n",
       "  <tbody>\n",
       "    <tr>\n",
       "      <th id=\"T_a0b45_level0_row0\" class=\"row_heading level0 row0\" >cnt</th>\n",
       "      <td id=\"T_a0b45_row0_col0\" class=\"data row0 col0\" >72270.00</td>\n",
       "      <td id=\"T_a0b45_row0_col1\" class=\"data row0 col1\" >10.79</td>\n",
       "      <td id=\"T_a0b45_row0_col2\" class=\"data row0 col2\" >53.53</td>\n",
       "      <td id=\"T_a0b45_row0_col3\" class=\"data row0 col3\" >1.00</td>\n",
       "      <td id=\"T_a0b45_row0_col4\" class=\"data row0 col4\" >1.00</td>\n",
       "      <td id=\"T_a0b45_row0_col5\" class=\"data row0 col5\" >2.00</td>\n",
       "      <td id=\"T_a0b45_row0_col6\" class=\"data row0 col6\" >5.00</td>\n",
       "      <td id=\"T_a0b45_row0_col7\" class=\"data row0 col7\" >3214.00</td>\n",
       "    </tr>\n",
       "    <tr>\n",
       "      <th id=\"T_a0b45_level0_row1\" class=\"row_heading level0 row1\" >min_conf</th>\n",
       "      <td id=\"T_a0b45_row1_col0\" class=\"data row1 col0\" >72270.00</td>\n",
       "      <td id=\"T_a0b45_row1_col1\" class=\"data row1 col1\" >0.98</td>\n",
       "      <td id=\"T_a0b45_row1_col2\" class=\"data row1 col2\" >0.06</td>\n",
       "      <td id=\"T_a0b45_row1_col3\" class=\"data row1 col3\" >0.75</td>\n",
       "      <td id=\"T_a0b45_row1_col4\" class=\"data row1 col4\" >1.00</td>\n",
       "      <td id=\"T_a0b45_row1_col5\" class=\"data row1 col5\" >1.00</td>\n",
       "      <td id=\"T_a0b45_row1_col6\" class=\"data row1 col6\" >1.00</td>\n",
       "      <td id=\"T_a0b45_row1_col7\" class=\"data row1 col7\" >1.00</td>\n",
       "    </tr>\n",
       "    <tr>\n",
       "      <th id=\"T_a0b45_level0_row2\" class=\"row_heading level0 row2\" >max_conf</th>\n",
       "      <td id=\"T_a0b45_row2_col0\" class=\"data row2 col0\" >72270.00</td>\n",
       "      <td id=\"T_a0b45_row2_col1\" class=\"data row2 col1\" >0.99</td>\n",
       "      <td id=\"T_a0b45_row2_col2\" class=\"data row2 col2\" >0.03</td>\n",
       "      <td id=\"T_a0b45_row2_col3\" class=\"data row2 col3\" >0.75</td>\n",
       "      <td id=\"T_a0b45_row2_col4\" class=\"data row2 col4\" >1.00</td>\n",
       "      <td id=\"T_a0b45_row2_col5\" class=\"data row2 col5\" >1.00</td>\n",
       "      <td id=\"T_a0b45_row2_col6\" class=\"data row2 col6\" >1.00</td>\n",
       "      <td id=\"T_a0b45_row2_col7\" class=\"data row2 col7\" >1.00</td>\n",
       "    </tr>\n",
       "  </tbody>\n",
       "</table>\n"
      ],
      "text/plain": [
       "<pandas.io.formats.style.Styler at 0x24c35849070>"
      ]
     },
     "execution_count": 15,
     "metadata": {},
     "output_type": "execute_result"
    }
   ],
   "source": [
    "df_ne_count[vocab].describe() \\\n",
    "                  .transpose() \\\n",
    "                  .style.format(precision=2)\\\n",
    "                  .set_table_styles(table_style) "
   ]
  },
  {
   "cell_type": "markdown",
   "metadata": {
    "id": "e-izNQt9AzUG"
   },
   "source": [
    "OBSERVATIONS: \n",
    "- AGROVOC: Confidence score is always 1.0. It should be addressed in the *pyclinrec* library\n",
    "- GEONAMES: the confidence scores can be low for the GeoNames named entities because we are trying to annotate a short text \n",
    "- WIKIDATA: by default the entity-fishing returns NE with conf 0.25 for French and 0.35 for English\n",
    "- DBPEDIA: we do filter the DBpedia NEs by setting up the Spotlight parameters, therefore the min confidence is 0.75. Otherwise there would be a lot of NEs"
   ]
  },
  {
   "cell_type": "markdown",
   "metadata": {
    "id": "GzuBLpBRAzUG"
   },
   "source": [
    "### Most popular entities "
   ]
  },
  {
   "cell_type": "code",
   "execution_count": 16,
   "metadata": {},
   "outputs": [
    {
     "data": {
      "text/html": [
       "<div>\n",
       "<style scoped>\n",
       "    .dataframe tbody tr th:only-of-type {\n",
       "        vertical-align: middle;\n",
       "    }\n",
       "\n",
       "    .dataframe tbody tr th {\n",
       "        vertical-align: top;\n",
       "    }\n",
       "\n",
       "    .dataframe thead th {\n",
       "        text-align: right;\n",
       "    }\n",
       "</style>\n",
       "<table border=\"1\" class=\"dataframe\">\n",
       "  <thead>\n",
       "    <tr style=\"text-align: right;\">\n",
       "      <th></th>\n",
       "      <th>uri</th>\n",
       "      <th>entityLabel</th>\n",
       "      <th>cnt</th>\n",
       "      <th>min_conf</th>\n",
       "      <th>max_conf</th>\n",
       "    </tr>\n",
       "  </thead>\n",
       "  <tbody>\n",
       "    <tr>\n",
       "      <th>0</th>\n",
       "      <td>http://dbpedia.org/resource/Species</td>\n",
       "      <td>Species</td>\n",
       "      <td>3214</td>\n",
       "      <td>0.752834</td>\n",
       "      <td>1.0</td>\n",
       "    </tr>\n",
       "    <tr>\n",
       "      <th>1</th>\n",
       "      <td>http://fr.dbpedia.org/resource/Eau</td>\n",
       "      <td>Eau</td>\n",
       "      <td>2972</td>\n",
       "      <td>0.750556</td>\n",
       "      <td>1.0</td>\n",
       "    </tr>\n",
       "    <tr>\n",
       "      <th>2</th>\n",
       "      <td>http://fr.dbpedia.org/resource/France</td>\n",
       "      <td>France</td>\n",
       "      <td>2453</td>\n",
       "      <td>0.801204</td>\n",
       "      <td>1.0</td>\n",
       "    </tr>\n",
       "    <tr>\n",
       "      <th>3</th>\n",
       "      <td>http://fr.dbpedia.org/resource/Agriculture</td>\n",
       "      <td>Agriculture</td>\n",
       "      <td>2404</td>\n",
       "      <td>0.750656</td>\n",
       "      <td>1.0</td>\n",
       "    </tr>\n",
       "    <tr>\n",
       "      <th>4</th>\n",
       "      <td>http://fr.dbpedia.org/resource/Prix</td>\n",
       "      <td>Prix</td>\n",
       "      <td>2286</td>\n",
       "      <td>0.836039</td>\n",
       "      <td>1.0</td>\n",
       "    </tr>\n",
       "  </tbody>\n",
       "</table>\n",
       "</div>"
      ],
      "text/plain": [
       "                                          uri  entityLabel   cnt  min_conf  \\\n",
       "0         http://dbpedia.org/resource/Species      Species  3214  0.752834   \n",
       "1          http://fr.dbpedia.org/resource/Eau          Eau  2972  0.750556   \n",
       "2       http://fr.dbpedia.org/resource/France       France  2453  0.801204   \n",
       "3  http://fr.dbpedia.org/resource/Agriculture  Agriculture  2404  0.750656   \n",
       "4         http://fr.dbpedia.org/resource/Prix         Prix  2286  0.836039   \n",
       "\n",
       "   max_conf  \n",
       "0       1.0  \n",
       "1       1.0  \n",
       "2       1.0  \n",
       "3       1.0  \n",
       "4       1.0  "
      ]
     },
     "execution_count": 16,
     "metadata": {},
     "output_type": "execute_result"
    }
   ],
   "source": [
    "df_ne_count[vocab].head()"
   ]
  },
  {
   "cell_type": "code",
   "execution_count": 17,
   "metadata": {
    "colab": {
     "base_uri": "https://localhost:8080/",
     "height": 417
    },
    "executionInfo": {
     "elapsed": 572,
     "status": "ok",
     "timestamp": 1663847743076,
     "user": {
      "displayName": "Anna Bobasheva",
      "userId": "05152602834421587169"
     },
     "user_tz": -120
    },
    "id": "crMCbHfWAzUG",
    "outputId": "03263eda-f10d-4200-c25a-34d8cd8d18cb"
   },
   "outputs": [
    {
     "data": {
      "image/png": "[encoded data removed]",
      "text/plain": [
       "<Figure size 1200x600 with 1 Axes>"
      ]
     },
     "metadata": {},
     "output_type": "display_data"
    }
   ],
   "source": [
    "fig = plt.figure(figsize=(12, 6))\n",
    "fig.suptitle(f'Most popular {vocab} named entities')\n",
    "\n",
    "plt.barh(df_ne_count[vocab].head(20).entityLabel , width= df_ne_count[vocab].head(20).cnt)\n",
    "plt.gca().invert_yaxis()\n",
    "\n",
    "plt.show()"
   ]
  },
  {
   "cell_type": "markdown",
   "metadata": {
    "id": "R4-h8LvtAzUG"
   },
   "source": [
    "OBSERVATIONS: \n",
    "- AGROVOC: top named entities are general concepts\n",
    "- GEONAMES: as expected \n",
    "- WIKIDATA: as expected the top named entities are either geographic or agriculture related.\n",
    "- DBPEDIA: not as agricultural as wikidata. Odd one: *Seconde Guerre Mondiale*."
   ]
  },
  {
   "cell_type": "code",
   "execution_count": 18,
   "metadata": {
    "colab": {
     "base_uri": "https://localhost:8080/",
     "height": 417
    },
    "executionInfo": {
     "elapsed": 1349,
     "status": "ok",
     "timestamp": 1663847744419,
     "user": {
      "displayName": "Anna Bobasheva",
      "userId": "05152602834421587169"
     },
     "user_tz": -120
    },
    "id": "8PWcjL-9AzUG",
    "outputId": "c24473f0-0b97-475e-9080-353cae15ba7d"
   },
   "outputs": [
    {
     "data": {
      "image/png": "[encoded data removed]",
      "text/plain": [
       "<Figure size 1800x600 with 3 Axes>"
      ]
     },
     "metadata": {},
     "output_type": "display_data"
    }
   ],
   "source": [
    "fig = plt.figure(figsize=(18, 6))\n",
    "fig.suptitle(f'Distribution of per entity counts for {vocab}')\n",
    "\n",
    "def show_hist(i, df_f1, range=None, title=None):\n",
    "    mean_cnt = df_f1.cnt.mean()\n",
    "    median_cnt = df_f1.cnt.median()\n",
    "\n",
    "    plt.subplot(1 , 3, i+1)\n",
    "\n",
    "    plt.hist(df_f1.cnt, 10, color='lightblue', range=range )\n",
    "    plt.axvline(mean_cnt, color='indigo')\n",
    "    plt.text(mean_cnt + 0.01, 500, 'mean=%.2f' % mean_cnt , color=\"indigo\")\n",
    "\n",
    "    plt.axvline(median_cnt, color=\"blue\")\n",
    "    plt.text(median_cnt + 0.01, 1000, 'median=%.2f' % median_cnt , color=\"blue\")\n",
    "    \n",
    "    plt.title(title)\n",
    "\n",
    "\n",
    "show_hist(0, df_ne_count[vocab], title='All counts')\n",
    "show_hist(1, df_ne_count[vocab], range=(df_ne_count[vocab].cnt.quantile(0.05) ,  \n",
    "                                        df_ne_count[vocab].cnt.quantile(0.95)),\n",
    "          title='Middle 90%' )\n",
    "show_hist(2, df_ne_count[vocab], range=(df_ne_count[vocab].cnt.quantile(0.25) ,\n",
    "                                        df_ne_count[vocab].cnt.quantile(0.75)),\n",
    "         title='Middle 50%')"
   ]
  },
  {
   "cell_type": "markdown",
   "metadata": {
    "id": "DAhvjmLoAzUH"
   },
   "source": [
    "### Missing labels"
   ]
  },
  {
   "cell_type": "code",
   "execution_count": 19,
   "metadata": {
    "colab": {
     "base_uri": "https://localhost:8080/",
     "height": 49
    },
    "executionInfo": {
     "elapsed": 10,
     "status": "ok",
     "timestamp": 1663847744419,
     "user": {
      "displayName": "Anna Bobasheva",
      "userId": "05152602834421587169"
     },
     "user_tz": -120
    },
    "id": "ginEkRsQAzUH",
    "outputId": "0760889c-5668-4ea7-facc-3cb3ce161c04",
    "scrolled": true
   },
   "outputs": [
    {
     "name": "stdout",
     "output_type": "stream",
     "text": [
      "(28, 5)\n"
     ]
    },
    {
     "data": {
      "text/html": [
       "<style type=\"text/css\">\n",
       "</style>\n",
       "<table id=\"T_5be7c\">\n",
       "  <thead>\n",
       "    <tr>\n",
       "      <th class=\"blank level0\" >&nbsp;</th>\n",
       "      <th id=\"T_5be7c_level0_col0\" class=\"col_heading level0 col0\" >uri</th>\n",
       "      <th id=\"T_5be7c_level0_col1\" class=\"col_heading level0 col1\" >entityLabel</th>\n",
       "      <th id=\"T_5be7c_level0_col2\" class=\"col_heading level0 col2\" >cnt</th>\n",
       "      <th id=\"T_5be7c_level0_col3\" class=\"col_heading level0 col3\" >min_conf</th>\n",
       "      <th id=\"T_5be7c_level0_col4\" class=\"col_heading level0 col4\" >max_conf</th>\n",
       "    </tr>\n",
       "  </thead>\n",
       "  <tbody>\n",
       "    <tr>\n",
       "      <th id=\"T_5be7c_level0_row0\" class=\"row_heading level0 row0\" >8813</th>\n",
       "      <td id=\"T_5be7c_row0_col0\" class=\"data row0 col0\" ><a href=\"http://dbpedia.org/resource/Ks_ratio\">http://dbpedia.org/resource/Ks_ratio</a></td>\n",
       "      <td id=\"T_5be7c_row0_col1\" class=\"data row0 col1\" >None</td>\n",
       "      <td id=\"T_5be7c_row0_col2\" class=\"data row0 col2\" >13</td>\n",
       "      <td id=\"T_5be7c_row0_col3\" class=\"data row0 col3\" >1.000000</td>\n",
       "      <td id=\"T_5be7c_row0_col4\" class=\"data row0 col4\" >1.000000</td>\n",
       "    </tr>\n",
       "    <tr>\n",
       "      <th id=\"T_5be7c_level0_row1\" class=\"row_heading level0 row1\" >3494</th>\n",
       "      <td id=\"T_5be7c_row1_col0\" class=\"data row1 col0\" ><a href=\"http://dbpedia.org/resource/IEC_17025\">http://dbpedia.org/resource/IEC_17025</a></td>\n",
       "      <td id=\"T_5be7c_row1_col1\" class=\"data row1 col1\" >None</td>\n",
       "      <td id=\"T_5be7c_row1_col2\" class=\"data row1 col2\" >8</td>\n",
       "      <td id=\"T_5be7c_row1_col3\" class=\"data row1 col3\" >1.000000</td>\n",
       "      <td id=\"T_5be7c_row1_col4\" class=\"data row1 col4\" >1.000000</td>\n",
       "    </tr>\n",
       "    <tr>\n",
       "      <th id=\"T_5be7c_level0_row2\" class=\"row_heading level0 row2\" >4869</th>\n",
       "      <td id=\"T_5be7c_row2_col0\" class=\"data row2 col0\" ><a href=\"http://dbpedia.org/resource/K_selection_theory\">http://dbpedia.org/resource/K_selection_theory</a></td>\n",
       "      <td id=\"T_5be7c_row2_col1\" class=\"data row2 col1\" >None</td>\n",
       "      <td id=\"T_5be7c_row2_col2\" class=\"data row2 col2\" >7</td>\n",
       "      <td id=\"T_5be7c_row2_col3\" class=\"data row2 col3\" >0.995159</td>\n",
       "      <td id=\"T_5be7c_row2_col4\" class=\"data row2 col4\" >1.000000</td>\n",
       "    </tr>\n",
       "    <tr>\n",
       "      <th id=\"T_5be7c_level0_row3\" class=\"row_heading level0 row3\" >5487</th>\n",
       "      <td id=\"T_5be7c_row3_col0\" class=\"data row3 col0\" ><a href=\"http://dbpedia.org/resource/Threonine-specific_protein_kinase\">http://dbpedia.org/resource/Threonine-specific_protein_kinase</a></td>\n",
       "      <td id=\"T_5be7c_row3_col1\" class=\"data row3 col1\" >None</td>\n",
       "      <td id=\"T_5be7c_row3_col2\" class=\"data row3 col2\" >6</td>\n",
       "      <td id=\"T_5be7c_row3_col3\" class=\"data row3 col3\" >1.000000</td>\n",
       "      <td id=\"T_5be7c_row3_col4\" class=\"data row3 col4\" >1.000000</td>\n",
       "    </tr>\n",
       "    <tr>\n",
       "      <th id=\"T_5be7c_level0_row4\" class=\"row_heading level0 row4\" >7413</th>\n",
       "      <td id=\"T_5be7c_row4_col0\" class=\"data row4 col0\" ><a href=\"http://fr.dbpedia.org/resource/Fonction_de_répartition\">http://fr.dbpedia.org/resource/Fonction_de_répartition</a></td>\n",
       "      <td id=\"T_5be7c_row4_col1\" class=\"data row4 col1\" >None</td>\n",
       "      <td id=\"T_5be7c_row4_col2\" class=\"data row4 col2\" >5</td>\n",
       "      <td id=\"T_5be7c_row4_col3\" class=\"data row4 col3\" >1.000000</td>\n",
       "      <td id=\"T_5be7c_row4_col4\" class=\"data row4 col4\" >1.000000</td>\n",
       "    </tr>\n",
       "  </tbody>\n",
       "</table>\n"
      ],
      "text/plain": [
       "<pandas.io.formats.style.Styler at 0x24c3a3effa0>"
      ]
     },
     "execution_count": 19,
     "metadata": {},
     "output_type": "execute_result"
    }
   ],
   "source": [
    "print(df_ne_count[vocab][df_ne_count[vocab].entityLabel.isna()].shape)\n",
    "\n",
    "df_ne_count[vocab][df_ne_count[vocab].entityLabel.isna()]\\\n",
    "    .head()\\\n",
    "    .style.format({'uri': hyperlink})"
   ]
  },
  {
   "cell_type": "markdown",
   "metadata": {
    "id": "HQatWfwxAzUH"
   },
   "source": [
    "OBSERVATIONS: \n",
    "- AGROVOC: no missing values! :thumbup\n",
    "- GEONAMES: some GeonamesID in Wikidata are obsolete. For ex. 8505035 for Yuogoslavia.  \n",
    "- WIKIDATA: investigate why 322 entities do not have labels\n",
    "- DBPEDIA: Cannot retrieve labels for 28 entities because the labels are not defined in their respective DBPedia instances."
   ]
  },
  {
   "cell_type": "markdown",
   "metadata": {
    "id": "Lt8-OWoDAzUH"
   },
   "source": [
    "### Named entities recognised from a short word ( surface <= 3 characters)"
   ]
  },
  {
   "cell_type": "code",
   "execution_count": 20,
   "metadata": {
    "executionInfo": {
     "elapsed": 8,
     "status": "ok",
     "timestamp": 1663847744420,
     "user": {
      "displayName": "Anna Bobasheva",
      "userId": "05152602834421587169"
     },
     "user_tz": -120
    },
    "id": "dv3TNyaPAzUI"
   },
   "outputs": [],
   "source": [
    "short_text_query_templ = '''\n",
    "PREFIX rdf: <http://www.w3.org/1999/02/22-rdf-syntax-ns#>\n",
    "PREFIX rdfs: <http://www.w3.org/2000/01/rdf-schema#>\n",
    "PREFIX oa:     <http://www.w3.org/ns/oa#>\n",
    "PREFIX skos: <http://www.w3.org/2004/02/skos/core#>\n",
    "PREFIX skosxl: <http://www.w3.org/2008/05/skos-xl#>\n",
    "PREFIX issa:   <http://data-issa.cirad.fr/>\n",
    "PREFIX prov: <http://www.w3.org/ns/prov#>\n",
    "PREFIX dct:    <http://purl.org/dc/terms/>\n",
    "PREFIX schema: <http://schema.org/>\n",
    "PREFIX gn:     <http://www.geonames.org/ontology#>\n",
    "PREFIX issapr:  <http://data-issa.cirad.fr/property/> \n",
    "\n",
    "SELECT ?surfaceLen ?surface ?entityLabel_en ?entityLabel_fr ?entityLabel ?entityUri ?cnt \n",
    "FROM <http://data-issa.cirad.fr/graph/dbpedia-spotlight-nes>\n",
    "FROM <http://data-issa.cirad.fr/graph/entity-fishing-nes>\n",
    "FROM <http://data-issa.cirad.fr/graph/geographic-nes>\n",
    "FROM <http://data-issa.cirad.fr/graph/pyclinrec-nes>\n",
    "FROM <http://data-issa.cirad.fr/graph/dbpedia-named-entities>\n",
    "FROM <http://data-issa.cirad.fr/graph/wikidata-named-entities>\n",
    "FROM <http://geonames.org/graph>\n",
    "FROM <http://agrovoc.fao.org/graph>\n",
    "WHERE {\n",
    "      {SELECT ?surface ?entityUri (count(?surface) as ?cnt) (max(?surfaceLEN) as ?surfaceLen)\n",
    "      WHERE {\n",
    "            #VALUES (?entity) {(<http://data-issa.cirad.fr/ann/00006684522793ef568fee34752ac6371f33d3c3>)}\n",
    "            ?entity a prov:Entity;\n",
    "                  oa:hasBody ?entityUri;       \n",
    "                  oa:hasTarget/oa:hasSelector ?selector;\n",
    "                  oa:hasTarget/oa:hasSource ?source;\n",
    "                  issapr:confidence ?conf;\n",
    "                  prov:wasAttributedTo ?annotator.\n",
    "            FILTER (?annotator = %s) # issa:EntityFishing | issa:DBPediaSpotlight | issa:GeographicEntityExtractor | issa:Pyclinrec\n",
    "\n",
    "            ?selector oa:exact ?surface;\n",
    "                  oa:start ?start.\n",
    "\n",
    "            BIND ( STRLEN(?surface) as ?surfaceLEN )\n",
    "            FILTER ( ?surfaceLEN %s )\n",
    "            } \n",
    "      GROUP BY ?surface ?entityUri ?entityLabel\n",
    "      }\n",
    "      OPTIONAL {\n",
    "            #?entityUri rdfs:label|skos:prefLabel|(skosxl:prefLabel/skosxl:literalForm)|dct:title|schema:name|gn:officialName|gn:alternateName|gn:name|gn:shortName ?entityLabel.\n",
    "            ?entityUri %s ?entityLabel_en.\n",
    "            FILTER langMatches(lang(?entityLabel_en), \"en\" )\n",
    "      }\n",
    "      OPTIONAL {\n",
    "            ?entityUri %s ?entityLabel_fr.\n",
    "            FILTER langMatches(lang(?entityLabel_fr), \"fr\" )\n",
    "      }\n",
    "      # for Geonames\n",
    "      #OPTIONAL {\n",
    "      #      ?entityUri gn:name ?entityLabel_nolang.\n",
    "      #}\n",
    "\n",
    "      BIND(COALESCE(?entityLabel_en, ?entityLabel_fr, ?entityLabel_nolang) as ?entityLabel)\n",
    "}\n",
    "ORDER BY ?surface ?entityLabel\n",
    "'''"
   ]
  },
  {
   "cell_type": "code",
   "execution_count": 21,
   "metadata": {
    "colab": {
     "base_uri": "https://localhost:8080/"
    },
    "executionInfo": {
     "elapsed": 15092,
     "status": "ok",
     "timestamp": 1663847759505,
     "user": {
      "displayName": "Anna Bobasheva",
      "userId": "05152602834421587169"
     },
     "user_tz": -120
    },
    "id": "2EOiMpwGAzUI",
    "outputId": "0a3853ef-f178-4f35-fb05-fda7bed7898e"
   },
   "outputs": [
    {
     "name": "stdout",
     "output_type": "stream",
     "text": [
      "issa:DBPediaSpotlight (8018, 7)\n"
     ]
    }
   ],
   "source": [
    "df_short_text_count = {}\n",
    "\n",
    "df_short_text_count[vocab] = sparql_service_to_dataframe(issa_agritrop_endpoint,  \n",
    "                                                            short_text_query_templ %  (annotators[vocab], '< 4',\n",
    "                                                                                       label_path[vocab], label_path[vocab]) )\n",
    "df_short_text_count[vocab] = df_short_text_count[vocab].astype({'cnt': 'int',\n",
    "                                                                'surfaceLen': 'int'})\n",
    "print(annotators[vocab] , df_short_text_count[vocab].shape)"
   ]
  },
  {
   "cell_type": "markdown",
   "metadata": {
    "id": "NcZS7vzRAzUI"
   },
   "source": [
    "#### len(surface) == 1"
   ]
  },
  {
   "cell_type": "code",
   "execution_count": 22,
   "metadata": {
    "colab": {
     "base_uri": "https://localhost:8080/",
     "height": 0
    },
    "executionInfo": {
     "elapsed": 19,
     "status": "ok",
     "timestamp": 1663847759506,
     "user": {
      "displayName": "Anna Bobasheva",
      "userId": "05152602834421587169"
     },
     "user_tz": -120
    },
    "id": "7BiPQ_nrAzUI",
    "outputId": "d7447ce0-f690-4aaf-bf94-7e4a5e8b5847"
   },
   "outputs": [
    {
     "name": "stdout",
     "output_type": "stream",
     "text": [
      "(0, 7)\n"
     ]
    },
    {
     "data": {
      "text/html": [
       "<div>\n",
       "<style scoped>\n",
       "    .dataframe tbody tr th:only-of-type {\n",
       "        vertical-align: middle;\n",
       "    }\n",
       "\n",
       "    .dataframe tbody tr th {\n",
       "        vertical-align: top;\n",
       "    }\n",
       "\n",
       "    .dataframe thead th {\n",
       "        text-align: right;\n",
       "    }\n",
       "</style>\n",
       "<table border=\"1\" class=\"dataframe\">\n",
       "  <thead>\n",
       "    <tr style=\"text-align: right;\">\n",
       "      <th></th>\n",
       "      <th>surfaceLen</th>\n",
       "      <th>surface</th>\n",
       "      <th>entityLabel_en</th>\n",
       "      <th>entityLabel_fr</th>\n",
       "      <th>entityLabel</th>\n",
       "      <th>entityUri</th>\n",
       "      <th>cnt</th>\n",
       "    </tr>\n",
       "  </thead>\n",
       "  <tbody>\n",
       "  </tbody>\n",
       "</table>\n",
       "</div>"
      ],
      "text/plain": [
       "Empty DataFrame\n",
       "Columns: [surfaceLen, surface, entityLabel_en, entityLabel_fr, entityLabel, entityUri, cnt]\n",
       "Index: []"
      ]
     },
     "execution_count": 22,
     "metadata": {},
     "output_type": "execute_result"
    }
   ],
   "source": [
    "print(df_short_text_count[vocab].loc[df_short_text_count[vocab].surfaceLen == 1].shape)\n",
    "df_short_text_count[vocab].loc[df_short_text_count[vocab].surfaceLen == 1]\\\n",
    "                          .sort_values(by=['entityLabel_en','cnt'])\\\n",
    "                  #.style.set_table_styles(table_style)"
   ]
  },
  {
   "cell_type": "markdown",
   "metadata": {
    "id": "v244YOJbAzUJ"
   },
   "source": [
    "OBSERVATIONS: \n",
    "- AGROVOC: filtering of surface >= 3 in effect :thumbsup\n",
    "- GEONAMES: filtering of surface >= 2 in effect :thumbsup\n",
    "- WIKIDATA:  filtering surface string >= 3 in effect :thumbsup\n",
    "- DBPEDIA: filtering surface string >= 3 in effect :thumbsup"
   ]
  },
  {
   "cell_type": "markdown",
   "metadata": {
    "id": "sInD7OXBAzUJ"
   },
   "source": [
    "#### len(surface) == 2"
   ]
  },
  {
   "cell_type": "code",
   "execution_count": 23,
   "metadata": {
    "colab": {
     "base_uri": "https://localhost:8080/",
     "height": 0
    },
    "executionInfo": {
     "elapsed": 16,
     "status": "ok",
     "timestamp": 1663847759506,
     "user": {
      "displayName": "Anna Bobasheva",
      "userId": "05152602834421587169"
     },
     "user_tz": -120
    },
    "id": "oDH7cWDIAzUJ",
    "outputId": "5bdf7682-239e-4ca4-894c-e73391860f35"
   },
   "outputs": [
    {
     "name": "stdout",
     "output_type": "stream",
     "text": [
      "(0, 7)\n"
     ]
    },
    {
     "data": {
      "text/html": [
       "<div>\n",
       "<style scoped>\n",
       "    .dataframe tbody tr th:only-of-type {\n",
       "        vertical-align: middle;\n",
       "    }\n",
       "\n",
       "    .dataframe tbody tr th {\n",
       "        vertical-align: top;\n",
       "    }\n",
       "\n",
       "    .dataframe thead th {\n",
       "        text-align: right;\n",
       "    }\n",
       "</style>\n",
       "<table border=\"1\" class=\"dataframe\">\n",
       "  <thead>\n",
       "    <tr style=\"text-align: right;\">\n",
       "      <th></th>\n",
       "      <th>surfaceLen</th>\n",
       "      <th>surface</th>\n",
       "      <th>entityLabel_en</th>\n",
       "      <th>entityLabel_fr</th>\n",
       "      <th>entityLabel</th>\n",
       "      <th>entityUri</th>\n",
       "      <th>cnt</th>\n",
       "    </tr>\n",
       "  </thead>\n",
       "  <tbody>\n",
       "  </tbody>\n",
       "</table>\n",
       "</div>"
      ],
      "text/plain": [
       "Empty DataFrame\n",
       "Columns: [surfaceLen, surface, entityLabel_en, entityLabel_fr, entityLabel, entityUri, cnt]\n",
       "Index: []"
      ]
     },
     "execution_count": 23,
     "metadata": {},
     "output_type": "execute_result"
    }
   ],
   "source": [
    "print(df_short_text_count[vocab].loc[df_short_text_count[vocab].surfaceLen == 2].shape)\n",
    "df_short_text_count[vocab].loc[df_short_text_count[vocab].surfaceLen == 2]\\\n",
    "                          .sort_values(by=['cnt'], ascending=False)\\\n",
    "                  #.style.format({'entityUri': hyperlink})"
   ]
  },
  {
   "cell_type": "markdown",
   "metadata": {
    "id": "CmCdG4QoAzUJ"
   },
   "source": [
    "CONCLUSION: \n",
    "- AGROVOC: the 2 letter surface also does not match very well with the exceptions of UK, EU, and pH. I think they should be filtered as well (0.4% of all) => filtering surface string >= 3 in effect\n",
    "- GEONAMES: the most popular 2 letter entities look like legit abbreviations, e.g.  *UK* or *US*. \n",
    "- WIKIDATA: filtering surface string >= 3 is in effect :thimbsup\n",
    "- DBPEDIA: filtering surface string >= 3 is in effect :thimbsup"
   ]
  },
  {
   "cell_type": "markdown",
   "metadata": {
    "id": "b0AhQvfUAzUJ"
   },
   "source": [
    "#### len(surface) == 3"
   ]
  },
  {
   "cell_type": "code",
   "execution_count": 24,
   "metadata": {
    "colab": {
     "base_uri": "https://localhost:8080/",
     "height": 0
    },
    "executionInfo": {
     "elapsed": 16,
     "status": "ok",
     "timestamp": 1663847759507,
     "user": {
      "displayName": "Anna Bobasheva",
      "userId": "05152602834421587169"
     },
     "user_tz": -120
    },
    "id": "IyJ3MtOiAzUK",
    "outputId": "878bd55b-73aa-474e-b1de-f3ace9020354",
    "scrolled": true
   },
   "outputs": [
    {
     "data": {
      "text/html": [
       "<div>\n",
       "<style scoped>\n",
       "    .dataframe tbody tr th:only-of-type {\n",
       "        vertical-align: middle;\n",
       "    }\n",
       "\n",
       "    .dataframe tbody tr th {\n",
       "        vertical-align: top;\n",
       "    }\n",
       "\n",
       "    .dataframe thead th {\n",
       "        text-align: right;\n",
       "    }\n",
       "</style>\n",
       "<table border=\"1\" class=\"dataframe\">\n",
       "  <thead>\n",
       "    <tr style=\"text-align: right;\">\n",
       "      <th></th>\n",
       "      <th>surfaceLen</th>\n",
       "      <th>surface</th>\n",
       "      <th>entityLabel_en</th>\n",
       "      <th>entityLabel_fr</th>\n",
       "      <th>entityLabel</th>\n",
       "      <th>entityUri</th>\n",
       "      <th>cnt</th>\n",
       "    </tr>\n",
       "  </thead>\n",
       "  <tbody>\n",
       "    <tr>\n",
       "      <th>6526</th>\n",
       "      <td>3</td>\n",
       "      <td>eau</td>\n",
       "      <td>None</td>\n",
       "      <td>Eau</td>\n",
       "      <td>Eau</td>\n",
       "      <td>http://fr.dbpedia.org/resource/Eau</td>\n",
       "      <td>12085</td>\n",
       "    </tr>\n",
       "    <tr>\n",
       "      <th>7540</th>\n",
       "      <td>3</td>\n",
       "      <td>riz</td>\n",
       "      <td>None</td>\n",
       "      <td>Riz</td>\n",
       "      <td>Riz</td>\n",
       "      <td>http://fr.dbpedia.org/resource/Riz</td>\n",
       "      <td>3892</td>\n",
       "    </tr>\n",
       "    <tr>\n",
       "      <th>4174</th>\n",
       "      <td>3</td>\n",
       "      <td>PCR</td>\n",
       "      <td>Polymerase chain reaction</td>\n",
       "      <td>None</td>\n",
       "      <td>Polymerase chain reaction</td>\n",
       "      <td>http://dbpedia.org/resource/Polymerase_chain_r...</td>\n",
       "      <td>2689</td>\n",
       "    </tr>\n",
       "    <tr>\n",
       "      <th>1434</th>\n",
       "      <td>3</td>\n",
       "      <td>DNA</td>\n",
       "      <td>DNA</td>\n",
       "      <td>None</td>\n",
       "      <td>DNA</td>\n",
       "      <td>http://dbpedia.org/resource/DNA</td>\n",
       "      <td>2301</td>\n",
       "    </tr>\n",
       "    <tr>\n",
       "      <th>5720</th>\n",
       "      <td>3</td>\n",
       "      <td>USA</td>\n",
       "      <td>United States</td>\n",
       "      <td>None</td>\n",
       "      <td>United States</td>\n",
       "      <td>http://dbpedia.org/resource/United_States</td>\n",
       "      <td>1821</td>\n",
       "    </tr>\n",
       "  </tbody>\n",
       "</table>\n",
       "</div>"
      ],
      "text/plain": [
       "      surfaceLen surface             entityLabel_en entityLabel_fr  \\\n",
       "6526           3     eau                       None            Eau   \n",
       "7540           3     riz                       None            Riz   \n",
       "4174           3     PCR  Polymerase chain reaction           None   \n",
       "1434           3     DNA                        DNA           None   \n",
       "5720           3     USA              United States           None   \n",
       "\n",
       "                    entityLabel  \\\n",
       "6526                        Eau   \n",
       "7540                        Riz   \n",
       "4174  Polymerase chain reaction   \n",
       "1434                        DNA   \n",
       "5720              United States   \n",
       "\n",
       "                                              entityUri    cnt  \n",
       "6526                 http://fr.dbpedia.org/resource/Eau  12085  \n",
       "7540                 http://fr.dbpedia.org/resource/Riz   3892  \n",
       "4174  http://dbpedia.org/resource/Polymerase_chain_r...   2689  \n",
       "1434                    http://dbpedia.org/resource/DNA   2301  \n",
       "5720          http://dbpedia.org/resource/United_States   1821  "
      ]
     },
     "execution_count": 24,
     "metadata": {},
     "output_type": "execute_result"
    }
   ],
   "source": [
    "pd.options.display.max_rows = 100\n",
    "df_short_text_count[vocab].loc[df_short_text_count[vocab].surfaceLen == 3]\\\n",
    "                          .sort_values(by=['cnt', 'entityLabel_en'], ascending=False)\\\n",
    "               .head()\n",
    "               #.style.format({'entityUri': hyperlink})\n"
   ]
  },
  {
   "cell_type": "markdown",
   "metadata": {},
   "source": [
    "OBSERVATIONS: \n",
    "- AGROVOC: for the populous 3 letter words the annotation is pretty accurate. For less popular words and abbreviations it's hard to tell without the context\n",
    "- GEONAMES: Lot's of abbreviations for geographical entities with 3 letters. We should keep them  \n",
    "- WIKIDATA: hard to tell. some of the 3 letter entities look ok, like *CWD* (Coffee Wilt Disease). Definetely needs a closer look.\n",
    "- DBPEDIA: hard to tell. some of the 3 letter entities look ok, like *USA* (United States) or *DNA*.  "
   ]
  },
  {
   "cell_type": "markdown",
   "metadata": {
    "id": "C_46UB3cAzUM"
   },
   "source": [
    "### Surface forms that begin with non-letters"
   ]
  },
  {
   "cell_type": "code",
   "execution_count": 25,
   "metadata": {},
   "outputs": [],
   "source": [
    "text_starts_with_non_letter_query_templ = ''' \n",
    "PREFIX rdf: <http://www.w3.org/1999/02/22-rdf-syntax-ns#>\n",
    "PREFIX rdfs: <http://www.w3.org/2000/01/rdf-schema#>\n",
    "PREFIX oa:     <http://www.w3.org/ns/oa#>\n",
    "PREFIX skos: <http://www.w3.org/2004/02/skos/core#>\n",
    "PREFIX skosxl: <http://www.w3.org/2008/05/skos-xl#>\n",
    "PREFIX issa:   <http://data-issa.cirad.fr/>\n",
    "PREFIX prov: <http://www.w3.org/ns/prov#>\n",
    "PREFIX dct:    <http://purl.org/dc/terms/>\n",
    "PREFIX schema: <http://schema.org/>\n",
    "PREFIX gn:     <http://www.geonames.org/ontology#>\n",
    "PREFIX issapr:  <http://data-issa.cirad.fr/property/> \n",
    "\n",
    "SELECT ?surfaceLen ?surface ?entityLabel_en ?entityLabel_fr ?entityLabel ?entityUri ?cnt \n",
    "FROM <http://data-issa.cirad.fr/graph/dbpedia-spotlight-nes>\n",
    "FROM <http://data-issa.cirad.fr/graph/entity-fishing-nes>\n",
    "FROM <http://data-issa.cirad.fr/graph/geographic-nes>\n",
    "FROM <http://data-issa.cirad.fr/graph/pyclinrec-nes>\n",
    "FROM <http://data-issa.cirad.fr/graph/dbpedia-named-entities>\n",
    "FROM <http://data-issa.cirad.fr/graph/wikidata-named-entities>\n",
    "FROM <http://geonames.org/graph>\n",
    "FROM <http://agrovoc.fao.org/graph>\n",
    "WHERE {\n",
    "      {SELECT ?surface ?entityUri (count(?surface) as ?cnt) (max(?surfaceLEN) as ?surfaceLen)\n",
    "      WHERE {\n",
    "            #VALUES (?entity) {(<http://data-issa.cirad.fr/ann/00006684522793ef568fee34752ac6371f33d3c3>)}\n",
    "            ?entity a prov:Entity;\n",
    "                  oa:hasBody ?entityUri;       \n",
    "                  oa:hasTarget/oa:hasSelector ?selector;\n",
    "                  oa:hasTarget/oa:hasSource ?source;\n",
    "                  issapr:confidence ?conf;\n",
    "                  prov:wasAttributedTo ?annotator.\n",
    "            FILTER (?annotator = %s) # issa:EntityFishing | issa:DBPediaSpotlight | issa:GeographicEntityExtractor | issa:Pyclinrec\n",
    "\n",
    "            ?selector oa:exact ?surface;\n",
    "                  oa:start ?start.\n",
    "\n",
    "            BIND ( STRLEN(?surface) as ?surfaceLEN )\n",
    "            FILTER ( ! REGEX(?surface, \"^[a-z,A-Z,À-ÿ]\")  ) # Greek letters ,\\\\p{Greek},µ\n",
    "            } \n",
    "      GROUP BY ?surface ?entityUri ?entityLabel\n",
    "      }\n",
    "      OPTIONAL {\n",
    "            #?entityUri rdfs:label|skos:prefLabel|(skosxl:prefLabel/skosxl:literalForm)|dct:title|schema:name|gn:officialName|gn:alternateName|gn:name|gn:shortName ?entityLabel.\n",
    "            ?entityUri %s ?entityLabel_en.\n",
    "            FILTER langMatches(lang(?entityLabel_en), \"en\" )\n",
    "      }\n",
    "      OPTIONAL {\n",
    "            ?entityUri %s ?entityLabel_fr.\n",
    "            FILTER langMatches(lang(?entityLabel_fr), \"fr\" )\n",
    "      }\n",
    "      # for Geonames\n",
    "      OPTIONAL {\n",
    "            ?entityUri gn:name ?entityLabel_nolang.\n",
    "      }\n",
    "\n",
    "      BIND(COALESCE(?entityLabel_en, ?entityLabel_fr, ?entityLabel_nolang) as ?entityLabel)\n",
    "}\n",
    "ORDER BY ?surface ?entityLabel\n",
    "'''"
   ]
  },
  {
   "cell_type": "code",
   "execution_count": 26,
   "metadata": {},
   "outputs": [
    {
     "name": "stdout",
     "output_type": "stream",
     "text": [
      "issa:DBPediaSpotlight (0, 7)\n"
     ]
    }
   ],
   "source": [
    "df_non_letter_count = {}\n",
    "\n",
    "df_non_letter_count[vocab] = sparql_service_to_dataframe(issa_agritrop_endpoint,  \n",
    "                                                            text_starts_with_non_letter_query_templ %  (annotators[vocab],\n",
    "                                                                                       label_path[vocab], label_path[vocab]) )\n",
    "df_non_letter_count[vocab] = df_non_letter_count[vocab].astype({'cnt': 'int',\n",
    "                                                                'surfaceLen': 'int'})\n",
    "print(annotators[vocab] , df_non_letter_count[vocab].shape)"
   ]
  },
  {
   "cell_type": "code",
   "execution_count": 27,
   "metadata": {},
   "outputs": [
    {
     "data": {
      "text/html": [
       "<div>\n",
       "<style scoped>\n",
       "    .dataframe tbody tr th:only-of-type {\n",
       "        vertical-align: middle;\n",
       "    }\n",
       "\n",
       "    .dataframe tbody tr th {\n",
       "        vertical-align: top;\n",
       "    }\n",
       "\n",
       "    .dataframe thead th {\n",
       "        text-align: right;\n",
       "    }\n",
       "</style>\n",
       "<table border=\"1\" class=\"dataframe\">\n",
       "  <thead>\n",
       "    <tr style=\"text-align: right;\">\n",
       "      <th></th>\n",
       "      <th>surfaceLen</th>\n",
       "      <th>surface</th>\n",
       "      <th>entityLabel_en</th>\n",
       "      <th>entityLabel_fr</th>\n",
       "      <th>entityLabel</th>\n",
       "      <th>entityUri</th>\n",
       "      <th>cnt</th>\n",
       "    </tr>\n",
       "  </thead>\n",
       "  <tbody>\n",
       "  </tbody>\n",
       "</table>\n",
       "</div>"
      ],
      "text/plain": [
       "Empty DataFrame\n",
       "Columns: [surfaceLen, surface, entityLabel_en, entityLabel_fr, entityLabel, entityUri, cnt]\n",
       "Index: []"
      ]
     },
     "execution_count": 27,
     "metadata": {},
     "output_type": "execute_result"
    }
   ],
   "source": [
    "df_non_letter_count[vocab].sort_values(by=['surface'])\\\n",
    "                  #.style.format({'entityUri': hyperlink})\n",
    "                  "
   ]
  },
  {
   "cell_type": "markdown",
   "metadata": {},
   "source": [
    "OBSERVATIONS:\n",
    "- AGROVOC: filtering out of non-letters beginings of the text is in effect\n",
    "- GEONAMES: filtering out of non-letters beginings of the text is in effect\n",
    "- WIKIDATA: filtering out of non-letters beginings of the text is in effect in most part. We should add a curly bracket to the set of non-alphabet characters. But the unit entities taht begin with  µ should stay.\n",
    "- DBPEDIA: filtering out of non-letters beginings of the text is in effect\n",
    "\n"
   ]
  },
  {
   "cell_type": "markdown",
   "metadata": {
    "id": "9Hx6L034AzUL"
   },
   "source": [
    "### Multiple named entities for one surface form"
   ]
  },
  {
   "cell_type": "code",
   "execution_count": 28,
   "metadata": {
    "executionInfo": {
     "elapsed": 13,
     "status": "ok",
     "timestamp": 1663847759508,
     "user": {
      "displayName": "Anna Bobasheva",
      "userId": "05152602834421587169"
     },
     "user_tz": -120
    },
    "id": "jw3LX-n0AzUL"
   },
   "outputs": [],
   "source": [
    "multiple_entities_query_templ = '''\n",
    "PREFIX rdf: <http://www.w3.org/1999/02/22-rdf-syntax-ns#>\n",
    "PREFIX rdfs: <http://www.w3.org/2000/01/rdf-schema#>\n",
    "PREFIX oa:     <http://www.w3.org/ns/oa#>\n",
    "PREFIX skos: <http://www.w3.org/2004/02/skos/core#>\n",
    "PREFIX skosxl: <http://www.w3.org/2008/05/skos-xl#>\n",
    "PREFIX issa:   <http://data-issa.cirad.fr/>\n",
    "PREFIX prov: <http://www.w3.org/ns/prov#>\n",
    "PREFIX dct:    <http://purl.org/dc/terms/>\n",
    "PREFIX schema: <http://schema.org/>\n",
    "PREFIX gn:     <http://www.geonames.org/ontology#>\n",
    "\n",
    "\n",
    "SELECT ?source ?surface ?start ?cnt \n",
    "       #?entities \n",
    "WHERE {\n",
    "  { SELECT ?source ?surface ?start \n",
    "          (count(?entityUri) as ?cnt)\n",
    "          (group_concat(?entityUri; separator=\", \") as ?entities) \n",
    "    WHERE {\n",
    "          #VALUES (?entity) {(<http://data-issa.cirad.fr/ann/00006684522793ef568fee34752ac6371f33d3c3>)}\n",
    "          ?entity a prov:Entity;\n",
    "                  oa:hasBody ?entityUri;       \n",
    "                  oa:hasTarget/oa:hasSelector ?selector;\n",
    "                  oa:hasTarget/oa:hasSource ?source;\n",
    "                  prov:wasAttributedTo ?annotator.\n",
    "          FILTER (?annotator = %s) # issa:EntityFishing | issa:DBPediaSpotlight | issa:GeographicEntityExtractor | issa:Pyclinrec\n",
    "\n",
    "          ?selector oa:exact ?surface;\n",
    "                    oa:start ?start.\n",
    "          } \n",
    "    GROUP BY ?source ?surface ?start\n",
    "    HAVING ((count(?entityUri) %s ) )\n",
    "  }\n",
    "\n",
    "}\n",
    "order by desc(?cnt)\n",
    "'''"
   ]
  },
  {
   "cell_type": "code",
   "execution_count": 29,
   "metadata": {
    "colab": {
     "base_uri": "https://localhost:8080/"
    },
    "executionInfo": {
     "elapsed": 47255,
     "status": "ok",
     "timestamp": 1663847806750,
     "user": {
      "displayName": "Anna Bobasheva",
      "userId": "05152602834421587169"
     },
     "user_tz": -120
    },
    "id": "t_w3rTaYAzUL",
    "outputId": "3411bb0b-5556-4393-a17e-928d848d01af"
   },
   "outputs": [
    {
     "name": "stdout",
     "output_type": "stream",
     "text": [
      "issa:DBPediaSpotlight (0, 4)\n"
     ]
    }
   ],
   "source": [
    "pd.options.display.max_colwidth = 100\n",
    "\n",
    "df_multi_entities = df_multi_entities if 'df_multi_entities' in locals() else {}\n",
    "\n",
    "df_multi_entities[vocab] = sparql_service_to_dataframe(issa_agritrop_endpoint,  \n",
    "                                                        multiple_entities_query_templ %  (annotators[vocab], '> 1') )\n",
    "\n",
    "df_multi_entities[vocab] = df_multi_entities[vocab].astype({'cnt': 'int'})\n",
    "\n",
    "print(annotators[vocab] , df_multi_entities[vocab].shape)"
   ]
  },
  {
   "cell_type": "code",
   "execution_count": 30,
   "metadata": {},
   "outputs": [
    {
     "data": {
      "text/html": [
       "<div>\n",
       "<style scoped>\n",
       "    .dataframe tbody tr th:only-of-type {\n",
       "        vertical-align: middle;\n",
       "    }\n",
       "\n",
       "    .dataframe tbody tr th {\n",
       "        vertical-align: top;\n",
       "    }\n",
       "\n",
       "    .dataframe thead th {\n",
       "        text-align: right;\n",
       "    }\n",
       "</style>\n",
       "<table border=\"1\" class=\"dataframe\">\n",
       "  <thead>\n",
       "    <tr style=\"text-align: right;\">\n",
       "      <th></th>\n",
       "      <th>source</th>\n",
       "      <th>surface</th>\n",
       "      <th>start</th>\n",
       "      <th>cnt</th>\n",
       "    </tr>\n",
       "  </thead>\n",
       "  <tbody>\n",
       "  </tbody>\n",
       "</table>\n",
       "</div>"
      ],
      "text/plain": [
       "Empty DataFrame\n",
       "Columns: [source, surface, start, cnt]\n",
       "Index: []"
      ]
     },
     "execution_count": 30,
     "metadata": {},
     "output_type": "execute_result"
    }
   ],
   "source": [
    "pd.options.display.max_rows = 10\n",
    "df_multi_entities[vocab].sort_values(by=['cnt'], ascending=False)\\\n",
    "                        #.head()"
   ]
  },
  {
   "cell_type": "markdown",
   "metadata": {
    "id": "cBVHXaNzAzUL"
   },
   "source": [
    "OBSERVATIONS: \n",
    "- AGROVOC: The number of overlaping entities has been reduced by 10 folds by the new vesrion of pyclinrec. However, the problem with multuple entities for the surfaces with repetitive words still persist although to a lesser scale. More analysuis in the next few cells\n",
    "- GEONAMES: no multiple NEs for the same surface form :thumbsup\n",
    "- WIKIDATA: no multiple NEs for the same surface form :thumbsup\n",
    "- DBPEDIA: no multiple NEs for the same surface form :thumbsup"
   ]
  },
  {
   "cell_type": "markdown",
   "metadata": {},
   "source": [
    "#### detect repeated text \n",
    "\n",
    "Sometimes repeated string in the surface form creates multiple NEs"
   ]
  },
  {
   "cell_type": "code",
   "execution_count": 31,
   "metadata": {},
   "outputs": [
    {
     "data": {
      "text/html": [
       "<div>\n",
       "<style scoped>\n",
       "    .dataframe tbody tr th:only-of-type {\n",
       "        vertical-align: middle;\n",
       "    }\n",
       "\n",
       "    .dataframe tbody tr th {\n",
       "        vertical-align: top;\n",
       "    }\n",
       "\n",
       "    .dataframe thead th {\n",
       "        text-align: right;\n",
       "    }\n",
       "</style>\n",
       "<table border=\"1\" class=\"dataframe\">\n",
       "  <thead>\n",
       "    <tr style=\"text-align: right;\">\n",
       "      <th></th>\n",
       "      <th>source</th>\n",
       "      <th>surface</th>\n",
       "      <th>start</th>\n",
       "      <th>cnt</th>\n",
       "      <th>repeat</th>\n",
       "    </tr>\n",
       "  </thead>\n",
       "  <tbody>\n",
       "  </tbody>\n",
       "</table>\n",
       "</div>"
      ],
      "text/plain": [
       "Empty DataFrame\n",
       "Columns: [source, surface, start, cnt, repeat]\n",
       "Index: []"
      ]
     },
     "execution_count": 31,
     "metadata": {},
     "output_type": "execute_result"
    }
   ],
   "source": [
    "def detect_repeat(string_to_split):\n",
    "    import re\n",
    "    return pd.Series(re.split('-| ', string_to_split.lower())).value_counts().max() > 1\n",
    "\n",
    "df_multi_entities[vocab]['repeat']  = df_multi_entities[vocab].surface.apply(detect_repeat)\n",
    "\n",
    "\n",
    "df_multi_entities[vocab].loc[df_multi_entities[vocab].repeat]\\\n",
    "                        .sort_values(by=['cnt', 'surface'], ascending=False)\\\n",
    "                        .head()\\\n",
    "                        #.style.format({'source': hyperlink})"
   ]
  },
  {
   "cell_type": "code",
   "execution_count": 32,
   "metadata": {},
   "outputs": [
    {
     "data": {
      "text/html": [
       "<div>\n",
       "<style scoped>\n",
       "    .dataframe tbody tr th:only-of-type {\n",
       "        vertical-align: middle;\n",
       "    }\n",
       "\n",
       "    .dataframe tbody tr th {\n",
       "        vertical-align: top;\n",
       "    }\n",
       "\n",
       "    .dataframe thead th {\n",
       "        text-align: right;\n",
       "    }\n",
       "</style>\n",
       "<table border=\"1\" class=\"dataframe\">\n",
       "  <thead>\n",
       "    <tr style=\"text-align: right;\">\n",
       "      <th></th>\n",
       "      <th>source</th>\n",
       "      <th>surface</th>\n",
       "      <th>start</th>\n",
       "      <th>cnt</th>\n",
       "      <th>repeat</th>\n",
       "    </tr>\n",
       "  </thead>\n",
       "  <tbody>\n",
       "  </tbody>\n",
       "</table>\n",
       "</div>"
      ],
      "text/plain": [
       "Empty DataFrame\n",
       "Columns: [source, surface, start, cnt, repeat]\n",
       "Index: []"
      ]
     },
     "execution_count": 32,
     "metadata": {},
     "output_type": "execute_result"
    }
   ],
   "source": [
    "# non repeated text\n",
    "pd.options.display.max_rows = 10\n",
    "df_multi_entities[vocab].loc[df_multi_entities[vocab].repeat==False]\\\n",
    "                        .sort_values(by=['cnt', 'surface'], ascending=False)\\\n",
    "                        .head()\\\n",
    "                        #.style.format({'source': hyperlink})"
   ]
  },
  {
   "cell_type": "code",
   "execution_count": 33,
   "metadata": {
    "colab": {
     "base_uri": "https://localhost:8080/",
     "height": 350
    },
    "executionInfo": {
     "elapsed": 911,
     "status": "ok",
     "timestamp": 1663847807648,
     "user": {
      "displayName": "Anna Bobasheva",
      "userId": "05152602834421587169"
     },
     "user_tz": -120
    },
    "id": "Fk5NlaWtAzUL",
    "outputId": "da91cab9-3b81-4cf0-c70b-3ccb53868831"
   },
   "outputs": [
    {
     "name": "stdout",
     "output_type": "stream",
     "text": [
      "(0, 6)\n"
     ]
    },
    {
     "data": {
      "text/html": [
       "<div>\n",
       "<style scoped>\n",
       "    .dataframe tbody tr th:only-of-type {\n",
       "        vertical-align: middle;\n",
       "    }\n",
       "\n",
       "    .dataframe tbody tr th {\n",
       "        vertical-align: top;\n",
       "    }\n",
       "\n",
       "    .dataframe thead th {\n",
       "        text-align: right;\n",
       "    }\n",
       "</style>\n",
       "<table border=\"1\" class=\"dataframe\">\n",
       "  <thead>\n",
       "    <tr style=\"text-align: right;\">\n",
       "      <th></th>\n",
       "      <th>source</th>\n",
       "      <th>start</th>\n",
       "      <th>surface</th>\n",
       "      <th>entityUri</th>\n",
       "      <th>entityLabel_en</th>\n",
       "      <th>entityLabel_fr</th>\n",
       "    </tr>\n",
       "  </thead>\n",
       "  <tbody>\n",
       "  </tbody>\n",
       "</table>\n",
       "</div>"
      ],
      "text/plain": [
       "Empty DataFrame\n",
       "Columns: [source, start, surface, entityUri, entityLabel_en, entityLabel_fr]\n",
       "Index: []"
      ]
     },
     "execution_count": 33,
     "metadata": {},
     "output_type": "execute_result"
    }
   ],
   "source": [
    "# Complementary query: get all the entities for a specific text\n",
    "\n",
    "entities_for_surface_query_templ = ''' \n",
    "PREFIX rdf: <http://www.w3.org/1999/02/22-rdf-syntax-ns#>\n",
    "PREFIX rdfs: <http://www.w3.org/2000/01/rdf-schema#>\n",
    "PREFIX oa:     <http://www.w3.org/ns/oa#>\n",
    "PREFIX skos: <http://www.w3.org/2004/02/skos/core#>\n",
    "PREFIX skosxl: <http://www.w3.org/2008/05/skos-xl#>\n",
    "PREFIX issa:   <http://data-issa.cirad.fr/>\n",
    "PREFIX prov: <http://www.w3.org/ns/prov#>\n",
    "PREFIX dct:    <http://purl.org/dc/terms/>\n",
    "PREFIX schema: <http://schema.org/>\n",
    "PREFIX gn:     <http://www.geonames.org/ontology#>\n",
    "PREFIX issapr:  <http://data-issa.cirad.fr/property/> \n",
    "\n",
    "SELECT ?source ?start ?surface ?entityUri ?entityLabel_en ?entityLabel_fr\n",
    "WHERE \n",
    "{\n",
    "    VALUES (?source) {(<%s>)}\n",
    "    VALUES (?start) {(%d)}\n",
    "    \n",
    "    ?entity a prov:Entity;\n",
    "            oa:hasBody ?entityUri;       \n",
    "            oa:hasTarget/oa:hasSelector ?selector;\n",
    "            oa:hasTarget/oa:hasSource ?source;\n",
    "            prov:wasAttributedTo ?annotator.\n",
    "    FILTER (?annotator = %s)\n",
    "\n",
    "    ?selector oa:exact ?surface;\n",
    "              oa:start ?start.\n",
    "\n",
    "    OPTIONAL {\n",
    "        ?entityUri rdfs:label|skos:prefLabel|(skosxl:prefLabel/skosxl:literalForm)|dct:title|schema:name|gn:officialName|gn:alternateName|gn:name|gn:shortName ?entityLabel_en.\n",
    "        FILTER langMatches(lang(?entityLabel_en), \"en\" )  }\n",
    "\n",
    "\tOPTIONAL {\n",
    "\t    ?entityUri rdfs:label|skos:prefLabel|(skosxl:prefLabel/skosxl:literalForm)|dct:title|schema:name|gn:officialName|gn:alternateName|gn:name|gn:shortName ?entityLabel_fr.\n",
    "        FILTER langMatches(lang(?entityLabel_fr), \"fr\" ) }\n",
    "}\n",
    "'''\n",
    "\n",
    "# copy/paste the values for this query here: \n",
    "source = 'http://data-issa.cirad.fr/document/593761#body_text'\n",
    "start  = 655\n",
    "\n",
    "df_nes = sparql_service_to_dataframe(issa_agritrop_endpoint,  \n",
    "                                    entities_for_surface_query_templ %  (source, start, annotators[vocab]) )\n",
    "print(df_nes.shape)\n",
    "df_nes"
   ]
  },
  {
   "cell_type": "markdown",
   "metadata": {},
   "source": [
    "### Overlaping Named Entities"
   ]
  },
  {
   "cell_type": "code",
   "execution_count": 77,
   "metadata": {},
   "outputs": [],
   "source": [
    "vocab='agrovoc'"
   ]
  },
  {
   "cell_type": "code",
   "execution_count": 78,
   "metadata": {},
   "outputs": [],
   "source": [
    "overlaping_na_query_templ  = '''\n",
    "PREFIX rdf: <http://www.w3.org/1999/02/22-rdf-syntax-ns#>\n",
    "PREFIX rdfs: <http://www.w3.org/2000/01/rdf-schema#>\n",
    "PREFIX oa:     <http://www.w3.org/ns/oa#>\n",
    "PREFIX issa:   <http://data-issa.cirad.fr/>\n",
    "PREFIX prov: <http://www.w3.org/ns/prov#>\n",
    "PREFIX issapr: <http://data-issa.cirad.fr/property/> \n",
    "\n",
    "select ?source ?surface ?start ?end ?conf ?entityUri\n",
    "               ?surface_ovlp ?start_ovlp ?conf_ovlp \n",
    "               ?entityUri_ovlp ?entity_ovlp\n",
    "WHERE \n",
    "{\n",
    "  {\n",
    "    SELECT distinct ?annotator ?source ?surface ?start ?end ?conf ?entityUri\n",
    "    WHERE {\n",
    "      ?entity a prov:Entity;\n",
    "              oa:hasBody ?entityUri; \n",
    "              oa:hasTarget/oa:hasSelector ?selector;\n",
    "              oa:hasTarget/oa:hasSource ?source;\n",
    "              issapr:confidence ?conf;\n",
    "              prov:wasAttributedTo ?annotator.\n",
    "      FILTER (?annotator = %s ) # issa:EntityFishing | issa:DBPediaSpotlight | issa:GeographicEntityExtractor | issa:Pyclinrec\n",
    "\n",
    "      ?selector oa:exact ?surface;\n",
    "                        oa:start ?start.\n",
    "      OPTIONAL { ?selector oa:end ?end_opt. }\n",
    "      BIND( COALESCE( ?end_, ?start + STRLEN(?surface)) AS ?end)\n",
    "\n",
    "      FILTER(REGEX(?surface, \"\\\\\\\\w+\\\\\\\\s+\\\\\\\\w+\", \"i\")) # 2 or more words\n",
    "      #FILTER(REGEX(?surface, \"\\\\\\\\w+\\\\\\\\s+\\\\\\\\w+(\\\\\\\\s+\\\\\\\\w+)+\", \"i\")) # 3 or more words\n",
    "    }\n",
    "    OFFSET %d\n",
    "    LIMIT %d\n",
    "  }\n",
    "\t?entity_ovlp a prov:Entity;\n",
    "              oa:hasBody ?entityUri_ovlp;       \n",
    "              oa:hasTarget/oa:hasSelector ?selector_ovlp;\n",
    "              oa:hasTarget/oa:hasSource ?source;\n",
    "              issapr:confidence ?conf_ovlp;\n",
    "              prov:wasAttributedTo ?annotator.\n",
    "\n",
    "      ?selector_ovlp  oa:exact ?surface_ovlp;\n",
    "    \t\t\t\t\toa:start ?start_ovlp.\n",
    "      OPTIONAL { ?selector_ovlp oa:end ?end_opt_ovlp. } #this is important for wikidata\n",
    "      BIND( COALESCE( ?end_opt_ovlp, ?start_ovlp + STRLEN(?surface_ovlp)) AS ?end_ovlp) \n",
    "                        \n",
    "      FILTER ( ((?start_ovlp > ?start) && (?start_ovlp < ?end) ) ||\n",
    "               ((?start_ovlp = ?start) && (?end_ovlp   < ?end)) )\n",
    "}\n",
    "'''"
   ]
  },
  {
   "cell_type": "code",
   "execution_count": 79,
   "metadata": {
    "scrolled": false
   },
   "outputs": [
    {
     "name": "stdout",
     "output_type": "stream",
     "text": [
      "fetching... 0\n"
     ]
    },
    {
     "data": {
      "text/plain": [
       "(0, 0)"
      ]
     },
     "execution_count": 79,
     "metadata": {},
     "output_type": "execute_result"
    }
   ],
   "source": [
    "df_overlaping_ne = {}\n",
    "\n",
    "df_overlaping_ne[vocab] = sparql_service_to_dataframe_with_scrollable_cursor(issa_agritrop_endpoint,\n",
    "                                                                             overlaping_na_query_templ,\n",
    "                                                                             (annotators[vocab], ),\n",
    "                                                                             page_size = 5000)\n",
    "df_overlaping_ne[vocab].shape"
   ]
  },
  {
   "cell_type": "code",
   "execution_count": 83,
   "metadata": {},
   "outputs": [
    {
     "data": {
      "text/html": [
       "<div>\n",
       "<style scoped>\n",
       "    .dataframe tbody tr th:only-of-type {\n",
       "        vertical-align: middle;\n",
       "    }\n",
       "\n",
       "    .dataframe tbody tr th {\n",
       "        vertical-align: top;\n",
       "    }\n",
       "\n",
       "    .dataframe thead th {\n",
       "        text-align: right;\n",
       "    }\n",
       "</style>\n",
       "<table border=\"1\" class=\"dataframe\">\n",
       "  <thead>\n",
       "    <tr style=\"text-align: right;\">\n",
       "      <th></th>\n",
       "    </tr>\n",
       "  </thead>\n",
       "  <tbody>\n",
       "  </tbody>\n",
       "</table>\n",
       "</div>"
      ],
      "text/plain": [
       "Empty DataFrame\n",
       "Columns: []\n",
       "Index: []"
      ]
     },
     "execution_count": 83,
     "metadata": {},
     "output_type": "execute_result"
    }
   ],
   "source": [
    "df_overlaping_ne[vocab]"
   ]
  },
  {
   "cell_type": "code",
   "execution_count": 82,
   "metadata": {
    "collapsed": true
   },
   "outputs": [
    {
     "ename": "KeyError",
     "evalue": "'surface'",
     "output_type": "error",
     "traceback": [
      "\u001b[1;31m---------------------------------------------------------------------------\u001b[0m",
      "\u001b[1;31mKeyError\u001b[0m                                  Traceback (most recent call last)",
      "Input \u001b[1;32mIn [82]\u001b[0m, in \u001b[0;36m<cell line: 1>\u001b[1;34m()\u001b[0m\n\u001b[1;32m----> 1\u001b[0m \u001b[43mdf_overlaping_ne\u001b[49m\u001b[43m[\u001b[49m\u001b[43mvocab\u001b[49m\u001b[43m]\u001b[49m\u001b[38;5;241;43m.\u001b[39;49m\u001b[43mgroupby\u001b[49m\u001b[43m(\u001b[49m\u001b[43mby\u001b[49m\u001b[38;5;241;43m=\u001b[39;49m\u001b[43m[\u001b[49m\u001b[38;5;124;43m'\u001b[39;49m\u001b[38;5;124;43msurface\u001b[39;49m\u001b[38;5;124;43m'\u001b[39;49m\u001b[43m,\u001b[49m\u001b[43m \u001b[49m\u001b[38;5;124;43m'\u001b[39;49m\u001b[38;5;124;43msurface_ovlp\u001b[39;49m\u001b[38;5;124;43m'\u001b[39;49m\u001b[43m]\u001b[49m\u001b[43m)\u001b[49m\\\n\u001b[0;32m      2\u001b[0m                        \u001b[38;5;241m.\u001b[39mcount()\\\n\u001b[0;32m      3\u001b[0m                        \u001b[38;5;241m.\u001b[39msort_values(by\u001b[38;5;241m=\u001b[39m\u001b[38;5;124m'\u001b[39m\u001b[38;5;124msource\u001b[39m\u001b[38;5;124m'\u001b[39m, ascending\u001b[38;5;241m=\u001b[39m\u001b[38;5;28;01mFalse\u001b[39;00m )\\\n\u001b[0;32m      4\u001b[0m                        \u001b[38;5;241m.\u001b[39mloc[:, [\u001b[38;5;124m'\u001b[39m\u001b[38;5;124msource\u001b[39m\u001b[38;5;124m'\u001b[39m, \u001b[38;5;124m'\u001b[39m\u001b[38;5;124mstart\u001b[39m\u001b[38;5;124m'\u001b[39m, \u001b[38;5;124m'\u001b[39m\u001b[38;5;124mend\u001b[39m\u001b[38;5;124m'\u001b[39m ]]\n",
      "File \u001b[1;32mC:\\ProgramData\\Anaconda3\\lib\\site-packages\\pandas\\core\\frame.py:7718\u001b[0m, in \u001b[0;36mDataFrame.groupby\u001b[1;34m(self, by, axis, level, as_index, sort, group_keys, squeeze, observed, dropna)\u001b[0m\n\u001b[0;32m   7713\u001b[0m axis \u001b[38;5;241m=\u001b[39m \u001b[38;5;28mself\u001b[39m\u001b[38;5;241m.\u001b[39m_get_axis_number(axis)\n\u001b[0;32m   7715\u001b[0m \u001b[38;5;66;03m# https://github.com/python/mypy/issues/7642\u001b[39;00m\n\u001b[0;32m   7716\u001b[0m \u001b[38;5;66;03m# error: Argument \"squeeze\" to \"DataFrameGroupBy\" has incompatible type\u001b[39;00m\n\u001b[0;32m   7717\u001b[0m \u001b[38;5;66;03m# \"Union[bool, NoDefault]\"; expected \"bool\"\u001b[39;00m\n\u001b[1;32m-> 7718\u001b[0m \u001b[38;5;28;01mreturn\u001b[39;00m \u001b[43mDataFrameGroupBy\u001b[49m\u001b[43m(\u001b[49m\n\u001b[0;32m   7719\u001b[0m \u001b[43m    \u001b[49m\u001b[43mobj\u001b[49m\u001b[38;5;241;43m=\u001b[39;49m\u001b[38;5;28;43mself\u001b[39;49m\u001b[43m,\u001b[49m\n\u001b[0;32m   7720\u001b[0m \u001b[43m    \u001b[49m\u001b[43mkeys\u001b[49m\u001b[38;5;241;43m=\u001b[39;49m\u001b[43mby\u001b[49m\u001b[43m,\u001b[49m\n\u001b[0;32m   7721\u001b[0m \u001b[43m    \u001b[49m\u001b[43maxis\u001b[49m\u001b[38;5;241;43m=\u001b[39;49m\u001b[43maxis\u001b[49m\u001b[43m,\u001b[49m\n\u001b[0;32m   7722\u001b[0m \u001b[43m    \u001b[49m\u001b[43mlevel\u001b[49m\u001b[38;5;241;43m=\u001b[39;49m\u001b[43mlevel\u001b[49m\u001b[43m,\u001b[49m\n\u001b[0;32m   7723\u001b[0m \u001b[43m    \u001b[49m\u001b[43mas_index\u001b[49m\u001b[38;5;241;43m=\u001b[39;49m\u001b[43mas_index\u001b[49m\u001b[43m,\u001b[49m\n\u001b[0;32m   7724\u001b[0m \u001b[43m    \u001b[49m\u001b[43msort\u001b[49m\u001b[38;5;241;43m=\u001b[39;49m\u001b[43msort\u001b[49m\u001b[43m,\u001b[49m\n\u001b[0;32m   7725\u001b[0m \u001b[43m    \u001b[49m\u001b[43mgroup_keys\u001b[49m\u001b[38;5;241;43m=\u001b[39;49m\u001b[43mgroup_keys\u001b[49m\u001b[43m,\u001b[49m\n\u001b[0;32m   7726\u001b[0m \u001b[43m    \u001b[49m\u001b[43msqueeze\u001b[49m\u001b[38;5;241;43m=\u001b[39;49m\u001b[43msqueeze\u001b[49m\u001b[43m,\u001b[49m\u001b[43m  \u001b[49m\u001b[38;5;66;43;03m# type: ignore[arg-type]\u001b[39;49;00m\n\u001b[0;32m   7727\u001b[0m \u001b[43m    \u001b[49m\u001b[43mobserved\u001b[49m\u001b[38;5;241;43m=\u001b[39;49m\u001b[43mobserved\u001b[49m\u001b[43m,\u001b[49m\n\u001b[0;32m   7728\u001b[0m \u001b[43m    \u001b[49m\u001b[43mdropna\u001b[49m\u001b[38;5;241;43m=\u001b[39;49m\u001b[43mdropna\u001b[49m\u001b[43m,\u001b[49m\n\u001b[0;32m   7729\u001b[0m \u001b[43m\u001b[49m\u001b[43m)\u001b[49m\n",
      "File \u001b[1;32mC:\\ProgramData\\Anaconda3\\lib\\site-packages\\pandas\\core\\groupby\\groupby.py:882\u001b[0m, in \u001b[0;36mGroupBy.__init__\u001b[1;34m(self, obj, keys, axis, level, grouper, exclusions, selection, as_index, sort, group_keys, squeeze, observed, mutated, dropna)\u001b[0m\n\u001b[0;32m    879\u001b[0m \u001b[38;5;28;01mif\u001b[39;00m grouper \u001b[38;5;129;01mis\u001b[39;00m \u001b[38;5;28;01mNone\u001b[39;00m:\n\u001b[0;32m    880\u001b[0m     \u001b[38;5;28;01mfrom\u001b[39;00m \u001b[38;5;21;01mpandas\u001b[39;00m\u001b[38;5;21;01m.\u001b[39;00m\u001b[38;5;21;01mcore\u001b[39;00m\u001b[38;5;21;01m.\u001b[39;00m\u001b[38;5;21;01mgroupby\u001b[39;00m\u001b[38;5;21;01m.\u001b[39;00m\u001b[38;5;21;01mgrouper\u001b[39;00m \u001b[38;5;28;01mimport\u001b[39;00m get_grouper\n\u001b[1;32m--> 882\u001b[0m     grouper, exclusions, obj \u001b[38;5;241m=\u001b[39m \u001b[43mget_grouper\u001b[49m\u001b[43m(\u001b[49m\n\u001b[0;32m    883\u001b[0m \u001b[43m        \u001b[49m\u001b[43mobj\u001b[49m\u001b[43m,\u001b[49m\n\u001b[0;32m    884\u001b[0m \u001b[43m        \u001b[49m\u001b[43mkeys\u001b[49m\u001b[43m,\u001b[49m\n\u001b[0;32m    885\u001b[0m \u001b[43m        \u001b[49m\u001b[43maxis\u001b[49m\u001b[38;5;241;43m=\u001b[39;49m\u001b[43maxis\u001b[49m\u001b[43m,\u001b[49m\n\u001b[0;32m    886\u001b[0m \u001b[43m        \u001b[49m\u001b[43mlevel\u001b[49m\u001b[38;5;241;43m=\u001b[39;49m\u001b[43mlevel\u001b[49m\u001b[43m,\u001b[49m\n\u001b[0;32m    887\u001b[0m \u001b[43m        \u001b[49m\u001b[43msort\u001b[49m\u001b[38;5;241;43m=\u001b[39;49m\u001b[43msort\u001b[49m\u001b[43m,\u001b[49m\n\u001b[0;32m    888\u001b[0m \u001b[43m        \u001b[49m\u001b[43mobserved\u001b[49m\u001b[38;5;241;43m=\u001b[39;49m\u001b[43mobserved\u001b[49m\u001b[43m,\u001b[49m\n\u001b[0;32m    889\u001b[0m \u001b[43m        \u001b[49m\u001b[43mmutated\u001b[49m\u001b[38;5;241;43m=\u001b[39;49m\u001b[38;5;28;43mself\u001b[39;49m\u001b[38;5;241;43m.\u001b[39;49m\u001b[43mmutated\u001b[49m\u001b[43m,\u001b[49m\n\u001b[0;32m    890\u001b[0m \u001b[43m        \u001b[49m\u001b[43mdropna\u001b[49m\u001b[38;5;241;43m=\u001b[39;49m\u001b[38;5;28;43mself\u001b[39;49m\u001b[38;5;241;43m.\u001b[39;49m\u001b[43mdropna\u001b[49m\u001b[43m,\u001b[49m\n\u001b[0;32m    891\u001b[0m \u001b[43m    \u001b[49m\u001b[43m)\u001b[49m\n\u001b[0;32m    893\u001b[0m \u001b[38;5;28mself\u001b[39m\u001b[38;5;241m.\u001b[39mobj \u001b[38;5;241m=\u001b[39m obj\n\u001b[0;32m    894\u001b[0m \u001b[38;5;28mself\u001b[39m\u001b[38;5;241m.\u001b[39maxis \u001b[38;5;241m=\u001b[39m obj\u001b[38;5;241m.\u001b[39m_get_axis_number(axis)\n",
      "File \u001b[1;32mC:\\ProgramData\\Anaconda3\\lib\\site-packages\\pandas\\core\\groupby\\grouper.py:882\u001b[0m, in \u001b[0;36mget_grouper\u001b[1;34m(obj, key, axis, level, sort, observed, mutated, validate, dropna)\u001b[0m\n\u001b[0;32m    880\u001b[0m         in_axis, level, gpr \u001b[38;5;241m=\u001b[39m \u001b[38;5;28;01mFalse\u001b[39;00m, gpr, \u001b[38;5;28;01mNone\u001b[39;00m\n\u001b[0;32m    881\u001b[0m     \u001b[38;5;28;01melse\u001b[39;00m:\n\u001b[1;32m--> 882\u001b[0m         \u001b[38;5;28;01mraise\u001b[39;00m \u001b[38;5;167;01mKeyError\u001b[39;00m(gpr)\n\u001b[0;32m    883\u001b[0m \u001b[38;5;28;01melif\u001b[39;00m \u001b[38;5;28misinstance\u001b[39m(gpr, Grouper) \u001b[38;5;129;01mand\u001b[39;00m gpr\u001b[38;5;241m.\u001b[39mkey \u001b[38;5;129;01mis\u001b[39;00m \u001b[38;5;129;01mnot\u001b[39;00m \u001b[38;5;28;01mNone\u001b[39;00m:\n\u001b[0;32m    884\u001b[0m     \u001b[38;5;66;03m# Add key to exclusions\u001b[39;00m\n\u001b[0;32m    885\u001b[0m     exclusions\u001b[38;5;241m.\u001b[39madd(gpr\u001b[38;5;241m.\u001b[39mkey)\n",
      "\u001b[1;31mKeyError\u001b[0m: 'surface'"
     ]
    }
   ],
   "source": [
    "df_overlaping_ne[vocab].groupby(by=['surface', 'surface_ovlp'])\\\n",
    "                       .count()\\\n",
    "                       .sort_values(by='source', ascending=False )\\\n",
    "                       .loc[:, ['source', 'start', 'end' ]]"
   ]
  },
  {
   "cell_type": "code",
   "execution_count": null,
   "metadata": {},
   "outputs": [],
   "source": [
    "df_overlaping_ne[vocab].groupby(by=['source'])\\\n",
    "                       .count()\\\n",
    "                       .sort_values(by='surface', ascending=False )\\\n",
    "                       .loc[:, ['surface', 'start', 'end' ]]"
   ]
  },
  {
   "cell_type": "markdown",
   "metadata": {},
   "source": [
    "#### starts with"
   ]
  },
  {
   "cell_type": "code",
   "execution_count": 40,
   "metadata": {},
   "outputs": [
    {
     "name": "stdout",
     "output_type": "stream",
     "text": [
      "(0, 11)\n"
     ]
    },
    {
     "data": {
      "text/html": [
       "<div>\n",
       "<style scoped>\n",
       "    .dataframe tbody tr th:only-of-type {\n",
       "        vertical-align: middle;\n",
       "    }\n",
       "\n",
       "    .dataframe tbody tr th {\n",
       "        vertical-align: top;\n",
       "    }\n",
       "\n",
       "    .dataframe thead th {\n",
       "        text-align: right;\n",
       "    }\n",
       "</style>\n",
       "<table border=\"1\" class=\"dataframe\">\n",
       "  <thead>\n",
       "    <tr style=\"text-align: right;\">\n",
       "      <th></th>\n",
       "      <th>source</th>\n",
       "      <th>surface</th>\n",
       "      <th>start</th>\n",
       "      <th>end</th>\n",
       "      <th>conf</th>\n",
       "      <th>entityUri</th>\n",
       "      <th>surface_ovlp</th>\n",
       "      <th>start_ovlp</th>\n",
       "      <th>conf_ovlp</th>\n",
       "      <th>entityUri_ovlp</th>\n",
       "      <th>entity_ovlp</th>\n",
       "    </tr>\n",
       "  </thead>\n",
       "  <tbody>\n",
       "  </tbody>\n",
       "</table>\n",
       "</div>"
      ],
      "text/plain": [
       "Empty DataFrame\n",
       "Columns: [source, surface, start, end, conf, entityUri, surface_ovlp, start_ovlp, conf_ovlp, entityUri_ovlp, entity_ovlp]\n",
       "Index: []"
      ]
     },
     "execution_count": 40,
     "metadata": {},
     "output_type": "execute_result"
    }
   ],
   "source": [
    "starts_with = df_overlaping_ne[vocab].loc[df_overlaping_ne[vocab]\\\n",
    "                                     .apply(lambda r: r.surface.startswith(r.surface_ovlp), axis=1)]\n",
    "\n",
    "print(starts_with.shape )\n",
    "starts_with.head()"
   ]
  },
  {
   "cell_type": "markdown",
   "metadata": {},
   "source": [
    "#### ends with"
   ]
  },
  {
   "cell_type": "code",
   "execution_count": 84,
   "metadata": {
    "collapsed": true
   },
   "outputs": [
    {
     "ename": "ValueError",
     "evalue": "Cannot index with multidimensional key",
     "output_type": "error",
     "traceback": [
      "\u001b[1;31m---------------------------------------------------------------------------\u001b[0m",
      "\u001b[1;31mValueError\u001b[0m                                Traceback (most recent call last)",
      "Input \u001b[1;32mIn [84]\u001b[0m, in \u001b[0;36m<cell line: 1>\u001b[1;34m()\u001b[0m\n\u001b[1;32m----> 1\u001b[0m ends_with \u001b[38;5;241m=\u001b[39m \u001b[43mdf_overlaping_ne\u001b[49m\u001b[43m[\u001b[49m\u001b[43mvocab\u001b[49m\u001b[43m]\u001b[49m\u001b[38;5;241;43m.\u001b[39;49m\u001b[43mloc\u001b[49m\u001b[43m[\u001b[49m\u001b[43mdf_overlaping_ne\u001b[49m\u001b[43m[\u001b[49m\u001b[43mvocab\u001b[49m\u001b[43m]\u001b[49m\u001b[43m\\\u001b[49m\n\u001b[0;32m      2\u001b[0m \u001b[43m                                   \u001b[49m\u001b[38;5;241;43m.\u001b[39;49m\u001b[43mapply\u001b[49m\u001b[43m(\u001b[49m\u001b[38;5;28;43;01mlambda\u001b[39;49;00m\u001b[43m \u001b[49m\u001b[43mr\u001b[49m\u001b[43m:\u001b[49m\u001b[43m \u001b[49m\u001b[43mr\u001b[49m\u001b[38;5;241;43m.\u001b[39;49m\u001b[43msurface\u001b[49m\u001b[38;5;241;43m.\u001b[39;49m\u001b[43mendswith\u001b[49m\u001b[43m(\u001b[49m\u001b[43mr\u001b[49m\u001b[38;5;241;43m.\u001b[39;49m\u001b[43msurface_ovlp\u001b[49m\u001b[43m)\u001b[49m\u001b[43m,\u001b[49m\u001b[43m \u001b[49m\u001b[43maxis\u001b[49m\u001b[38;5;241;43m=\u001b[39;49m\u001b[38;5;241;43m1\u001b[39;49m\u001b[43m)\u001b[49m\u001b[43m]\u001b[49m\n\u001b[0;32m      4\u001b[0m \u001b[38;5;28mprint\u001b[39m(ends_with\u001b[38;5;241m.\u001b[39mshape )\n\u001b[0;32m      5\u001b[0m ends_with\u001b[38;5;241m.\u001b[39mhead()\n",
      "File \u001b[1;32mC:\\ProgramData\\Anaconda3\\lib\\site-packages\\pandas\\core\\indexing.py:967\u001b[0m, in \u001b[0;36m_LocationIndexer.__getitem__\u001b[1;34m(self, key)\u001b[0m\n\u001b[0;32m    964\u001b[0m axis \u001b[38;5;241m=\u001b[39m \u001b[38;5;28mself\u001b[39m\u001b[38;5;241m.\u001b[39maxis \u001b[38;5;129;01mor\u001b[39;00m \u001b[38;5;241m0\u001b[39m\n\u001b[0;32m    966\u001b[0m maybe_callable \u001b[38;5;241m=\u001b[39m com\u001b[38;5;241m.\u001b[39mapply_if_callable(key, \u001b[38;5;28mself\u001b[39m\u001b[38;5;241m.\u001b[39mobj)\n\u001b[1;32m--> 967\u001b[0m \u001b[38;5;28;01mreturn\u001b[39;00m \u001b[38;5;28;43mself\u001b[39;49m\u001b[38;5;241;43m.\u001b[39;49m\u001b[43m_getitem_axis\u001b[49m\u001b[43m(\u001b[49m\u001b[43mmaybe_callable\u001b[49m\u001b[43m,\u001b[49m\u001b[43m \u001b[49m\u001b[43maxis\u001b[49m\u001b[38;5;241;43m=\u001b[39;49m\u001b[43maxis\u001b[49m\u001b[43m)\u001b[49m\n",
      "File \u001b[1;32mC:\\ProgramData\\Anaconda3\\lib\\site-packages\\pandas\\core\\indexing.py:1189\u001b[0m, in \u001b[0;36m_LocIndexer._getitem_axis\u001b[1;34m(self, key, axis)\u001b[0m\n\u001b[0;32m   1186\u001b[0m \u001b[38;5;28;01mif\u001b[39;00m \u001b[38;5;129;01mnot\u001b[39;00m (\u001b[38;5;28misinstance\u001b[39m(key, \u001b[38;5;28mtuple\u001b[39m) \u001b[38;5;129;01mand\u001b[39;00m \u001b[38;5;28misinstance\u001b[39m(labels, MultiIndex)):\n\u001b[0;32m   1188\u001b[0m     \u001b[38;5;28;01mif\u001b[39;00m \u001b[38;5;28mhasattr\u001b[39m(key, \u001b[38;5;124m\"\u001b[39m\u001b[38;5;124mndim\u001b[39m\u001b[38;5;124m\"\u001b[39m) \u001b[38;5;129;01mand\u001b[39;00m key\u001b[38;5;241m.\u001b[39mndim \u001b[38;5;241m>\u001b[39m \u001b[38;5;241m1\u001b[39m:\n\u001b[1;32m-> 1189\u001b[0m         \u001b[38;5;28;01mraise\u001b[39;00m \u001b[38;5;167;01mValueError\u001b[39;00m(\u001b[38;5;124m\"\u001b[39m\u001b[38;5;124mCannot index with multidimensional key\u001b[39m\u001b[38;5;124m\"\u001b[39m)\n\u001b[0;32m   1191\u001b[0m     \u001b[38;5;28;01mreturn\u001b[39;00m \u001b[38;5;28mself\u001b[39m\u001b[38;5;241m.\u001b[39m_getitem_iterable(key, axis\u001b[38;5;241m=\u001b[39maxis)\n\u001b[0;32m   1193\u001b[0m \u001b[38;5;66;03m# nested tuple slicing\u001b[39;00m\n",
      "\u001b[1;31mValueError\u001b[0m: Cannot index with multidimensional key"
     ]
    }
   ],
   "source": [
    "ends_with = df_overlaping_ne[vocab].loc[df_overlaping_ne[vocab]\\\n",
    "                                   .apply(lambda r: r.surface.endswith(r.surface_ovlp), axis=1)]\n",
    "\n",
    "print(ends_with.shape )\n",
    "ends_with.head()"
   ]
  },
  {
   "cell_type": "markdown",
   "metadata": {},
   "source": [
    "#### contains"
   ]
  },
  {
   "cell_type": "code",
   "execution_count": 85,
   "metadata": {
    "collapsed": true
   },
   "outputs": [
    {
     "ename": "ValueError",
     "evalue": "Cannot index with multidimensional key",
     "output_type": "error",
     "traceback": [
      "\u001b[1;31m---------------------------------------------------------------------------\u001b[0m",
      "\u001b[1;31mValueError\u001b[0m                                Traceback (most recent call last)",
      "Input \u001b[1;32mIn [85]\u001b[0m, in \u001b[0;36m<cell line: 1>\u001b[1;34m()\u001b[0m\n\u001b[1;32m----> 1\u001b[0m contains \u001b[38;5;241m=\u001b[39m \u001b[43mdf_overlaping_ne\u001b[49m\u001b[43m[\u001b[49m\u001b[43mvocab\u001b[49m\u001b[43m]\u001b[49m\u001b[38;5;241;43m.\u001b[39;49m\u001b[43mloc\u001b[49m\u001b[43m[\u001b[49m\u001b[43mdf_overlaping_ne\u001b[49m\u001b[43m[\u001b[49m\u001b[43mvocab\u001b[49m\u001b[43m]\u001b[49m\u001b[43m\\\u001b[49m\n\u001b[0;32m      2\u001b[0m \u001b[43m                                  \u001b[49m\u001b[38;5;241;43m.\u001b[39;49m\u001b[43mapply\u001b[49m\u001b[43m(\u001b[49m\u001b[38;5;28;43;01mlambda\u001b[39;49;00m\u001b[43m \u001b[49m\u001b[43mr\u001b[49m\u001b[43m:\u001b[49m\u001b[43m \u001b[49m\u001b[43mr\u001b[49m\u001b[38;5;241;43m.\u001b[39;49m\u001b[43msurface_ovlp\u001b[49m\u001b[43m \u001b[49m\u001b[38;5;129;43;01min\u001b[39;49;00m\u001b[43m \u001b[49m\u001b[43mr\u001b[49m\u001b[38;5;241;43m.\u001b[39;49m\u001b[43msurface\u001b[49m\u001b[43m[\u001b[49m\u001b[38;5;241;43m1\u001b[39;49m\u001b[43m:\u001b[49m\u001b[38;5;241;43m-\u001b[39;49m\u001b[38;5;241;43m1\u001b[39;49m\u001b[43m]\u001b[49m\u001b[43m,\u001b[49m\u001b[43m \u001b[49m\u001b[43maxis\u001b[49m\u001b[38;5;241;43m=\u001b[39;49m\u001b[38;5;241;43m1\u001b[39;49m\u001b[43m)\u001b[49m\u001b[43m]\u001b[49m\n\u001b[0;32m      4\u001b[0m \u001b[38;5;28mprint\u001b[39m(contains\u001b[38;5;241m.\u001b[39mshape )\n\u001b[0;32m      5\u001b[0m contains\u001b[38;5;241m.\u001b[39mhead()\n",
      "File \u001b[1;32mC:\\ProgramData\\Anaconda3\\lib\\site-packages\\pandas\\core\\indexing.py:967\u001b[0m, in \u001b[0;36m_LocationIndexer.__getitem__\u001b[1;34m(self, key)\u001b[0m\n\u001b[0;32m    964\u001b[0m axis \u001b[38;5;241m=\u001b[39m \u001b[38;5;28mself\u001b[39m\u001b[38;5;241m.\u001b[39maxis \u001b[38;5;129;01mor\u001b[39;00m \u001b[38;5;241m0\u001b[39m\n\u001b[0;32m    966\u001b[0m maybe_callable \u001b[38;5;241m=\u001b[39m com\u001b[38;5;241m.\u001b[39mapply_if_callable(key, \u001b[38;5;28mself\u001b[39m\u001b[38;5;241m.\u001b[39mobj)\n\u001b[1;32m--> 967\u001b[0m \u001b[38;5;28;01mreturn\u001b[39;00m \u001b[38;5;28;43mself\u001b[39;49m\u001b[38;5;241;43m.\u001b[39;49m\u001b[43m_getitem_axis\u001b[49m\u001b[43m(\u001b[49m\u001b[43mmaybe_callable\u001b[49m\u001b[43m,\u001b[49m\u001b[43m \u001b[49m\u001b[43maxis\u001b[49m\u001b[38;5;241;43m=\u001b[39;49m\u001b[43maxis\u001b[49m\u001b[43m)\u001b[49m\n",
      "File \u001b[1;32mC:\\ProgramData\\Anaconda3\\lib\\site-packages\\pandas\\core\\indexing.py:1189\u001b[0m, in \u001b[0;36m_LocIndexer._getitem_axis\u001b[1;34m(self, key, axis)\u001b[0m\n\u001b[0;32m   1186\u001b[0m \u001b[38;5;28;01mif\u001b[39;00m \u001b[38;5;129;01mnot\u001b[39;00m (\u001b[38;5;28misinstance\u001b[39m(key, \u001b[38;5;28mtuple\u001b[39m) \u001b[38;5;129;01mand\u001b[39;00m \u001b[38;5;28misinstance\u001b[39m(labels, MultiIndex)):\n\u001b[0;32m   1188\u001b[0m     \u001b[38;5;28;01mif\u001b[39;00m \u001b[38;5;28mhasattr\u001b[39m(key, \u001b[38;5;124m\"\u001b[39m\u001b[38;5;124mndim\u001b[39m\u001b[38;5;124m\"\u001b[39m) \u001b[38;5;129;01mand\u001b[39;00m key\u001b[38;5;241m.\u001b[39mndim \u001b[38;5;241m>\u001b[39m \u001b[38;5;241m1\u001b[39m:\n\u001b[1;32m-> 1189\u001b[0m         \u001b[38;5;28;01mraise\u001b[39;00m \u001b[38;5;167;01mValueError\u001b[39;00m(\u001b[38;5;124m\"\u001b[39m\u001b[38;5;124mCannot index with multidimensional key\u001b[39m\u001b[38;5;124m\"\u001b[39m)\n\u001b[0;32m   1191\u001b[0m     \u001b[38;5;28;01mreturn\u001b[39;00m \u001b[38;5;28mself\u001b[39m\u001b[38;5;241m.\u001b[39m_getitem_iterable(key, axis\u001b[38;5;241m=\u001b[39maxis)\n\u001b[0;32m   1193\u001b[0m \u001b[38;5;66;03m# nested tuple slicing\u001b[39;00m\n",
      "\u001b[1;31mValueError\u001b[0m: Cannot index with multidimensional key"
     ]
    }
   ],
   "source": [
    "contains = df_overlaping_ne[vocab].loc[df_overlaping_ne[vocab]\\\n",
    "                                  .apply(lambda r: r.surface_ovlp in r.surface[1:-1], axis=1)]\n",
    "\n",
    "print(contains.shape )\n",
    "contains.head()"
   ]
  },
  {
   "cell_type": "markdown",
   "metadata": {},
   "source": [
    "#### partial overlap"
   ]
  },
  {
   "cell_type": "code",
   "execution_count": 86,
   "metadata": {
    "collapsed": true
   },
   "outputs": [
    {
     "ename": "ValueError",
     "evalue": "Cannot index with multidimensional key",
     "output_type": "error",
     "traceback": [
      "\u001b[1;31m---------------------------------------------------------------------------\u001b[0m",
      "\u001b[1;31mValueError\u001b[0m                                Traceback (most recent call last)",
      "Input \u001b[1;32mIn [86]\u001b[0m, in \u001b[0;36m<cell line: 1>\u001b[1;34m()\u001b[0m\n\u001b[1;32m----> 1\u001b[0m partial_overlap \u001b[38;5;241m=\u001b[39m \u001b[43mdf_overlaping_ne\u001b[49m\u001b[43m[\u001b[49m\u001b[43mvocab\u001b[49m\u001b[43m]\u001b[49m\u001b[38;5;241;43m.\u001b[39;49m\u001b[43mloc\u001b[49m\u001b[43m[\u001b[49m\u001b[43mdf_overlaping_ne\u001b[49m\u001b[43m[\u001b[49m\u001b[43mvocab\u001b[49m\u001b[43m]\u001b[49m\u001b[43m\\\u001b[49m\n\u001b[0;32m      2\u001b[0m \u001b[43m                                        \u001b[49m\u001b[38;5;241;43m.\u001b[39;49m\u001b[43mapply\u001b[49m\u001b[43m(\u001b[49m\u001b[38;5;28;43;01mlambda\u001b[39;49;00m\u001b[43m \u001b[49m\u001b[43mr\u001b[49m\u001b[43m:\u001b[49m\u001b[43m \u001b[49m\u001b[43mr\u001b[49m\u001b[38;5;241;43m.\u001b[39;49m\u001b[43msurface_ovlp\u001b[49m\u001b[43m \u001b[49m\u001b[38;5;129;43;01mnot\u001b[39;49;00m\u001b[43m \u001b[49m\u001b[38;5;129;43;01min\u001b[39;49;00m\u001b[43m \u001b[49m\u001b[43mr\u001b[49m\u001b[38;5;241;43m.\u001b[39;49m\u001b[43msurface\u001b[49m\u001b[43m,\u001b[49m\u001b[43m \u001b[49m\u001b[43maxis\u001b[49m\u001b[38;5;241;43m=\u001b[39;49m\u001b[38;5;241;43m1\u001b[39;49m\u001b[43m)\u001b[49m\u001b[43m]\u001b[49m\n\u001b[0;32m      4\u001b[0m \u001b[38;5;28mprint\u001b[39m(partial_overlap\u001b[38;5;241m.\u001b[39mshape )\n\u001b[0;32m      5\u001b[0m partial_overlap\u001b[38;5;241m.\u001b[39mhead()\n",
      "File \u001b[1;32mC:\\ProgramData\\Anaconda3\\lib\\site-packages\\pandas\\core\\indexing.py:967\u001b[0m, in \u001b[0;36m_LocationIndexer.__getitem__\u001b[1;34m(self, key)\u001b[0m\n\u001b[0;32m    964\u001b[0m axis \u001b[38;5;241m=\u001b[39m \u001b[38;5;28mself\u001b[39m\u001b[38;5;241m.\u001b[39maxis \u001b[38;5;129;01mor\u001b[39;00m \u001b[38;5;241m0\u001b[39m\n\u001b[0;32m    966\u001b[0m maybe_callable \u001b[38;5;241m=\u001b[39m com\u001b[38;5;241m.\u001b[39mapply_if_callable(key, \u001b[38;5;28mself\u001b[39m\u001b[38;5;241m.\u001b[39mobj)\n\u001b[1;32m--> 967\u001b[0m \u001b[38;5;28;01mreturn\u001b[39;00m \u001b[38;5;28;43mself\u001b[39;49m\u001b[38;5;241;43m.\u001b[39;49m\u001b[43m_getitem_axis\u001b[49m\u001b[43m(\u001b[49m\u001b[43mmaybe_callable\u001b[49m\u001b[43m,\u001b[49m\u001b[43m \u001b[49m\u001b[43maxis\u001b[49m\u001b[38;5;241;43m=\u001b[39;49m\u001b[43maxis\u001b[49m\u001b[43m)\u001b[49m\n",
      "File \u001b[1;32mC:\\ProgramData\\Anaconda3\\lib\\site-packages\\pandas\\core\\indexing.py:1189\u001b[0m, in \u001b[0;36m_LocIndexer._getitem_axis\u001b[1;34m(self, key, axis)\u001b[0m\n\u001b[0;32m   1186\u001b[0m \u001b[38;5;28;01mif\u001b[39;00m \u001b[38;5;129;01mnot\u001b[39;00m (\u001b[38;5;28misinstance\u001b[39m(key, \u001b[38;5;28mtuple\u001b[39m) \u001b[38;5;129;01mand\u001b[39;00m \u001b[38;5;28misinstance\u001b[39m(labels, MultiIndex)):\n\u001b[0;32m   1188\u001b[0m     \u001b[38;5;28;01mif\u001b[39;00m \u001b[38;5;28mhasattr\u001b[39m(key, \u001b[38;5;124m\"\u001b[39m\u001b[38;5;124mndim\u001b[39m\u001b[38;5;124m\"\u001b[39m) \u001b[38;5;129;01mand\u001b[39;00m key\u001b[38;5;241m.\u001b[39mndim \u001b[38;5;241m>\u001b[39m \u001b[38;5;241m1\u001b[39m:\n\u001b[1;32m-> 1189\u001b[0m         \u001b[38;5;28;01mraise\u001b[39;00m \u001b[38;5;167;01mValueError\u001b[39;00m(\u001b[38;5;124m\"\u001b[39m\u001b[38;5;124mCannot index with multidimensional key\u001b[39m\u001b[38;5;124m\"\u001b[39m)\n\u001b[0;32m   1191\u001b[0m     \u001b[38;5;28;01mreturn\u001b[39;00m \u001b[38;5;28mself\u001b[39m\u001b[38;5;241m.\u001b[39m_getitem_iterable(key, axis\u001b[38;5;241m=\u001b[39maxis)\n\u001b[0;32m   1193\u001b[0m \u001b[38;5;66;03m# nested tuple slicing\u001b[39;00m\n",
      "\u001b[1;31mValueError\u001b[0m: Cannot index with multidimensional key"
     ]
    }
   ],
   "source": [
    "partial_overlap = df_overlaping_ne[vocab].loc[df_overlaping_ne[vocab]\\\n",
    "                                        .apply(lambda r: r.surface_ovlp not in r.surface, axis=1)]\n",
    "\n",
    "print(partial_overlap.shape )\n",
    "partial_overlap.head()"
   ]
  },
  {
   "cell_type": "markdown",
   "metadata": {},
   "source": [
    "OBSERVATIONS:\n",
    "\n",
    "- AGROVOC: pyclinrec recognise named entities in overlaping surface forms. All combinations are detected: the same begining, the same ending, one annotated text inside the other, or partially overlap.  ==> detecting and filtering overlaps before uploading to the graph solves this problem. \n",
    "- GEONAMES: no overalping :thumbsup\n",
    "- WIKIDATA: no overalping :thumbsup\n",
    "- DBPEDIA: DBPedia spotlight recognise named entities in overlaping surface forms. All combinations are detected: the same begining, the same ending, one annotated text inside the other, or partially overlap.==> detecting and filtering overlaps before uploading to the graph solves this problem. "
   ]
  },
  {
   "cell_type": "markdown",
   "metadata": {},
   "source": []
  }
 ],
 "metadata": {
  "colab": {
   "provenance": []
  },
  "kernelspec": {
   "display_name": "Python 3 (ipykernel)",
   "language": "python",
   "name": "python3"
  },
  "language_info": {
   "codemirror_mode": {
    "name": "ipython",
    "version": 3
   },
   "file_extension": ".py",
   "mimetype": "text/x-python",
   "name": "python",
   "nbconvert_exporter": "python",
   "pygments_lexer": "ipython3",
   "version": "3.8.8"
  },
  "vscode": {
   "interpreter": {
    "hash": "ad2bdc8ecc057115af97d19610ffacc2b4e99fae6737bb82f5d7fb13d2f2c186"
   }
  }
 },
 "nbformat": 4,
 "nbformat_minor": 1
}
