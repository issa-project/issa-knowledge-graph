{
 "cells": [
  {
   "cell_type": "markdown",
   "metadata": {},
   "source": [
    "<a href=\"https://colab.research.google.com/github/issa-project/issa-pipeline/blob/main/notebooks/issa-entity-analysis.ipynb\" target=\"_parent\"><img src=\"https://colab.research.google.com/assets/colab-badge.svg\" alt=\"Open In Colab\"/></a>"
   ]
  },
  {
   "cell_type": "markdown",
   "metadata": {},
   "source": [
    "# Analysis of Named Entities in ISSA dataset\n",
    "\n",
    "**Analysing quality of named entities found in the document text**  \n",
    "\n",
    "Use cases: Agritrop, HAL Euromov DHM\n",
    "\n",
    "Endpoints: https://data-issa.cirad.fr/sparql , "
   ]
  },
  {
   "cell_type": "code",
   "execution_count": 1,
   "metadata": {
    "colab": {
     "base_uri": "https://localhost:8080/"
    },
    "executionInfo": {
     "elapsed": 3674,
     "status": "ok",
     "timestamp": 1663847382940,
     "user": {
      "displayName": "Anna Bobasheva",
      "userId": "05152602834421587169"
     },
     "user_tz": -120
    },
    "id": "0TCPUi-SA0IN",
    "outputId": "40334e25-5733-4287-f07a-841ed7197c09"
   },
   "outputs": [],
   "source": [
    "import os\n",
    "try:\n",
    "    isColab = os.environ['GCE_METADATA_TIMEOUT']\n",
    "    if isColab:\n",
    "        !pip install SPARQLWrapper\n",
    "except:\n",
    "    pass"
   ]
  },
  {
   "cell_type": "code",
   "execution_count": 2,
   "metadata": {
    "executionInfo": {
     "elapsed": 607,
     "status": "ok",
     "timestamp": 1663847383542,
     "user": {
      "displayName": "Anna Bobasheva",
      "userId": "05152602834421587169"
     },
     "user_tz": -120
    },
    "id": "fSUnaquoAzT5"
   },
   "outputs": [],
   "source": [
    "import pandas as pd\n",
    "import json\n",
    "\n",
    "from SPARQLWrapper import SPARQLWrapper, JSON\n",
    "\n",
    "import matplotlib.pyplot as plt\n",
    "\n",
    "import time"
   ]
  },
  {
   "cell_type": "code",
   "execution_count": 224,
   "metadata": {
    "executionInfo": {
     "elapsed": 5,
     "status": "ok",
     "timestamp": 1663847383542,
     "user": {
      "displayName": "Anna Bobasheva",
      "userId": "05152602834421587169"
     },
     "user_tz": -120
    },
    "id": "Ga-TnpLeAzT8"
   },
   "outputs": [],
   "source": [
    "def sparql_service_to_dataframe(service, query):\n",
    "    \"\"\"\n",
    "    Helper function to convert SPARQL results into a Pandas DataFrame.\n",
    "    \n",
    "    Credit to Ted Lawless https://lawlesst.github.io/notebook/sparql-dataframe.html\n",
    "    \"\"\"\n",
    "    sparql = SPARQLWrapper(service)\n",
    "    sparql.setQuery(query)\n",
    "    sparql.setReturnFormat(JSON)\n",
    "    result = sparql.query()\n",
    "\n",
    "    processed_results = json.load(result.response)\n",
    "    cols = processed_results['head']['vars']\n",
    "\n",
    "    out = []\n",
    "    for row in processed_results['results']['bindings']:\n",
    "        item = []\n",
    "        for c in cols:\n",
    "            item.append(row.get(c, {}).get('value'))\n",
    "        out.append(item)\n",
    "\n",
    "    return pd.DataFrame(out, columns=cols)\n",
    "\n",
    "def sparql_service_to_dataframe_with_scrollable_cursor(service, query_templ, page_size=10000):\n",
    "    offset= 0\n",
    "    keep_going=True\n",
    "    df_res_list = [] \n",
    "\n",
    "    print(service)\n",
    "    print('fetching... ', end='')\n",
    "    try:\n",
    "        while True:\n",
    "            query = query_templ % (offset, page_size) \n",
    "            #print(query)\n",
    "            df_res = sparql_service_to_dataframe(service, query )\n",
    "            if df_res.shape[0] > 0 : \n",
    "                print(df_res.shape[0], end=', ')\n",
    "                df_res_list.append(df_res)\n",
    "                offset = offset + page_size\n",
    "                time.sleep(5)\n",
    "            else:\n",
    "                print(df_res.shape[0])\n",
    "                df_res_list.append(df_res)\n",
    "                break\n",
    "    except Exception as ex:\n",
    "        print(ex)\n",
    "    finally:\n",
    "        \n",
    "        return pd.concat(df_res_list) if df_res_list else pd.DataFrame()\n",
    "\n",
    "def hyperlink(val):\n",
    "    return '<a href=\"{}\">{}</a>'.format(val,val)\n",
    "\n",
    "def hyperlink_multi(val):\n",
    "    uris = val.split(', ')\n",
    "    uris_hl = ['<a href=\"{}\">{}</a>'.format(v,v) for v in uris]\n",
    "\n",
    "    return ', '.join(uris_hl)"
   ]
  },
  {
   "cell_type": "code",
   "execution_count": 238,
   "metadata": {
    "executionInfo": {
     "elapsed": 4,
     "status": "ok",
     "timestamp": 1663847383542,
     "user": {
      "displayName": "Anna Bobasheva",
      "userId": "05152602834421587169"
     },
     "user_tz": -120
    },
    "id": "PIbhQcvHAzT9"
   },
   "outputs": [],
   "source": [
    "issa_instances = {'agritrop': {'endpoint' : 'https://data-issa.cirad.fr/sparql',\n",
    "                               'namespace' : 'http://data-issa.cirad.fr/',\n",
    "                               'name': 'issa-agritrop',\n",
    "                              },\n",
    "                  'hal':      {'endpoint' : 'http://localhost:8891/sparql',\n",
    "                               'namespace' : 'http://data-issa.dhm.euromov.fr/',\n",
    "                               'name': 'issa-hal-euromov-dhm',\n",
    "                              }\n",
    "                 }\n",
    "\n",
    "instance='agritrop'\n",
    "\n",
    "#issa_instances[instance]['endpoint'] = 'http://data-issa.cirad.fr/sparql'\n",
    "#issa_instances[instance]['endpoint'] = issa_instances[instance]['endpoint']"
   ]
  },
  {
   "cell_type": "markdown",
   "metadata": {},
   "source": [
    "## Dataset info"
   ]
  },
  {
   "cell_type": "code",
   "execution_count": 239,
   "metadata": {},
   "outputs": [
    {
     "name": "stdout",
     "output_type": "stream",
     "text": [
      "\n",
      "PREFIX rdf:  <http://www.w3.org/1999/02/22-rdf-syntax-ns#>\n",
      "PREFIX rdfs: <http://www.w3.org/2000/01/rdf-schema#>\n",
      "PREFIX void: <http://rdfs.org/ns/void#> \n",
      "PREFIX dct:    <http://purl.org/dc/terms/>\n",
      "PREFIX prov: <http://www.w3.org/ns/prov#>\n",
      "\n",
      "\n",
      "SELECT * \n",
      "FROM <http://data-issa.cirad.fr/graph/dataset>\n",
      "WHERE {\n",
      "  VALUES (?dataset) { (<http://data-issa.cirad.fr/issa-agritrop>) }\n",
      "  \n",
      "  ?datatest dct:title ?dataset_name;\n",
      "                     dct:description ?dataset_description;\n",
      "                     void:triples ?triple_count;\n",
      "                     owl:versionInfo ?version;\n",
      "                     dct:issued ?initial_date;\n",
      "                     prov:generatedAtTime ?generated_date.\n",
      "  \n",
      "  OPTIONAL{ ?dataset dct:modified ?updated_date. }\n",
      "} \n",
      "\n"
     ]
    }
   ],
   "source": [
    "ns= issa_instances[instance]['namespace']\n",
    "ds= issa_instances[instance]['name']\n",
    "\n",
    "dataset_info_query = f'''\n",
    "PREFIX rdf:  <http://www.w3.org/1999/02/22-rdf-syntax-ns#>\n",
    "PREFIX rdfs: <http://www.w3.org/2000/01/rdf-schema#>\n",
    "PREFIX void: <http://rdfs.org/ns/void#> \n",
    "PREFIX dct:    <http://purl.org/dc/terms/>\n",
    "PREFIX prov: <http://www.w3.org/ns/prov#>\n",
    "\n",
    "\n",
    "SELECT * \n",
    "FROM <{ns}graph/dataset>\n",
    "WHERE {{\n",
    "  VALUES (?dataset) {{ (<{ns}{ds}>) }}\n",
    "  \n",
    "  ?datatest dct:title ?dataset_name;\n",
    "                     dct:description ?dataset_description;\n",
    "                     void:triples ?triple_count;\n",
    "                     owl:versionInfo ?version;\n",
    "                     dct:issued ?initial_date;\n",
    "                     prov:generatedAtTime ?generated_date.\n",
    "  \n",
    "  OPTIONAL{{ ?dataset dct:modified ?updated_date. }}\n",
    "}} \n",
    "'''\n",
    "print(dataset_info_query)"
   ]
  },
  {
   "cell_type": "code",
   "execution_count": 240,
   "metadata": {},
   "outputs": [
    {
     "data": {
      "text/html": [
       "<div>\n",
       "<style scoped>\n",
       "    .dataframe tbody tr th:only-of-type {\n",
       "        vertical-align: middle;\n",
       "    }\n",
       "\n",
       "    .dataframe tbody tr th {\n",
       "        vertical-align: top;\n",
       "    }\n",
       "\n",
       "    .dataframe thead th {\n",
       "        text-align: right;\n",
       "    }\n",
       "</style>\n",
       "<table border=\"1\" class=\"dataframe\">\n",
       "  <thead>\n",
       "    <tr style=\"text-align: right;\">\n",
       "      <th></th>\n",
       "      <th>0</th>\n",
       "    </tr>\n",
       "  </thead>\n",
       "  <tbody>\n",
       "    <tr>\n",
       "      <th>dataset</th>\n",
       "      <td>http://data-issa.cirad.fr/issa-agritrop</td>\n",
       "    </tr>\n",
       "    <tr>\n",
       "      <th>datatest</th>\n",
       "      <td>http://data-issa.cirad.fr/issa-agritrop</td>\n",
       "    </tr>\n",
       "    <tr>\n",
       "      <th>dataset_name</th>\n",
       "      <td>ISSA Agritrop dataset</td>\n",
       "    </tr>\n",
       "    <tr>\n",
       "      <th>dataset_description</th>\n",
       "      <td>This RDF dataset was produced by processing articles from Agritrop - the open repository of CIRA...</td>\n",
       "    </tr>\n",
       "    <tr>\n",
       "      <th>triple_count</th>\n",
       "      <td>131494758</td>\n",
       "    </tr>\n",
       "    <tr>\n",
       "      <th>version</th>\n",
       "      <td>2.0.20231002</td>\n",
       "    </tr>\n",
       "    <tr>\n",
       "      <th>initial_date</th>\n",
       "      <td>2022-04-29</td>\n",
       "    </tr>\n",
       "    <tr>\n",
       "      <th>generated_date</th>\n",
       "      <td>2023-10-19</td>\n",
       "    </tr>\n",
       "    <tr>\n",
       "      <th>updated_date</th>\n",
       "      <td>2023-10-19</td>\n",
       "    </tr>\n",
       "  </tbody>\n",
       "</table>\n",
       "</div>"
      ],
      "text/plain": [
       "                                                                                                                       0\n",
       "dataset                                                                          http://data-issa.cirad.fr/issa-agritrop\n",
       "datatest                                                                         http://data-issa.cirad.fr/issa-agritrop\n",
       "dataset_name                                                                                       ISSA Agritrop dataset\n",
       "dataset_description  This RDF dataset was produced by processing articles from Agritrop - the open repository of CIRA...\n",
       "triple_count                                                                                                   131494758\n",
       "version                                                                                                     2.0.20231002\n",
       "initial_date                                                                                                  2022-04-29\n",
       "generated_date                                                                                                2023-10-19\n",
       "updated_date                                                                                                  2023-10-19"
      ]
     },
     "execution_count": 240,
     "metadata": {},
     "output_type": "execute_result"
    }
   ],
   "source": [
    "dataset_info = sparql_service_to_dataframe(issa_instances[instance]['endpoint'], dataset_info_query)\n",
    "dataset_info.transpose()"
   ]
  },
  {
   "cell_type": "markdown",
   "metadata": {
    "id": "q_HiKN57AzT9"
   },
   "source": [
    "## Count named entities from all NER tools"
   ]
  },
  {
   "cell_type": "code",
   "execution_count": 235,
   "metadata": {
    "executionInfo": {
     "elapsed": 5,
     "status": "ok",
     "timestamp": 1663847383543,
     "user": {
      "displayName": "Anna Bobasheva",
      "userId": "05152602834421587169"
     },
     "user_tz": -120
    },
    "id": "mlxqEXu1AzT_"
   },
   "outputs": [
    {
     "name": "stdout",
     "output_type": "stream",
     "text": [
      "\n",
      "PREFIX oa:     <http://www.w3.org/ns/oa#>\n",
      "PREFIX issa:   <http://data-issa.cirad.fr/>\n",
      "PREFIX prov: <http://www.w3.org/ns/prov#>\n",
      "\n",
      "\n",
      "SELECT ?annotator \n",
      "       (count(?entity) as ?cnt) \n",
      "\t     (count(distinct ?uri) as ?unique_cnt)\n",
      "FROM <http://data-issa.cirad.fr/graph/dbpedia-spotlight-nes>\n",
      "FROM <http://data-issa.cirad.fr/graph/entity-fishing-nes>\n",
      "FROM <http://data-issa.cirad.fr/graph/geographic-nes>\n",
      "FROM <http://data-issa.cirad.fr/graph/pyclinrec-nes>\n",
      "WHERE {\n",
      "\t?entity a prov:Entity;\n",
      "          oa:hasBody ?uri;\n",
      "          prov:wasAttributedTo ?annotator.\n",
      "}\n",
      "\n"
     ]
    }
   ],
   "source": [
    "ns=issa_instances[instance]['namespace']\n",
    "\n",
    "entity_count_per_annotator_query = f'''\n",
    "PREFIX oa:     <http://www.w3.org/ns/oa#>\n",
    "PREFIX issa:   <{ns}>\n",
    "PREFIX prov: <http://www.w3.org/ns/prov#>\n",
    "\n",
    "\n",
    "SELECT ?annotator \n",
    "       (count(?entity) as ?cnt) \n",
    "\t     (count(distinct ?uri) as ?unique_cnt)\n",
    "FROM <{ns}graph/dbpedia-spotlight-nes>\n",
    "FROM <{ns}graph/entity-fishing-nes>\n",
    "FROM <{ns}graph/geographic-nes>\n",
    "FROM <{ns}graph/pyclinrec-nes>\n",
    "WHERE {{\n",
    "\t?entity a prov:Entity;\n",
    "          oa:hasBody ?uri;\n",
    "          prov:wasAttributedTo ?annotator.\n",
    "}}\n",
    "''' \n",
    "print(entity_count_per_annotator_query)"
   ]
  },
  {
   "cell_type": "code",
   "execution_count": 236,
   "metadata": {
    "colab": {
     "base_uri": "https://localhost:8080/"
    },
    "executionInfo": {
     "elapsed": 24931,
     "status": "ok",
     "timestamp": 1663847408470,
     "user": {
      "displayName": "Anna Bobasheva",
      "userId": "05152602834421587169"
     },
     "user_tz": -120
    },
    "id": "qaPsRooYAzUB",
    "outputId": "8e2fcc82-1fbe-4d26-f5bf-ead3e747ded1"
   },
   "outputs": [
    {
     "name": "stdout",
     "output_type": "stream",
     "text": [
      "(4, 3)\n"
     ]
    }
   ],
   "source": [
    "df_entity_count = sparql_service_to_dataframe(issa_instances[instance]['endpoint'], entity_count_per_annotator_query)\n",
    "\n",
    "df_entity_count = df_entity_count.astype({'cnt': 'int',\n",
    "                                          'unique_cnt' : 'int'})\n",
    "\n",
    "print(df_entity_count.shape)"
   ]
  },
  {
   "cell_type": "code",
   "execution_count": 237,
   "metadata": {
    "colab": {
     "base_uri": "https://localhost:8080/",
     "height": 184
    },
    "executionInfo": {
     "elapsed": 26,
     "status": "ok",
     "timestamp": 1663847408470,
     "user": {
      "displayName": "Anna Bobasheva",
      "userId": "05152602834421587169"
     },
     "user_tz": -120
    },
    "id": "Cc41yIj5AzUC",
    "outputId": "acaf8577-e67d-408e-9028-88bc027bb02a"
   },
   "outputs": [
    {
     "data": {
      "text/html": [
       "<style type=\"text/css\">\n",
       "#T_3ddf0  {\n",
       "  border: 3px solid lightblue !important;\n",
       "}\n",
       "#T_3ddf0 td {\n",
       "  border: 1px solid grey !important;\n",
       "}\n",
       "#T_3ddf0 th {\n",
       "  border: 1px solid grey !important;\n",
       "}\n",
       "</style>\n",
       "<table id=\"T_3ddf0\">\n",
       "  <thead>\n",
       "    <tr>\n",
       "      <th class=\"blank level0\" >&nbsp;</th>\n",
       "      <th id=\"T_3ddf0_level0_col0\" class=\"col_heading level0 col0\" >annotator</th>\n",
       "      <th id=\"T_3ddf0_level0_col1\" class=\"col_heading level0 col1\" >cnt</th>\n",
       "      <th id=\"T_3ddf0_level0_col2\" class=\"col_heading level0 col2\" >unique_cnt</th>\n",
       "    </tr>\n",
       "  </thead>\n",
       "  <tbody>\n",
       "    <tr>\n",
       "      <th id=\"T_3ddf0_level0_row0\" class=\"row_heading level0 row0\" >0</th>\n",
       "      <td id=\"T_3ddf0_row0_col0\" class=\"data row0 col0\" >http://data-issa.cirad.fr/EntityFishing</td>\n",
       "      <td id=\"T_3ddf0_row0_col1\" class=\"data row0 col1\" >2089176</td>\n",
       "      <td id=\"T_3ddf0_row0_col2\" class=\"data row0 col2\" >68033</td>\n",
       "    </tr>\n",
       "    <tr>\n",
       "      <th id=\"T_3ddf0_level0_row1\" class=\"row_heading level0 row1\" >1</th>\n",
       "      <td id=\"T_3ddf0_row1_col0\" class=\"data row1 col0\" >http://data-issa.cirad.fr/GeographicEntityExtractor</td>\n",
       "      <td id=\"T_3ddf0_row1_col1\" class=\"data row1 col1\" >225553</td>\n",
       "      <td id=\"T_3ddf0_row1_col2\" class=\"data row1 col2\" >8130</td>\n",
       "    </tr>\n",
       "    <tr>\n",
       "      <th id=\"T_3ddf0_level0_row2\" class=\"row_heading level0 row2\" >2</th>\n",
       "      <td id=\"T_3ddf0_row2_col0\" class=\"data row2 col0\" >http://data-issa.cirad.fr/Pyclinrec</td>\n",
       "      <td id=\"T_3ddf0_row2_col1\" class=\"data row2 col1\" >3431727</td>\n",
       "      <td id=\"T_3ddf0_row2_col2\" class=\"data row2 col2\" >17204</td>\n",
       "    </tr>\n",
       "    <tr>\n",
       "      <th id=\"T_3ddf0_level0_row3\" class=\"row_heading level0 row3\" >3</th>\n",
       "      <td id=\"T_3ddf0_row3_col0\" class=\"data row3 col0\" >http://data-issa.cirad.fr/DBPediaSpotlight</td>\n",
       "      <td id=\"T_3ddf0_row3_col1\" class=\"data row3 col1\" >1907910</td>\n",
       "      <td id=\"T_3ddf0_row3_col2\" class=\"data row3 col2\" >74421</td>\n",
       "    </tr>\n",
       "  </tbody>\n",
       "</table>\n"
      ],
      "text/plain": [
       "<pandas.io.formats.style.Styler at 0x28476560e80>"
      ]
     },
     "execution_count": 237,
     "metadata": {},
     "output_type": "execute_result"
    }
   ],
   "source": [
    "table_style = [{\"selector\": \"\", \"props\": [(\"border\", \"3px solid lightblue !important\")]},\n",
    "               {\"selector\": \"td\", \"props\": [(\"border\", \"1px solid grey !important\")]},\n",
    "               {\"selector\": \"th\", \"props\": [(\"border\", \"1px solid grey !important\")]}  ]\n",
    "               \n",
    "df_entity_count.style.set_table_styles(table_style)"
   ]
  },
  {
   "cell_type": "markdown",
   "metadata": {
    "id": "B0RIgv3NAzUE"
   },
   "source": [
    "## Annotation quality assesment per vocabulary\n",
    "Select one of the vocabularis and run the cells below"
   ]
  },
  {
   "cell_type": "code",
   "execution_count": 194,
   "metadata": {
    "executionInfo": {
     "elapsed": 17,
     "status": "ok",
     "timestamp": 1663847408473,
     "user": {
      "displayName": "Anna Bobasheva",
      "userId": "05152602834421587169"
     },
     "user_tz": -120
    },
    "id": "FH2rumEtAzUD"
   },
   "outputs": [],
   "source": [
    "annotators = {'wikidata': 'issa:EntityFishing',\n",
    "              'geonames': 'issa:GeographicEntityExtractor',\n",
    "              'dbpedia' : 'issa:DBPediaSpotlight',\n",
    "              'agrovoc' : 'issa:Pyclinrec'}"
   ]
  },
  {
   "cell_type": "code",
   "execution_count": 195,
   "metadata": {
    "executionInfo": {
     "elapsed": 17,
     "status": "ok",
     "timestamp": 1663847408474,
     "user": {
      "displayName": "Anna Bobasheva",
      "userId": "05152602834421587169"
     },
     "user_tz": -120
    },
    "id": "iD_kJG4hAzUE"
   },
   "outputs": [],
   "source": [
    "# in some queries having a long choice of paths to a label proves to be too expensive. \n",
    "# For these queries we can split the path and pass it as a string substitution.\n",
    "label_path = {'wikidata': 'rdfs:label|skos:prefLabel|dct:title|schema:name',\n",
    "              'geonames': 'gn:officialName',\n",
    "              'dbpedia' : 'rdfs:label|skos:prefLabel|dct:title|schema:name',\n",
    "              'agrovoc' : 'skosxl:prefLabel/skosxl:literalForm'}"
   ]
  },
  {
   "cell_type": "code",
   "execution_count": 153,
   "metadata": {
    "executionInfo": {
     "elapsed": 18,
     "status": "ok",
     "timestamp": 1663847408475,
     "user": {
      "displayName": "Anna Bobasheva",
      "userId": "05152602834421587169"
     },
     "user_tz": -120
    },
    "id": "UVNXYLRGAzUF"
   },
   "outputs": [],
   "source": [
    "instance='agritrop'\n",
    "vocab = 'dbpedia'"
   ]
  },
  {
   "cell_type": "markdown",
   "metadata": {},
   "source": [
    "### Count number of annottaions per entity"
   ]
  },
  {
   "cell_type": "code",
   "execution_count": 197,
   "metadata": {
    "collapsed": true,
    "executionInfo": {
     "elapsed": 16,
     "status": "ok",
     "timestamp": 1663847408472,
     "user": {
      "displayName": "Anna Bobasheva",
      "userId": "05152602834421587169"
     },
     "user_tz": -120
    },
    "id": "_73jALc6AzUD"
   },
   "outputs": [
    {
     "name": "stdout",
     "output_type": "stream",
     "text": [
      "\n",
      "PREFIX rdf: <http://www.w3.org/1999/02/22-rdf-syntax-ns#>\n",
      "PREFIX rdfs: <http://www.w3.org/2000/01/rdf-schema#>\n",
      "PREFIX oa:     <http://www.w3.org/ns/oa#>\n",
      "PREFIX skos: <http://www.w3.org/2004/02/skos/core#>\n",
      "PREFIX skosxl: <http://www.w3.org/2008/05/skos-xl#>\n",
      "PREFIX prov: <http://www.w3.org/ns/prov#>\n",
      "PREFIX dct:    <http://purl.org/dc/terms/>\n",
      "PREFIX schema: <http://schema.org/>\n",
      "PREFIX gn:     <http://www.geonames.org/ontology#>\n",
      "\n",
      "PREFIX issa:   <http://data-issa.cirad.fr/>\n",
      "PREFIX issapr: <http://data-issa.cirad.fr/property/> \n",
      "\n",
      "SELECT ?uri ?entityLabel ?cnt ?min_conf ?max_conf\n",
      "FROM <http://data-issa.cirad.fr/graph/dbpedia-spotlight-nes>\n",
      "FROM <http://data-issa.cirad.fr/graph/entity-fishing-nes>\n",
      "FROM <http://data-issa.cirad.fr/graph/geographic-nes>\n",
      "FROM <http://data-issa.cirad.fr/graph/pyclinrec-nes>\n",
      "FROM <http://data-issa.cirad.fr/graph/dbpedia-named-entities>\n",
      "FROM <http://data-issa.cirad.fr/graph/wikidata-named-entities>\n",
      "FROM <http://geonames.org/graph>\n",
      "FROM <http://agrovoc.fao.org/graph>\n",
      "WHERE {\n",
      "\n",
      "      SELECT ?uri ?entityLabel ?cnt ?min_conf ?max_conf\n",
      "      WHERE {\n",
      "\n",
      "      {\n",
      "      SELECT ?uri ?annotator\n",
      "            (count(distinct ?paper) as ?cnt)\n",
      "            (min(?conf) as ?min_conf)\n",
      "            (max(?conf) as ?max_conf)\n",
      "\n",
      "      WHERE {\n",
      "            ?entity a prov:Entity;\n",
      "            oa:hasBody ?uri;\n",
      "            schema:about ?paper;\n",
      "            issapr:confidence ?conf;\n",
      "            prov:wasAttributedTo ?annotator.\n",
      "            FILTER (?annotator = issa:DBPediaSpotlight) # issa:EntityFishing | issa:DBPediaSpotlight | issa:GeographicEntityExtractor | issa:Pyclinrec\n",
      "            }\n",
      "      GROUP by  ?uri ?annotator\n",
      "      }\n",
      "      \n",
      "      OPTIONAL {\n",
      "            ?uri rdfs:label|skos:prefLabel|(skosxl:prefLabel/skosxl:literalForm)|dct:title|schema:name|gn:officialName ?entityLabel_en.\n",
      "            FILTER langMatches(lang(?entityLabel_en), \"en\" )\n",
      "      }\n",
      "      # for DBPedia.fr\n",
      "      OPTIONAL {\n",
      "            ?uri rdfs:label ?entityLabel_fr.\n",
      "            FILTER langMatches(lang(?entityLabel_fr), \"fr\" )\n",
      "      }\n",
      "      # for Geonames\n",
      "      OPTIONAL {\n",
      "            # |gn:alternateName||gn:shortName\n",
      "            ?uri gn:name ?entityLabel_nolang.\n",
      "      }\n",
      "      \n",
      "            BIND(COALESCE(?entityLabel_en, ?entityLabel_fr, ?entityLabel_nolang) as ?entityLabel)\n",
      "      }\n",
      "      ORDER BY DESC(?cnt)\n",
      "}\n",
      "OFFSET %d\n",
      "LIMIT  %d\n",
      "\n"
     ]
    }
   ],
   "source": [
    "ns=issa_instances[instance]['namespace']\n",
    "annotator=annotators[vocab]\n",
    "\n",
    "annotations_per_entity_count_query = f'''\n",
    "PREFIX rdf: <http://www.w3.org/1999/02/22-rdf-syntax-ns#>\n",
    "PREFIX rdfs: <http://www.w3.org/2000/01/rdf-schema#>\n",
    "PREFIX oa:     <http://www.w3.org/ns/oa#>\n",
    "PREFIX skos: <http://www.w3.org/2004/02/skos/core#>\n",
    "PREFIX skosxl: <http://www.w3.org/2008/05/skos-xl#>\n",
    "PREFIX prov: <http://www.w3.org/ns/prov#>\n",
    "PREFIX dct:    <http://purl.org/dc/terms/>\n",
    "PREFIX schema: <http://schema.org/>\n",
    "PREFIX gn:     <http://www.geonames.org/ontology#>\n",
    "\n",
    "PREFIX issa:   <{ns}>\n",
    "PREFIX issapr: <{ns}property/> \n",
    "\n",
    "SELECT ?uri ?entityLabel ?cnt ?min_conf ?max_conf\n",
    "FROM <{ns}graph/dbpedia-spotlight-nes>\n",
    "FROM <{ns}graph/entity-fishing-nes>\n",
    "FROM <{ns}graph/geographic-nes>\n",
    "FROM <{ns}graph/pyclinrec-nes>\n",
    "FROM <{ns}graph/dbpedia-named-entities>\n",
    "FROM <{ns}graph/wikidata-named-entities>\n",
    "FROM <http://geonames.org/graph>\n",
    "FROM <http://agrovoc.fao.org/graph>\n",
    "WHERE {{\n",
    "\n",
    "      SELECT ?uri ?entityLabel ?cnt ?min_conf ?max_conf\n",
    "      WHERE {{\n",
    "\n",
    "      {{\n",
    "      SELECT ?uri ?annotator\n",
    "            (count(distinct ?paper) as ?cnt)\n",
    "            (min(?conf) as ?min_conf)\n",
    "            (max(?conf) as ?max_conf)\n",
    "\n",
    "      WHERE {{\n",
    "            ?entity a prov:Entity;\n",
    "            oa:hasBody ?uri;\n",
    "            schema:about ?paper;\n",
    "            issapr:confidence ?conf;\n",
    "            prov:wasAttributedTo ?annotator.\n",
    "            FILTER (?annotator = {annotator}) # issa:EntityFishing | issa:DBPediaSpotlight | issa:GeographicEntityExtractor | issa:Pyclinrec\n",
    "            }}\n",
    "      GROUP by  ?uri ?annotator\n",
    "      }}\n",
    "      \n",
    "      OPTIONAL {{\n",
    "            ?uri rdfs:label|skos:prefLabel|(skosxl:prefLabel/skosxl:literalForm)|dct:title|schema:name|gn:officialName ?entityLabel_en.\n",
    "            FILTER langMatches(lang(?entityLabel_en), \"en\" )\n",
    "      }}\n",
    "      # for DBPedia.fr\n",
    "      OPTIONAL {{\n",
    "            ?uri rdfs:label ?entityLabel_fr.\n",
    "            FILTER langMatches(lang(?entityLabel_fr), \"fr\" )\n",
    "      }}\n",
    "      # for Geonames\n",
    "      OPTIONAL {{\n",
    "            # |gn:alternateName||gn:shortName\n",
    "            ?uri gn:name ?entityLabel_nolang.\n",
    "      }}\n",
    "      \n",
    "            BIND(COALESCE(?entityLabel_en, ?entityLabel_fr, ?entityLabel_nolang) as ?entityLabel)\n",
    "      }}\n",
    "      ORDER BY DESC(?cnt)\n",
    "}}\n",
    "OFFSET %d\n",
    "LIMIT  %d\n",
    "'''\n",
    "\n",
    "print(annotations_per_entity_count_query)"
   ]
  },
  {
   "cell_type": "code",
   "execution_count": 198,
   "metadata": {
    "colab": {
     "base_uri": "https://localhost:8080/"
    },
    "executionInfo": {
     "elapsed": 194449,
     "status": "ok",
     "timestamp": 1663847602907,
     "user": {
      "displayName": "Anna Bobasheva",
      "userId": "05152602834421587169"
     },
     "user_tz": -120
    },
    "id": "k2N-Gb_MAzUF",
    "outputId": "2d5f764a-1d8b-4f9a-82b8-e5296918ee39"
   },
   "outputs": [
    {
     "name": "stdout",
     "output_type": "stream",
     "text": [
      "https://data-issa.cirad.fr/sparql\n",
      "fetching... \n",
      "PREFIX rdf: <http://www.w3.org/1999/02/22-rdf-syntax-ns#>\n",
      "PREFIX rdfs: <http://www.w3.org/2000/01/rdf-schema#>\n",
      "PREFIX oa:     <http://www.w3.org/ns/oa#>\n",
      "PREFIX skos: <http://www.w3.org/2004/02/skos/core#>\n",
      "PREFIX skosxl: <http://www.w3.org/2008/05/skos-xl#>\n",
      "PREFIX prov: <http://www.w3.org/ns/prov#>\n",
      "PREFIX dct:    <http://purl.org/dc/terms/>\n",
      "PREFIX schema: <http://schema.org/>\n",
      "PREFIX gn:     <http://www.geonames.org/ontology#>\n",
      "\n",
      "PREFIX issa:   <http://data-issa.cirad.fr/>\n",
      "PREFIX issapr: <http://data-issa.cirad.fr/property/> \n",
      "\n",
      "SELECT ?uri ?entityLabel ?cnt ?min_conf ?max_conf\n",
      "FROM <http://data-issa.cirad.fr/graph/dbpedia-spotlight-nes>\n",
      "FROM <http://data-issa.cirad.fr/graph/entity-fishing-nes>\n",
      "FROM <http://data-issa.cirad.fr/graph/geographic-nes>\n",
      "FROM <http://data-issa.cirad.fr/graph/pyclinrec-nes>\n",
      "FROM <http://data-issa.cirad.fr/graph/dbpedia-named-entities>\n",
      "FROM <http://data-issa.cirad.fr/graph/wikidata-named-entities>\n",
      "FROM <http://geonames.org/graph>\n",
      "FROM <http://agrovoc.fao.org/graph>\n",
      "WHERE {\n",
      "\n",
      "      SELECT ?uri ?entityLabel ?cnt ?min_conf ?max_conf\n",
      "      WHERE {\n",
      "\n",
      "      {\n",
      "      SELECT ?uri ?annotator\n",
      "            (count(distinct ?paper) as ?cnt)\n",
      "            (min(?conf) as ?min_conf)\n",
      "            (max(?conf) as ?max_conf)\n",
      "\n",
      "      WHERE {\n",
      "            ?entity a prov:Entity;\n",
      "            oa:hasBody ?uri;\n",
      "            schema:about ?paper;\n",
      "            issapr:confidence ?conf;\n",
      "            prov:wasAttributedTo ?annotator.\n",
      "            FILTER (?annotator = issa:DBPediaSpotlight) # issa:EntityFishing | issa:DBPediaSpotlight | issa:GeographicEntityExtractor | issa:Pyclinrec\n",
      "            }\n",
      "      GROUP by  ?uri ?annotator\n",
      "      }\n",
      "      \n",
      "      OPTIONAL {\n",
      "            ?uri rdfs:label|skos:prefLabel|(skosxl:prefLabel/skosxl:literalForm)|dct:title|schema:name|gn:officialName ?entityLabel_en.\n",
      "            FILTER langMatches(lang(?entityLabel_en), \"en\" )\n",
      "      }\n",
      "      # for DBPedia.fr\n",
      "      OPTIONAL {\n",
      "            ?uri rdfs:label ?entityLabel_fr.\n",
      "            FILTER langMatches(lang(?entityLabel_fr), \"fr\" )\n",
      "      }\n",
      "      # for Geonames\n",
      "      OPTIONAL {\n",
      "            # |gn:alternateName||gn:shortName\n",
      "            ?uri gn:name ?entityLabel_nolang.\n",
      "      }\n",
      "      \n",
      "            BIND(COALESCE(?entityLabel_en, ?entityLabel_fr, ?entityLabel_nolang) as ?entityLabel)\n",
      "      }\n",
      "      ORDER BY DESC(?cnt)\n",
      "}\n",
      "OFFSET 0\n",
      "LIMIT  10000\n",
      "\n",
      "10000, \n",
      "PREFIX rdf: <http://www.w3.org/1999/02/22-rdf-syntax-ns#>\n",
      "PREFIX rdfs: <http://www.w3.org/2000/01/rdf-schema#>\n",
      "PREFIX oa:     <http://www.w3.org/ns/oa#>\n",
      "PREFIX skos: <http://www.w3.org/2004/02/skos/core#>\n",
      "PREFIX skosxl: <http://www.w3.org/2008/05/skos-xl#>\n",
      "PREFIX prov: <http://www.w3.org/ns/prov#>\n",
      "PREFIX dct:    <http://purl.org/dc/terms/>\n",
      "PREFIX schema: <http://schema.org/>\n",
      "PREFIX gn:     <http://www.geonames.org/ontology#>\n",
      "\n",
      "PREFIX issa:   <http://data-issa.cirad.fr/>\n",
      "PREFIX issapr: <http://data-issa.cirad.fr/property/> \n",
      "\n",
      "SELECT ?uri ?entityLabel ?cnt ?min_conf ?max_conf\n",
      "FROM <http://data-issa.cirad.fr/graph/dbpedia-spotlight-nes>\n",
      "FROM <http://data-issa.cirad.fr/graph/entity-fishing-nes>\n",
      "FROM <http://data-issa.cirad.fr/graph/geographic-nes>\n",
      "FROM <http://data-issa.cirad.fr/graph/pyclinrec-nes>\n",
      "FROM <http://data-issa.cirad.fr/graph/dbpedia-named-entities>\n",
      "FROM <http://data-issa.cirad.fr/graph/wikidata-named-entities>\n",
      "FROM <http://geonames.org/graph>\n",
      "FROM <http://agrovoc.fao.org/graph>\n",
      "WHERE {\n",
      "\n",
      "      SELECT ?uri ?entityLabel ?cnt ?min_conf ?max_conf\n",
      "      WHERE {\n",
      "\n",
      "      {\n",
      "      SELECT ?uri ?annotator\n",
      "            (count(distinct ?paper) as ?cnt)\n",
      "            (min(?conf) as ?min_conf)\n",
      "            (max(?conf) as ?max_conf)\n",
      "\n",
      "      WHERE {\n",
      "            ?entity a prov:Entity;\n",
      "            oa:hasBody ?uri;\n",
      "            schema:about ?paper;\n",
      "            issapr:confidence ?conf;\n",
      "            prov:wasAttributedTo ?annotator.\n",
      "            FILTER (?annotator = issa:DBPediaSpotlight) # issa:EntityFishing | issa:DBPediaSpotlight | issa:GeographicEntityExtractor | issa:Pyclinrec\n",
      "            }\n",
      "      GROUP by  ?uri ?annotator\n",
      "      }\n",
      "      \n",
      "      OPTIONAL {\n",
      "            ?uri rdfs:label|skos:prefLabel|(skosxl:prefLabel/skosxl:literalForm)|dct:title|schema:name|gn:officialName ?entityLabel_en.\n",
      "            FILTER langMatches(lang(?entityLabel_en), \"en\" )\n",
      "      }\n",
      "      # for DBPedia.fr\n",
      "      OPTIONAL {\n",
      "            ?uri rdfs:label ?entityLabel_fr.\n",
      "            FILTER langMatches(lang(?entityLabel_fr), \"fr\" )\n",
      "      }\n",
      "      # for Geonames\n",
      "      OPTIONAL {\n",
      "            # |gn:alternateName||gn:shortName\n",
      "            ?uri gn:name ?entityLabel_nolang.\n",
      "      }\n",
      "      \n",
      "            BIND(COALESCE(?entityLabel_en, ?entityLabel_fr, ?entityLabel_nolang) as ?entityLabel)\n",
      "      }\n",
      "      ORDER BY DESC(?cnt)\n",
      "}\n",
      "OFFSET 10000\n",
      "LIMIT  10000\n",
      "\n",
      "10000, \n",
      "PREFIX rdf: <http://www.w3.org/1999/02/22-rdf-syntax-ns#>\n",
      "PREFIX rdfs: <http://www.w3.org/2000/01/rdf-schema#>\n",
      "PREFIX oa:     <http://www.w3.org/ns/oa#>\n",
      "PREFIX skos: <http://www.w3.org/2004/02/skos/core#>\n",
      "PREFIX skosxl: <http://www.w3.org/2008/05/skos-xl#>\n",
      "PREFIX prov: <http://www.w3.org/ns/prov#>\n",
      "PREFIX dct:    <http://purl.org/dc/terms/>\n",
      "PREFIX schema: <http://schema.org/>\n",
      "PREFIX gn:     <http://www.geonames.org/ontology#>\n",
      "\n",
      "PREFIX issa:   <http://data-issa.cirad.fr/>\n",
      "PREFIX issapr: <http://data-issa.cirad.fr/property/> \n",
      "\n",
      "SELECT ?uri ?entityLabel ?cnt ?min_conf ?max_conf\n",
      "FROM <http://data-issa.cirad.fr/graph/dbpedia-spotlight-nes>\n",
      "FROM <http://data-issa.cirad.fr/graph/entity-fishing-nes>\n",
      "FROM <http://data-issa.cirad.fr/graph/geographic-nes>\n",
      "FROM <http://data-issa.cirad.fr/graph/pyclinrec-nes>\n",
      "FROM <http://data-issa.cirad.fr/graph/dbpedia-named-entities>\n",
      "FROM <http://data-issa.cirad.fr/graph/wikidata-named-entities>\n",
      "FROM <http://geonames.org/graph>\n",
      "FROM <http://agrovoc.fao.org/graph>\n",
      "WHERE {\n",
      "\n",
      "      SELECT ?uri ?entityLabel ?cnt ?min_conf ?max_conf\n",
      "      WHERE {\n",
      "\n",
      "      {\n",
      "      SELECT ?uri ?annotator\n",
      "            (count(distinct ?paper) as ?cnt)\n",
      "            (min(?conf) as ?min_conf)\n",
      "            (max(?conf) as ?max_conf)\n",
      "\n",
      "      WHERE {\n",
      "            ?entity a prov:Entity;\n",
      "            oa:hasBody ?uri;\n",
      "            schema:about ?paper;\n",
      "            issapr:confidence ?conf;\n",
      "            prov:wasAttributedTo ?annotator.\n",
      "            FILTER (?annotator = issa:DBPediaSpotlight) # issa:EntityFishing | issa:DBPediaSpotlight | issa:GeographicEntityExtractor | issa:Pyclinrec\n",
      "            }\n",
      "      GROUP by  ?uri ?annotator\n",
      "      }\n",
      "      \n",
      "      OPTIONAL {\n",
      "            ?uri rdfs:label|skos:prefLabel|(skosxl:prefLabel/skosxl:literalForm)|dct:title|schema:name|gn:officialName ?entityLabel_en.\n",
      "            FILTER langMatches(lang(?entityLabel_en), \"en\" )\n",
      "      }\n",
      "      # for DBPedia.fr\n",
      "      OPTIONAL {\n",
      "            ?uri rdfs:label ?entityLabel_fr.\n",
      "            FILTER langMatches(lang(?entityLabel_fr), \"fr\" )\n",
      "      }\n",
      "      # for Geonames\n",
      "      OPTIONAL {\n",
      "            # |gn:alternateName||gn:shortName\n",
      "            ?uri gn:name ?entityLabel_nolang.\n",
      "      }\n",
      "      \n",
      "            BIND(COALESCE(?entityLabel_en, ?entityLabel_fr, ?entityLabel_nolang) as ?entityLabel)\n",
      "      }\n",
      "      ORDER BY DESC(?cnt)\n",
      "}\n",
      "OFFSET 20000\n",
      "LIMIT  10000\n",
      "\n",
      "10000, \n",
      "PREFIX rdf: <http://www.w3.org/1999/02/22-rdf-syntax-ns#>\n",
      "PREFIX rdfs: <http://www.w3.org/2000/01/rdf-schema#>\n",
      "PREFIX oa:     <http://www.w3.org/ns/oa#>\n",
      "PREFIX skos: <http://www.w3.org/2004/02/skos/core#>\n",
      "PREFIX skosxl: <http://www.w3.org/2008/05/skos-xl#>\n",
      "PREFIX prov: <http://www.w3.org/ns/prov#>\n",
      "PREFIX dct:    <http://purl.org/dc/terms/>\n",
      "PREFIX schema: <http://schema.org/>\n",
      "PREFIX gn:     <http://www.geonames.org/ontology#>\n",
      "\n",
      "PREFIX issa:   <http://data-issa.cirad.fr/>\n",
      "PREFIX issapr: <http://data-issa.cirad.fr/property/> \n",
      "\n",
      "SELECT ?uri ?entityLabel ?cnt ?min_conf ?max_conf\n",
      "FROM <http://data-issa.cirad.fr/graph/dbpedia-spotlight-nes>\n",
      "FROM <http://data-issa.cirad.fr/graph/entity-fishing-nes>\n",
      "FROM <http://data-issa.cirad.fr/graph/geographic-nes>\n",
      "FROM <http://data-issa.cirad.fr/graph/pyclinrec-nes>\n",
      "FROM <http://data-issa.cirad.fr/graph/dbpedia-named-entities>\n",
      "FROM <http://data-issa.cirad.fr/graph/wikidata-named-entities>\n",
      "FROM <http://geonames.org/graph>\n",
      "FROM <http://agrovoc.fao.org/graph>\n",
      "WHERE {\n",
      "\n",
      "      SELECT ?uri ?entityLabel ?cnt ?min_conf ?max_conf\n",
      "      WHERE {\n",
      "\n",
      "      {\n",
      "      SELECT ?uri ?annotator\n",
      "            (count(distinct ?paper) as ?cnt)\n",
      "            (min(?conf) as ?min_conf)\n",
      "            (max(?conf) as ?max_conf)\n",
      "\n",
      "      WHERE {\n",
      "            ?entity a prov:Entity;\n",
      "            oa:hasBody ?uri;\n",
      "            schema:about ?paper;\n",
      "            issapr:confidence ?conf;\n",
      "            prov:wasAttributedTo ?annotator.\n",
      "            FILTER (?annotator = issa:DBPediaSpotlight) # issa:EntityFishing | issa:DBPediaSpotlight | issa:GeographicEntityExtractor | issa:Pyclinrec\n",
      "            }\n",
      "      GROUP by  ?uri ?annotator\n",
      "      }\n",
      "      \n",
      "      OPTIONAL {\n",
      "            ?uri rdfs:label|skos:prefLabel|(skosxl:prefLabel/skosxl:literalForm)|dct:title|schema:name|gn:officialName ?entityLabel_en.\n",
      "            FILTER langMatches(lang(?entityLabel_en), \"en\" )\n",
      "      }\n",
      "      # for DBPedia.fr\n",
      "      OPTIONAL {\n",
      "            ?uri rdfs:label ?entityLabel_fr.\n",
      "            FILTER langMatches(lang(?entityLabel_fr), \"fr\" )\n",
      "      }\n",
      "      # for Geonames\n",
      "      OPTIONAL {\n",
      "            # |gn:alternateName||gn:shortName\n",
      "            ?uri gn:name ?entityLabel_nolang.\n",
      "      }\n",
      "      \n",
      "            BIND(COALESCE(?entityLabel_en, ?entityLabel_fr, ?entityLabel_nolang) as ?entityLabel)\n",
      "      }\n",
      "      ORDER BY DESC(?cnt)\n",
      "}\n",
      "OFFSET 30000\n",
      "LIMIT  10000\n",
      "\n"
     ]
    },
    {
     "name": "stdout",
     "output_type": "stream",
     "text": [
      "10000, \n",
      "PREFIX rdf: <http://www.w3.org/1999/02/22-rdf-syntax-ns#>\n",
      "PREFIX rdfs: <http://www.w3.org/2000/01/rdf-schema#>\n",
      "PREFIX oa:     <http://www.w3.org/ns/oa#>\n",
      "PREFIX skos: <http://www.w3.org/2004/02/skos/core#>\n",
      "PREFIX skosxl: <http://www.w3.org/2008/05/skos-xl#>\n",
      "PREFIX prov: <http://www.w3.org/ns/prov#>\n",
      "PREFIX dct:    <http://purl.org/dc/terms/>\n",
      "PREFIX schema: <http://schema.org/>\n",
      "PREFIX gn:     <http://www.geonames.org/ontology#>\n",
      "\n",
      "PREFIX issa:   <http://data-issa.cirad.fr/>\n",
      "PREFIX issapr: <http://data-issa.cirad.fr/property/> \n",
      "\n",
      "SELECT ?uri ?entityLabel ?cnt ?min_conf ?max_conf\n",
      "FROM <http://data-issa.cirad.fr/graph/dbpedia-spotlight-nes>\n",
      "FROM <http://data-issa.cirad.fr/graph/entity-fishing-nes>\n",
      "FROM <http://data-issa.cirad.fr/graph/geographic-nes>\n",
      "FROM <http://data-issa.cirad.fr/graph/pyclinrec-nes>\n",
      "FROM <http://data-issa.cirad.fr/graph/dbpedia-named-entities>\n",
      "FROM <http://data-issa.cirad.fr/graph/wikidata-named-entities>\n",
      "FROM <http://geonames.org/graph>\n",
      "FROM <http://agrovoc.fao.org/graph>\n",
      "WHERE {\n",
      "\n",
      "      SELECT ?uri ?entityLabel ?cnt ?min_conf ?max_conf\n",
      "      WHERE {\n",
      "\n",
      "      {\n",
      "      SELECT ?uri ?annotator\n",
      "            (count(distinct ?paper) as ?cnt)\n",
      "            (min(?conf) as ?min_conf)\n",
      "            (max(?conf) as ?max_conf)\n",
      "\n",
      "      WHERE {\n",
      "            ?entity a prov:Entity;\n",
      "            oa:hasBody ?uri;\n",
      "            schema:about ?paper;\n",
      "            issapr:confidence ?conf;\n",
      "            prov:wasAttributedTo ?annotator.\n",
      "            FILTER (?annotator = issa:DBPediaSpotlight) # issa:EntityFishing | issa:DBPediaSpotlight | issa:GeographicEntityExtractor | issa:Pyclinrec\n",
      "            }\n",
      "      GROUP by  ?uri ?annotator\n",
      "      }\n",
      "      \n",
      "      OPTIONAL {\n",
      "            ?uri rdfs:label|skos:prefLabel|(skosxl:prefLabel/skosxl:literalForm)|dct:title|schema:name|gn:officialName ?entityLabel_en.\n",
      "            FILTER langMatches(lang(?entityLabel_en), \"en\" )\n",
      "      }\n",
      "      # for DBPedia.fr\n",
      "      OPTIONAL {\n",
      "            ?uri rdfs:label ?entityLabel_fr.\n",
      "            FILTER langMatches(lang(?entityLabel_fr), \"fr\" )\n",
      "      }\n",
      "      # for Geonames\n",
      "      OPTIONAL {\n",
      "            # |gn:alternateName||gn:shortName\n",
      "            ?uri gn:name ?entityLabel_nolang.\n",
      "      }\n",
      "      \n",
      "            BIND(COALESCE(?entityLabel_en, ?entityLabel_fr, ?entityLabel_nolang) as ?entityLabel)\n",
      "      }\n",
      "      ORDER BY DESC(?cnt)\n",
      "}\n",
      "OFFSET 40000\n",
      "LIMIT  10000\n",
      "\n",
      "10000, \n",
      "PREFIX rdf: <http://www.w3.org/1999/02/22-rdf-syntax-ns#>\n",
      "PREFIX rdfs: <http://www.w3.org/2000/01/rdf-schema#>\n",
      "PREFIX oa:     <http://www.w3.org/ns/oa#>\n",
      "PREFIX skos: <http://www.w3.org/2004/02/skos/core#>\n",
      "PREFIX skosxl: <http://www.w3.org/2008/05/skos-xl#>\n",
      "PREFIX prov: <http://www.w3.org/ns/prov#>\n",
      "PREFIX dct:    <http://purl.org/dc/terms/>\n",
      "PREFIX schema: <http://schema.org/>\n",
      "PREFIX gn:     <http://www.geonames.org/ontology#>\n",
      "\n",
      "PREFIX issa:   <http://data-issa.cirad.fr/>\n",
      "PREFIX issapr: <http://data-issa.cirad.fr/property/> \n",
      "\n",
      "SELECT ?uri ?entityLabel ?cnt ?min_conf ?max_conf\n",
      "FROM <http://data-issa.cirad.fr/graph/dbpedia-spotlight-nes>\n",
      "FROM <http://data-issa.cirad.fr/graph/entity-fishing-nes>\n",
      "FROM <http://data-issa.cirad.fr/graph/geographic-nes>\n",
      "FROM <http://data-issa.cirad.fr/graph/pyclinrec-nes>\n",
      "FROM <http://data-issa.cirad.fr/graph/dbpedia-named-entities>\n",
      "FROM <http://data-issa.cirad.fr/graph/wikidata-named-entities>\n",
      "FROM <http://geonames.org/graph>\n",
      "FROM <http://agrovoc.fao.org/graph>\n",
      "WHERE {\n",
      "\n",
      "      SELECT ?uri ?entityLabel ?cnt ?min_conf ?max_conf\n",
      "      WHERE {\n",
      "\n",
      "      {\n",
      "      SELECT ?uri ?annotator\n",
      "            (count(distinct ?paper) as ?cnt)\n",
      "            (min(?conf) as ?min_conf)\n",
      "            (max(?conf) as ?max_conf)\n",
      "\n",
      "      WHERE {\n",
      "            ?entity a prov:Entity;\n",
      "            oa:hasBody ?uri;\n",
      "            schema:about ?paper;\n",
      "            issapr:confidence ?conf;\n",
      "            prov:wasAttributedTo ?annotator.\n",
      "            FILTER (?annotator = issa:DBPediaSpotlight) # issa:EntityFishing | issa:DBPediaSpotlight | issa:GeographicEntityExtractor | issa:Pyclinrec\n",
      "            }\n",
      "      GROUP by  ?uri ?annotator\n",
      "      }\n",
      "      \n",
      "      OPTIONAL {\n",
      "            ?uri rdfs:label|skos:prefLabel|(skosxl:prefLabel/skosxl:literalForm)|dct:title|schema:name|gn:officialName ?entityLabel_en.\n",
      "            FILTER langMatches(lang(?entityLabel_en), \"en\" )\n",
      "      }\n",
      "      # for DBPedia.fr\n",
      "      OPTIONAL {\n",
      "            ?uri rdfs:label ?entityLabel_fr.\n",
      "            FILTER langMatches(lang(?entityLabel_fr), \"fr\" )\n",
      "      }\n",
      "      # for Geonames\n",
      "      OPTIONAL {\n",
      "            # |gn:alternateName||gn:shortName\n",
      "            ?uri gn:name ?entityLabel_nolang.\n",
      "      }\n",
      "      \n",
      "            BIND(COALESCE(?entityLabel_en, ?entityLabel_fr, ?entityLabel_nolang) as ?entityLabel)\n",
      "      }\n",
      "      ORDER BY DESC(?cnt)\n",
      "}\n",
      "OFFSET 50000\n",
      "LIMIT  10000\n",
      "\n",
      "10000, \n",
      "PREFIX rdf: <http://www.w3.org/1999/02/22-rdf-syntax-ns#>\n",
      "PREFIX rdfs: <http://www.w3.org/2000/01/rdf-schema#>\n",
      "PREFIX oa:     <http://www.w3.org/ns/oa#>\n",
      "PREFIX skos: <http://www.w3.org/2004/02/skos/core#>\n",
      "PREFIX skosxl: <http://www.w3.org/2008/05/skos-xl#>\n",
      "PREFIX prov: <http://www.w3.org/ns/prov#>\n",
      "PREFIX dct:    <http://purl.org/dc/terms/>\n",
      "PREFIX schema: <http://schema.org/>\n",
      "PREFIX gn:     <http://www.geonames.org/ontology#>\n",
      "\n",
      "PREFIX issa:   <http://data-issa.cirad.fr/>\n",
      "PREFIX issapr: <http://data-issa.cirad.fr/property/> \n",
      "\n",
      "SELECT ?uri ?entityLabel ?cnt ?min_conf ?max_conf\n",
      "FROM <http://data-issa.cirad.fr/graph/dbpedia-spotlight-nes>\n",
      "FROM <http://data-issa.cirad.fr/graph/entity-fishing-nes>\n",
      "FROM <http://data-issa.cirad.fr/graph/geographic-nes>\n",
      "FROM <http://data-issa.cirad.fr/graph/pyclinrec-nes>\n",
      "FROM <http://data-issa.cirad.fr/graph/dbpedia-named-entities>\n",
      "FROM <http://data-issa.cirad.fr/graph/wikidata-named-entities>\n",
      "FROM <http://geonames.org/graph>\n",
      "FROM <http://agrovoc.fao.org/graph>\n",
      "WHERE {\n",
      "\n",
      "      SELECT ?uri ?entityLabel ?cnt ?min_conf ?max_conf\n",
      "      WHERE {\n",
      "\n",
      "      {\n",
      "      SELECT ?uri ?annotator\n",
      "            (count(distinct ?paper) as ?cnt)\n",
      "            (min(?conf) as ?min_conf)\n",
      "            (max(?conf) as ?max_conf)\n",
      "\n",
      "      WHERE {\n",
      "            ?entity a prov:Entity;\n",
      "            oa:hasBody ?uri;\n",
      "            schema:about ?paper;\n",
      "            issapr:confidence ?conf;\n",
      "            prov:wasAttributedTo ?annotator.\n",
      "            FILTER (?annotator = issa:DBPediaSpotlight) # issa:EntityFishing | issa:DBPediaSpotlight | issa:GeographicEntityExtractor | issa:Pyclinrec\n",
      "            }\n",
      "      GROUP by  ?uri ?annotator\n",
      "      }\n",
      "      \n",
      "      OPTIONAL {\n",
      "            ?uri rdfs:label|skos:prefLabel|(skosxl:prefLabel/skosxl:literalForm)|dct:title|schema:name|gn:officialName ?entityLabel_en.\n",
      "            FILTER langMatches(lang(?entityLabel_en), \"en\" )\n",
      "      }\n",
      "      # for DBPedia.fr\n",
      "      OPTIONAL {\n",
      "            ?uri rdfs:label ?entityLabel_fr.\n",
      "            FILTER langMatches(lang(?entityLabel_fr), \"fr\" )\n",
      "      }\n",
      "      # for Geonames\n",
      "      OPTIONAL {\n",
      "            # |gn:alternateName||gn:shortName\n",
      "            ?uri gn:name ?entityLabel_nolang.\n",
      "      }\n",
      "      \n",
      "            BIND(COALESCE(?entityLabel_en, ?entityLabel_fr, ?entityLabel_nolang) as ?entityLabel)\n",
      "      }\n",
      "      ORDER BY DESC(?cnt)\n",
      "}\n",
      "OFFSET 60000\n",
      "LIMIT  10000\n",
      "\n",
      "10000, \n",
      "PREFIX rdf: <http://www.w3.org/1999/02/22-rdf-syntax-ns#>\n",
      "PREFIX rdfs: <http://www.w3.org/2000/01/rdf-schema#>\n",
      "PREFIX oa:     <http://www.w3.org/ns/oa#>\n",
      "PREFIX skos: <http://www.w3.org/2004/02/skos/core#>\n",
      "PREFIX skosxl: <http://www.w3.org/2008/05/skos-xl#>\n",
      "PREFIX prov: <http://www.w3.org/ns/prov#>\n",
      "PREFIX dct:    <http://purl.org/dc/terms/>\n",
      "PREFIX schema: <http://schema.org/>\n",
      "PREFIX gn:     <http://www.geonames.org/ontology#>\n",
      "\n",
      "PREFIX issa:   <http://data-issa.cirad.fr/>\n",
      "PREFIX issapr: <http://data-issa.cirad.fr/property/> \n",
      "\n",
      "SELECT ?uri ?entityLabel ?cnt ?min_conf ?max_conf\n",
      "FROM <http://data-issa.cirad.fr/graph/dbpedia-spotlight-nes>\n",
      "FROM <http://data-issa.cirad.fr/graph/entity-fishing-nes>\n",
      "FROM <http://data-issa.cirad.fr/graph/geographic-nes>\n",
      "FROM <http://data-issa.cirad.fr/graph/pyclinrec-nes>\n",
      "FROM <http://data-issa.cirad.fr/graph/dbpedia-named-entities>\n",
      "FROM <http://data-issa.cirad.fr/graph/wikidata-named-entities>\n",
      "FROM <http://geonames.org/graph>\n",
      "FROM <http://agrovoc.fao.org/graph>\n",
      "WHERE {\n",
      "\n",
      "      SELECT ?uri ?entityLabel ?cnt ?min_conf ?max_conf\n",
      "      WHERE {\n",
      "\n",
      "      {\n",
      "      SELECT ?uri ?annotator\n",
      "            (count(distinct ?paper) as ?cnt)\n",
      "            (min(?conf) as ?min_conf)\n",
      "            (max(?conf) as ?max_conf)\n",
      "\n",
      "      WHERE {\n",
      "            ?entity a prov:Entity;\n",
      "            oa:hasBody ?uri;\n",
      "            schema:about ?paper;\n",
      "            issapr:confidence ?conf;\n",
      "            prov:wasAttributedTo ?annotator.\n",
      "            FILTER (?annotator = issa:DBPediaSpotlight) # issa:EntityFishing | issa:DBPediaSpotlight | issa:GeographicEntityExtractor | issa:Pyclinrec\n",
      "            }\n",
      "      GROUP by  ?uri ?annotator\n",
      "      }\n",
      "      \n",
      "      OPTIONAL {\n",
      "            ?uri rdfs:label|skos:prefLabel|(skosxl:prefLabel/skosxl:literalForm)|dct:title|schema:name|gn:officialName ?entityLabel_en.\n",
      "            FILTER langMatches(lang(?entityLabel_en), \"en\" )\n",
      "      }\n",
      "      # for DBPedia.fr\n",
      "      OPTIONAL {\n",
      "            ?uri rdfs:label ?entityLabel_fr.\n",
      "            FILTER langMatches(lang(?entityLabel_fr), \"fr\" )\n",
      "      }\n",
      "      # for Geonames\n",
      "      OPTIONAL {\n",
      "            # |gn:alternateName||gn:shortName\n",
      "            ?uri gn:name ?entityLabel_nolang.\n",
      "      }\n",
      "      \n",
      "            BIND(COALESCE(?entityLabel_en, ?entityLabel_fr, ?entityLabel_nolang) as ?entityLabel)\n",
      "      }\n",
      "      ORDER BY DESC(?cnt)\n",
      "}\n",
      "OFFSET 70000\n",
      "LIMIT  10000\n",
      "\n"
     ]
    },
    {
     "name": "stdout",
     "output_type": "stream",
     "text": [
      "4425, \n",
      "PREFIX rdf: <http://www.w3.org/1999/02/22-rdf-syntax-ns#>\n",
      "PREFIX rdfs: <http://www.w3.org/2000/01/rdf-schema#>\n",
      "PREFIX oa:     <http://www.w3.org/ns/oa#>\n",
      "PREFIX skos: <http://www.w3.org/2004/02/skos/core#>\n",
      "PREFIX skosxl: <http://www.w3.org/2008/05/skos-xl#>\n",
      "PREFIX prov: <http://www.w3.org/ns/prov#>\n",
      "PREFIX dct:    <http://purl.org/dc/terms/>\n",
      "PREFIX schema: <http://schema.org/>\n",
      "PREFIX gn:     <http://www.geonames.org/ontology#>\n",
      "\n",
      "PREFIX issa:   <http://data-issa.cirad.fr/>\n",
      "PREFIX issapr: <http://data-issa.cirad.fr/property/> \n",
      "\n",
      "SELECT ?uri ?entityLabel ?cnt ?min_conf ?max_conf\n",
      "FROM <http://data-issa.cirad.fr/graph/dbpedia-spotlight-nes>\n",
      "FROM <http://data-issa.cirad.fr/graph/entity-fishing-nes>\n",
      "FROM <http://data-issa.cirad.fr/graph/geographic-nes>\n",
      "FROM <http://data-issa.cirad.fr/graph/pyclinrec-nes>\n",
      "FROM <http://data-issa.cirad.fr/graph/dbpedia-named-entities>\n",
      "FROM <http://data-issa.cirad.fr/graph/wikidata-named-entities>\n",
      "FROM <http://geonames.org/graph>\n",
      "FROM <http://agrovoc.fao.org/graph>\n",
      "WHERE {\n",
      "\n",
      "      SELECT ?uri ?entityLabel ?cnt ?min_conf ?max_conf\n",
      "      WHERE {\n",
      "\n",
      "      {\n",
      "      SELECT ?uri ?annotator\n",
      "            (count(distinct ?paper) as ?cnt)\n",
      "            (min(?conf) as ?min_conf)\n",
      "            (max(?conf) as ?max_conf)\n",
      "\n",
      "      WHERE {\n",
      "            ?entity a prov:Entity;\n",
      "            oa:hasBody ?uri;\n",
      "            schema:about ?paper;\n",
      "            issapr:confidence ?conf;\n",
      "            prov:wasAttributedTo ?annotator.\n",
      "            FILTER (?annotator = issa:DBPediaSpotlight) # issa:EntityFishing | issa:DBPediaSpotlight | issa:GeographicEntityExtractor | issa:Pyclinrec\n",
      "            }\n",
      "      GROUP by  ?uri ?annotator\n",
      "      }\n",
      "      \n",
      "      OPTIONAL {\n",
      "            ?uri rdfs:label|skos:prefLabel|(skosxl:prefLabel/skosxl:literalForm)|dct:title|schema:name|gn:officialName ?entityLabel_en.\n",
      "            FILTER langMatches(lang(?entityLabel_en), \"en\" )\n",
      "      }\n",
      "      # for DBPedia.fr\n",
      "      OPTIONAL {\n",
      "            ?uri rdfs:label ?entityLabel_fr.\n",
      "            FILTER langMatches(lang(?entityLabel_fr), \"fr\" )\n",
      "      }\n",
      "      # for Geonames\n",
      "      OPTIONAL {\n",
      "            # |gn:alternateName||gn:shortName\n",
      "            ?uri gn:name ?entityLabel_nolang.\n",
      "      }\n",
      "      \n",
      "            BIND(COALESCE(?entityLabel_en, ?entityLabel_fr, ?entityLabel_nolang) as ?entityLabel)\n",
      "      }\n",
      "      ORDER BY DESC(?cnt)\n",
      "}\n",
      "OFFSET 80000\n",
      "LIMIT  10000\n",
      "\n",
      "0\n",
      "agritrop dbpedia\n",
      "issa:DBPediaSpotlight (74425, 5)\n"
     ]
    }
   ],
   "source": [
    "df_ne_count = {}\n",
    "#for key, value in annotators.items():\n",
    "key, value = vocab, annotators[vocab]\n",
    "df_ne_count[key] = sparql_service_to_dataframe_with_scrollable_cursor(issa_instances[instance]['endpoint'],\n",
    "                                                                      annotations_per_entity_count_query )\n",
    "#df_ne_count[key].dropna(inplace=True)\n",
    "df_ne_count[key] = df_ne_count[key].astype({'cnt': 'int',\n",
    "                                            'min_conf' : 'float',\n",
    "                                            'max_conf' : 'float'})\n",
    "print(instance, vocab)\n",
    "print(annotators[key] , df_ne_count[key].shape)"
   ]
  },
  {
   "cell_type": "code",
   "execution_count": 14,
   "metadata": {
    "executionInfo": {
     "elapsed": 25,
     "status": "ok",
     "timestamp": 1663847602908,
     "user": {
      "displayName": "Anna Bobasheva",
      "userId": "05152602834421587169"
     },
     "user_tz": -120
    },
    "id": "UfJkqYPRAzUF"
   },
   "outputs": [],
   "source": [
    "#import pickle\n",
    "#with open('df_ne_count.pkl', 'wb') as f:\n",
    "#    pickle.dump(df_ne_count, f)\n",
    "\n",
    "#with open('df_ne_count.pkl', 'rb') as f:\n",
    "#    df_ne_count = pickle.load(f)"
   ]
  },
  {
   "cell_type": "code",
   "execution_count": 200,
   "metadata": {
    "colab": {
     "base_uri": "https://localhost:8080/",
     "height": 151
    },
    "executionInfo": {
     "elapsed": 24,
     "status": "ok",
     "timestamp": 1663847602908,
     "user": {
      "displayName": "Anna Bobasheva",
      "userId": "05152602834421587169"
     },
     "user_tz": -120
    },
    "id": "s52eqxDfAzUF",
    "outputId": "83d79bcf-2a4a-4476-cd37-5c7409498c84"
   },
   "outputs": [
    {
     "name": "stdout",
     "output_type": "stream",
     "text": [
      "dbpedia\n"
     ]
    },
    {
     "data": {
      "text/html": [
       "<style type=\"text/css\">\n",
       "#T_cc409  {\n",
       "  border: 3px solid lightblue !important;\n",
       "}\n",
       "#T_cc409 td {\n",
       "  border: 1px solid grey !important;\n",
       "}\n",
       "#T_cc409 th {\n",
       "  border: 1px solid grey !important;\n",
       "}\n",
       "</style>\n",
       "<table id=\"T_cc409\">\n",
       "  <thead>\n",
       "    <tr>\n",
       "      <th class=\"blank level0\" >&nbsp;</th>\n",
       "      <th id=\"T_cc409_level0_col0\" class=\"col_heading level0 col0\" >count</th>\n",
       "      <th id=\"T_cc409_level0_col1\" class=\"col_heading level0 col1\" >mean</th>\n",
       "      <th id=\"T_cc409_level0_col2\" class=\"col_heading level0 col2\" >std</th>\n",
       "      <th id=\"T_cc409_level0_col3\" class=\"col_heading level0 col3\" >min</th>\n",
       "      <th id=\"T_cc409_level0_col4\" class=\"col_heading level0 col4\" >25%</th>\n",
       "      <th id=\"T_cc409_level0_col5\" class=\"col_heading level0 col5\" >50%</th>\n",
       "      <th id=\"T_cc409_level0_col6\" class=\"col_heading level0 col6\" >75%</th>\n",
       "      <th id=\"T_cc409_level0_col7\" class=\"col_heading level0 col7\" >max</th>\n",
       "    </tr>\n",
       "  </thead>\n",
       "  <tbody>\n",
       "    <tr>\n",
       "      <th id=\"T_cc409_level0_row0\" class=\"row_heading level0 row0\" >cnt</th>\n",
       "      <td id=\"T_cc409_row0_col0\" class=\"data row0 col0\" >74425.00</td>\n",
       "      <td id=\"T_cc409_row0_col1\" class=\"data row0 col1\" >10.97</td>\n",
       "      <td id=\"T_cc409_row0_col2\" class=\"data row0 col2\" >54.97</td>\n",
       "      <td id=\"T_cc409_row0_col3\" class=\"data row0 col3\" >1.00</td>\n",
       "      <td id=\"T_cc409_row0_col4\" class=\"data row0 col4\" >1.00</td>\n",
       "      <td id=\"T_cc409_row0_col5\" class=\"data row0 col5\" >2.00</td>\n",
       "      <td id=\"T_cc409_row0_col6\" class=\"data row0 col6\" >5.00</td>\n",
       "      <td id=\"T_cc409_row0_col7\" class=\"data row0 col7\" >3367.00</td>\n",
       "    </tr>\n",
       "    <tr>\n",
       "      <th id=\"T_cc409_level0_row1\" class=\"row_heading level0 row1\" >min_conf</th>\n",
       "      <td id=\"T_cc409_row1_col0\" class=\"data row1 col0\" >74425.00</td>\n",
       "      <td id=\"T_cc409_row1_col1\" class=\"data row1 col1\" >0.98</td>\n",
       "      <td id=\"T_cc409_row1_col2\" class=\"data row1 col2\" >0.06</td>\n",
       "      <td id=\"T_cc409_row1_col3\" class=\"data row1 col3\" >0.75</td>\n",
       "      <td id=\"T_cc409_row1_col4\" class=\"data row1 col4\" >1.00</td>\n",
       "      <td id=\"T_cc409_row1_col5\" class=\"data row1 col5\" >1.00</td>\n",
       "      <td id=\"T_cc409_row1_col6\" class=\"data row1 col6\" >1.00</td>\n",
       "      <td id=\"T_cc409_row1_col7\" class=\"data row1 col7\" >1.00</td>\n",
       "    </tr>\n",
       "    <tr>\n",
       "      <th id=\"T_cc409_level0_row2\" class=\"row_heading level0 row2\" >max_conf</th>\n",
       "      <td id=\"T_cc409_row2_col0\" class=\"data row2 col0\" >74425.00</td>\n",
       "      <td id=\"T_cc409_row2_col1\" class=\"data row2 col1\" >0.99</td>\n",
       "      <td id=\"T_cc409_row2_col2\" class=\"data row2 col2\" >0.03</td>\n",
       "      <td id=\"T_cc409_row2_col3\" class=\"data row2 col3\" >0.75</td>\n",
       "      <td id=\"T_cc409_row2_col4\" class=\"data row2 col4\" >1.00</td>\n",
       "      <td id=\"T_cc409_row2_col5\" class=\"data row2 col5\" >1.00</td>\n",
       "      <td id=\"T_cc409_row2_col6\" class=\"data row2 col6\" >1.00</td>\n",
       "      <td id=\"T_cc409_row2_col7\" class=\"data row2 col7\" >1.00</td>\n",
       "    </tr>\n",
       "  </tbody>\n",
       "</table>\n"
      ],
      "text/plain": [
       "<pandas.io.formats.style.Styler at 0x284714d0f10>"
      ]
     },
     "execution_count": 200,
     "metadata": {},
     "output_type": "execute_result"
    }
   ],
   "source": [
    "print(vocab)\n",
    "df_ne_count[vocab].describe() \\\n",
    "                  .transpose() \\\n",
    "                  .style.format(precision=2)\\\n",
    "                  .set_table_styles(table_style) "
   ]
  },
  {
   "cell_type": "markdown",
   "metadata": {
    "id": "e-izNQt9AzUG"
   },
   "source": [
    "OBSERVATIONS: \n",
    "- AGROVOC: Confidence score is always 1.0. It should be addressed in the *pyclinrec* library\n",
    "- GEONAMES: the confidence scores can be low for the GeoNames named entities because we are trying to annotate a short text \n",
    "- WIKIDATA: by default the entity-fishing returns NE with conf 0.25 for French and 0.35 for English\n",
    "- DBPEDIA: we do filter the DBpedia NEs by setting up the Spotlight parameters, therefore the min confidence is 0.75. Otherwise there would be a lot of NEs"
   ]
  },
  {
   "cell_type": "markdown",
   "metadata": {
    "id": "GzuBLpBRAzUG"
   },
   "source": [
    "### Most popular entities "
   ]
  },
  {
   "cell_type": "code",
   "execution_count": 201,
   "metadata": {},
   "outputs": [
    {
     "data": {
      "text/html": [
       "<div>\n",
       "<style scoped>\n",
       "    .dataframe tbody tr th:only-of-type {\n",
       "        vertical-align: middle;\n",
       "    }\n",
       "\n",
       "    .dataframe tbody tr th {\n",
       "        vertical-align: top;\n",
       "    }\n",
       "\n",
       "    .dataframe thead th {\n",
       "        text-align: right;\n",
       "    }\n",
       "</style>\n",
       "<table border=\"1\" class=\"dataframe\">\n",
       "  <thead>\n",
       "    <tr style=\"text-align: right;\">\n",
       "      <th></th>\n",
       "      <th>uri</th>\n",
       "      <th>entityLabel</th>\n",
       "      <th>cnt</th>\n",
       "      <th>min_conf</th>\n",
       "      <th>max_conf</th>\n",
       "    </tr>\n",
       "  </thead>\n",
       "  <tbody>\n",
       "    <tr>\n",
       "      <th>0</th>\n",
       "      <td>http://dbpedia.org/resource/Species</td>\n",
       "      <td>Species</td>\n",
       "      <td>3367</td>\n",
       "      <td>0.750110</td>\n",
       "      <td>1.00000</td>\n",
       "    </tr>\n",
       "    <tr>\n",
       "      <th>1</th>\n",
       "      <td>http://fr.dbpedia.org/resource/Eau</td>\n",
       "      <td>Eau</td>\n",
       "      <td>3040</td>\n",
       "      <td>0.751543</td>\n",
       "      <td>1.00000</td>\n",
       "    </tr>\n",
       "    <tr>\n",
       "      <th>2</th>\n",
       "      <td>http://fr.dbpedia.org/resource/France</td>\n",
       "      <td>France</td>\n",
       "      <td>2534</td>\n",
       "      <td>0.770031</td>\n",
       "      <td>1.00000</td>\n",
       "    </tr>\n",
       "    <tr>\n",
       "      <th>3</th>\n",
       "      <td>http://fr.dbpedia.org/resource/Agriculture</td>\n",
       "      <td>Agriculture</td>\n",
       "      <td>2468</td>\n",
       "      <td>0.751821</td>\n",
       "      <td>1.00000</td>\n",
       "    </tr>\n",
       "    <tr>\n",
       "      <th>4</th>\n",
       "      <td>http://fr.dbpedia.org/resource/Élevage</td>\n",
       "      <td>Élevage</td>\n",
       "      <td>2404</td>\n",
       "      <td>0.976587</td>\n",
       "      <td>0.97703</td>\n",
       "    </tr>\n",
       "  </tbody>\n",
       "</table>\n",
       "</div>"
      ],
      "text/plain": [
       "                                          uri  entityLabel   cnt  min_conf  \\\n",
       "0         http://dbpedia.org/resource/Species      Species  3367  0.750110   \n",
       "1          http://fr.dbpedia.org/resource/Eau          Eau  3040  0.751543   \n",
       "2       http://fr.dbpedia.org/resource/France       France  2534  0.770031   \n",
       "3  http://fr.dbpedia.org/resource/Agriculture  Agriculture  2468  0.751821   \n",
       "4      http://fr.dbpedia.org/resource/Élevage      Élevage  2404  0.976587   \n",
       "\n",
       "   max_conf  \n",
       "0   1.00000  \n",
       "1   1.00000  \n",
       "2   1.00000  \n",
       "3   1.00000  \n",
       "4   0.97703  "
      ]
     },
     "execution_count": 201,
     "metadata": {},
     "output_type": "execute_result"
    }
   ],
   "source": [
    "df_ne_count[vocab].head()"
   ]
  },
  {
   "cell_type": "code",
   "execution_count": 202,
   "metadata": {
    "colab": {
     "base_uri": "https://localhost:8080/",
     "height": 417
    },
    "executionInfo": {
     "elapsed": 572,
     "status": "ok",
     "timestamp": 1663847743076,
     "user": {
      "displayName": "Anna Bobasheva",
      "userId": "05152602834421587169"
     },
     "user_tz": -120
    },
    "id": "crMCbHfWAzUG",
    "outputId": "03263eda-f10d-4200-c25a-34d8cd8d18cb"
   },
   "outputs": [
    {
     "data": {
      "image/png": "[encoded data removed]",
      "text/plain": [
       "<Figure size 1200x600 with 1 Axes>"
      ]
     },
     "metadata": {},
     "output_type": "display_data"
    }
   ],
   "source": [
    "fig = plt.figure(figsize=(12, 6))\n",
    "fig.suptitle(f'Most popular {vocab} named entities in {instance}')\n",
    "\n",
    "plt.barh(df_ne_count[vocab].head(20).entityLabel , width= df_ne_count[vocab].head(20).cnt)\n",
    "plt.gca().invert_yaxis()\n",
    "\n",
    "plt.show()"
   ]
  },
  {
   "cell_type": "markdown",
   "metadata": {
    "id": "R4-h8LvtAzUG"
   },
   "source": [
    "OBSERVATIONS: \n",
    "- AGROVOC: top named entities are general concepts\n",
    "- GEONAMES: as expected \n",
    "- WIKIDATA: as expected the top named entities are either geographic or agriculture related.\n",
    "- DBPEDIA: as expected"
   ]
  },
  {
   "cell_type": "code",
   "execution_count": 203,
   "metadata": {
    "colab": {
     "base_uri": "https://localhost:8080/",
     "height": 417
    },
    "executionInfo": {
     "elapsed": 1349,
     "status": "ok",
     "timestamp": 1663847744419,
     "user": {
      "displayName": "Anna Bobasheva",
      "userId": "05152602834421587169"
     },
     "user_tz": -120
    },
    "id": "8PWcjL-9AzUG",
    "outputId": "c24473f0-0b97-475e-9080-353cae15ba7d"
   },
   "outputs": [
    {
     "data": {
      "image/png": "[encoded data removed]",
      "text/plain": [
       "<Figure size 1800x600 with 3 Axes>"
      ]
     },
     "metadata": {},
     "output_type": "display_data"
    }
   ],
   "source": [
    "fig = plt.figure(figsize=(18, 6))\n",
    "fig.suptitle(f'Distribution of per entity counts for {vocab} in {instance}')\n",
    "\n",
    "def show_hist(i, df_f1, range=None, title=None):\n",
    "    mean_cnt = df_f1.cnt.mean()\n",
    "    median_cnt = df_f1.cnt.median()\n",
    "\n",
    "    plt.subplot(1 , 3, i+1)\n",
    "\n",
    "    plt.hist(df_f1.cnt, 10, color='lightblue', range=range )\n",
    "    plt.axvline(mean_cnt, color='indigo')\n",
    "    plt.text(mean_cnt + 0.01, 500, 'mean=%.2f' % mean_cnt , color=\"indigo\")\n",
    "\n",
    "    plt.axvline(median_cnt, color=\"blue\")\n",
    "    plt.text(median_cnt + 0.01, 1000, 'median=%.2f' % median_cnt , color=\"blue\")\n",
    "    \n",
    "    plt.title(title)\n",
    "\n",
    "\n",
    "show_hist(0, df_ne_count[vocab], title='All counts')\n",
    "show_hist(1, df_ne_count[vocab], range=(df_ne_count[vocab].cnt.quantile(0.05) ,  \n",
    "                                        df_ne_count[vocab].cnt.quantile(0.95)),\n",
    "          title='Middle 90%' )\n",
    "show_hist(2, df_ne_count[vocab], range=(df_ne_count[vocab].cnt.quantile(0.25) ,\n",
    "                                        df_ne_count[vocab].cnt.quantile(0.75)),\n",
    "         title='Middle 50%')"
   ]
  },
  {
   "cell_type": "markdown",
   "metadata": {
    "id": "DAhvjmLoAzUH"
   },
   "source": [
    "### Missing labels"
   ]
  },
  {
   "cell_type": "code",
   "execution_count": 204,
   "metadata": {
    "colab": {
     "base_uri": "https://localhost:8080/",
     "height": 49
    },
    "executionInfo": {
     "elapsed": 10,
     "status": "ok",
     "timestamp": 1663847744419,
     "user": {
      "displayName": "Anna Bobasheva",
      "userId": "05152602834421587169"
     },
     "user_tz": -120
    },
    "id": "ginEkRsQAzUH",
    "outputId": "0760889c-5668-4ea7-facc-3cb3ce161c04",
    "scrolled": true
   },
   "outputs": [
    {
     "name": "stdout",
     "output_type": "stream",
     "text": [
      "agritrop dbpedia\n",
      "(85, 5)\n"
     ]
    },
    {
     "data": {
      "text/html": [
       "<style type=\"text/css\">\n",
       "</style>\n",
       "<table id=\"T_7376e\">\n",
       "  <thead>\n",
       "    <tr>\n",
       "      <th class=\"blank level0\" >&nbsp;</th>\n",
       "      <th id=\"T_7376e_level0_col0\" class=\"col_heading level0 col0\" >uri</th>\n",
       "      <th id=\"T_7376e_level0_col1\" class=\"col_heading level0 col1\" >entityLabel</th>\n",
       "      <th id=\"T_7376e_level0_col2\" class=\"col_heading level0 col2\" >cnt</th>\n",
       "      <th id=\"T_7376e_level0_col3\" class=\"col_heading level0 col3\" >min_conf</th>\n",
       "      <th id=\"T_7376e_level0_col4\" class=\"col_heading level0 col4\" >max_conf</th>\n",
       "    </tr>\n",
       "  </thead>\n",
       "  <tbody>\n",
       "    <tr>\n",
       "      <th id=\"T_7376e_level0_row0\" class=\"row_heading level0 row0\" >4474</th>\n",
       "      <td id=\"T_7376e_row0_col0\" class=\"data row0 col0\" ><a href=\"http://fr.dbpedia.org/resource/Solagro\">http://fr.dbpedia.org/resource/Solagro</a></td>\n",
       "      <td id=\"T_7376e_row0_col1\" class=\"data row0 col1\" >None</td>\n",
       "      <td id=\"T_7376e_row0_col2\" class=\"data row0 col2\" >31</td>\n",
       "      <td id=\"T_7376e_row0_col3\" class=\"data row0 col3\" >1.000000</td>\n",
       "      <td id=\"T_7376e_row0_col4\" class=\"data row0 col4\" >1.000000</td>\n",
       "    </tr>\n",
       "    <tr>\n",
       "      <th id=\"T_7376e_level0_row1\" class=\"row_heading level0 row1\" >5322</th>\n",
       "      <td id=\"T_7376e_row1_col0\" class=\"data row1 col0\" ><a href=\"http://fr.dbpedia.org/resource/The_Wood\">http://fr.dbpedia.org/resource/The_Wood</a></td>\n",
       "      <td id=\"T_7376e_row1_col1\" class=\"data row1 col1\" >None</td>\n",
       "      <td id=\"T_7376e_row1_col2\" class=\"data row1 col2\" >26</td>\n",
       "      <td id=\"T_7376e_row1_col3\" class=\"data row1 col3\" >1.000000</td>\n",
       "      <td id=\"T_7376e_row1_col4\" class=\"data row1 col4\" >1.000000</td>\n",
       "    </tr>\n",
       "    <tr>\n",
       "      <th id=\"T_7376e_level0_row2\" class=\"row_heading level0 row2\" >8676</th>\n",
       "      <td id=\"T_7376e_row2_col0\" class=\"data row2 col0\" ><a href=\"http://dbpedia.org/resource/Ks_ratio\">http://dbpedia.org/resource/Ks_ratio</a></td>\n",
       "      <td id=\"T_7376e_row2_col1\" class=\"data row2 col1\" >None</td>\n",
       "      <td id=\"T_7376e_row2_col2\" class=\"data row2 col2\" >14</td>\n",
       "      <td id=\"T_7376e_row2_col3\" class=\"data row2 col3\" >1.000000</td>\n",
       "      <td id=\"T_7376e_row2_col4\" class=\"data row2 col4\" >1.000000</td>\n",
       "    </tr>\n",
       "    <tr>\n",
       "      <th id=\"T_7376e_level0_row3\" class=\"row_heading level0 row3\" >9388</th>\n",
       "      <td id=\"T_7376e_row3_col0\" class=\"data row3 col0\" ><a href=\"http://fr.dbpedia.org/resource/Mbombela\">http://fr.dbpedia.org/resource/Mbombela</a></td>\n",
       "      <td id=\"T_7376e_row3_col1\" class=\"data row3 col1\" >None</td>\n",
       "      <td id=\"T_7376e_row3_col2\" class=\"data row3 col2\" >13</td>\n",
       "      <td id=\"T_7376e_row3_col3\" class=\"data row3 col3\" >1.000000</td>\n",
       "      <td id=\"T_7376e_row3_col4\" class=\"data row3 col4\" >1.000000</td>\n",
       "    </tr>\n",
       "    <tr>\n",
       "      <th id=\"T_7376e_level0_row4\" class=\"row_heading level0 row4\" >3714</th>\n",
       "      <td id=\"T_7376e_row4_col0\" class=\"data row4 col0\" ><a href=\"http://fr.dbpedia.org/resource/Sunrise_UPC\">http://fr.dbpedia.org/resource/Sunrise_UPC</a></td>\n",
       "      <td id=\"T_7376e_row4_col1\" class=\"data row4 col1\" >None</td>\n",
       "      <td id=\"T_7376e_row4_col2\" class=\"data row4 col2\" >8</td>\n",
       "      <td id=\"T_7376e_row4_col3\" class=\"data row4 col3\" >0.839959</td>\n",
       "      <td id=\"T_7376e_row4_col4\" class=\"data row4 col4\" >1.000000</td>\n",
       "    </tr>\n",
       "  </tbody>\n",
       "</table>\n"
      ],
      "text/plain": [
       "<pandas.io.formats.style.Styler at 0x28477f0e310>"
      ]
     },
     "execution_count": 204,
     "metadata": {},
     "output_type": "execute_result"
    }
   ],
   "source": [
    "print(instance, vocab)   \n",
    "print(df_ne_count[vocab][df_ne_count[vocab].entityLabel.isna()].shape)\n",
    "\n",
    "df_ne_count[vocab][df_ne_count[vocab].entityLabel.isna()]\\\n",
    "    .head()\\\n",
    "    .style.format({'uri': hyperlink})"
   ]
  },
  {
   "cell_type": "markdown",
   "metadata": {
    "id": "HQatWfwxAzUH"
   },
   "source": [
    "OBSERVATIONS: \n",
    "- AGROVOC: no missing values! :thumbup\n",
    "- GEONAMES: some GeonamesID in Wikidata are obsolete. For ex. 8505035 for Yuogoslavia.  \n",
    "- WIKIDATA: investigate why 322 entities do not have labels\n",
    "- DBPEDIA: Cannot retrieve labels for 85 entities because the labels are not defined in their respective DBPedia instances."
   ]
  },
  {
   "cell_type": "markdown",
   "metadata": {
    "id": "Lt8-OWoDAzUH"
   },
   "source": [
    "### Named entities recognised from a short word ( surface <= 3 characters)"
   ]
  },
  {
   "cell_type": "code",
   "execution_count": 163,
   "metadata": {
    "executionInfo": {
     "elapsed": 8,
     "status": "ok",
     "timestamp": 1663847744420,
     "user": {
      "displayName": "Anna Bobasheva",
      "userId": "05152602834421587169"
     },
     "user_tz": -120
    },
    "id": "dv3TNyaPAzUI"
   },
   "outputs": [],
   "source": [
    "ns=issa_instances[instance]['namespace']\n",
    "annotator=annotators[vocab]\n",
    "slen = '< 4'\n",
    "lpath =label_path[vocab]\n",
    "\n",
    "short_text_query = f'''\n",
    "PREFIX rdf: <http://www.w3.org/1999/02/22-rdf-syntax-ns#>\n",
    "PREFIX rdfs: <http://www.w3.org/2000/01/rdf-schema#>\n",
    "PREFIX oa:     <http://www.w3.org/ns/oa#>\n",
    "PREFIX skos: <http://www.w3.org/2004/02/skos/core#>\n",
    "PREFIX skosxl: <http://www.w3.org/2008/05/skos-xl#>\n",
    "PREFIX issa:   <{ns}>\n",
    "PREFIX prov: <http://www.w3.org/ns/prov#>\n",
    "PREFIX dct:    <http://purl.org/dc/terms/>\n",
    "PREFIX schema: <http://schema.org/>\n",
    "PREFIX gn:     <http://www.geonames.org/ontology#>\n",
    "PREFIX issapr:  <{ns}property/> \n",
    "\n",
    "SELECT ?surfaceLen ?surface ?entityLabel_en ?entityLabel_fr ?entityLabel ?entityUri ?cnt \n",
    "FROM <{ns}graph/dbpedia-spotlight-nes>\n",
    "FROM <{ns}graph/entity-fishing-nes>\n",
    "FROM <{ns}graph/geographic-nes>\n",
    "FROM <{ns}graph/pyclinrec-nes>\n",
    "FROM <{ns}graph/dbpedia-named-entities>\n",
    "FROM <{ns}graph/wikidata-named-entities>\n",
    "FROM <http://geonames.org/graph>\n",
    "FROM <http://agrovoc.fao.org/graph>\n",
    "WHERE {{\n",
    "      {{SELECT ?surface ?entityUri (count(?surface) as ?cnt) (max(?surfaceLEN) as ?surfaceLen)\n",
    "      WHERE {{\n",
    "            #VALUES (?entity) {{(<{ns}ann/00006684522793ef568fee34752ac6371f33d3c3>)}}\n",
    "            ?entity a prov:Entity;\n",
    "                  oa:hasBody ?entityUri;       \n",
    "                  oa:hasTarget/oa:hasSelector ?selector;\n",
    "                  oa:hasTarget/oa:hasSource ?source;\n",
    "                  issapr:confidence ?conf;\n",
    "                  prov:wasAttributedTo ?annotator.\n",
    "            FILTER (?annotator = {annotator}) # issa:EntityFishing | issa:DBPediaSpotlight | issa:GeographicEntityExtractor | issa:Pyclinrec\n",
    "\n",
    "            ?selector oa:exact ?surface;\n",
    "                  oa:start ?start.\n",
    "\n",
    "            BIND ( STRLEN(?surface) as ?surfaceLEN )\n",
    "            FILTER ( ?surfaceLEN {slen} )\n",
    "            }} \n",
    "      GROUP BY ?surface ?entityUri ?entityLabel\n",
    "      }}\n",
    "      OPTIONAL {{\n",
    "            #?entityUri rdfs:label|skos:prefLabel|(skosxl:prefLabel/skosxl:literalForm)|dct:title|schema:name|gn:officialName|gn:alternateName|gn:name|gn:shortName ?entityLabel.\n",
    "            ?entityUri {lpath} ?entityLabel_en.\n",
    "            FILTER langMatches(lang(?entityLabel_en), \"en\" )\n",
    "      }}\n",
    "      OPTIONAL {{\n",
    "            ?entityUri {lpath} ?entityLabel_fr.\n",
    "            FILTER langMatches(lang(?entityLabel_fr), \"fr\" )\n",
    "      }}\n",
    "      # for Geonames\n",
    "      #OPTIONAL {{\n",
    "      #      ?entityUri gn:name ?entityLabel_nolang.\n",
    "      #}}\n",
    "\n",
    "      BIND(COALESCE(?entityLabel_en, ?entityLabel_fr, ?entityLabel_nolang) as ?entityLabel)\n",
    "}}\n",
    "ORDER BY ?surface ?entityLabel\n",
    "'''"
   ]
  },
  {
   "cell_type": "code",
   "execution_count": 205,
   "metadata": {
    "colab": {
     "base_uri": "https://localhost:8080/"
    },
    "executionInfo": {
     "elapsed": 15092,
     "status": "ok",
     "timestamp": 1663847759505,
     "user": {
      "displayName": "Anna Bobasheva",
      "userId": "05152602834421587169"
     },
     "user_tz": -120
    },
    "id": "2EOiMpwGAzUI",
    "outputId": "0a3853ef-f178-4f35-fb05-fda7bed7898e"
   },
   "outputs": [
    {
     "name": "stdout",
     "output_type": "stream",
     "text": [
      "agritrop dbpedia\n",
      "issa:DBPediaSpotlight (8205, 7)\n"
     ]
    }
   ],
   "source": [
    "df_short_text_count = {}\n",
    "\n",
    "df_short_text_count[vocab] = sparql_service_to_dataframe(issa_instances[instance]['endpoint'],  short_text_query)\n",
    "df_short_text_count[vocab] = df_short_text_count[vocab].astype({'cnt': 'int',\n",
    "                                                                'surfaceLen': 'int'})\n",
    "print(instance, vocab)   \n",
    "print(annotators[vocab] , df_short_text_count[vocab].shape)"
   ]
  },
  {
   "cell_type": "markdown",
   "metadata": {
    "id": "NcZS7vzRAzUI"
   },
   "source": [
    "#### len(surface) == 1"
   ]
  },
  {
   "cell_type": "code",
   "execution_count": 206,
   "metadata": {
    "colab": {
     "base_uri": "https://localhost:8080/",
     "height": 0
    },
    "executionInfo": {
     "elapsed": 19,
     "status": "ok",
     "timestamp": 1663847759506,
     "user": {
      "displayName": "Anna Bobasheva",
      "userId": "05152602834421587169"
     },
     "user_tz": -120
    },
    "id": "7BiPQ_nrAzUI",
    "outputId": "d7447ce0-f690-4aaf-bf94-7e4a5e8b5847"
   },
   "outputs": [
    {
     "name": "stdout",
     "output_type": "stream",
     "text": [
      "agritrop dbpedia\n",
      "(0, 7)\n"
     ]
    },
    {
     "data": {
      "text/html": [
       "<div>\n",
       "<style scoped>\n",
       "    .dataframe tbody tr th:only-of-type {\n",
       "        vertical-align: middle;\n",
       "    }\n",
       "\n",
       "    .dataframe tbody tr th {\n",
       "        vertical-align: top;\n",
       "    }\n",
       "\n",
       "    .dataframe thead th {\n",
       "        text-align: right;\n",
       "    }\n",
       "</style>\n",
       "<table border=\"1\" class=\"dataframe\">\n",
       "  <thead>\n",
       "    <tr style=\"text-align: right;\">\n",
       "      <th></th>\n",
       "      <th>surfaceLen</th>\n",
       "      <th>surface</th>\n",
       "      <th>entityLabel_en</th>\n",
       "      <th>entityLabel_fr</th>\n",
       "      <th>entityLabel</th>\n",
       "      <th>entityUri</th>\n",
       "      <th>cnt</th>\n",
       "    </tr>\n",
       "  </thead>\n",
       "  <tbody>\n",
       "  </tbody>\n",
       "</table>\n",
       "</div>"
      ],
      "text/plain": [
       "Empty DataFrame\n",
       "Columns: [surfaceLen, surface, entityLabel_en, entityLabel_fr, entityLabel, entityUri, cnt]\n",
       "Index: []"
      ]
     },
     "execution_count": 206,
     "metadata": {},
     "output_type": "execute_result"
    }
   ],
   "source": [
    "print(instance, vocab)\n",
    "print(df_short_text_count[vocab].loc[df_short_text_count[vocab].surfaceLen == 1].shape)\n",
    "df_short_text_count[vocab].loc[df_short_text_count[vocab].surfaceLen == 1]\\\n",
    "                          .sort_values(by=['entityLabel_en','cnt'])\\\n",
    "                  #.style.set_table_styles(table_style)"
   ]
  },
  {
   "cell_type": "markdown",
   "metadata": {
    "id": "v244YOJbAzUJ"
   },
   "source": [
    "OBSERVATIONS: \n",
    "- AGROVOC: filtering of surface >= 3 in effect :thumbsup\n",
    "- GEONAMES: filtering of surface >= 2 in effect :thumbsup\n",
    "- WIKIDATA:  filtering surface string >= 3 in effect :thumbsup\n",
    "- DBPEDIA: filtering surface string >= 3 in effect :thumbsup"
   ]
  },
  {
   "cell_type": "markdown",
   "metadata": {
    "id": "sInD7OXBAzUJ"
   },
   "source": [
    "#### len(surface) == 2"
   ]
  },
  {
   "cell_type": "code",
   "execution_count": 207,
   "metadata": {
    "colab": {
     "base_uri": "https://localhost:8080/",
     "height": 0
    },
    "executionInfo": {
     "elapsed": 16,
     "status": "ok",
     "timestamp": 1663847759506,
     "user": {
      "displayName": "Anna Bobasheva",
      "userId": "05152602834421587169"
     },
     "user_tz": -120
    },
    "id": "oDH7cWDIAzUJ",
    "outputId": "5bdf7682-239e-4ca4-894c-e73391860f35"
   },
   "outputs": [
    {
     "name": "stdout",
     "output_type": "stream",
     "text": [
      "agritrop dbpedia\n",
      "(0, 7)\n"
     ]
    },
    {
     "data": {
      "text/html": [
       "<div>\n",
       "<style scoped>\n",
       "    .dataframe tbody tr th:only-of-type {\n",
       "        vertical-align: middle;\n",
       "    }\n",
       "\n",
       "    .dataframe tbody tr th {\n",
       "        vertical-align: top;\n",
       "    }\n",
       "\n",
       "    .dataframe thead th {\n",
       "        text-align: right;\n",
       "    }\n",
       "</style>\n",
       "<table border=\"1\" class=\"dataframe\">\n",
       "  <thead>\n",
       "    <tr style=\"text-align: right;\">\n",
       "      <th></th>\n",
       "      <th>surfaceLen</th>\n",
       "      <th>surface</th>\n",
       "      <th>entityLabel_en</th>\n",
       "      <th>entityLabel_fr</th>\n",
       "      <th>entityLabel</th>\n",
       "      <th>entityUri</th>\n",
       "      <th>cnt</th>\n",
       "    </tr>\n",
       "  </thead>\n",
       "  <tbody>\n",
       "  </tbody>\n",
       "</table>\n",
       "</div>"
      ],
      "text/plain": [
       "Empty DataFrame\n",
       "Columns: [surfaceLen, surface, entityLabel_en, entityLabel_fr, entityLabel, entityUri, cnt]\n",
       "Index: []"
      ]
     },
     "execution_count": 207,
     "metadata": {},
     "output_type": "execute_result"
    }
   ],
   "source": [
    "print(instance, vocab)\n",
    "print(df_short_text_count[vocab].loc[df_short_text_count[vocab].surfaceLen == 2].shape)\n",
    "df_short_text_count[vocab].loc[df_short_text_count[vocab].surfaceLen == 2]\\\n",
    "                          .sort_values(by=['cnt'], ascending=False)\\\n",
    "                  #.style.format({'entityUri': hyperlink})"
   ]
  },
  {
   "cell_type": "markdown",
   "metadata": {
    "id": "CmCdG4QoAzUJ"
   },
   "source": [
    "CONCLUSION: \n",
    "- AGROVOC: the 2 letter surface also does not match very well with the exceptions of UK, EU, and pH. I think they should be filtered as well (0.4% of all) => filtering surface string >= 3 in effect\n",
    "- GEONAMES: the most popular 2 letter entities look like legit abbreviations, e.g.  *UK* or *US*. \n",
    "- WIKIDATA: filtering surface string >= 3 is in effect :thimbsup\n",
    "- DBPEDIA: filtering surface string >= 3 is in effect :thimbsup"
   ]
  },
  {
   "cell_type": "markdown",
   "metadata": {
    "id": "b0AhQvfUAzUJ"
   },
   "source": [
    "#### len(surface) == 3"
   ]
  },
  {
   "cell_type": "code",
   "execution_count": 208,
   "metadata": {
    "colab": {
     "base_uri": "https://localhost:8080/",
     "height": 0
    },
    "executionInfo": {
     "elapsed": 16,
     "status": "ok",
     "timestamp": 1663847759507,
     "user": {
      "displayName": "Anna Bobasheva",
      "userId": "05152602834421587169"
     },
     "user_tz": -120
    },
    "id": "IyJ3MtOiAzUK",
    "outputId": "878bd55b-73aa-474e-b1de-f3ace9020354",
    "scrolled": true
   },
   "outputs": [
    {
     "name": "stdout",
     "output_type": "stream",
     "text": [
      "agritrop dbpedia\n"
     ]
    },
    {
     "data": {
      "text/html": [
       "<div>\n",
       "<style scoped>\n",
       "    .dataframe tbody tr th:only-of-type {\n",
       "        vertical-align: middle;\n",
       "    }\n",
       "\n",
       "    .dataframe tbody tr th {\n",
       "        vertical-align: top;\n",
       "    }\n",
       "\n",
       "    .dataframe thead th {\n",
       "        text-align: right;\n",
       "    }\n",
       "</style>\n",
       "<table border=\"1\" class=\"dataframe\">\n",
       "  <thead>\n",
       "    <tr style=\"text-align: right;\">\n",
       "      <th></th>\n",
       "      <th>surfaceLen</th>\n",
       "      <th>surface</th>\n",
       "      <th>entityLabel_en</th>\n",
       "      <th>entityLabel_fr</th>\n",
       "      <th>entityLabel</th>\n",
       "      <th>entityUri</th>\n",
       "      <th>cnt</th>\n",
       "    </tr>\n",
       "  </thead>\n",
       "  <tbody>\n",
       "    <tr>\n",
       "      <th>6712</th>\n",
       "      <td>3</td>\n",
       "      <td>eau</td>\n",
       "      <td>None</td>\n",
       "      <td>Eau</td>\n",
       "      <td>Eau</td>\n",
       "      <td>http://fr.dbpedia.org/resource/Eau</td>\n",
       "      <td>12280</td>\n",
       "    </tr>\n",
       "    <tr>\n",
       "      <th>7732</th>\n",
       "      <td>3</td>\n",
       "      <td>riz</td>\n",
       "      <td>None</td>\n",
       "      <td>Riz</td>\n",
       "      <td>Riz</td>\n",
       "      <td>http://fr.dbpedia.org/resource/Riz</td>\n",
       "      <td>4039</td>\n",
       "    </tr>\n",
       "    <tr>\n",
       "      <th>4264</th>\n",
       "      <td>3</td>\n",
       "      <td>PCR</td>\n",
       "      <td>Polymerase chain reaction</td>\n",
       "      <td>None</td>\n",
       "      <td>Polymerase chain reaction</td>\n",
       "      <td>http://dbpedia.org/resource/Polymerase_chain_reaction</td>\n",
       "      <td>2720</td>\n",
       "    </tr>\n",
       "    <tr>\n",
       "      <th>1452</th>\n",
       "      <td>3</td>\n",
       "      <td>DNA</td>\n",
       "      <td>DNA</td>\n",
       "      <td>None</td>\n",
       "      <td>DNA</td>\n",
       "      <td>http://dbpedia.org/resource/DNA</td>\n",
       "      <td>2376</td>\n",
       "    </tr>\n",
       "    <tr>\n",
       "      <th>5874</th>\n",
       "      <td>3</td>\n",
       "      <td>USA</td>\n",
       "      <td>United States</td>\n",
       "      <td>None</td>\n",
       "      <td>United States</td>\n",
       "      <td>http://dbpedia.org/resource/United_States</td>\n",
       "      <td>1979</td>\n",
       "    </tr>\n",
       "  </tbody>\n",
       "</table>\n",
       "</div>"
      ],
      "text/plain": [
       "      surfaceLen surface             entityLabel_en entityLabel_fr  \\\n",
       "6712           3     eau                       None            Eau   \n",
       "7732           3     riz                       None            Riz   \n",
       "4264           3     PCR  Polymerase chain reaction           None   \n",
       "1452           3     DNA                        DNA           None   \n",
       "5874           3     USA              United States           None   \n",
       "\n",
       "                    entityLabel  \\\n",
       "6712                        Eau   \n",
       "7732                        Riz   \n",
       "4264  Polymerase chain reaction   \n",
       "1452                        DNA   \n",
       "5874              United States   \n",
       "\n",
       "                                                  entityUri    cnt  \n",
       "6712                     http://fr.dbpedia.org/resource/Eau  12280  \n",
       "7732                     http://fr.dbpedia.org/resource/Riz   4039  \n",
       "4264  http://dbpedia.org/resource/Polymerase_chain_reaction   2720  \n",
       "1452                        http://dbpedia.org/resource/DNA   2376  \n",
       "5874              http://dbpedia.org/resource/United_States   1979  "
      ]
     },
     "execution_count": 208,
     "metadata": {},
     "output_type": "execute_result"
    }
   ],
   "source": [
    "print(instance, vocab)\n",
    "pd.options.display.max_rows = 100\n",
    "df_short_text_count[vocab].loc[df_short_text_count[vocab].surfaceLen == 3]\\\n",
    "                          .sort_values(by=['cnt', 'entityLabel_en'], ascending=False)\\\n",
    "               .head()\n",
    "               #.style.format({'entityUri': hyperlink})\n"
   ]
  },
  {
   "cell_type": "markdown",
   "metadata": {},
   "source": [
    "OBSERVATIONS: \n",
    "- AGROVOC: for the populous 3 letter words the annotation is pretty accurate. For less popular words and abbreviations it's hard to tell without the context\n",
    "- GEONAMES: Lot's of abbreviations for geographical entities with 3 letters. We should keep them  \n",
    "- WIKIDATA: hard to tell. some of the 3 letter entities look ok, like *CWD* (Coffee Wilt Disease). Definetely needs a closer look.\n",
    "- DBPEDIA: hard to tell. some of the 3 letter entities look ok, like *USA* (United States) or *DNA*.  "
   ]
  },
  {
   "cell_type": "markdown",
   "metadata": {
    "id": "C_46UB3cAzUM"
   },
   "source": [
    "### Surface forms that begin with non-letters"
   ]
  },
  {
   "cell_type": "code",
   "execution_count": 209,
   "metadata": {
    "collapsed": true
   },
   "outputs": [
    {
     "name": "stdout",
     "output_type": "stream",
     "text": [
      " \n",
      "PREFIX rdf: <http://www.w3.org/1999/02/22-rdf-syntax-ns#>\n",
      "PREFIX rdfs: <http://www.w3.org/2000/01/rdf-schema#>\n",
      "PREFIX oa:     <http://www.w3.org/ns/oa#>\n",
      "PREFIX skos: <http://www.w3.org/2004/02/skos/core#>\n",
      "PREFIX skosxl: <http://www.w3.org/2008/05/skos-xl#>\n",
      "PREFIX prov: <http://www.w3.org/ns/prov#>\n",
      "PREFIX dct:    <http://purl.org/dc/terms/>\n",
      "PREFIX schema: <http://schema.org/>\n",
      "PREFIX gn:     <http://www.geonames.org/ontology#>\n",
      "\n",
      "PREFIX issa:   <http://data-issa.cirad.fr/>\n",
      "PREFIX issapr: <http://data-issa.cirad.fr/property/> \n",
      "\n",
      "SELECT ?surfaceLen ?surface ?entityLabel_en ?entityLabel_fr ?entityLabel ?entityUri ?cnt \n",
      "FROM <http://data-issa.cirad.fr/graph/dbpedia-spotlight-nes>\n",
      "FROM <http://data-issa.cirad.fr/graph/entity-fishing-nes>\n",
      "FROM <http://data-issa.cirad.fr/graph/geographic-nes>\n",
      "FROM <http://data-issa.cirad.fr/graph/pyclinrec-nes>\n",
      "FROM <http://data-issa.cirad.fr/graph/dbpedia-named-entities>\n",
      "FROM <http://data-issa.cirad.fr/graph/wikidata-named-entities>\n",
      "FROM <http://geonames.org/graph>\n",
      "FROM <http://agrovoc.fao.org/graph>\n",
      "WHERE {\n",
      "      {SELECT ?surface ?entityUri (count(?surface) as ?cnt) (max(?surfaceLEN) as ?surfaceLen)\n",
      "      WHERE {\n",
      "            #VALUES (?entity) {(<http://data-issa.cirad.fr/ann/00006684522793ef568fee34752ac6371f33d3c3>)}\n",
      "            ?entity a prov:Entity;\n",
      "                  oa:hasBody ?entityUri;       \n",
      "                  oa:hasTarget/oa:hasSelector ?selector;\n",
      "                  oa:hasTarget/oa:hasSource ?source;\n",
      "                  issapr:confidence ?conf;\n",
      "                  prov:wasAttributedTo ?annotator.\n",
      "            FILTER (?annotator = issa:DBPediaSpotlight) # issa:EntityFishing | issa:DBPediaSpotlight | issa:GeographicEntityExtractor | issa:Pyclinrec\n",
      "\n",
      "            ?selector oa:exact ?surface;\n",
      "                  oa:start ?start.\n",
      "\n",
      "            BIND ( STRLEN(?surface) as ?surfaceLEN )\n",
      "            FILTER ( ! REGEX(?surface, \"^[a-z,A-Z,À-ÿ]\")  ) # Greek letters ,\\p{Greek},µ\n",
      "            } \n",
      "      GROUP BY ?surface ?entityUri ?entityLabel\n",
      "      }\n",
      "      OPTIONAL {\n",
      "            #?entityUri rdfs:label|skos:prefLabel|(skosxl:prefLabel/skosxl:literalForm)|dct:title|schema:name|gn:officialName|gn:alternateName|gn:name|gn:shortName ?entityLabel.\n",
      "            ?entityUri rdfs:label|skos:prefLabel|dct:title|schema:name ?entityLabel_en.\n",
      "            FILTER langMatches(lang(?entityLabel_en), \"en\" )\n",
      "      }\n",
      "      OPTIONAL {\n",
      "            ?entityUri rdfs:label|skos:prefLabel|dct:title|schema:name ?entityLabel_fr.\n",
      "            FILTER langMatches(lang(?entityLabel_fr), \"fr\" )\n",
      "      }\n",
      "      # for Geonames\n",
      "      OPTIONAL {\n",
      "            ?entityUri gn:name ?entityLabel_nolang.\n",
      "      }\n",
      "\n",
      "      BIND(COALESCE(?entityLabel_en, ?entityLabel_fr, ?entityLabel_nolang) as ?entityLabel)\n",
      "}\n",
      "ORDER BY ?surface ?entityLabel\n",
      "\n"
     ]
    }
   ],
   "source": [
    "ns=issa_instances[instance]['namespace']\n",
    "annotator=annotators[vocab]\n",
    "lpath =label_path[vocab]\n",
    "\n",
    "text_starts_with_non_letter_query = f''' \n",
    "PREFIX rdf: <http://www.w3.org/1999/02/22-rdf-syntax-ns#>\n",
    "PREFIX rdfs: <http://www.w3.org/2000/01/rdf-schema#>\n",
    "PREFIX oa:     <http://www.w3.org/ns/oa#>\n",
    "PREFIX skos: <http://www.w3.org/2004/02/skos/core#>\n",
    "PREFIX skosxl: <http://www.w3.org/2008/05/skos-xl#>\n",
    "PREFIX prov: <http://www.w3.org/ns/prov#>\n",
    "PREFIX dct:    <http://purl.org/dc/terms/>\n",
    "PREFIX schema: <http://schema.org/>\n",
    "PREFIX gn:     <http://www.geonames.org/ontology#>\n",
    "\n",
    "PREFIX issa:   <{ns}>\n",
    "PREFIX issapr: <{ns}property/> \n",
    "\n",
    "SELECT ?surfaceLen ?surface ?entityLabel_en ?entityLabel_fr ?entityLabel ?entityUri ?cnt \n",
    "FROM <{ns}graph/dbpedia-spotlight-nes>\n",
    "FROM <{ns}graph/entity-fishing-nes>\n",
    "FROM <{ns}graph/geographic-nes>\n",
    "FROM <{ns}graph/pyclinrec-nes>\n",
    "FROM <{ns}graph/dbpedia-named-entities>\n",
    "FROM <{ns}graph/wikidata-named-entities>\n",
    "FROM <http://geonames.org/graph>\n",
    "FROM <http://agrovoc.fao.org/graph>\n",
    "WHERE {{\n",
    "      {{SELECT ?surface ?entityUri (count(?surface) as ?cnt) (max(?surfaceLEN) as ?surfaceLen)\n",
    "      WHERE {{\n",
    "            #VALUES (?entity) {{(<{ns}ann/00006684522793ef568fee34752ac6371f33d3c3>)}}\n",
    "            ?entity a prov:Entity;\n",
    "                  oa:hasBody ?entityUri;       \n",
    "                  oa:hasTarget/oa:hasSelector ?selector;\n",
    "                  oa:hasTarget/oa:hasSource ?source;\n",
    "                  issapr:confidence ?conf;\n",
    "                  prov:wasAttributedTo ?annotator.\n",
    "            FILTER (?annotator = {annotator}) # issa:EntityFishing | issa:DBPediaSpotlight | issa:GeographicEntityExtractor | issa:Pyclinrec\n",
    "\n",
    "            ?selector oa:exact ?surface;\n",
    "                  oa:start ?start.\n",
    "\n",
    "            BIND ( STRLEN(?surface) as ?surfaceLEN )\n",
    "            FILTER ( ! REGEX(?surface, \"^[a-z,A-Z,À-ÿ]\")  ) # Greek letters ,\\\\p{{Greek}},µ\n",
    "            }} \n",
    "      GROUP BY ?surface ?entityUri ?entityLabel\n",
    "      }}\n",
    "      OPTIONAL {{\n",
    "            #?entityUri rdfs:label|skos:prefLabel|(skosxl:prefLabel/skosxl:literalForm)|dct:title|schema:name|gn:officialName|gn:alternateName|gn:name|gn:shortName ?entityLabel.\n",
    "            ?entityUri {lpath} ?entityLabel_en.\n",
    "            FILTER langMatches(lang(?entityLabel_en), \"en\" )\n",
    "      }}\n",
    "      OPTIONAL {{\n",
    "            ?entityUri {lpath} ?entityLabel_fr.\n",
    "            FILTER langMatches(lang(?entityLabel_fr), \"fr\" )\n",
    "      }}\n",
    "      # for Geonames\n",
    "      OPTIONAL {{\n",
    "            ?entityUri gn:name ?entityLabel_nolang.\n",
    "      }}\n",
    "\n",
    "      BIND(COALESCE(?entityLabel_en, ?entityLabel_fr, ?entityLabel_nolang) as ?entityLabel)\n",
    "}}\n",
    "ORDER BY ?surface ?entityLabel\n",
    "'''\n",
    "print(text_starts_with_non_letter_query)"
   ]
  },
  {
   "cell_type": "code",
   "execution_count": 210,
   "metadata": {},
   "outputs": [
    {
     "name": "stdout",
     "output_type": "stream",
     "text": [
      "agritrop dbpedia\n",
      "issa:DBPediaSpotlight (0, 7)\n"
     ]
    }
   ],
   "source": [
    "df_non_letter_count = {}\n",
    "\n",
    "df_non_letter_count[vocab] = sparql_service_to_dataframe(issa_instances[instance]['endpoint'],  text_starts_with_non_letter_query)\n",
    "df_non_letter_count[vocab] = df_non_letter_count[vocab].astype({'cnt': 'int',\n",
    "                                                                'surfaceLen': 'int'})\n",
    "print(instance, vocab)   \n",
    "print(annotators[vocab] , df_non_letter_count[vocab].shape)"
   ]
  },
  {
   "cell_type": "code",
   "execution_count": 211,
   "metadata": {},
   "outputs": [
    {
     "name": "stdout",
     "output_type": "stream",
     "text": [
      "agritrop dbpedia\n"
     ]
    },
    {
     "data": {
      "text/html": [
       "<div>\n",
       "<style scoped>\n",
       "    .dataframe tbody tr th:only-of-type {\n",
       "        vertical-align: middle;\n",
       "    }\n",
       "\n",
       "    .dataframe tbody tr th {\n",
       "        vertical-align: top;\n",
       "    }\n",
       "\n",
       "    .dataframe thead th {\n",
       "        text-align: right;\n",
       "    }\n",
       "</style>\n",
       "<table border=\"1\" class=\"dataframe\">\n",
       "  <thead>\n",
       "    <tr style=\"text-align: right;\">\n",
       "      <th></th>\n",
       "      <th>surfaceLen</th>\n",
       "      <th>surface</th>\n",
       "      <th>entityLabel_en</th>\n",
       "      <th>entityLabel_fr</th>\n",
       "      <th>entityLabel</th>\n",
       "      <th>entityUri</th>\n",
       "      <th>cnt</th>\n",
       "    </tr>\n",
       "  </thead>\n",
       "  <tbody>\n",
       "  </tbody>\n",
       "</table>\n",
       "</div>"
      ],
      "text/plain": [
       "Empty DataFrame\n",
       "Columns: [surfaceLen, surface, entityLabel_en, entityLabel_fr, entityLabel, entityUri, cnt]\n",
       "Index: []"
      ]
     },
     "execution_count": 211,
     "metadata": {},
     "output_type": "execute_result"
    }
   ],
   "source": [
    "print(instance, vocab)\n",
    "df_non_letter_count[vocab].sort_values(by=['surface'])\\\n",
    "                  #.style.format({'entityUri': hyperlink})\n",
    "                  "
   ]
  },
  {
   "cell_type": "markdown",
   "metadata": {},
   "source": [
    "OBSERVATIONS:\n",
    "- AGROVOC: filtering out of non-letters beginings of the text is in effect\n",
    "- GEONAMES: filtering out of non-letters beginings of the text is in effect\n",
    "- WIKIDATA: filtering out of non-letters beginings of the text is in effect in most part. We should add a curly bracket to the set of non-alphabet characters. But the unit entities taht begin with  µ should stay.\n",
    "- DBPEDIA: filtering out of non-letters beginings of the text is in effect\n",
    "\n"
   ]
  },
  {
   "cell_type": "markdown",
   "metadata": {
    "id": "9Hx6L034AzUL"
   },
   "source": [
    "### Multiple named entities for one surface form"
   ]
  },
  {
   "cell_type": "code",
   "execution_count": 212,
   "metadata": {
    "collapsed": true,
    "executionInfo": {
     "elapsed": 13,
     "status": "ok",
     "timestamp": 1663847759508,
     "user": {
      "displayName": "Anna Bobasheva",
      "userId": "05152602834421587169"
     },
     "user_tz": -120
    },
    "id": "jw3LX-n0AzUL"
   },
   "outputs": [
    {
     "name": "stdout",
     "output_type": "stream",
     "text": [
      "\n",
      "PREFIX rdf: <http://www.w3.org/1999/02/22-rdf-syntax-ns#>\n",
      "PREFIX rdfs: <http://www.w3.org/2000/01/rdf-schema#>\n",
      "PREFIX oa:     <http://www.w3.org/ns/oa#>\n",
      "PREFIX skos: <http://www.w3.org/2004/02/skos/core#>\n",
      "PREFIX skosxl: <http://www.w3.org/2008/05/skos-xl#>\n",
      "PREFIX prov: <http://www.w3.org/ns/prov#>\n",
      "PREFIX dct:    <http://purl.org/dc/terms/>\n",
      "PREFIX schema: <http://schema.org/>\n",
      "PREFIX gn:     <http://www.geonames.org/ontology#>\n",
      "\n",
      "PREFIX issa:   <http://data-issa.cirad.fr/>\n",
      "\n",
      "SELECT ?source ?surface ?start ?cnt \n",
      "       #?entities \n",
      "WHERE {\n",
      "  { SELECT ?source ?surface ?start \n",
      "          (count(?entityUri) as ?cnt)\n",
      "          (group_concat(?entityUri; separator=\", \") as ?entities) \n",
      "    WHERE {\n",
      "          #VALUES (?entity) {(<http://data-issa.cirad.fr/ann/00006684522793ef568fee34752ac6371f33d3c3>)}\n",
      "          ?entity a prov:Entity;\n",
      "                  oa:hasBody ?entityUri;       \n",
      "                  oa:hasTarget/oa:hasSelector ?selector;\n",
      "                  oa:hasTarget/oa:hasSource ?source;\n",
      "                  prov:wasAttributedTo ?annotator.\n",
      "          FILTER (?annotator = issa:DBPediaSpotlight) # issa:EntityFishing | issa:DBPediaSpotlight | issa:GeographicEntityExtractor | issa:Pyclinrec\n",
      "\n",
      "          ?selector oa:exact ?surface;\n",
      "                    oa:start ?start.\n",
      "          } \n",
      "    GROUP BY ?source ?surface ?start\n",
      "    HAVING ((count(?entityUri) > 1 ) )\n",
      "  }\n",
      "\n",
      "}\n",
      "order by desc(?cnt)\n",
      "\n"
     ]
    }
   ],
   "source": [
    "ns=issa_instances[instance]['namespace']\n",
    "annotator=annotators[vocab]\n",
    "lpath =label_path[vocab]\n",
    "ecnt='> 1'\n",
    "\n",
    "multiple_entities_query = f'''\n",
    "PREFIX rdf: <http://www.w3.org/1999/02/22-rdf-syntax-ns#>\n",
    "PREFIX rdfs: <http://www.w3.org/2000/01/rdf-schema#>\n",
    "PREFIX oa:     <http://www.w3.org/ns/oa#>\n",
    "PREFIX skos: <http://www.w3.org/2004/02/skos/core#>\n",
    "PREFIX skosxl: <http://www.w3.org/2008/05/skos-xl#>\n",
    "PREFIX prov: <http://www.w3.org/ns/prov#>\n",
    "PREFIX dct:    <http://purl.org/dc/terms/>\n",
    "PREFIX schema: <http://schema.org/>\n",
    "PREFIX gn:     <http://www.geonames.org/ontology#>\n",
    "\n",
    "PREFIX issa:   <{ns}>\n",
    "\n",
    "SELECT ?source ?surface ?start ?cnt \n",
    "       #?entities \n",
    "WHERE {{\n",
    "  {{ SELECT ?source ?surface ?start \n",
    "          (count(?entityUri) as ?cnt)\n",
    "          (group_concat(?entityUri; separator=\", \") as ?entities) \n",
    "    WHERE {{\n",
    "          #VALUES (?entity) {{(<{ns}ann/00006684522793ef568fee34752ac6371f33d3c3>)}}\n",
    "          ?entity a prov:Entity;\n",
    "                  oa:hasBody ?entityUri;       \n",
    "                  oa:hasTarget/oa:hasSelector ?selector;\n",
    "                  oa:hasTarget/oa:hasSource ?source;\n",
    "                  prov:wasAttributedTo ?annotator.\n",
    "          FILTER (?annotator = {annotator}) # issa:EntityFishing | issa:DBPediaSpotlight | issa:GeographicEntityExtractor | issa:Pyclinrec\n",
    "\n",
    "          ?selector oa:exact ?surface;\n",
    "                    oa:start ?start.\n",
    "          }} \n",
    "    GROUP BY ?source ?surface ?start\n",
    "    HAVING ((count(?entityUri) {ecnt} ) )\n",
    "  }}\n",
    "\n",
    "}}\n",
    "order by desc(?cnt)\n",
    "'''\n",
    "\n",
    "print(multiple_entities_query)"
   ]
  },
  {
   "cell_type": "code",
   "execution_count": 213,
   "metadata": {
    "colab": {
     "base_uri": "https://localhost:8080/"
    },
    "executionInfo": {
     "elapsed": 47255,
     "status": "ok",
     "timestamp": 1663847806750,
     "user": {
      "displayName": "Anna Bobasheva",
      "userId": "05152602834421587169"
     },
     "user_tz": -120
    },
    "id": "t_w3rTaYAzUL",
    "outputId": "3411bb0b-5556-4393-a17e-928d848d01af"
   },
   "outputs": [
    {
     "name": "stdout",
     "output_type": "stream",
     "text": [
      "agritrop dbpedia\n",
      "issa:DBPediaSpotlight (0, 4)\n"
     ]
    }
   ],
   "source": [
    "pd.options.display.max_colwidth = 100\n",
    "\n",
    "df_multi_entities = df_multi_entities if 'df_multi_entities' in locals() else {}\n",
    "\n",
    "df_multi_entities[vocab] = sparql_service_to_dataframe(issa_instances[instance]['endpoint'],\n",
    "                                                       multiple_entities_query)\n",
    "\n",
    "df_multi_entities[vocab] = df_multi_entities[vocab].astype({'cnt': 'int'})\n",
    "\n",
    "print(instance, vocab)   \n",
    "print(annotators[vocab] , df_multi_entities[vocab].shape)"
   ]
  },
  {
   "cell_type": "code",
   "execution_count": 214,
   "metadata": {},
   "outputs": [
    {
     "name": "stdout",
     "output_type": "stream",
     "text": [
      "agritrop dbpedia\n"
     ]
    },
    {
     "data": {
      "text/html": [
       "<div>\n",
       "<style scoped>\n",
       "    .dataframe tbody tr th:only-of-type {\n",
       "        vertical-align: middle;\n",
       "    }\n",
       "\n",
       "    .dataframe tbody tr th {\n",
       "        vertical-align: top;\n",
       "    }\n",
       "\n",
       "    .dataframe thead th {\n",
       "        text-align: right;\n",
       "    }\n",
       "</style>\n",
       "<table border=\"1\" class=\"dataframe\">\n",
       "  <thead>\n",
       "    <tr style=\"text-align: right;\">\n",
       "      <th></th>\n",
       "      <th>source</th>\n",
       "      <th>surface</th>\n",
       "      <th>start</th>\n",
       "      <th>cnt</th>\n",
       "    </tr>\n",
       "  </thead>\n",
       "  <tbody>\n",
       "  </tbody>\n",
       "</table>\n",
       "</div>"
      ],
      "text/plain": [
       "Empty DataFrame\n",
       "Columns: [source, surface, start, cnt]\n",
       "Index: []"
      ]
     },
     "execution_count": 214,
     "metadata": {},
     "output_type": "execute_result"
    }
   ],
   "source": [
    "print(instance, vocab)\n",
    "pd.options.display.max_rows = 10\n",
    "df_multi_entities[vocab].sort_values(by=['cnt'], ascending=False)\\\n",
    "                        #.head()"
   ]
  },
  {
   "cell_type": "markdown",
   "metadata": {
    "id": "cBVHXaNzAzUL"
   },
   "source": [
    "OBSERVATIONS: \n",
    "- AGROVOC: The number of overlaping entities has been reduced by 10 folds by the new vesrion of pyclinrec. However, the problem with multuple entities for the surfaces with repetitive words still persist although to a lesser scale. More analysuis in the next few cells\n",
    "- GEONAMES: no multiple NEs for the same surface form :thumbsup\n",
    "- WIKIDATA: no multiple NEs for the same surface form :thumbsup\n",
    "- DBPEDIA: no multiple NEs for the same surface form :thumbsup"
   ]
  },
  {
   "cell_type": "markdown",
   "metadata": {},
   "source": [
    "#### detect repeated text \n",
    "\n",
    "Sometimes repeated string in the surface form creates multiple NEs"
   ]
  },
  {
   "cell_type": "code",
   "execution_count": 215,
   "metadata": {},
   "outputs": [
    {
     "name": "stdout",
     "output_type": "stream",
     "text": [
      "agritrop dbpedia\n"
     ]
    },
    {
     "data": {
      "text/html": [
       "<div>\n",
       "<style scoped>\n",
       "    .dataframe tbody tr th:only-of-type {\n",
       "        vertical-align: middle;\n",
       "    }\n",
       "\n",
       "    .dataframe tbody tr th {\n",
       "        vertical-align: top;\n",
       "    }\n",
       "\n",
       "    .dataframe thead th {\n",
       "        text-align: right;\n",
       "    }\n",
       "</style>\n",
       "<table border=\"1\" class=\"dataframe\">\n",
       "  <thead>\n",
       "    <tr style=\"text-align: right;\">\n",
       "      <th></th>\n",
       "      <th>source</th>\n",
       "      <th>surface</th>\n",
       "      <th>start</th>\n",
       "      <th>cnt</th>\n",
       "      <th>repeat</th>\n",
       "    </tr>\n",
       "  </thead>\n",
       "  <tbody>\n",
       "  </tbody>\n",
       "</table>\n",
       "</div>"
      ],
      "text/plain": [
       "Empty DataFrame\n",
       "Columns: [source, surface, start, cnt, repeat]\n",
       "Index: []"
      ]
     },
     "execution_count": 215,
     "metadata": {},
     "output_type": "execute_result"
    }
   ],
   "source": [
    "def detect_repeat(string_to_split):\n",
    "    import re\n",
    "    return pd.Series(re.split('-| ', string_to_split.lower())).value_counts().max() > 1\n",
    "\n",
    "df_multi_entities[vocab]['repeat']  = df_multi_entities[vocab].surface.apply(detect_repeat)\n",
    "\n",
    "print(instance, vocab)\n",
    "df_multi_entities[vocab].loc[df_multi_entities[vocab].repeat]\\\n",
    "                        .sort_values(by=['cnt', 'surface'], ascending=False)\\\n",
    "                        .head()\\\n",
    "                        #.style.format({'source': hyperlink})"
   ]
  },
  {
   "cell_type": "code",
   "execution_count": 216,
   "metadata": {},
   "outputs": [
    {
     "name": "stdout",
     "output_type": "stream",
     "text": [
      "agritrop dbpedia\n"
     ]
    },
    {
     "data": {
      "text/html": [
       "<div>\n",
       "<style scoped>\n",
       "    .dataframe tbody tr th:only-of-type {\n",
       "        vertical-align: middle;\n",
       "    }\n",
       "\n",
       "    .dataframe tbody tr th {\n",
       "        vertical-align: top;\n",
       "    }\n",
       "\n",
       "    .dataframe thead th {\n",
       "        text-align: right;\n",
       "    }\n",
       "</style>\n",
       "<table border=\"1\" class=\"dataframe\">\n",
       "  <thead>\n",
       "    <tr style=\"text-align: right;\">\n",
       "      <th></th>\n",
       "      <th>source</th>\n",
       "      <th>surface</th>\n",
       "      <th>start</th>\n",
       "      <th>cnt</th>\n",
       "      <th>repeat</th>\n",
       "    </tr>\n",
       "  </thead>\n",
       "  <tbody>\n",
       "  </tbody>\n",
       "</table>\n",
       "</div>"
      ],
      "text/plain": [
       "Empty DataFrame\n",
       "Columns: [source, surface, start, cnt, repeat]\n",
       "Index: []"
      ]
     },
     "execution_count": 216,
     "metadata": {},
     "output_type": "execute_result"
    }
   ],
   "source": [
    "# non repeated text\n",
    "print(instance, vocab)\n",
    "pd.options.display.max_rows = 10\n",
    "df_multi_entities[vocab].loc[df_multi_entities[vocab].repeat==False]\\\n",
    "                        .sort_values(by=['cnt', 'surface'], ascending=False)\\\n",
    "                        .head()\\\n",
    "                        #.style.format({'source': hyperlink})"
   ]
  },
  {
   "cell_type": "code",
   "execution_count": 185,
   "metadata": {
    "colab": {
     "base_uri": "https://localhost:8080/",
     "height": 350
    },
    "collapsed": true,
    "executionInfo": {
     "elapsed": 911,
     "status": "ok",
     "timestamp": 1663847807648,
     "user": {
      "displayName": "Anna Bobasheva",
      "userId": "05152602834421587169"
     },
     "user_tz": -120
    },
    "id": "Fk5NlaWtAzUL",
    "outputId": "da91cab9-3b81-4cf0-c70b-3ccb53868831"
   },
   "outputs": [
    {
     "name": "stdout",
     "output_type": "stream",
     "text": [
      " \n",
      "PREFIX rdf: <http://www.w3.org/1999/02/22-rdf-syntax-ns#>\n",
      "PREFIX rdfs: <http://www.w3.org/2000/01/rdf-schema#>\n",
      "PREFIX oa:     <http://www.w3.org/ns/oa#>\n",
      "PREFIX skos: <http://www.w3.org/2004/02/skos/core#>\n",
      "PREFIX skosxl: <http://www.w3.org/2008/05/skos-xl#>\n",
      "PREFIX prov: <http://www.w3.org/ns/prov#>\n",
      "PREFIX dct:    <http://purl.org/dc/terms/>\n",
      "PREFIX schema: <http://schema.org/>\n",
      "PREFIX gn:     <http://www.geonames.org/ontology#>\n",
      "\n",
      "PREFIX issa:   <http://data-issa.cirad.fr/>\n",
      "PREFIX issapr: <http://data-issa.cirad.fr/property/> \n",
      "\n",
      "SELECT ?source ?start ?surface ?entityUri ?entityLabel_en ?entityLabel_fr\n",
      "WHERE \n",
      "{\n",
      "    VALUES (?source) {(<http://data-issa.cirad.fr/document/593761#body_text>)}\n",
      "    VALUES (?start) {( 655 )}\n",
      "    \n",
      "    ?entity a prov:Entity;\n",
      "            oa:hasBody ?entityUri;       \n",
      "            oa:hasTarget/oa:hasSelector ?selector;\n",
      "            oa:hasTarget/oa:hasSource ?source;\n",
      "            prov:wasAttributedTo ?annotator.\n",
      "    FILTER (?annotator = issa:DBPediaSpotlight)\n",
      "\n",
      "    ?selector oa:exact ?surface;\n",
      "              oa:start ?start.\n",
      "\n",
      "    OPTIONAL {\n",
      "        ?entityUri rdfs:label|skos:prefLabel|(skosxl:prefLabel/skosxl:literalForm)|dct:title|schema:name|gn:officialName|gn:alternateName|gn:name|gn:shortName ?entityLabel_en.\n",
      "        FILTER langMatches(lang(?entityLabel_en), \"en\" )  }\n",
      "\n",
      "\tOPTIONAL {\n",
      "\t    ?entityUri rdfs:label|skos:prefLabel|(skosxl:prefLabel/skosxl:literalForm)|dct:title|schema:name|gn:officialName|gn:alternateName|gn:name|gn:shortName ?entityLabel_fr.\n",
      "        FILTER langMatches(lang(?entityLabel_fr), \"fr\" ) }\n",
      "}\n",
      "\n"
     ]
    }
   ],
   "source": [
    "# Complementary query: get all the entities for a specific text\n",
    "# that raises a question\n",
    "\n",
    "ns=issa_instances[instance]['namespace']\n",
    "annotator=annotators[vocab]\n",
    "doc = '593761'\n",
    "start  = 655\n",
    "\n",
    "entities_for_surface_query = f''' \n",
    "PREFIX rdf: <http://www.w3.org/1999/02/22-rdf-syntax-ns#>\n",
    "PREFIX rdfs: <http://www.w3.org/2000/01/rdf-schema#>\n",
    "PREFIX oa:     <http://www.w3.org/ns/oa#>\n",
    "PREFIX skos: <http://www.w3.org/2004/02/skos/core#>\n",
    "PREFIX skosxl: <http://www.w3.org/2008/05/skos-xl#>\n",
    "PREFIX prov: <http://www.w3.org/ns/prov#>\n",
    "PREFIX dct:    <http://purl.org/dc/terms/>\n",
    "PREFIX schema: <http://schema.org/>\n",
    "PREFIX gn:     <http://www.geonames.org/ontology#>\n",
    "\n",
    "PREFIX issa:   <{ns}>\n",
    "PREFIX issapr: <{ns}property/> \n",
    "\n",
    "SELECT ?source ?start ?surface ?entityUri ?entityLabel_en ?entityLabel_fr\n",
    "WHERE \n",
    "{{\n",
    "    VALUES (?source) {{(<{ns}document/{doc}#body_text>)}}\n",
    "    VALUES (?start) {{( {start} )}}\n",
    "    \n",
    "    ?entity a prov:Entity;\n",
    "            oa:hasBody ?entityUri;       \n",
    "            oa:hasTarget/oa:hasSelector ?selector;\n",
    "            oa:hasTarget/oa:hasSource ?source;\n",
    "            prov:wasAttributedTo ?annotator.\n",
    "    FILTER (?annotator = {annotator})\n",
    "\n",
    "    ?selector oa:exact ?surface;\n",
    "              oa:start ?start.\n",
    "\n",
    "    OPTIONAL {{\n",
    "        ?entityUri rdfs:label|skos:prefLabel|(skosxl:prefLabel/skosxl:literalForm)|dct:title|schema:name|gn:officialName|gn:alternateName|gn:name|gn:shortName ?entityLabel_en.\n",
    "        FILTER langMatches(lang(?entityLabel_en), \"en\" )  }}\n",
    "\n",
    "\tOPTIONAL {{\n",
    "\t    ?entityUri rdfs:label|skos:prefLabel|(skosxl:prefLabel/skosxl:literalForm)|dct:title|schema:name|gn:officialName|gn:alternateName|gn:name|gn:shortName ?entityLabel_fr.\n",
    "        FILTER langMatches(lang(?entityLabel_fr), \"fr\" ) }}\n",
    "}}\n",
    "'''\n",
    "print(entities_for_surface_query)"
   ]
  },
  {
   "cell_type": "code",
   "execution_count": 187,
   "metadata": {
    "colab": {
     "base_uri": "https://localhost:8080/",
     "height": 350
    },
    "executionInfo": {
     "elapsed": 911,
     "status": "ok",
     "timestamp": 1663847807648,
     "user": {
      "displayName": "Anna Bobasheva",
      "userId": "05152602834421587169"
     },
     "user_tz": -120
    },
    "id": "Fk5NlaWtAzUL",
    "outputId": "da91cab9-3b81-4cf0-c70b-3ccb53868831"
   },
   "outputs": [
    {
     "name": "stdout",
     "output_type": "stream",
     "text": [
      "agritrop dbpedia\n",
      "(0, 6)\n"
     ]
    },
    {
     "data": {
      "text/html": [
       "<div>\n",
       "<style scoped>\n",
       "    .dataframe tbody tr th:only-of-type {\n",
       "        vertical-align: middle;\n",
       "    }\n",
       "\n",
       "    .dataframe tbody tr th {\n",
       "        vertical-align: top;\n",
       "    }\n",
       "\n",
       "    .dataframe thead th {\n",
       "        text-align: right;\n",
       "    }\n",
       "</style>\n",
       "<table border=\"1\" class=\"dataframe\">\n",
       "  <thead>\n",
       "    <tr style=\"text-align: right;\">\n",
       "      <th></th>\n",
       "      <th>source</th>\n",
       "      <th>start</th>\n",
       "      <th>surface</th>\n",
       "      <th>entityUri</th>\n",
       "      <th>entityLabel_en</th>\n",
       "      <th>entityLabel_fr</th>\n",
       "    </tr>\n",
       "  </thead>\n",
       "  <tbody>\n",
       "  </tbody>\n",
       "</table>\n",
       "</div>"
      ],
      "text/plain": [
       "Empty DataFrame\n",
       "Columns: [source, start, surface, entityUri, entityLabel_en, entityLabel_fr]\n",
       "Index: []"
      ]
     },
     "execution_count": 187,
     "metadata": {},
     "output_type": "execute_result"
    }
   ],
   "source": [
    "df_nes = sparql_service_to_dataframe(issa_instances[instance]['endpoint'],  entities_for_surface_query)\n",
    "\n",
    "print(instance, vocab)\n",
    "print(df_nes.shape)\n",
    "df_nes"
   ]
  },
  {
   "cell_type": "markdown",
   "metadata": {},
   "source": [
    "### Overlaping Named Entities"
   ]
  },
  {
   "cell_type": "code",
   "execution_count": 218,
   "metadata": {},
   "outputs": [
    {
     "name": "stdout",
     "output_type": "stream",
     "text": [
      "\n",
      "PREFIX rdf: <http://www.w3.org/1999/02/22-rdf-syntax-ns#>\n",
      "PREFIX rdfs: <http://www.w3.org/2000/01/rdf-schema#>\n",
      "PREFIX oa:     <http://www.w3.org/ns/oa#>\n",
      "PREFIX prov: <http://www.w3.org/ns/prov#>\n",
      "\n",
      "PREFIX issa:   <http://data-issa.cirad.fr/>\n",
      "PREFIX issapr: <http://data-issa.cirad.fr/property/> \n",
      "\n",
      "select ?source ?surface ?start ?end ?conf ?entityUri\n",
      "               ?surface_ovlp ?start_ovlp ?conf_ovlp \n",
      "               ?entityUri_ovlp ?entity_ovlp\n",
      "WHERE \n",
      "{\n",
      "  {\n",
      "    SELECT distinct ?annotator ?source ?surface ?start ?end ?conf ?entityUri\n",
      "    WHERE {\n",
      "      ?entity a prov:Entity;\n",
      "              oa:hasBody ?entityUri; \n",
      "              oa:hasTarget/oa:hasSelector ?selector;\n",
      "              oa:hasTarget/oa:hasSource ?source;\n",
      "              issapr:confidence ?conf;\n",
      "              prov:wasAttributedTo ?annotator.\n",
      "      FILTER (?annotator = issa:DBPediaSpotlight ) # issa:EntityFishing | issa:DBPediaSpotlight | issa:GeographicEntityExtractor | issa:Pyclinrec\n",
      "\n",
      "      ?selector oa:exact ?surface;\n",
      "                        oa:start ?start.\n",
      "      OPTIONAL { ?selector oa:end ?end_opt. }\n",
      "      BIND( COALESCE( ?end_, ?start + STRLEN(?surface)) AS ?end)\n",
      "\n",
      "      FILTER(REGEX(?surface, \"\\\\w+\\\\s+\\\\w+\", \"i\")) # 2 or more words\n",
      "      #FILTER(REGEX(?surface, \"\\\\w+\\\\s+\\\\w+(\\\\s+\\\\w+)+\", \"i\")) # 3 or more words\n",
      "    }\n",
      "    OFFSET %d\n",
      "    LIMIT %d\n",
      "  }\n",
      "\t?entity_ovlp a prov:Entity;\n",
      "              oa:hasBody ?entityUri_ovlp;       \n",
      "              oa:hasTarget/oa:hasSelector ?selector_ovlp;\n",
      "              oa:hasTarget/oa:hasSource ?source;\n",
      "              issapr:confidence ?conf_ovlp;\n",
      "              prov:wasAttributedTo ?annotator.\n",
      "\n",
      "      ?selector_ovlp  oa:exact ?surface_ovlp;\n",
      "    \t\t\t\t\toa:start ?start_ovlp.\n",
      "      OPTIONAL { ?selector_ovlp oa:end ?end_opt_ovlp. } #this is important for wikidata\n",
      "      BIND( COALESCE( ?end_opt_ovlp, ?start_ovlp + STRLEN(?surface_ovlp)) AS ?end_ovlp) \n",
      "                        \n",
      "      FILTER ( ((?start_ovlp > ?start) && (?start_ovlp < ?end) ) ||\n",
      "               ((?start_ovlp = ?start) && (?end_ovlp   < ?end)) )\n",
      "}\n",
      "\n"
     ]
    }
   ],
   "source": [
    "ns=issa_instances[instance]['namespace']\n",
    "annotator=annotators[vocab]\n",
    "offset='%d'\n",
    "limit='%d'\n",
    "\n",
    "overlaping_na_query_templ  = f'''\n",
    "PREFIX rdf: <http://www.w3.org/1999/02/22-rdf-syntax-ns#>\n",
    "PREFIX rdfs: <http://www.w3.org/2000/01/rdf-schema#>\n",
    "PREFIX oa:     <http://www.w3.org/ns/oa#>\n",
    "PREFIX prov: <http://www.w3.org/ns/prov#>\n",
    "\n",
    "PREFIX issa:   <{ns}>\n",
    "PREFIX issapr: <{ns}property/> \n",
    "\n",
    "select ?source ?surface ?start ?end ?conf ?entityUri\n",
    "               ?surface_ovlp ?start_ovlp ?conf_ovlp \n",
    "               ?entityUri_ovlp ?entity_ovlp\n",
    "WHERE \n",
    "{{\n",
    "  {{\n",
    "    SELECT distinct ?annotator ?source ?surface ?start ?end ?conf ?entityUri\n",
    "    WHERE {{\n",
    "      ?entity a prov:Entity;\n",
    "              oa:hasBody ?entityUri; \n",
    "              oa:hasTarget/oa:hasSelector ?selector;\n",
    "              oa:hasTarget/oa:hasSource ?source;\n",
    "              issapr:confidence ?conf;\n",
    "              prov:wasAttributedTo ?annotator.\n",
    "      FILTER (?annotator = {annotator} ) # issa:EntityFishing | issa:DBPediaSpotlight | issa:GeographicEntityExtractor | issa:Pyclinrec\n",
    "\n",
    "      ?selector oa:exact ?surface;\n",
    "                        oa:start ?start.\n",
    "      OPTIONAL {{ ?selector oa:end ?end_opt. }}\n",
    "      BIND( COALESCE( ?end_, ?start + STRLEN(?surface)) AS ?end)\n",
    "\n",
    "      FILTER(REGEX(?surface, \"\\\\\\\\w+\\\\\\\\s+\\\\\\\\w+\", \"i\")) # 2 or more words\n",
    "      #FILTER(REGEX(?surface, \"\\\\\\\\w+\\\\\\\\s+\\\\\\\\w+(\\\\\\\\s+\\\\\\\\w+)+\", \"i\")) # 3 or more words\n",
    "    }}\n",
    "    OFFSET {offset}\n",
    "    LIMIT {limit}\n",
    "  }}\n",
    "\t?entity_ovlp a prov:Entity;\n",
    "              oa:hasBody ?entityUri_ovlp;       \n",
    "              oa:hasTarget/oa:hasSelector ?selector_ovlp;\n",
    "              oa:hasTarget/oa:hasSource ?source;\n",
    "              issapr:confidence ?conf_ovlp;\n",
    "              prov:wasAttributedTo ?annotator.\n",
    "\n",
    "      ?selector_ovlp  oa:exact ?surface_ovlp;\n",
    "    \t\t\t\t\toa:start ?start_ovlp.\n",
    "      OPTIONAL {{ ?selector_ovlp oa:end ?end_opt_ovlp. }} #this is important for wikidata\n",
    "      BIND( COALESCE( ?end_opt_ovlp, ?start_ovlp + STRLEN(?surface_ovlp)) AS ?end_ovlp) \n",
    "                        \n",
    "      FILTER ( ((?start_ovlp > ?start) && (?start_ovlp < ?end) ) ||\n",
    "               ((?start_ovlp = ?start) && (?end_ovlp   < ?end)) )\n",
    "}}\n",
    "'''\n",
    "print(overlaping_na_query_templ)"
   ]
  },
  {
   "cell_type": "code",
   "execution_count": 225,
   "metadata": {
    "scrolled": false
   },
   "outputs": [
    {
     "name": "stdout",
     "output_type": "stream",
     "text": [
      "https://data-issa.cirad.fr/sparql\n",
      "fetching... 0\n",
      "agritrop dbpedia\n",
      "(0, 11)\n"
     ]
    }
   ],
   "source": [
    "df_overlaping_ne = {}\n",
    "\n",
    "df_overlaping_ne[vocab] = sparql_service_to_dataframe_with_scrollable_cursor(issa_instances[instance]['endpoint'],\n",
    "                                                                             overlaping_na_query_templ, \n",
    "                                                                             page_size = 5000)\n",
    "print(instance, vocab) \n",
    "print(df_overlaping_ne[vocab].shape)"
   ]
  },
  {
   "cell_type": "code",
   "execution_count": 227,
   "metadata": {},
   "outputs": [
    {
     "name": "stdout",
     "output_type": "stream",
     "text": [
      "agritrop dbpedia\n"
     ]
    },
    {
     "data": {
      "text/html": [
       "<div>\n",
       "<style scoped>\n",
       "    .dataframe tbody tr th:only-of-type {\n",
       "        vertical-align: middle;\n",
       "    }\n",
       "\n",
       "    .dataframe tbody tr th {\n",
       "        vertical-align: top;\n",
       "    }\n",
       "\n",
       "    .dataframe thead th {\n",
       "        text-align: right;\n",
       "    }\n",
       "</style>\n",
       "<table border=\"1\" class=\"dataframe\">\n",
       "  <thead>\n",
       "    <tr style=\"text-align: right;\">\n",
       "      <th></th>\n",
       "      <th></th>\n",
       "      <th>source</th>\n",
       "      <th>start</th>\n",
       "      <th>end</th>\n",
       "    </tr>\n",
       "    <tr>\n",
       "      <th>surface</th>\n",
       "      <th>surface_ovlp</th>\n",
       "      <th></th>\n",
       "      <th></th>\n",
       "      <th></th>\n",
       "    </tr>\n",
       "  </thead>\n",
       "  <tbody>\n",
       "  </tbody>\n",
       "</table>\n",
       "</div>"
      ],
      "text/plain": [
       "Empty DataFrame\n",
       "Columns: [source, start, end]\n",
       "Index: []"
      ]
     },
     "execution_count": 227,
     "metadata": {},
     "output_type": "execute_result"
    }
   ],
   "source": [
    "print(instance, vocab)\n",
    "df_overlaping_ne[vocab].groupby(by=['surface', 'surface_ovlp'])\\\n",
    "                       .count()\\\n",
    "                       .sort_values(by='source', ascending=False )\\\n",
    "                       .loc[:, ['source', 'start', 'end' ]]"
   ]
  },
  {
   "cell_type": "code",
   "execution_count": 228,
   "metadata": {},
   "outputs": [
    {
     "name": "stdout",
     "output_type": "stream",
     "text": [
      "agritrop dbpedia\n"
     ]
    },
    {
     "data": {
      "text/html": [
       "<div>\n",
       "<style scoped>\n",
       "    .dataframe tbody tr th:only-of-type {\n",
       "        vertical-align: middle;\n",
       "    }\n",
       "\n",
       "    .dataframe tbody tr th {\n",
       "        vertical-align: top;\n",
       "    }\n",
       "\n",
       "    .dataframe thead th {\n",
       "        text-align: right;\n",
       "    }\n",
       "</style>\n",
       "<table border=\"1\" class=\"dataframe\">\n",
       "  <thead>\n",
       "    <tr style=\"text-align: right;\">\n",
       "      <th></th>\n",
       "      <th>surface</th>\n",
       "      <th>start</th>\n",
       "      <th>end</th>\n",
       "    </tr>\n",
       "    <tr>\n",
       "      <th>source</th>\n",
       "      <th></th>\n",
       "      <th></th>\n",
       "      <th></th>\n",
       "    </tr>\n",
       "  </thead>\n",
       "  <tbody>\n",
       "  </tbody>\n",
       "</table>\n",
       "</div>"
      ],
      "text/plain": [
       "Empty DataFrame\n",
       "Columns: [surface, start, end]\n",
       "Index: []"
      ]
     },
     "execution_count": 228,
     "metadata": {},
     "output_type": "execute_result"
    }
   ],
   "source": [
    "print(instance, vocab)\n",
    "df_overlaping_ne[vocab].groupby(by=['source'])\\\n",
    "                       .count()\\\n",
    "                       .sort_values(by='surface', ascending=False )\\\n",
    "                       .loc[:, ['surface', 'start', 'end' ]]"
   ]
  },
  {
   "cell_type": "markdown",
   "metadata": {},
   "source": [
    "#### starts with"
   ]
  },
  {
   "cell_type": "code",
   "execution_count": 231,
   "metadata": {
    "collapsed": true
   },
   "outputs": [
    {
     "ename": "ValueError",
     "evalue": "Cannot index with multidimensional key",
     "output_type": "error",
     "traceback": [
      "\u001b[1;31m---------------------------------------------------------------------------\u001b[0m",
      "\u001b[1;31mValueError\u001b[0m                                Traceback (most recent call last)",
      "Input \u001b[1;32mIn [231]\u001b[0m, in \u001b[0;36m<cell line: 1>\u001b[1;34m()\u001b[0m\n\u001b[1;32m----> 1\u001b[0m starts_with \u001b[38;5;241m=\u001b[39m \u001b[43mdf_overlaping_ne\u001b[49m\u001b[43m[\u001b[49m\u001b[43mvocab\u001b[49m\u001b[43m]\u001b[49m\u001b[38;5;241;43m.\u001b[39;49m\u001b[43mloc\u001b[49m\u001b[43m[\u001b[49m\u001b[43mdf_overlaping_ne\u001b[49m\u001b[43m[\u001b[49m\u001b[43mvocab\u001b[49m\u001b[43m]\u001b[49m\u001b[38;5;241;43m.\u001b[39;49m\u001b[43mapply\u001b[49m\u001b[43m(\u001b[49m\u001b[38;5;28;43;01mlambda\u001b[39;49;00m\u001b[43m \u001b[49m\u001b[43mr\u001b[49m\u001b[43m:\u001b[49m\u001b[43m \u001b[49m\u001b[43mr\u001b[49m\u001b[38;5;241;43m.\u001b[39;49m\u001b[43msurface\u001b[49m\u001b[38;5;241;43m.\u001b[39;49m\u001b[43mstartswith\u001b[49m\u001b[43m(\u001b[49m\u001b[43mr\u001b[49m\u001b[38;5;241;43m.\u001b[39;49m\u001b[43msurface_ovlp\u001b[49m\u001b[43m)\u001b[49m\u001b[43m,\u001b[49m\u001b[43m \u001b[49m\u001b[43maxis\u001b[49m\u001b[38;5;241;43m=\u001b[39;49m\u001b[38;5;241;43m1\u001b[39;49m\u001b[43m)\u001b[49m\u001b[43m]\u001b[49m\n\u001b[0;32m      3\u001b[0m \u001b[38;5;28mprint\u001b[39m(instance, vocab)    \n\u001b[0;32m      4\u001b[0m \u001b[38;5;28mprint\u001b[39m(starts_with\u001b[38;5;241m.\u001b[39mshape )\n",
      "File \u001b[1;32mC:\\ProgramData\\Anaconda3\\lib\\site-packages\\pandas\\core\\indexing.py:967\u001b[0m, in \u001b[0;36m_LocationIndexer.__getitem__\u001b[1;34m(self, key)\u001b[0m\n\u001b[0;32m    964\u001b[0m axis \u001b[38;5;241m=\u001b[39m \u001b[38;5;28mself\u001b[39m\u001b[38;5;241m.\u001b[39maxis \u001b[38;5;129;01mor\u001b[39;00m \u001b[38;5;241m0\u001b[39m\n\u001b[0;32m    966\u001b[0m maybe_callable \u001b[38;5;241m=\u001b[39m com\u001b[38;5;241m.\u001b[39mapply_if_callable(key, \u001b[38;5;28mself\u001b[39m\u001b[38;5;241m.\u001b[39mobj)\n\u001b[1;32m--> 967\u001b[0m \u001b[38;5;28;01mreturn\u001b[39;00m \u001b[38;5;28;43mself\u001b[39;49m\u001b[38;5;241;43m.\u001b[39;49m\u001b[43m_getitem_axis\u001b[49m\u001b[43m(\u001b[49m\u001b[43mmaybe_callable\u001b[49m\u001b[43m,\u001b[49m\u001b[43m \u001b[49m\u001b[43maxis\u001b[49m\u001b[38;5;241;43m=\u001b[39;49m\u001b[43maxis\u001b[49m\u001b[43m)\u001b[49m\n",
      "File \u001b[1;32mC:\\ProgramData\\Anaconda3\\lib\\site-packages\\pandas\\core\\indexing.py:1189\u001b[0m, in \u001b[0;36m_LocIndexer._getitem_axis\u001b[1;34m(self, key, axis)\u001b[0m\n\u001b[0;32m   1186\u001b[0m \u001b[38;5;28;01mif\u001b[39;00m \u001b[38;5;129;01mnot\u001b[39;00m (\u001b[38;5;28misinstance\u001b[39m(key, \u001b[38;5;28mtuple\u001b[39m) \u001b[38;5;129;01mand\u001b[39;00m \u001b[38;5;28misinstance\u001b[39m(labels, MultiIndex)):\n\u001b[0;32m   1188\u001b[0m     \u001b[38;5;28;01mif\u001b[39;00m \u001b[38;5;28mhasattr\u001b[39m(key, \u001b[38;5;124m\"\u001b[39m\u001b[38;5;124mndim\u001b[39m\u001b[38;5;124m\"\u001b[39m) \u001b[38;5;129;01mand\u001b[39;00m key\u001b[38;5;241m.\u001b[39mndim \u001b[38;5;241m>\u001b[39m \u001b[38;5;241m1\u001b[39m:\n\u001b[1;32m-> 1189\u001b[0m         \u001b[38;5;28;01mraise\u001b[39;00m \u001b[38;5;167;01mValueError\u001b[39;00m(\u001b[38;5;124m\"\u001b[39m\u001b[38;5;124mCannot index with multidimensional key\u001b[39m\u001b[38;5;124m\"\u001b[39m)\n\u001b[0;32m   1191\u001b[0m     \u001b[38;5;28;01mreturn\u001b[39;00m \u001b[38;5;28mself\u001b[39m\u001b[38;5;241m.\u001b[39m_getitem_iterable(key, axis\u001b[38;5;241m=\u001b[39maxis)\n\u001b[0;32m   1193\u001b[0m \u001b[38;5;66;03m# nested tuple slicing\u001b[39;00m\n",
      "\u001b[1;31mValueError\u001b[0m: Cannot index with multidimensional key"
     ]
    }
   ],
   "source": [
    "starts_with = df_overlaping_ne[vocab].loc[df_overlaping_ne[vocab].apply(lambda r: r.surface.startswith(r.surface_ovlp), axis=1)]\n",
    "\n",
    "print(instance, vocab)    \n",
    "print(starts_with.shape )\n",
    "starts_with.head()"
   ]
  },
  {
   "cell_type": "markdown",
   "metadata": {},
   "source": [
    "#### ends with"
   ]
  },
  {
   "cell_type": "code",
   "execution_count": 84,
   "metadata": {
    "collapsed": true
   },
   "outputs": [
    {
     "ename": "ValueError",
     "evalue": "Cannot index with multidimensional key",
     "output_type": "error",
     "traceback": [
      "\u001b[1;31m---------------------------------------------------------------------------\u001b[0m",
      "\u001b[1;31mValueError\u001b[0m                                Traceback (most recent call last)",
      "Input \u001b[1;32mIn [84]\u001b[0m, in \u001b[0;36m<cell line: 1>\u001b[1;34m()\u001b[0m\n\u001b[1;32m----> 1\u001b[0m ends_with \u001b[38;5;241m=\u001b[39m \u001b[43mdf_overlaping_ne\u001b[49m\u001b[43m[\u001b[49m\u001b[43mvocab\u001b[49m\u001b[43m]\u001b[49m\u001b[38;5;241;43m.\u001b[39;49m\u001b[43mloc\u001b[49m\u001b[43m[\u001b[49m\u001b[43mdf_overlaping_ne\u001b[49m\u001b[43m[\u001b[49m\u001b[43mvocab\u001b[49m\u001b[43m]\u001b[49m\u001b[43m\\\u001b[49m\n\u001b[0;32m      2\u001b[0m \u001b[43m                                   \u001b[49m\u001b[38;5;241;43m.\u001b[39;49m\u001b[43mapply\u001b[49m\u001b[43m(\u001b[49m\u001b[38;5;28;43;01mlambda\u001b[39;49;00m\u001b[43m \u001b[49m\u001b[43mr\u001b[49m\u001b[43m:\u001b[49m\u001b[43m \u001b[49m\u001b[43mr\u001b[49m\u001b[38;5;241;43m.\u001b[39;49m\u001b[43msurface\u001b[49m\u001b[38;5;241;43m.\u001b[39;49m\u001b[43mendswith\u001b[49m\u001b[43m(\u001b[49m\u001b[43mr\u001b[49m\u001b[38;5;241;43m.\u001b[39;49m\u001b[43msurface_ovlp\u001b[49m\u001b[43m)\u001b[49m\u001b[43m,\u001b[49m\u001b[43m \u001b[49m\u001b[43maxis\u001b[49m\u001b[38;5;241;43m=\u001b[39;49m\u001b[38;5;241;43m1\u001b[39;49m\u001b[43m)\u001b[49m\u001b[43m]\u001b[49m\n\u001b[0;32m      4\u001b[0m \u001b[38;5;28mprint\u001b[39m(ends_with\u001b[38;5;241m.\u001b[39mshape )\n\u001b[0;32m      5\u001b[0m ends_with\u001b[38;5;241m.\u001b[39mhead()\n",
      "File \u001b[1;32mC:\\ProgramData\\Anaconda3\\lib\\site-packages\\pandas\\core\\indexing.py:967\u001b[0m, in \u001b[0;36m_LocationIndexer.__getitem__\u001b[1;34m(self, key)\u001b[0m\n\u001b[0;32m    964\u001b[0m axis \u001b[38;5;241m=\u001b[39m \u001b[38;5;28mself\u001b[39m\u001b[38;5;241m.\u001b[39maxis \u001b[38;5;129;01mor\u001b[39;00m \u001b[38;5;241m0\u001b[39m\n\u001b[0;32m    966\u001b[0m maybe_callable \u001b[38;5;241m=\u001b[39m com\u001b[38;5;241m.\u001b[39mapply_if_callable(key, \u001b[38;5;28mself\u001b[39m\u001b[38;5;241m.\u001b[39mobj)\n\u001b[1;32m--> 967\u001b[0m \u001b[38;5;28;01mreturn\u001b[39;00m \u001b[38;5;28;43mself\u001b[39;49m\u001b[38;5;241;43m.\u001b[39;49m\u001b[43m_getitem_axis\u001b[49m\u001b[43m(\u001b[49m\u001b[43mmaybe_callable\u001b[49m\u001b[43m,\u001b[49m\u001b[43m \u001b[49m\u001b[43maxis\u001b[49m\u001b[38;5;241;43m=\u001b[39;49m\u001b[43maxis\u001b[49m\u001b[43m)\u001b[49m\n",
      "File \u001b[1;32mC:\\ProgramData\\Anaconda3\\lib\\site-packages\\pandas\\core\\indexing.py:1189\u001b[0m, in \u001b[0;36m_LocIndexer._getitem_axis\u001b[1;34m(self, key, axis)\u001b[0m\n\u001b[0;32m   1186\u001b[0m \u001b[38;5;28;01mif\u001b[39;00m \u001b[38;5;129;01mnot\u001b[39;00m (\u001b[38;5;28misinstance\u001b[39m(key, \u001b[38;5;28mtuple\u001b[39m) \u001b[38;5;129;01mand\u001b[39;00m \u001b[38;5;28misinstance\u001b[39m(labels, MultiIndex)):\n\u001b[0;32m   1188\u001b[0m     \u001b[38;5;28;01mif\u001b[39;00m \u001b[38;5;28mhasattr\u001b[39m(key, \u001b[38;5;124m\"\u001b[39m\u001b[38;5;124mndim\u001b[39m\u001b[38;5;124m\"\u001b[39m) \u001b[38;5;129;01mand\u001b[39;00m key\u001b[38;5;241m.\u001b[39mndim \u001b[38;5;241m>\u001b[39m \u001b[38;5;241m1\u001b[39m:\n\u001b[1;32m-> 1189\u001b[0m         \u001b[38;5;28;01mraise\u001b[39;00m \u001b[38;5;167;01mValueError\u001b[39;00m(\u001b[38;5;124m\"\u001b[39m\u001b[38;5;124mCannot index with multidimensional key\u001b[39m\u001b[38;5;124m\"\u001b[39m)\n\u001b[0;32m   1191\u001b[0m     \u001b[38;5;28;01mreturn\u001b[39;00m \u001b[38;5;28mself\u001b[39m\u001b[38;5;241m.\u001b[39m_getitem_iterable(key, axis\u001b[38;5;241m=\u001b[39maxis)\n\u001b[0;32m   1193\u001b[0m \u001b[38;5;66;03m# nested tuple slicing\u001b[39;00m\n",
      "\u001b[1;31mValueError\u001b[0m: Cannot index with multidimensional key"
     ]
    }
   ],
   "source": [
    "ends_with = df_overlaping_ne[vocab].loc[df_overlaping_ne[vocab]\\\n",
    "                                   .apply(lambda r: r.surface.endswith(r.surface_ovlp), axis=1)]\n",
    "print(instance, vocab)    \n",
    "print(ends_with.shape )\n",
    "ends_with.head()"
   ]
  },
  {
   "cell_type": "markdown",
   "metadata": {},
   "source": [
    "#### contains"
   ]
  },
  {
   "cell_type": "code",
   "execution_count": 85,
   "metadata": {
    "collapsed": true
   },
   "outputs": [
    {
     "ename": "ValueError",
     "evalue": "Cannot index with multidimensional key",
     "output_type": "error",
     "traceback": [
      "\u001b[1;31m---------------------------------------------------------------------------\u001b[0m",
      "\u001b[1;31mValueError\u001b[0m                                Traceback (most recent call last)",
      "Input \u001b[1;32mIn [85]\u001b[0m, in \u001b[0;36m<cell line: 1>\u001b[1;34m()\u001b[0m\n\u001b[1;32m----> 1\u001b[0m contains \u001b[38;5;241m=\u001b[39m \u001b[43mdf_overlaping_ne\u001b[49m\u001b[43m[\u001b[49m\u001b[43mvocab\u001b[49m\u001b[43m]\u001b[49m\u001b[38;5;241;43m.\u001b[39;49m\u001b[43mloc\u001b[49m\u001b[43m[\u001b[49m\u001b[43mdf_overlaping_ne\u001b[49m\u001b[43m[\u001b[49m\u001b[43mvocab\u001b[49m\u001b[43m]\u001b[49m\u001b[43m\\\u001b[49m\n\u001b[0;32m      2\u001b[0m \u001b[43m                                  \u001b[49m\u001b[38;5;241;43m.\u001b[39;49m\u001b[43mapply\u001b[49m\u001b[43m(\u001b[49m\u001b[38;5;28;43;01mlambda\u001b[39;49;00m\u001b[43m \u001b[49m\u001b[43mr\u001b[49m\u001b[43m:\u001b[49m\u001b[43m \u001b[49m\u001b[43mr\u001b[49m\u001b[38;5;241;43m.\u001b[39;49m\u001b[43msurface_ovlp\u001b[49m\u001b[43m \u001b[49m\u001b[38;5;129;43;01min\u001b[39;49;00m\u001b[43m \u001b[49m\u001b[43mr\u001b[49m\u001b[38;5;241;43m.\u001b[39;49m\u001b[43msurface\u001b[49m\u001b[43m[\u001b[49m\u001b[38;5;241;43m1\u001b[39;49m\u001b[43m:\u001b[49m\u001b[38;5;241;43m-\u001b[39;49m\u001b[38;5;241;43m1\u001b[39;49m\u001b[43m]\u001b[49m\u001b[43m,\u001b[49m\u001b[43m \u001b[49m\u001b[43maxis\u001b[49m\u001b[38;5;241;43m=\u001b[39;49m\u001b[38;5;241;43m1\u001b[39;49m\u001b[43m)\u001b[49m\u001b[43m]\u001b[49m\n\u001b[0;32m      4\u001b[0m \u001b[38;5;28mprint\u001b[39m(contains\u001b[38;5;241m.\u001b[39mshape )\n\u001b[0;32m      5\u001b[0m contains\u001b[38;5;241m.\u001b[39mhead()\n",
      "File \u001b[1;32mC:\\ProgramData\\Anaconda3\\lib\\site-packages\\pandas\\core\\indexing.py:967\u001b[0m, in \u001b[0;36m_LocationIndexer.__getitem__\u001b[1;34m(self, key)\u001b[0m\n\u001b[0;32m    964\u001b[0m axis \u001b[38;5;241m=\u001b[39m \u001b[38;5;28mself\u001b[39m\u001b[38;5;241m.\u001b[39maxis \u001b[38;5;129;01mor\u001b[39;00m \u001b[38;5;241m0\u001b[39m\n\u001b[0;32m    966\u001b[0m maybe_callable \u001b[38;5;241m=\u001b[39m com\u001b[38;5;241m.\u001b[39mapply_if_callable(key, \u001b[38;5;28mself\u001b[39m\u001b[38;5;241m.\u001b[39mobj)\n\u001b[1;32m--> 967\u001b[0m \u001b[38;5;28;01mreturn\u001b[39;00m \u001b[38;5;28;43mself\u001b[39;49m\u001b[38;5;241;43m.\u001b[39;49m\u001b[43m_getitem_axis\u001b[49m\u001b[43m(\u001b[49m\u001b[43mmaybe_callable\u001b[49m\u001b[43m,\u001b[49m\u001b[43m \u001b[49m\u001b[43maxis\u001b[49m\u001b[38;5;241;43m=\u001b[39;49m\u001b[43maxis\u001b[49m\u001b[43m)\u001b[49m\n",
      "File \u001b[1;32mC:\\ProgramData\\Anaconda3\\lib\\site-packages\\pandas\\core\\indexing.py:1189\u001b[0m, in \u001b[0;36m_LocIndexer._getitem_axis\u001b[1;34m(self, key, axis)\u001b[0m\n\u001b[0;32m   1186\u001b[0m \u001b[38;5;28;01mif\u001b[39;00m \u001b[38;5;129;01mnot\u001b[39;00m (\u001b[38;5;28misinstance\u001b[39m(key, \u001b[38;5;28mtuple\u001b[39m) \u001b[38;5;129;01mand\u001b[39;00m \u001b[38;5;28misinstance\u001b[39m(labels, MultiIndex)):\n\u001b[0;32m   1188\u001b[0m     \u001b[38;5;28;01mif\u001b[39;00m \u001b[38;5;28mhasattr\u001b[39m(key, \u001b[38;5;124m\"\u001b[39m\u001b[38;5;124mndim\u001b[39m\u001b[38;5;124m\"\u001b[39m) \u001b[38;5;129;01mand\u001b[39;00m key\u001b[38;5;241m.\u001b[39mndim \u001b[38;5;241m>\u001b[39m \u001b[38;5;241m1\u001b[39m:\n\u001b[1;32m-> 1189\u001b[0m         \u001b[38;5;28;01mraise\u001b[39;00m \u001b[38;5;167;01mValueError\u001b[39;00m(\u001b[38;5;124m\"\u001b[39m\u001b[38;5;124mCannot index with multidimensional key\u001b[39m\u001b[38;5;124m\"\u001b[39m)\n\u001b[0;32m   1191\u001b[0m     \u001b[38;5;28;01mreturn\u001b[39;00m \u001b[38;5;28mself\u001b[39m\u001b[38;5;241m.\u001b[39m_getitem_iterable(key, axis\u001b[38;5;241m=\u001b[39maxis)\n\u001b[0;32m   1193\u001b[0m \u001b[38;5;66;03m# nested tuple slicing\u001b[39;00m\n",
      "\u001b[1;31mValueError\u001b[0m: Cannot index with multidimensional key"
     ]
    }
   ],
   "source": [
    "contains = df_overlaping_ne[vocab].loc[df_overlaping_ne[vocab]\\\n",
    "                                  .apply(lambda r: r.surface_ovlp in r.surface[1:-1], axis=1)]\n",
    "print(instance, vocab)    \n",
    "print(contains.shape )\n",
    "contains.head()"
   ]
  },
  {
   "cell_type": "markdown",
   "metadata": {},
   "source": [
    "#### partial overlap"
   ]
  },
  {
   "cell_type": "code",
   "execution_count": 86,
   "metadata": {
    "collapsed": true
   },
   "outputs": [
    {
     "ename": "ValueError",
     "evalue": "Cannot index with multidimensional key",
     "output_type": "error",
     "traceback": [
      "\u001b[1;31m---------------------------------------------------------------------------\u001b[0m",
      "\u001b[1;31mValueError\u001b[0m                                Traceback (most recent call last)",
      "Input \u001b[1;32mIn [86]\u001b[0m, in \u001b[0;36m<cell line: 1>\u001b[1;34m()\u001b[0m\n\u001b[1;32m----> 1\u001b[0m partial_overlap \u001b[38;5;241m=\u001b[39m \u001b[43mdf_overlaping_ne\u001b[49m\u001b[43m[\u001b[49m\u001b[43mvocab\u001b[49m\u001b[43m]\u001b[49m\u001b[38;5;241;43m.\u001b[39;49m\u001b[43mloc\u001b[49m\u001b[43m[\u001b[49m\u001b[43mdf_overlaping_ne\u001b[49m\u001b[43m[\u001b[49m\u001b[43mvocab\u001b[49m\u001b[43m]\u001b[49m\u001b[43m\\\u001b[49m\n\u001b[0;32m      2\u001b[0m \u001b[43m                                        \u001b[49m\u001b[38;5;241;43m.\u001b[39;49m\u001b[43mapply\u001b[49m\u001b[43m(\u001b[49m\u001b[38;5;28;43;01mlambda\u001b[39;49;00m\u001b[43m \u001b[49m\u001b[43mr\u001b[49m\u001b[43m:\u001b[49m\u001b[43m \u001b[49m\u001b[43mr\u001b[49m\u001b[38;5;241;43m.\u001b[39;49m\u001b[43msurface_ovlp\u001b[49m\u001b[43m \u001b[49m\u001b[38;5;129;43;01mnot\u001b[39;49;00m\u001b[43m \u001b[49m\u001b[38;5;129;43;01min\u001b[39;49;00m\u001b[43m \u001b[49m\u001b[43mr\u001b[49m\u001b[38;5;241;43m.\u001b[39;49m\u001b[43msurface\u001b[49m\u001b[43m,\u001b[49m\u001b[43m \u001b[49m\u001b[43maxis\u001b[49m\u001b[38;5;241;43m=\u001b[39;49m\u001b[38;5;241;43m1\u001b[39;49m\u001b[43m)\u001b[49m\u001b[43m]\u001b[49m\n\u001b[0;32m      4\u001b[0m \u001b[38;5;28mprint\u001b[39m(partial_overlap\u001b[38;5;241m.\u001b[39mshape )\n\u001b[0;32m      5\u001b[0m partial_overlap\u001b[38;5;241m.\u001b[39mhead()\n",
      "File \u001b[1;32mC:\\ProgramData\\Anaconda3\\lib\\site-packages\\pandas\\core\\indexing.py:967\u001b[0m, in \u001b[0;36m_LocationIndexer.__getitem__\u001b[1;34m(self, key)\u001b[0m\n\u001b[0;32m    964\u001b[0m axis \u001b[38;5;241m=\u001b[39m \u001b[38;5;28mself\u001b[39m\u001b[38;5;241m.\u001b[39maxis \u001b[38;5;129;01mor\u001b[39;00m \u001b[38;5;241m0\u001b[39m\n\u001b[0;32m    966\u001b[0m maybe_callable \u001b[38;5;241m=\u001b[39m com\u001b[38;5;241m.\u001b[39mapply_if_callable(key, \u001b[38;5;28mself\u001b[39m\u001b[38;5;241m.\u001b[39mobj)\n\u001b[1;32m--> 967\u001b[0m \u001b[38;5;28;01mreturn\u001b[39;00m \u001b[38;5;28;43mself\u001b[39;49m\u001b[38;5;241;43m.\u001b[39;49m\u001b[43m_getitem_axis\u001b[49m\u001b[43m(\u001b[49m\u001b[43mmaybe_callable\u001b[49m\u001b[43m,\u001b[49m\u001b[43m \u001b[49m\u001b[43maxis\u001b[49m\u001b[38;5;241;43m=\u001b[39;49m\u001b[43maxis\u001b[49m\u001b[43m)\u001b[49m\n",
      "File \u001b[1;32mC:\\ProgramData\\Anaconda3\\lib\\site-packages\\pandas\\core\\indexing.py:1189\u001b[0m, in \u001b[0;36m_LocIndexer._getitem_axis\u001b[1;34m(self, key, axis)\u001b[0m\n\u001b[0;32m   1186\u001b[0m \u001b[38;5;28;01mif\u001b[39;00m \u001b[38;5;129;01mnot\u001b[39;00m (\u001b[38;5;28misinstance\u001b[39m(key, \u001b[38;5;28mtuple\u001b[39m) \u001b[38;5;129;01mand\u001b[39;00m \u001b[38;5;28misinstance\u001b[39m(labels, MultiIndex)):\n\u001b[0;32m   1188\u001b[0m     \u001b[38;5;28;01mif\u001b[39;00m \u001b[38;5;28mhasattr\u001b[39m(key, \u001b[38;5;124m\"\u001b[39m\u001b[38;5;124mndim\u001b[39m\u001b[38;5;124m\"\u001b[39m) \u001b[38;5;129;01mand\u001b[39;00m key\u001b[38;5;241m.\u001b[39mndim \u001b[38;5;241m>\u001b[39m \u001b[38;5;241m1\u001b[39m:\n\u001b[1;32m-> 1189\u001b[0m         \u001b[38;5;28;01mraise\u001b[39;00m \u001b[38;5;167;01mValueError\u001b[39;00m(\u001b[38;5;124m\"\u001b[39m\u001b[38;5;124mCannot index with multidimensional key\u001b[39m\u001b[38;5;124m\"\u001b[39m)\n\u001b[0;32m   1191\u001b[0m     \u001b[38;5;28;01mreturn\u001b[39;00m \u001b[38;5;28mself\u001b[39m\u001b[38;5;241m.\u001b[39m_getitem_iterable(key, axis\u001b[38;5;241m=\u001b[39maxis)\n\u001b[0;32m   1193\u001b[0m \u001b[38;5;66;03m# nested tuple slicing\u001b[39;00m\n",
      "\u001b[1;31mValueError\u001b[0m: Cannot index with multidimensional key"
     ]
    }
   ],
   "source": [
    "partial_overlap = df_overlaping_ne[vocab].loc[df_overlaping_ne[vocab]\\\n",
    "                                        .apply(lambda r: r.surface_ovlp not in r.surface, axis=1)]\n",
    "\n",
    "print(instance, vocab)    \n",
    "print(partial_overlap.shape )\n",
    "partial_overlap.head()"
   ]
  },
  {
   "cell_type": "markdown",
   "metadata": {},
   "source": [
    "OBSERVATIONS:\n",
    "\n",
    "- AGROVOC: pyclinrec recognise named entities in overlaping surface forms. All combinations are detected: the same begining, the same ending, one annotated text inside the other, or partially overlap.  ==> detecting and filtering overlaps before uploading to the graph solves this problem. \n",
    "- GEONAMES: no overalping :thumbsup\n",
    "- WIKIDATA: no overalping :thumbsup\n",
    "- DBPEDIA: DBPedia spotlight recognise named entities in overlaping surface forms. All combinations are detected: the same begining, the same ending, one annotated text inside the other, or partially overlap.==> detecting and filtering overlaps before uploading to the graph solves this problem. "
   ]
  },
  {
   "cell_type": "markdown",
   "metadata": {},
   "source": []
  }
 ],
 "metadata": {
  "colab": {
   "provenance": []
  },
  "kernelspec": {
   "display_name": "Python 3 (ipykernel)",
   "language": "python",
   "name": "python3"
  },
  "language_info": {
   "codemirror_mode": {
    "name": "ipython",
    "version": 3
   },
   "file_extension": ".py",
   "mimetype": "text/x-python",
   "name": "python",
   "nbconvert_exporter": "python",
   "pygments_lexer": "ipython3",
   "version": "3.8.8"
  },
  "vscode": {
   "interpreter": {
    "hash": "ad2bdc8ecc057115af97d19610ffacc2b4e99fae6737bb82f5d7fb13d2f2c186"
   }
  }
 },
 "nbformat": 4,
 "nbformat_minor": 1
}
