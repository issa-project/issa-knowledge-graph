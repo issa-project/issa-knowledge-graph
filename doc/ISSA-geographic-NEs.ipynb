{
 "cells": [
  {
   "cell_type": "markdown",
   "metadata": {},
   "source": [
    "## Notebook with SPARQL Kernel\n",
    "\n",
    "To run this notebook, install the [SPARQL kernel](https://github.com/paulovn/sparql-kernel):\n",
    "```\n",
    "pip install sparqlkernel\n",
    "jupyter sparqlkernel install\n",
    "```\n",
    "\n",
    "To use Graphviz to draw graphs, you should also install Pydot and Graphviz:\n",
    "```\n",
    "conda install pydot graphviz\n",
    "```\n",
    "Set the path to the dot script in your PATH variable. For Miniconda users on Windows, the path would be like `C:\\Users\\user\\Miniconda3\\Library\\bin\\graphviz`"
   ]
  },
  {
   "cell_type": "code",
   "execution_count": 89,
   "metadata": {},
   "outputs": [
    {
     "data": {
      "text/html": [
       "<div class=\"krn-spql\"><div class=\"magic\">Endpoint set to: https://data-issa.cirad.fr/sparql</div><div class=\"magic\">Display: table</div><div class=\"magic\">Result maximum size: 20</div><div class=\"magic\">Prefix set: rdfs: = &lt;http://www.w3.org/2000/01/rdf-schema#&gt;</div><div class=\"magic\">Prefix set: owl: = &lt;http://www.w3.org/2002/07/owl#&gt;</div><div class=\"magic\">Prefix set: xsd: = &lt;http://www.w3.org/2001/XMLSchema#&gt;</div><div class=\"magic\">Prefix set: agrovoc: = &lt;http://aims.fao.org/aos/agrovoc/&gt;</div><div class=\"magic\">Prefix set: dce: = &lt;http://purl.org/dc/elements/1.1/&gt;</div><div class=\"magic\">Prefix set: dct: = &lt;http://purl.org/dc/terms/&gt;</div><div class=\"magic\">Prefix set: issa: = &lt;http://data-issa.cirad.fr/&gt;</div><div class=\"magic\">Prefix set: issapr: = &lt;http://data-issa.cirad.fr/property/&gt;</div><div class=\"magic\">Prefix set: oa: = &lt;http://www.w3.org/ns/oa#&gt;</div><div class=\"magic\">Prefix set: prov: = &lt;http://www.w3.org/ns/prov#&gt;</div><div class=\"magic\">Prefix set: schema: = &lt;http://schema.org/&gt;</div><div class=\"magic\">Prefix set: skos: = &lt;http://www.w3.org/2004/02/skos/core#&gt;</div><div class=\"magic\">Prefix set: skosxl: = &lt;http://www.w3.org/2008/05/skos-xl#&gt;</div><div class=\"magic\">Prefix set: gn: = &lt;http://www.geonames.org/ontology#&gt;</div><div class=\"magic\">Prefix set: geo: = &lt;http://www.w3.org/2003/01/geo/wgs84_pos#&gt;</div><div class=\"magic\">Prefix set: spatial: = &lt;http://jena.apache.org/spatial#&gt;</div><div class=\"magic\">Prefix set: units: = &lt;http://www.opengis.net/def/uom/OGC/1.0/&gt;</div></div>"
      ],
      "text/plain": [
       "Endpoint set to: https://data-issa.cirad.fr/sparql\n",
       "Display: table\n",
       "Result maximum size: 20\n",
       "Prefix set: rdfs: = <http://www.w3.org/2000/01/rdf-schema#>\n",
       "Prefix set: owl: = <http://www.w3.org/2002/07/owl#>\n",
       "Prefix set: xsd: = <http://www.w3.org/2001/XMLSchema#>\n",
       "Prefix set: agrovoc: = <http://aims.fao.org/aos/agrovoc/>\n",
       "Prefix set: dce: = <http://purl.org/dc/elements/1.1/>\n",
       "Prefix set: dct: = <http://purl.org/dc/terms/>\n",
       "Prefix set: issa: = <http://data-issa.cirad.fr/>\n",
       "Prefix set: issapr: = <http://data-issa.cirad.fr/property/>\n",
       "Prefix set: oa: = <http://www.w3.org/ns/oa#>\n",
       "Prefix set: prov: = <http://www.w3.org/ns/prov#>\n",
       "Prefix set: schema: = <http://schema.org/>\n",
       "Prefix set: skos: = <http://www.w3.org/2004/02/skos/core#>\n",
       "Prefix set: skosxl: = <http://www.w3.org/2008/05/skos-xl#>\n",
       "Prefix set: gn: = <http://www.geonames.org/ontology#>\n",
       "Prefix set: geo: = <http://www.w3.org/2003/01/geo/wgs84_pos#>\n",
       "Prefix set: spatial: = <http://jena.apache.org/spatial#>\n",
       "Prefix set: units: = <http://www.opengis.net/def/uom/OGC/1.0/>\n"
      ]
     },
     "metadata": {},
     "output_type": "display_data"
    }
   ],
   "source": [
    "%endpoint https://data-issa.cirad.fr/sparql\n",
    "%display table\n",
    "%show 20\n",
    "\n",
    "%prefix rdfs:   <http://www.w3.org/2000/01/rdf-schema#>\n",
    "%prefix owl:    <http://www.w3.org/2002/07/owl#>\n",
    "%prefix xsd:    <http://www.w3.org/2001/XMLSchema#>\n",
    "\n",
    "%prefix agrovoc: <http://aims.fao.org/aos/agrovoc/>\n",
    "%prefix dce:    <http://purl.org/dc/elements/1.1/>\n",
    "%prefix dct:    <http://purl.org/dc/terms/>\n",
    "%prefix issa:   <http://data-issa.cirad.fr/>\n",
    "%prefix issapr: <http://data-issa.cirad.fr/property/>\n",
    "%prefix oa:     <http://www.w3.org/ns/oa#>\n",
    "%prefix prov:   <http://www.w3.org/ns/prov#>\n",
    "%prefix schema: <http://schema.org/>\n",
    "%prefix skos:   <http://www.w3.org/2004/02/skos/core#> \n",
    "%prefix skosxl: <http://www.w3.org/2008/05/skos-xl#>\n",
    "\n",
    "%prefix gn:     <http://www.geonames.org/ontology#>\n",
    "%prefix geo:    <http://www.w3.org/2003/01/geo/wgs84_pos#>\n",
    "%prefix spatial: <http://jena.apache.org/spatial#>\n",
    "%prefix units:  <http://www.opengis.net/def/uom/OGC/1.0/>"
   ]
  },
  {
   "cell_type": "markdown",
   "metadata": {},
   "source": [
    "____\n",
    "\n",
    "# Geographic named entities"
   ]
  },
  {
   "cell_type": "markdown",
   "metadata": {},
   "source": [
    "### 1. Get the geographic NEs of a specific article\n",
    "\n",
    "Look for the geographic named entities of article http://data-issa.cirad.fr/article/455916, and retrieve their details from GeoNames (stored locally in named graph http://geonames.org/graph).\n",
    "\n",
    "The alternate names of the entity are concatenated in variable ?alternateNames."
   ]
  },
  {
   "cell_type": "code",
   "execution_count": 138,
   "metadata": {},
   "outputs": [
    {
     "data": {
      "text/html": [
       "<div class=\"krn-spql\"><table><tr class=hdr><th>geoEntity</th>\n",
       "<th>name</th>\n",
       "<th>latitude</th>\n",
       "<th>longitude</th>\n",
       "<th>altitude</th>\n",
       "<th>officialName</th>\n",
       "<th>alternateNames</th>\n",
       "<th>nameParentCountry</th></tr><tr class=odd><td class=val><a href=\"https://sws.geonames.org/124544/\" target=\"_other\">https://sws.geonames.org/124544/</a></td>\n",
       "<td class=val>Māzandarān</td>\n",
       "<td class=val>36.25</td>\n",
       "<td class=val>52.33333</td>\n",
       "<td class=val></td>\n",
       "<td class=val>Mazandaran</td>\n",
       "<td class=val>Māzandarān Province</td>\n",
       "<td class=val>Iran</td></tr><tr class=even><td class=val><a href=\"https://sws.geonames.org/132892/\" target=\"_other\">https://sws.geonames.org/132892/</a></td>\n",
       "<td class=val>Gorgan</td>\n",
       "<td class=val>36.8427</td>\n",
       "<td class=val>54.44391</td>\n",
       "<td class=val></td>\n",
       "<td class=val></td>\n",
       "<td class=val>Gorgan</td>\n",
       "<td class=val>Iran</td></tr><tr class=odd><td class=val><a href=\"https://sws.geonames.org/130758/\" target=\"_other\">https://sws.geonames.org/130758/</a></td>\n",
       "<td class=val>Iran</td>\n",
       "<td class=val>32</td>\n",
       "<td class=val>53</td>\n",
       "<td class=val></td>\n",
       "<td class=val>Iran</td>\n",
       "<td class=val>Empire of Iran, Iran, Islamic Republic Of, Islamic Republic of Iran</td>\n",
       "<td class=val></td></tr></table><div class=\"tinfo\">Total: 3, Shown: 3</div></div>"
      ]
     },
     "metadata": {},
     "output_type": "display_data"
    }
   ],
   "source": [
    "SELECT ?geoEntity ?name ?latitude ?longitude ?altitude ?officialName (group_concat(distinct ?alternateName ; separator=\", \") as ?alternateNames) ?nameParentCountry\n",
    "FROM <http://geonames.org/graph>\n",
    "FROM <http://data-issa.cirad.fr/graph/geographic-nes>\n",
    "WHERE {\n",
    "    []  a issa:GeographicAnnotation;\n",
    "        schema:about <http://data-issa.cirad.fr/article/455916>;\n",
    "        oa:hasBody ?geoEntity.\n",
    "    \n",
    "    ?geoEntity\n",
    "        gn:name   ?name;\n",
    "        geo:lat   ?latitude;\n",
    "        geo:long  ?longitude.\n",
    "        OPTIONAL {\n",
    "            ?geoEntity gn:officialName ?officialName\n",
    "            FILTER langMatches(lang(?officialName), \"en\")\n",
    "        }.\n",
    "        OPTIONAL {\n",
    "            ?geoEntity gn:alternateName ?alternateName.\n",
    "            FILTER langMatches(lang(?alternateName), \"en\")\n",
    "        }.\n",
    "        OPTIONAL { ?geoEntity geo:alt ?altitude }.\n",
    "        OPTIONAL { ?geoEntity gn:parentCountry  [ gn:name ?nameParentCountry ] }.\n",
    "} group by ?geoEntity ?name ?latitude ?longitude ?altitude ?officialName ?nameParentCountry"
   ]
  },
  {
   "cell_type": "markdown",
   "metadata": {},
   "source": [
    "### 2.1 Find the geographic NEs of articles with descriptor \"cacao\"\n",
    "\n",
    "Look for the articles that have the Agrovoc \"cacao\" concept (http://aims.fao.org/aos/agrovoc/c_7713) as a descriptor.\n",
    "\n",
    "Then get the geographic named entities of those articles and retrieve their details from GeoNames."
   ]
  },
  {
   "cell_type": "code",
   "execution_count": 139,
   "metadata": {},
   "outputs": [
    {
     "data": {
      "text/html": [
       "<div class=\"krn-spql\"><table><tr class=hdr><th>geoEntity</th>\n",
       "<th>name</th>\n",
       "<th>latitude</th>\n",
       "<th>longitude</th></tr><tr class=odd><td class=val><a href=\"https://sws.geonames.org/3017382/\" target=\"_other\">https://sws.geonames.org/3017382/</a></td>\n",
       "<td class=val>France</td>\n",
       "<td class=val>46</td>\n",
       "<td class=val>2</td></tr><tr class=even><td class=val><a href=\"https://sws.geonames.org/3469034/\" target=\"_other\">https://sws.geonames.org/3469034/</a></td>\n",
       "<td class=val>Brazil</td>\n",
       "<td class=val>-10</td>\n",
       "<td class=val>-55</td></tr><tr class=odd><td class=val><a href=\"https://sws.geonames.org/2635167/\" target=\"_other\">https://sws.geonames.org/2635167/</a></td>\n",
       "<td class=val>United Kingdom</td>\n",
       "<td class=val>54.75844</td>\n",
       "<td class=val>-2.69531</td></tr><tr class=even><td class=val><a href=\"https://sws.geonames.org/3624060/\" target=\"_other\">https://sws.geonames.org/3624060/</a></td>\n",
       "<td class=val>Costa Rica</td>\n",
       "<td class=val>10</td>\n",
       "<td class=val>-84</td></tr><tr class=odd><td class=val><a href=\"https://sws.geonames.org/3658394/\" target=\"_other\">https://sws.geonames.org/3658394/</a></td>\n",
       "<td class=val>Ecuador</td>\n",
       "<td class=val>-1.25</td>\n",
       "<td class=val>-78.25</td></tr><tr class=even><td class=val><a href=\"https://sws.geonames.org/2646057/\" target=\"_other\">https://sws.geonames.org/2646057/</a></td>\n",
       "<td class=val>Ipswich</td>\n",
       "<td class=val>52.05917</td>\n",
       "<td class=val>1.15545</td></tr><tr class=odd><td class=val><a href=\"https://sws.geonames.org/2134431/\" target=\"_other\">https://sws.geonames.org/2134431/</a></td>\n",
       "<td class=val>Vanuatu</td>\n",
       "<td class=val>-16</td>\n",
       "<td class=val>167</td></tr><tr class=even><td class=val><a href=\"https://sws.geonames.org/4350359/\" target=\"_other\">https://sws.geonames.org/4350359/</a></td>\n",
       "<td class=val>Capitol Heights</td>\n",
       "<td class=val>38.88511</td>\n",
       "<td class=val>-76.91581</td></tr><tr class=odd><td class=val><a href=\"https://sws.geonames.org/1733045/\" target=\"_other\">https://sws.geonames.org/1733045/</a></td>\n",
       "<td class=val>Malaysia</td>\n",
       "<td class=val>2.5</td>\n",
       "<td class=val>112.5</td></tr><tr class=even><td class=val><a href=\"https://sws.geonames.org/6252001/\" target=\"_other\">https://sws.geonames.org/6252001/</a></td>\n",
       "<td class=val>United States</td>\n",
       "<td class=val>39.76</td>\n",
       "<td class=val>-98.5</td></tr></table><div class=\"tinfo\">Total: 10, Shown: 10</div></div>"
      ]
     },
     "metadata": {},
     "output_type": "display_data"
    }
   ],
   "source": [
    "SELECT distinct ?geoEntity ?name ?latitude ?longitude\n",
    "FROM <http://data-issa.cirad.fr/graph/articles>\n",
    "FROM <http://geonames.org/graph>\n",
    "FROM <http://data-issa.cirad.fr/graph/geographic-nes>\n",
    "FROM <http://data-issa.cirad.fr/graph/thematic-descriptors>\n",
    "WHERE {\n",
    "    []  a issa:ThematicDescriptorAnnotation;\n",
    "        oa:hasTarget ?article;\n",
    "        oa:hasBody agrovoc:c_7713. # Concept \"cacao\"\n",
    "\n",
    "    []  a issa:GeographicAnnotation;\n",
    "        schema:about ?article;\n",
    "        oa:hasBody ?geoEntity.\n",
    "\n",
    "    ?geoEntity\n",
    "        gn:name         ?name;\n",
    "        geo:lat   ?latitude;\n",
    "        geo:long  ?longitude.\n",
    "} limit 10"
   ]
  },
  {
   "cell_type": "markdown",
   "metadata": {},
   "source": [
    "### 2.2 Find the articles with descriptor \"cacao\" and their geographic NEs\n",
    "\n",
    "Similar to the previous query but also return the articles."
   ]
  },
  {
   "cell_type": "code",
   "execution_count": 141,
   "metadata": {},
   "outputs": [
    {
     "data": {
      "text/html": [
       "<div class=\"krn-spql\"><table><tr class=hdr><th>article</th>\n",
       "<th>articleVisu</th>\n",
       "<th>geoEntity</th>\n",
       "<th>name</th>\n",
       "<th>latitude</th>\n",
       "<th>longitude</th>\n",
       "<th>altitude</th></tr><tr class=odd><td class=val><a href=\"http://data-issa.cirad.fr/article/568597\" target=\"_other\">http://data-issa.cirad.fr/article/568597</a></td>\n",
       "<td class=val><a href=\"http://issa.i3s.unice.fr/visu/?uri=http://data-issa.cirad.fr/article/568597\" target=\"_other\">http://issa.i3s.unice.fr/visu/?uri=http://data-issa.cirad.fr/article/568597</a></td>\n",
       "<td class=val><a href=\"https://sws.geonames.org/3017382/\" target=\"_other\">https://sws.geonames.org/3017382/</a></td>\n",
       "<td class=val>France</td>\n",
       "<td class=val>46</td>\n",
       "<td class=val>2</td>\n",
       "<td class=val></td></tr><tr class=even><td class=val><a href=\"http://data-issa.cirad.fr/article/568597\" target=\"_other\">http://data-issa.cirad.fr/article/568597</a></td>\n",
       "<td class=val><a href=\"http://issa.i3s.unice.fr/visu/?uri=http://data-issa.cirad.fr/article/568597\" target=\"_other\">http://issa.i3s.unice.fr/visu/?uri=http://data-issa.cirad.fr/article/568597</a></td>\n",
       "<td class=val><a href=\"https://sws.geonames.org/3469034/\" target=\"_other\">https://sws.geonames.org/3469034/</a></td>\n",
       "<td class=val>Brazil</td>\n",
       "<td class=val>-10</td>\n",
       "<td class=val>-55</td>\n",
       "<td class=val></td></tr><tr class=odd><td class=val><a href=\"http://data-issa.cirad.fr/article/568597\" target=\"_other\">http://data-issa.cirad.fr/article/568597</a></td>\n",
       "<td class=val><a href=\"http://issa.i3s.unice.fr/visu/?uri=http://data-issa.cirad.fr/article/568597\" target=\"_other\">http://issa.i3s.unice.fr/visu/?uri=http://data-issa.cirad.fr/article/568597</a></td>\n",
       "<td class=val><a href=\"https://sws.geonames.org/2635167/\" target=\"_other\">https://sws.geonames.org/2635167/</a></td>\n",
       "<td class=val>United Kingdom</td>\n",
       "<td class=val>54.75844</td>\n",
       "<td class=val>-2.69531</td>\n",
       "<td class=val></td></tr><tr class=even><td class=val><a href=\"http://data-issa.cirad.fr/article/568597\" target=\"_other\">http://data-issa.cirad.fr/article/568597</a></td>\n",
       "<td class=val><a href=\"http://issa.i3s.unice.fr/visu/?uri=http://data-issa.cirad.fr/article/568597\" target=\"_other\">http://issa.i3s.unice.fr/visu/?uri=http://data-issa.cirad.fr/article/568597</a></td>\n",
       "<td class=val><a href=\"https://sws.geonames.org/3624060/\" target=\"_other\">https://sws.geonames.org/3624060/</a></td>\n",
       "<td class=val>Costa Rica</td>\n",
       "<td class=val>10</td>\n",
       "<td class=val>-84</td>\n",
       "<td class=val></td></tr><tr class=odd><td class=val><a href=\"http://data-issa.cirad.fr/article/568597\" target=\"_other\">http://data-issa.cirad.fr/article/568597</a></td>\n",
       "<td class=val><a href=\"http://issa.i3s.unice.fr/visu/?uri=http://data-issa.cirad.fr/article/568597\" target=\"_other\">http://issa.i3s.unice.fr/visu/?uri=http://data-issa.cirad.fr/article/568597</a></td>\n",
       "<td class=val><a href=\"https://sws.geonames.org/3658394/\" target=\"_other\">https://sws.geonames.org/3658394/</a></td>\n",
       "<td class=val>Ecuador</td>\n",
       "<td class=val>-1.25</td>\n",
       "<td class=val>-78.25</td>\n",
       "<td class=val></td></tr><tr class=even><td class=val><a href=\"http://data-issa.cirad.fr/article/568597\" target=\"_other\">http://data-issa.cirad.fr/article/568597</a></td>\n",
       "<td class=val><a href=\"http://issa.i3s.unice.fr/visu/?uri=http://data-issa.cirad.fr/article/568597\" target=\"_other\">http://issa.i3s.unice.fr/visu/?uri=http://data-issa.cirad.fr/article/568597</a></td>\n",
       "<td class=val><a href=\"https://sws.geonames.org/2646057/\" target=\"_other\">https://sws.geonames.org/2646057/</a></td>\n",
       "<td class=val>Ipswich</td>\n",
       "<td class=val>52.05917</td>\n",
       "<td class=val>1.15545</td>\n",
       "<td class=val></td></tr><tr class=odd><td class=val><a href=\"http://data-issa.cirad.fr/article/568597\" target=\"_other\">http://data-issa.cirad.fr/article/568597</a></td>\n",
       "<td class=val><a href=\"http://issa.i3s.unice.fr/visu/?uri=http://data-issa.cirad.fr/article/568597\" target=\"_other\">http://issa.i3s.unice.fr/visu/?uri=http://data-issa.cirad.fr/article/568597</a></td>\n",
       "<td class=val><a href=\"https://sws.geonames.org/2134431/\" target=\"_other\">https://sws.geonames.org/2134431/</a></td>\n",
       "<td class=val>Vanuatu</td>\n",
       "<td class=val>-16</td>\n",
       "<td class=val>167</td>\n",
       "<td class=val></td></tr><tr class=even><td class=val><a href=\"http://data-issa.cirad.fr/article/568597\" target=\"_other\">http://data-issa.cirad.fr/article/568597</a></td>\n",
       "<td class=val><a href=\"http://issa.i3s.unice.fr/visu/?uri=http://data-issa.cirad.fr/article/568597\" target=\"_other\">http://issa.i3s.unice.fr/visu/?uri=http://data-issa.cirad.fr/article/568597</a></td>\n",
       "<td class=val><a href=\"https://sws.geonames.org/4350359/\" target=\"_other\">https://sws.geonames.org/4350359/</a></td>\n",
       "<td class=val>Capitol Heights</td>\n",
       "<td class=val>38.88511</td>\n",
       "<td class=val>-76.91581</td>\n",
       "<td class=val></td></tr><tr class=odd><td class=val><a href=\"http://data-issa.cirad.fr/article/568597\" target=\"_other\">http://data-issa.cirad.fr/article/568597</a></td>\n",
       "<td class=val><a href=\"http://issa.i3s.unice.fr/visu/?uri=http://data-issa.cirad.fr/article/568597\" target=\"_other\">http://issa.i3s.unice.fr/visu/?uri=http://data-issa.cirad.fr/article/568597</a></td>\n",
       "<td class=val><a href=\"https://sws.geonames.org/1733045/\" target=\"_other\">https://sws.geonames.org/1733045/</a></td>\n",
       "<td class=val>Malaysia</td>\n",
       "<td class=val>2.5</td>\n",
       "<td class=val>112.5</td>\n",
       "<td class=val></td></tr><tr class=even><td class=val><a href=\"http://data-issa.cirad.fr/article/568597\" target=\"_other\">http://data-issa.cirad.fr/article/568597</a></td>\n",
       "<td class=val><a href=\"http://issa.i3s.unice.fr/visu/?uri=http://data-issa.cirad.fr/article/568597\" target=\"_other\">http://issa.i3s.unice.fr/visu/?uri=http://data-issa.cirad.fr/article/568597</a></td>\n",
       "<td class=val><a href=\"https://sws.geonames.org/6252001/\" target=\"_other\">https://sws.geonames.org/6252001/</a></td>\n",
       "<td class=val>United States</td>\n",
       "<td class=val>39.76</td>\n",
       "<td class=val>-98.5</td>\n",
       "<td class=val></td></tr></table><div class=\"tinfo\">Total: 10, Shown: 10</div></div>"
      ]
     },
     "metadata": {},
     "output_type": "display_data"
    }
   ],
   "source": [
    "SELECT distinct ?article ?articleVisu ?geoEntity ?name ?latitude ?longitude ?altitude\n",
    "FROM <http://data-issa.cirad.fr/graph/articles>\n",
    "FROM <http://geonames.org/graph>\n",
    "FROM <http://data-issa.cirad.fr/graph/geographic-nes>\n",
    "FROM <http://data-issa.cirad.fr/graph/thematic-descriptors>\n",
    "WHERE {\n",
    "    []  a issa:ThematicDescriptorAnnotation;\n",
    "        oa:hasTarget ?article;\n",
    "        oa:hasBody agrovoc:c_7713. # Concept \"cacao\"\n",
    "\n",
    "    []  a issa:GeographicAnnotation;\n",
    "        schema:about ?article;\n",
    "        oa:hasBody ?geoEntity.\n",
    "\n",
    "    ?geoEntity\n",
    "        gn:name         ?name;\n",
    "        geo:lat   ?latitude;\n",
    "        geo:long  ?longitude.\n",
    "    \n",
    "    ?article dct:identifier ?id.\n",
    "    bind(iri(concat(\"http://issa.i3s.unice.fr/visu/?uri=\", ?article)) as ?articleVisu)\n",
    "} limit 10"
   ]
  },
  {
   "cell_type": "markdown",
   "metadata": {},
   "source": [
    "### 3. Find the articles with geographic NEs within a certain distance of a given point"
   ]
  },
  {
   "cell_type": "code",
   "execution_count": 142,
   "metadata": {},
   "outputs": [
    {
     "data": {
      "text/html": [
       "<div class=\"krn-spql\"><table><tr class=hdr><th>article</th>\n",
       "<th>articleVisu</th></tr><tr class=odd><td class=val><a href=\"http://data-issa.cirad.fr/article/455935\" target=\"_other\">http://data-issa.cirad.fr/article/455935</a></td>\n",
       "<td class=val><a href=\"http://issa.i3s.unice.fr/visu/?uri=http://data-issa.cirad.fr/article/455935\" target=\"_other\">http://issa.i3s.unice.fr/visu/?uri=http://data-issa.cirad.fr/article/455935</a></td></tr><tr class=even><td class=val><a href=\"http://data-issa.cirad.fr/article/433785\" target=\"_other\">http://data-issa.cirad.fr/article/433785</a></td>\n",
       "<td class=val><a href=\"http://issa.i3s.unice.fr/visu/?uri=http://data-issa.cirad.fr/article/433785\" target=\"_other\">http://issa.i3s.unice.fr/visu/?uri=http://data-issa.cirad.fr/article/433785</a></td></tr><tr class=odd><td class=val><a href=\"http://data-issa.cirad.fr/article/395431\" target=\"_other\">http://data-issa.cirad.fr/article/395431</a></td>\n",
       "<td class=val><a href=\"http://issa.i3s.unice.fr/visu/?uri=http://data-issa.cirad.fr/article/395431\" target=\"_other\">http://issa.i3s.unice.fr/visu/?uri=http://data-issa.cirad.fr/article/395431</a></td></tr><tr class=even><td class=val><a href=\"http://data-issa.cirad.fr/article/454957\" target=\"_other\">http://data-issa.cirad.fr/article/454957</a></td>\n",
       "<td class=val><a href=\"http://issa.i3s.unice.fr/visu/?uri=http://data-issa.cirad.fr/article/454957\" target=\"_other\">http://issa.i3s.unice.fr/visu/?uri=http://data-issa.cirad.fr/article/454957</a></td></tr><tr class=odd><td class=val><a href=\"http://data-issa.cirad.fr/article/455868\" target=\"_other\">http://data-issa.cirad.fr/article/455868</a></td>\n",
       "<td class=val><a href=\"http://issa.i3s.unice.fr/visu/?uri=http://data-issa.cirad.fr/article/455868\" target=\"_other\">http://issa.i3s.unice.fr/visu/?uri=http://data-issa.cirad.fr/article/455868</a></td></tr><tr class=even><td class=val><a href=\"http://data-issa.cirad.fr/article/394049\" target=\"_other\">http://data-issa.cirad.fr/article/394049</a></td>\n",
       "<td class=val><a href=\"http://issa.i3s.unice.fr/visu/?uri=http://data-issa.cirad.fr/article/394049\" target=\"_other\">http://issa.i3s.unice.fr/visu/?uri=http://data-issa.cirad.fr/article/394049</a></td></tr><tr class=odd><td class=val><a href=\"http://data-issa.cirad.fr/article/410537\" target=\"_other\">http://data-issa.cirad.fr/article/410537</a></td>\n",
       "<td class=val><a href=\"http://issa.i3s.unice.fr/visu/?uri=http://data-issa.cirad.fr/article/410537\" target=\"_other\">http://issa.i3s.unice.fr/visu/?uri=http://data-issa.cirad.fr/article/410537</a></td></tr><tr class=even><td class=val><a href=\"http://data-issa.cirad.fr/article/455078\" target=\"_other\">http://data-issa.cirad.fr/article/455078</a></td>\n",
       "<td class=val><a href=\"http://issa.i3s.unice.fr/visu/?uri=http://data-issa.cirad.fr/article/455078\" target=\"_other\">http://issa.i3s.unice.fr/visu/?uri=http://data-issa.cirad.fr/article/455078</a></td></tr><tr class=odd><td class=val><a href=\"http://data-issa.cirad.fr/article/389182\" target=\"_other\">http://data-issa.cirad.fr/article/389182</a></td>\n",
       "<td class=val><a href=\"http://issa.i3s.unice.fr/visu/?uri=http://data-issa.cirad.fr/article/389182\" target=\"_other\">http://issa.i3s.unice.fr/visu/?uri=http://data-issa.cirad.fr/article/389182</a></td></tr><tr class=even><td class=val><a href=\"http://data-issa.cirad.fr/article/599920\" target=\"_other\">http://data-issa.cirad.fr/article/599920</a></td>\n",
       "<td class=val><a href=\"http://issa.i3s.unice.fr/visu/?uri=http://data-issa.cirad.fr/article/599920\" target=\"_other\">http://issa.i3s.unice.fr/visu/?uri=http://data-issa.cirad.fr/article/599920</a></td></tr></table><div class=\"tinfo\">Total: 10, Shown: 10</div></div>"
      ]
     },
     "metadata": {},
     "output_type": "display_data"
    }
   ],
   "source": [
    "SELECT distinct ?article ?articleVisu\n",
    "FROM <http://data-issa.cirad.fr/graph/articles>\n",
    "FROM <http://geonames.org/graph>\n",
    "FROM <http://data-issa.cirad.fr/graph/geographic-nes>\n",
    "WHERE {\n",
    "    []  a issa:GeographicAnnotation;\n",
    "        schema:about ?article;\n",
    "        oa:hasBody ?geoEntity.\n",
    "\n",
    "    ?geoEntity\n",
    "        gn:name   ?name;\n",
    "        geo:lat   ?latitude;\n",
    "        geo:long  ?longitude.\n",
    "    \n",
    "    FILTER (bif:st_within(bif:st_point(xsd:float(?longitude), xsd:float(?latitude)), bif:st_point (8, 10), 2000))\n",
    "    \n",
    "    ?article dct:identifier ?id.\n",
    "    bind(iri(concat(\"http://issa.i3s.unice.fr/visu/?uri=\", ?article)) as ?articleVisu)\n",
    "} LIMIT 10"
   ]
  },
  {
   "cell_type": "code",
   "execution_count": null,
   "metadata": {},
   "outputs": [],
   "source": []
  }
 ],
 "metadata": {
  "kernelspec": {
   "display_name": "SPARQL",
   "language": "sparql",
   "name": "sparql"
  },
  "language_info": {
   "codemirror_mode": {
    "name": "sparql"
   },
   "mimetype": "application/sparql-query",
   "name": "sparql",
   "pygments_lexer": "sparql-nb"
  }
 },
 "nbformat": 4,
 "nbformat_minor": 4
}
